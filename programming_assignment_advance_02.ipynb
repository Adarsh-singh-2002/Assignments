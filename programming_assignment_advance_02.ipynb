{
 "cells": [
  {
   "cell_type": "markdown",
   "id": "37b34625",
   "metadata": {},
   "source": [
    "#Question : 01\n",
    "\n",
    "Write a function that takes a positive integer num and calculates how many\n",
    "dots exist in a pentagonal shape around the center dot on the Nth iteration.\n",
    "\n",
    "In the image below you can see the first iteration is only a single dot. On the\n",
    "second, there are 6 dots. On the third, there are 16 dots, and on the fourth\n",
    "there are 31 dots.\n",
    "\n",
    "Return the number of dots that exist in the whole pentagon on the Nth\n",
    "iteration.\n",
    "\n",
    "Examples\n",
    "\n",
    "pentagonal(1) ➞ 1\n",
    "\n",
    "pentagonal(2) ➞ 6\n",
    "\n",
    "pentagonal(3) ➞ 16\n",
    "\n",
    "pentagonal(8) ➞ 141"
   ]
  },
  {
   "cell_type": "code",
   "execution_count": 12,
   "id": "497fd764",
   "metadata": {},
   "outputs": [
    {
     "name": "stdout",
     "output_type": "stream",
     "text": [
      "Enter number of levels: 8\n",
      "Pentagoal(8) :  141\n"
     ]
    }
   ],
   "source": [
    "#code\n",
    "def count(value):\n",
    "    if ((value)==0):\n",
    "        return 1\n",
    "    elif ((value)>0):\n",
    "        return 5*(value)\n",
    "    else:\n",
    "        return 0\n",
    "def get_value() -> int:\n",
    "    try:\n",
    "        num=int(input(\"Enter number of levels: \"))\n",
    "        return num\n",
    "    except Exception as e:\n",
    "        print(e)\n",
    "        return 0+get_value()\n",
    "num=get_value()\n",
    "ans=0\n",
    "for i in range(num):\n",
    "    ans+=count(i)\n",
    "print(f\"Pentagoal({num}) : \",ans)\n",
    "        \n"
   ]
  },
  {
   "cell_type": "markdown",
   "id": "9928a543",
   "metadata": {},
   "source": [
    "#Question :02\n",
    "\n",
    "Make a function that encrypts a given input with these steps:\n",
    "    \n",
    "Input: \"apple\"\n",
    "\n",
    "Step 1: Reverse the input: \"elppa\"\n",
    "        \n",
    "Step 2: Replace all vowels using the following chart:\n",
    "        \n",
    "a => 0\n",
    "\n",
    "e => 1\n",
    "\n",
    "i => 2\n",
    "\n",
    "o => 2\n",
    "\n",
    "u => 3\n",
    "\n",
    "\"1lpp0\"\n",
    "\n",
    "Step 3: Add \"aca\" to the end of the word: \"1lpp0aca\"\n",
    "        \n",
    "Output: \"1lpp0aca\"\n",
    "    \n",
    "Examples\n",
    "\n",
    "encrypt(\"banana\") ➞ \"0n0n0baca\"\n",
    "\n",
    "encrypt(\"karaca\") ➞ \"0c0r0kaca\"\n",
    "\n",
    "encrypt(\"burak\") ➞ \"k0r3baca\"\n",
    "\n",
    "encrypt(\"alpaca\") ➞ \"0c0pl0aca\""
   ]
  },
  {
   "cell_type": "code",
   "execution_count": 4,
   "id": "e8a377cc",
   "metadata": {},
   "outputs": [
    {
     "name": "stdout",
     "output_type": "stream",
     "text": [
      "Enter the nmber of values to find: 4\n",
      "Enter data to be encrypted : banana\n",
      "Encrypted data is :  0n0n0baca\n",
      "Enter data to be encrypted : karaca\n",
      "Encrypted data is :  0c0r0kaca\n",
      "Enter data to be encrypted : burak\n",
      "Encrypted data is :  k0r3baca\n",
      "Enter data to be encrypted : alpaca\n",
      "Encrypted data is :  0c0pl0aca\n"
     ]
    }
   ],
   "source": [
    "#code\n",
    "def values():\n",
    "    try:\n",
    "        n=int(input(\"Enter the nmber of values to find: \"))\n",
    "    except Exception as e:\n",
    "        print(e)\n",
    "        return values()+0\n",
    "    return n\n",
    "def encrypt(s=\"\"):\n",
    "    k=s[::-1]\n",
    "    for i in k:\n",
    "        if i.lower()=='a':\n",
    "            k=k.replace(i,'0')\n",
    "        elif i.lower()=='e':\n",
    "            k=k.replace(i,'1')\n",
    "        elif i.lower()=='i':\n",
    "            k=k.replace(i,'2')\n",
    "        elif i.lower()=='o':\n",
    "            k=k.replace(i,'2')\n",
    "        elif i.lower()=='u':\n",
    "            k=k.replace(i,'3')\n",
    "        else:\n",
    "            continue\n",
    "    return k\n",
    "num=values()\n",
    "for i in range(num):\n",
    "    s=input(\"Enter data to be encrypted : \")\n",
    "    pr=encrypt(s)\n",
    "    print(\"Encrypted data is : \",pr+\"aca\")\n",
    "    \n",
    "        "
   ]
  },
  {
   "cell_type": "markdown",
   "id": "61e85b6e",
   "metadata": {},
   "source": [
    "#Question : 03\n",
    "\n",
    "Given the month and year as numbers, return whether that month contains\n",
    "a Friday 13th.(i.e You can check Python's datetime module)\n",
    "               \n",
    "Examples\n",
    "               \n",
    "has_friday_13(3, 2020) ➞ True\n",
    "\n",
    "has_friday_13(10, 2017) ➞ True\n",
    "\n",
    "has_friday_13(1, 1985) ➞ False\n"
   ]
  },
  {
   "cell_type": "code",
   "execution_count": 5,
   "id": "0066be26",
   "metadata": {},
   "outputs": [
    {
     "name": "stdout",
     "output_type": "stream",
     "text": [
      "2022-07-29\n"
     ]
    }
   ],
   "source": [
    "#code\n",
    "import datetime as d\n",
    "import calendar \n",
    "def has_friday_13(x,y):\n",
    "    pass\n",
    "def Month():\n",
    "    try :\n",
    "        month=int(input(\"Enter the month number : \"))\n",
    "    except Exception as e:\n",
    "        print(e)\n",
    "        return Month()+0\n",
    "    if month>0 and month<13:\n",
    "        return month\n",
    "    else:\n",
    "        return 0\n",
    "def Year():\n",
    "    try :\n",
    "        year=int(input(\"Enter the year number : \"))\n",
    "    except Exception as e:\n",
    "        print(e)\n",
    "        return Year()+0\n",
    "    return year\n",
    "\n",
    "tday=d.date.today()\n",
    "print(tday)\n"
   ]
  },
  {
   "cell_type": "markdown",
   "id": "9e5ac5a1",
   "metadata": {},
   "source": [
    "#Question : 04\n",
    "\n",
    "Write a regular expression that will help us count how many bad cookies\n",
    "are produced every day. You must use RegEx negative lookbehind.\n",
    "\n",
    "Example\n",
    "\n",
    "lst = [\"bad cookie\", \"good cookie\", \"bad cookie\", \"good cookie\", \"good cookie\"]\n",
    "\n",
    "pattern = \"yourregularexpressionhere\"\n",
    "\n",
    "len(re.findall(pattern, \", \".join(lst))) ➞ 2"
   ]
  },
  {
   "cell_type": "code",
   "execution_count": 21,
   "id": "9218af45",
   "metadata": {},
   "outputs": [
    {
     "name": "stdout",
     "output_type": "stream",
     "text": [
      "3\n"
     ]
    }
   ],
   "source": [
    "#code\n",
    "import re\n",
    "count=0\n",
    "li=[\"bad cookie\", \"good cookie\", \"bad cookie\", \"good cookie\", \"good cookie\",\"bad cookie\"]\n",
    "for i in li:\n",
    "    check=re.findall(\"bad cookie\",i)\n",
    "    if check == [\"bad cookie\"]:\n",
    "        count+=1\n",
    "print(count)"
   ]
  },
  {
   "cell_type": "code",
   "execution_count": 22,
   "id": "64155181",
   "metadata": {},
   "outputs": [
    {
     "data": {
      "text/plain": [
       "2"
      ]
     },
     "execution_count": 22,
     "metadata": {},
     "output_type": "execute_result"
    }
   ],
   "source": [
    "#code\n",
    "import re\n",
    "lst = ['bad cookie', 'good cookie', 'bad cookie', 'good cookie', 'good cookie']\n",
    "pattern = 'bad\\s\\w'\n",
    "len(re.findall(pattern, ', '.join(lst)))"
   ]
  },
  {
   "cell_type": "markdown",
   "id": "c6f23ec9",
   "metadata": {},
   "source": [
    "#Question : 05\n",
    "\n",
    "Given a list of words in the singular form, return a set of those words in the plural form if they appear more than once in the list.\n",
    "\n",
    "Examples\n",
    "\n",
    "pluralize([\"cow\", \"pig\", \"cow\", \"cow\"]) ➞ { \"cows\", \"pig\" }\n",
    "\n",
    "pluralize([\"table\", \"table\", \"table\"]) ➞ { \"tables\" }\n",
    "\n",
    "pluralize([\"chair\", \"pencil\", \"arm\"]) ➞ { \"chair\", \"pencil\", \"arm\" }"
   ]
  },
  {
   "cell_type": "code",
   "execution_count": 28,
   "id": "77b7fa30",
   "metadata": {},
   "outputs": [],
   "source": [
    "#code\n",
    "def check(li):\n",
    "    N=[]\n",
    "    Ans=[]\n",
    "    for  i in li:\n",
    "        if i not in N:\n",
    "            N.append(i)\n",
    "            if li.count(i)>1:\n",
    "                Ans.append(i+\"s\")\n",
    "            else:\n",
    "                Ans.append(i)\n",
    "    return Ans"
   ]
  },
  {
   "cell_type": "code",
   "execution_count": 29,
   "id": "7a6c33ec",
   "metadata": {},
   "outputs": [
    {
     "data": {
      "text/plain": [
       "['cows', 'pig']"
      ]
     },
     "execution_count": 29,
     "metadata": {},
     "output_type": "execute_result"
    }
   ],
   "source": [
    "check([\"cow\", \"pig\", \"cow\", \"cow\"])"
   ]
  },
  {
   "cell_type": "code",
   "execution_count": 30,
   "id": "5dc89ff6",
   "metadata": {},
   "outputs": [
    {
     "data": {
      "text/plain": [
       "['tables']"
      ]
     },
     "execution_count": 30,
     "metadata": {},
     "output_type": "execute_result"
    }
   ],
   "source": [
    "check([\"table\", \"table\", \"table\"])"
   ]
  },
  {
   "cell_type": "code",
   "execution_count": 31,
   "id": "00d282c8",
   "metadata": {},
   "outputs": [
    {
     "data": {
      "text/plain": [
       "['chair', 'pencil', 'arm']"
      ]
     },
     "execution_count": 31,
     "metadata": {},
     "output_type": "execute_result"
    }
   ],
   "source": [
    "check([\"chair\", \"pencil\", \"arm\"])"
   ]
  }
 ],
 "metadata": {
  "kernelspec": {
   "display_name": "Python 3 (ipykernel)",
   "language": "python",
   "name": "python3"
  },
  "language_info": {
   "codemirror_mode": {
    "name": "ipython",
    "version": 3
   },
   "file_extension": ".py",
   "mimetype": "text/x-python",
   "name": "python",
   "nbconvert_exporter": "python",
   "pygments_lexer": "ipython3",
   "version": "3.9.7"
  }
 },
 "nbformat": 4,
 "nbformat_minor": 5
}
