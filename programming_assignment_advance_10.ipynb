{
 "cells": [
  {
   "cell_type": "markdown",
   "id": "4cee5bbf",
   "metadata": {},
   "source": [
    "#Question : 01\n",
    "\n",
    "Create a function that takes the width, height and character and returns a\n",
    "picture frame as a 2D list.\n",
    "\n",
    "Examples\n",
    "\n",
    "get_frame(4, 5, \"#\") ➞ [\n",
    "\n",
    "[\"####\"],\n",
    "\n",
    "[\"# #\"],\n",
    "\n",
    "[\"# #\"],\n",
    "\n",
    "[\"# #\"],\n",
    "\n",
    "[\"####\"]\n",
    "\n",
    "]\n",
    "\n",
    "# Frame is 4 characters wide and 5 characters tall.\n",
    "\n",
    "get_frame(10, 3, \"*\") ➞ [\n",
    "\n",
    "[\"**********\"],\n",
    "\n",
    "[\"* *\"],\n",
    "\n",
    "[\"**********\"]\n",
    "\n",
    "]\n",
    "\n",
    "# Frame is 10 characters and wide and 3 characters tall.\n",
    "\n",
    "get_frame(2, 5, \"0\") ➞ \"invalid\"\n",
    "\n",
    "# Frame&#39;s width is not more than 2."
   ]
  },
  {
   "cell_type": "code",
   "execution_count": 3,
   "id": "7c492771",
   "metadata": {},
   "outputs": [],
   "source": [
    "def get_frame(width,length,symbol):\n",
    "    if width <= 2:\n",
    "        return \"Invalid\"\n",
    "    frame = []\n",
    "    for i in range(length):\n",
    "        every = []\n",
    "        val =\"\"\n",
    "        for j in range(width):\n",
    "            if i==0 or i == length-1:\n",
    "                val=val+symbol\n",
    "            elif j == 0 or j == width-1:\n",
    "                val=val+symbol\n",
    "            else:\n",
    "                val=val+\" \"\n",
    "        every.append(val)\n",
    "        frame.append(every)\n",
    "    return frame"
   ]
  },
  {
   "cell_type": "code",
   "execution_count": 4,
   "id": "df169efa",
   "metadata": {},
   "outputs": [
    {
     "data": {
      "text/plain": [
       "[['**********'], ['*        *'], ['**********']]"
      ]
     },
     "execution_count": 4,
     "metadata": {},
     "output_type": "execute_result"
    }
   ],
   "source": [
    "get_frame(10, 3, \"*\")"
   ]
  },
  {
   "cell_type": "code",
   "execution_count": 5,
   "id": "2be8ecf8",
   "metadata": {},
   "outputs": [
    {
     "data": {
      "text/plain": [
       "'Invalid'"
      ]
     },
     "execution_count": 5,
     "metadata": {},
     "output_type": "execute_result"
    }
   ],
   "source": [
    "get_frame(2, 5,\"0\")"
   ]
  },
  {
   "cell_type": "markdown",
   "id": "f8323622",
   "metadata": {},
   "source": [
    "#Question : 02\n",
    "\n",
    "Write three functions:\n",
    "\n",
    "1. boolean_and\n",
    "\n",
    "2. boolean_or\n",
    "\n",
    "3. boolean_xor\n",
    "\n",
    "These functions should evaluate a list of True and False values, starting from\n",
    "the leftmost element and evaluating pairwise.\n",
    "\n",
    "Examples\n",
    "\n",
    "boolean_and([True, True, False, True]) ➞ False\n",
    "\n",
    "* [True, True, False, True] => [True, False, True] => [False, True] => False\n",
    "\n",
    "boolean_or([True, True, False, False]) ➞ True\n",
    "\n",
    "* [True, True, False, True] => [True, False, False] => [True, False] => True\n",
    "\n",
    "boolean_xor([True, True, False, False]) ➞ False\n",
    "\n",
    "* [True, True, False, False] => [False, False, False] => [False, False] =>\n",
    "\n",
    "False"
   ]
  },
  {
   "cell_type": "code",
   "execution_count": 8,
   "id": "d661ca65",
   "metadata": {},
   "outputs": [],
   "source": [
    "def boolean_and(values):\n",
    "    if len(values)<2:\n",
    "        return \"Enter atleast two values\"\n",
    "    count=0\n",
    "    new = values[count]\n",
    "    while(count<len(values)-1):\n",
    "        new = new and values[count+1]\n",
    "        count+=1\n",
    "    return new and values[len(values)-1]\n",
    "def boolean_or(values):\n",
    "    if len(values)<2:\n",
    "        return \"Enter atleast two values\"\n",
    "    count=0\n",
    "    new = values[count]\n",
    "    while(count<len(values)-1):\n",
    "        new = new or values[count+1]\n",
    "        count+=1\n",
    "    return new or values[len(values)-1]\n",
    "def boolean_xor(values):\n",
    "    if len(values)<2:\n",
    "        return \"Enter atleast two values\"\n",
    "    count=0\n",
    "    new = values[count]\n",
    "    while(count<len(values)-1):\n",
    "        new = new ^ values[count+1]\n",
    "        count+=1\n",
    "    return new ^ values[len(values)-1]\n"
   ]
  },
  {
   "cell_type": "code",
   "execution_count": 9,
   "id": "7feeb80b",
   "metadata": {},
   "outputs": [
    {
     "data": {
      "text/plain": [
       "False"
      ]
     },
     "execution_count": 9,
     "metadata": {},
     "output_type": "execute_result"
    }
   ],
   "source": [
    "boolean_and([True, True, False, True])"
   ]
  },
  {
   "cell_type": "code",
   "execution_count": 10,
   "id": "e634afb4",
   "metadata": {},
   "outputs": [
    {
     "data": {
      "text/plain": [
       "True"
      ]
     },
     "execution_count": 10,
     "metadata": {},
     "output_type": "execute_result"
    }
   ],
   "source": [
    "boolean_or([True, True, False, False])"
   ]
  },
  {
   "cell_type": "code",
   "execution_count": 11,
   "id": "49224c6a",
   "metadata": {},
   "outputs": [
    {
     "data": {
      "text/plain": [
       "False"
      ]
     },
     "execution_count": 11,
     "metadata": {},
     "output_type": "execute_result"
    }
   ],
   "source": [
    "boolean_xor([True, True, False, False])"
   ]
  },
  {
   "cell_type": "markdown",
   "id": "acd4d864",
   "metadata": {},
   "source": [
    "#Question : 03\n",
    "\n",
    "Create a function that creates a box based on dimension n.\n",
    "Examples\n",
    "\n",
    "make_box(5) ➞ [\n",
    "\"#####\",\n",
    "\"# #\",\n",
    "\"# #\",\n",
    "\"# #\",\n",
    "\"#####\"\n",
    "]\n",
    "\n",
    "make_box(3) ➞ [\n",
    "\"###\",\n",
    "\"# #\",\n",
    "\"###\"\n",
    "]\n",
    "\n",
    "make_box(2) ➞ [\n",
    "\"##\",\n",
    "\"##\"\n",
    "]\n",
    "\n",
    "make_box(1) ➞ [\n",
    "\"#\"\n",
    "]"
   ]
  },
  {
   "cell_type": "code",
   "execution_count": 22,
   "id": "39bffe3a",
   "metadata": {},
   "outputs": [],
   "source": [
    "#code\n",
    "\n",
    "def make_box(width):\n",
    "    length = width\n",
    "    symbol = \"#\"\n",
    "    frame = []\n",
    "    for i in range(length):\n",
    "        val =\"\"\n",
    "        for j in range(width):\n",
    "            if i==0 or i == length-1:\n",
    "                val=val+symbol\n",
    "            elif j == 0 or j == width-1:\n",
    "                val=val+symbol\n",
    "            else:\n",
    "                val=val+\" \"\n",
    "        frame.append(val)\n",
    "    return frame"
   ]
  },
  {
   "cell_type": "code",
   "execution_count": 23,
   "id": "00d59d65",
   "metadata": {},
   "outputs": [
    {
     "data": {
      "text/plain": [
       "['#####', '#   #', '#   #', '#   #', '#####']"
      ]
     },
     "execution_count": 23,
     "metadata": {},
     "output_type": "execute_result"
    }
   ],
   "source": [
    "make_box(5)"
   ]
  },
  {
   "cell_type": "code",
   "execution_count": 24,
   "id": "e976fd40",
   "metadata": {},
   "outputs": [
    {
     "data": {
      "text/plain": [
       "['###', '# #', '###']"
      ]
     },
     "execution_count": 24,
     "metadata": {},
     "output_type": "execute_result"
    }
   ],
   "source": [
    "make_box(3)"
   ]
  },
  {
   "cell_type": "code",
   "execution_count": 25,
   "id": "72d7bdaf",
   "metadata": {},
   "outputs": [
    {
     "data": {
      "text/plain": [
       "['##', '##']"
      ]
     },
     "execution_count": 25,
     "metadata": {},
     "output_type": "execute_result"
    }
   ],
   "source": [
    "make_box(2)"
   ]
  },
  {
   "cell_type": "code",
   "execution_count": 26,
   "id": "b87fa6a4",
   "metadata": {},
   "outputs": [
    {
     "data": {
      "text/plain": [
       "['#']"
      ]
     },
     "execution_count": 26,
     "metadata": {},
     "output_type": "execute_result"
    }
   ],
   "source": [
    "make_box(1)"
   ]
  },
  {
   "cell_type": "markdown",
   "id": "c2972656",
   "metadata": {},
   "source": [
    "#Question : 04\n",
    "\n",
    "Given a common phrase, return False if any individual word in the phrase\n",
    "contains duplicate letters. Return True otherwise.\n",
    "\n",
    "Examples\n",
    "\n",
    "no_duplicate_letters(\"Fortune favours the bold.\") ➞ True\n",
    "\n",
    "no_duplicate_letters(\"You can lead a horse to water, but you can&#39;t make him\n",
    "drink.\") ➞ True\n",
    "\n",
    "no_duplicate_letters(\"Look before you leap.\") ➞ False\n",
    "\n",
    "* Duplicate letters in \"Look\" and \"before\".\n",
    "\n",
    "no_duplicate_letters(\"An apple a day keeps the doctor away.\") ➞ False\n",
    "\n",
    "* Duplicate letters in \"apple\", \"keeps\", \"doctor\", and \"away\"."
   ]
  },
  {
   "cell_type": "code",
   "execution_count": 36,
   "id": "a8f3c148",
   "metadata": {},
   "outputs": [],
   "source": [
    "#code\n",
    "\n",
    "def no_duplicate_letters(text):\n",
    "    words = text.split()\n",
    "    for i in words:\n",
    "        check=[]\n",
    "        for j in i:\n",
    "            if j not in check:\n",
    "                check.append(j)\n",
    "            else:\n",
    "                return False\n",
    "    return True\n"
   ]
  },
  {
   "cell_type": "code",
   "execution_count": 37,
   "id": "f1d4a792",
   "metadata": {},
   "outputs": [
    {
     "data": {
      "text/plain": [
       "True"
      ]
     },
     "execution_count": 37,
     "metadata": {},
     "output_type": "execute_result"
    }
   ],
   "source": [
    "no_duplicate_letters(\"Fortune favours the bold.\")"
   ]
  },
  {
   "cell_type": "code",
   "execution_count": 38,
   "id": "d7872d19",
   "metadata": {},
   "outputs": [
    {
     "data": {
      "text/plain": [
       "True"
      ]
     },
     "execution_count": 38,
     "metadata": {},
     "output_type": "execute_result"
    }
   ],
   "source": [
    "no_duplicate_letters(\"You can lead a horse to water, but you can/'t make him drink.\")"
   ]
  },
  {
   "cell_type": "code",
   "execution_count": 39,
   "id": "350d516f",
   "metadata": {},
   "outputs": [
    {
     "data": {
      "text/plain": [
       "False"
      ]
     },
     "execution_count": 39,
     "metadata": {},
     "output_type": "execute_result"
    }
   ],
   "source": [
    "no_duplicate_letters(\"Look before you leap.\")"
   ]
  },
  {
   "cell_type": "code",
   "execution_count": 40,
   "id": "34228bb5",
   "metadata": {},
   "outputs": [
    {
     "data": {
      "text/plain": [
       "False"
      ]
     },
     "execution_count": 40,
     "metadata": {},
     "output_type": "execute_result"
    }
   ],
   "source": [
    "no_duplicate_letters(\"An apple a day keeps the doctor away.\")"
   ]
  },
  {
   "cell_type": "markdown",
   "id": "68b29638",
   "metadata": {},
   "source": [
    "#Question : 05\n",
    "\n",
    "Write a regular expression that will match the states that voted yes to\n",
    "President Trump's impeachment. You must use RegEx positive lookahead.\n",
    "\n",
    "Example\n",
    "\n",
    "txt = \"Texas = no, California = yes, Florida = yes, Michigan = no\"\n",
    "\n",
    "pattern = \"yourregularexpressionhere\"\n",
    "\n",
    "re.findall(pattern, txt) ➞ [\"California\", \"Florida\"]"
   ]
  },
  {
   "cell_type": "code",
   "execution_count": 43,
   "id": "c047cc61",
   "metadata": {},
   "outputs": [
    {
     "name": "stdout",
     "output_type": "stream",
     "text": [
      "['California', 'Florida']\n"
     ]
    }
   ],
   "source": [
    "import re\n",
    "txt = \"Texas = no, California = yes, Florida = yes, Michigan = no\"\n",
    "pattern = r'\\w+(?= = yes)'\n",
    "result = re.findall(pattern, txt) \n",
    "print(result)"
   ]
  },
  {
   "cell_type": "code",
   "execution_count": null,
   "id": "533e0143",
   "metadata": {},
   "outputs": [],
   "source": []
  }
 ],
 "metadata": {
  "kernelspec": {
   "display_name": "Python 3 (ipykernel)",
   "language": "python",
   "name": "python3"
  },
  "language_info": {
   "codemirror_mode": {
    "name": "ipython",
    "version": 3
   },
   "file_extension": ".py",
   "mimetype": "text/x-python",
   "name": "python",
   "nbconvert_exporter": "python",
   "pygments_lexer": "ipython3",
   "version": "3.9.7"
  }
 },
 "nbformat": 4,
 "nbformat_minor": 5
}
