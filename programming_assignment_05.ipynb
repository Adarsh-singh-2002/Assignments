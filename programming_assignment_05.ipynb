{
 "cells": [
  {
   "cell_type": "markdown",
   "id": "c02f9af5",
   "metadata": {},
   "source": [
    "#Question :01\n",
    "\n",
    "Write a Python Program to Find LCM?\n",
    "\n",
    "Answer:\n",
    "    "
   ]
  },
  {
   "cell_type": "code",
   "execution_count": 15,
   "id": "383237d8",
   "metadata": {},
   "outputs": [
    {
     "name": "stdout",
     "output_type": "stream",
     "text": [
      "enter the first number : 90\n",
      "enter the second number : 78\n",
      "LCM of 90 and 78 is :  1170\n"
     ]
    }
   ],
   "source": [
    "#code\n",
    "a=int(input(\"enter the first number : \"))\n",
    "b=int(input(\"enter the second number : \"))\n",
    "N1=[]\n",
    "N2=[]\n",
    "N3=[]\n",
    "lcm=0\n",
    "for i in range(1,a+1):\n",
    "    if a%i==0:\n",
    "        N1.append(i)\n",
    "for j in range(1,b+1):\n",
    "    if b%j==0:\n",
    "        N2.append(j)\n",
    "for i in N1:\n",
    "    for j in N2:\n",
    "        if i==j:\n",
    "            N3.append(i)\n",
    "        else:\n",
    "            continue\n",
    "k=(max(N3))\n",
    "lcm=int((a*b)/k)\n",
    "print(f\"LCM of {a} and {b} is : \",lcm)"
   ]
  },
  {
   "cell_type": "markdown",
   "id": "57b5c9bb",
   "metadata": {},
   "source": [
    "#Question :02\n",
    "\n",
    "Write a Python Program to Find HCF?\n",
    "\n",
    "Answer:\n",
    "    "
   ]
  },
  {
   "cell_type": "code",
   "execution_count": 14,
   "id": "68a26188",
   "metadata": {},
   "outputs": [
    {
     "name": "stdout",
     "output_type": "stream",
     "text": [
      "enter the first number : 5\n",
      "enter the second number : 45\n",
      "HCF of 5 and 45 is: 5\n"
     ]
    }
   ],
   "source": [
    "#code\n",
    "a=int(input(\"enter the first number : \"))\n",
    "b=int(input(\"enter the second number : \"))\n",
    "N1=[]\n",
    "N2=[]\n",
    "N3=[]\n",
    "lcm=0\n",
    "for i in range(1,a+1):\n",
    "    if a%i==0:\n",
    "        N1.append(i)\n",
    "for j in range(1,b+1):\n",
    "    if b%j==0:\n",
    "        N2.append(j)\n",
    "for i in N1:\n",
    "    for j in N2:\n",
    "        if i==j:\n",
    "            N3.append(i)\n",
    "        else:\n",
    "            continue\n",
    "k=(max(N3))\n",
    "print(f\"HCF of {a} and {b} is:\",k)"
   ]
  },
  {
   "cell_type": "markdown",
   "id": "52892d32",
   "metadata": {},
   "source": [
    "# Question :03\n",
    "\n",
    "Write a Python Program to Convert Decimal to Binary, Octal and Hexadecimal?\n",
    "\n",
    "Answer:"
   ]
  },
  {
   "cell_type": "code",
   "execution_count": 19,
   "id": "2edb8a1d",
   "metadata": {},
   "outputs": [
    {
     "name": "stdout",
     "output_type": "stream",
     "text": [
      "Enter a decimal number : 47\n",
      "Enter your choice for conversion : \n",
      "1:D to binary \n",
      "2:D to octal \n",
      "3:D to hexadecimal\n",
      "3\n",
      "To Hexadecimal\n",
      "F\n",
      "2\n"
     ]
    }
   ],
   "source": [
    "#code\n",
    "num=int(input(\"Enter a decimal number : \"))\n",
    "k=0\n",
    "print(\"Enter your choice for conversion : \")\n",
    "n=int(input(\"1:D to binary \\n2:D to octal \\n3:D to hexadecimal\\n\"))\n",
    "if n==1:\n",
    "    print(\"To binary :\")\n",
    "    while(num!=0):\n",
    "        k=num%2\n",
    "        num=int(num/2)\n",
    "        print(k)\n",
    "elif n==2:\n",
    "    print(\"To Octal\")\n",
    "    while(num!=0):\n",
    "        l=num%8\n",
    "        num=int(num/8)\n",
    "        print(l)\n",
    "elif n==3:\n",
    "    print(\"To Hexadecimal\")\n",
    "    while(num!=0):\n",
    "        m=num%16\n",
    "        num=int(num/16)\n",
    "        if m>=0 and m<10:\n",
    "            print(m)\n",
    "        elif m==10:\n",
    "            print(\"A\")\n",
    "        elif m==11:\n",
    "            print(\"B\")\n",
    "        elif m==12:\n",
    "            print(\"C\")\n",
    "        elif m==13:\n",
    "            print(\"D\")\n",
    "        elif m==14:\n",
    "            print(\"E\")\n",
    "        elif m==15:\n",
    "            print(\"F\")\n",
    "else:\n",
    "    print(\"enter a valid choice\")"
   ]
  },
  {
   "cell_type": "markdown",
   "id": "b6eea878",
   "metadata": {},
   "source": [
    "#Question :04\n",
    "\n",
    "Write a Python Program To Find ASCII value of a character?\n",
    "\n",
    "Answer:\n"
   ]
  },
  {
   "cell_type": "code",
   "execution_count": 32,
   "id": "039dc2bb",
   "metadata": {},
   "outputs": [
    {
     "name": "stdout",
     "output_type": "stream",
     "text": [
      "enter a character: or series of characters : adarsh\n",
      "You entered a multi-characters :(\n",
      " The ASCII value of a is : 97\n",
      " The ASCII value of d is : 100\n",
      " The ASCII value of a is : 97\n",
      " The ASCII value of r is : 114\n",
      " The ASCII value of s is : 115\n",
      " The ASCII value of h is : 104\n"
     ]
    }
   ],
   "source": [
    "#code:\n",
    "C=input(\"enter a character: or series of characters : \")\n",
    "if len(C)==1:\n",
    "    print(\"You entered a single character :)\")\n",
    "    print(f\" The ASCII value of {C} is :\",ord(C))\n",
    "else:\n",
    "    print(\"You entered a multi-characters :(\")\n",
    "    for i in C:\n",
    "        print(f\" The ASCII value of {i} is :\",ord(i))"
   ]
  },
  {
   "cell_type": "markdown",
   "id": "e71b76ad",
   "metadata": {},
   "source": [
    "#Question :05\n",
    "\n",
    "Write a Python Program to Make a Simple Calculator with 4 basic mathematical operations?\n",
    "\n",
    "Answer:"
   ]
  },
  {
   "cell_type": "code",
   "execution_count": 6,
   "id": "38eb0cb2",
   "metadata": {},
   "outputs": [
    {
     "name": "stdout",
     "output_type": "stream",
     "text": [
      "enter the number of integers for operation : 2\n",
      "enter the value : 1 : 12\n",
      "enter the value : 2 : 34\n",
      "Enter what you want to perform :\n",
      "Press 1 for addition:\n",
      "Press 2 for subtraction:\n",
      "Press 3 for multiplication:\n",
      "press 4 for division: \n",
      "4\n",
      "Division is :  2.8333333333333335\n"
     ]
    }
   ],
   "source": [
    "#code\n",
    "try:\n",
    "    num=int(input(\"enter the number of integers for operation : \"))\n",
    "    N=[]\n",
    "    sum=0\n",
    "    mul=1\n",
    "    for i in range(num):\n",
    "        try:\n",
    "            x=int(input(f\"enter the value : {i+1} : \"))\n",
    "            N.append(x)\n",
    "        except Exception as e:\n",
    "            print(\"Exception is :\",e)\n",
    "    print(\"Enter what you want to perform :\\nPress 1 for addition:\\nPress 2 for subtraction:\\nPress 3 for multiplication:\\npress 4 for division: \")\n",
    "    C=int(input())\n",
    "    if C==1 or C==3:\n",
    "        if C==1:\n",
    "            for i in N:\n",
    "                sum=sum+i\n",
    "            print(\"Sum is : \",sum)\n",
    "        else:\n",
    "            for i in N:\n",
    "                mul=mul*i\n",
    "            print(\"multiplication is : \",mul)\n",
    "    elif C==2 or C==4 and len(N)==2:\n",
    "        k=max(N)\n",
    "        l=min(N)\n",
    "        if C==2:\n",
    "            print(f\"Subtraction is : \",k-l)\n",
    "        else:\n",
    "            print(f\"Division is : \",k/l)\n",
    "    else:\n",
    "        print(\"enter a valid number: \")\n",
    "except Exception as e:\n",
    "    print(e)"
   ]
  },
  {
   "cell_type": "code",
   "execution_count": null,
   "id": "420437a5",
   "metadata": {},
   "outputs": [],
   "source": []
  }
 ],
 "metadata": {
  "kernelspec": {
   "display_name": "Python 3 (ipykernel)",
   "language": "python",
   "name": "python3"
  },
  "language_info": {
   "codemirror_mode": {
    "name": "ipython",
    "version": 3
   },
   "file_extension": ".py",
   "mimetype": "text/x-python",
   "name": "python",
   "nbconvert_exporter": "python",
   "pygments_lexer": "ipython3",
   "version": "3.9.7"
  }
 },
 "nbformat": 4,
 "nbformat_minor": 5
}
