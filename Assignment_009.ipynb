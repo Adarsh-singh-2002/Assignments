{
 "cells": [
  {
   "cell_type": "markdown",
   "id": "0ac96d40",
   "metadata": {},
   "source": [
    "#Question :01\n",
    "\n",
    "To what does a relative path refer?\n",
    "\n",
    "Answer:\n",
    "A relative path refers to a location that is relative to a current directory or Present working directory(PWD). "
   ]
  },
  {
   "cell_type": "markdown",
   "id": "e6c8e80d",
   "metadata": {},
   "source": [
    "#Question :02\n",
    "\n",
    "What does an absolute path start with your operating system?\n",
    "\n",
    "Answer:\n",
    "An absolute path is a path which is refered from the start of the root directory.\n",
    "In other words we can say absolute path is a complete path from start of actual filesystem from / directory."
   ]
  },
  {
   "cell_type": "markdown",
   "id": "60a229fc",
   "metadata": {},
   "source": [
    "#Question :03\n",
    "\n",
    "What do the functions os.getcwd() and os.chdir() do?\n",
    "\n",
    "Answer:\n",
    "    \n",
    "os.getcwd():\n",
    "This gives the name of the directory in which actions are getting executed.\n",
    "\n",
    "os.chdir():\n",
    "This gives you the power to change the directory in which actions are getting executed.\n"
   ]
  },
  {
   "cell_type": "code",
   "execution_count": 2,
   "id": "3cb8d7d3",
   "metadata": {},
   "outputs": [
    {
     "data": {
      "text/plain": [
       "'C:\\\\Users\\\\ADARSH\\\\Desktop\\\\python_language'"
      ]
     },
     "execution_count": 2,
     "metadata": {},
     "output_type": "execute_result"
    }
   ],
   "source": [
    "#code\n",
    "import os\n",
    "os.getcwd()"
   ]
  },
  {
   "cell_type": "markdown",
   "id": "ba7a5c17",
   "metadata": {},
   "source": [
    "#Question :04\n",
    "\n",
    "What are the . and .. folders?\n",
    "\n",
    "Answer:\n",
    ". folder is for referal of files in the same file within a directory.It is also termed as current directory.\n",
    ".. folder is for refering of files in different file but within a directory.This is also termed as parent directory\n"
   ]
  },
  {
   "cell_type": "markdown",
   "id": "cea4c8e9",
   "metadata": {},
   "source": [
    "#Question :05\n",
    "\n",
    "In C:\\bacon\\eggs\\spam.txt, which part is the dir name, and which part is the base name?\n",
    "    \n",
    "Answer:\n",
    "\n",
    "    Here,C:\\bacon\\eggs\\ this part of the adress is base name.\n",
    "    whereas,spam.txt is the directory name."
   ]
  },
  {
   "cell_type": "code",
   "execution_count": 3,
   "id": "e6fcc205",
   "metadata": {},
   "outputs": [
    {
     "name": "stdout",
     "output_type": "stream",
     "text": [
      "spam.txt,\n",
      "C:\bacon\\eggs\n"
     ]
    }
   ],
   "source": [
    "#code\n",
    "import os\n",
    "filepath='C:\\bacon\\eggs\\spam.txt,'\n",
    "x=os.path.basename(filepath)\n",
    "print(x)\n",
    "y=os.path.dirname(filepath)\n",
    "print(y)"
   ]
  },
  {
   "cell_type": "markdown",
   "id": "0b2ea562",
   "metadata": {},
   "source": [
    "#Question :06\n",
    "\n",
    "What are the three “mode” arguments that can be passed to the open() function?\n",
    "\n",
    "Answer:\n",
    "    \n",
    "    The three modes of arguments that can be passed to the open() function are:\n",
    "    'r' for reading operations.\n",
    "    'w' for creating and manipulating the file.\n",
    "    'a' for seaching a file and if not present then creating one with the same name.\n",
    "\n",
    "There are several more mode arguments that are around modified with these three basic modes,that with inclulsion of these three will be :"
   ]
  },
  {
   "cell_type": "markdown",
   "id": "4830b5fc",
   "metadata": {},
   "source": [
    "1. \tr -->\tIt opens the file to read-only mode. The file pointer exists at the beginning. The file is by default open in this mode if no access mode is passed.\n",
    "\n",
    "2.\trb -->  It opens the file to read-only in binary format. The file pointer exists at the beginning of the file.\n",
    "\n",
    "3.\tr+ -->\tIt opens the file to read and write both. The file pointer exists at the beginning of the file.\n",
    "\n",
    "4.\trb+ -->\tIt opens the file to read and write both in binary format. The file pointer exists at the beginning of the file.\n",
    "\n",
    "5.\tw -->\tIt opens the file to write only. It overwrites the file if previously exists or creates a new one if no file exists with the same name. The file pointer exists at the beginning of the file.\n",
    "\n",
    "6.\twb -->\tIt opens the file to write only in binary format. It overwrites the file if it exists previously or creates a new one if no file exists. The file pointer exists at the beginning of the file.\n",
    "\n",
    "7.\tw+ -->\tIt opens the file to write and read both. It is different from r+ in the sense that it overwrites the previous file if one exists whereas r+ doesn't overwrite the previously written file. It creates a new file if no file exists. The file pointer exists at the beginning of the file.\n",
    "\n",
    "8.\twb+ -->\tIt opens the file to write and read both in binary format. The file pointer exists at the beginning of the file.\n",
    "\n",
    "9.\ta -->\tIt opens the file in the append mode. The file pointer exists at the end of the previously written file if exists any. It creates a new file if no file exists with the same name.\n",
    "\n",
    "10.\tab -->\tIt opens the file in the append mode in binary format. The pointer exists at the end of the previously written file. It creates a new file in binary format if no file exists with the same name.\n",
    "\n",
    "11.\ta+ -->\tIt opens a file to append and read both. The file pointer remains at the end of the file if a file exists. It creates a new file if no file exists with the same name.\n",
    "\n",
    "12.\tab+ -->\tIt opens a file to append and read both in binary format. The file pointer remains at the end of the file."
   ]
  },
  {
   "cell_type": "markdown",
   "id": "692e706c",
   "metadata": {},
   "source": [
    "#Question :07\n",
    "\n",
    "What happens if an existing file is opened in write mode?\n",
    "\n",
    "Answer:\n",
    "if an existing file is opened in write mode than we can manipulate the contents of the file."
   ]
  },
  {
   "cell_type": "markdown",
   "id": "8204e761",
   "metadata": {},
   "source": [
    "#Question :08\n",
    "\n",
    "How do you tell the difference between read() and readlines()?\n",
    "\n",
    "Answer:\n",
    "the difference between read() and readlines() is that read() will try to process word by word as a string. whereas, readlines() will process each line of the file in a go."
   ]
  },
  {
   "cell_type": "markdown",
   "id": "ac600fe0",
   "metadata": {},
   "source": [
    "#Question :09\n",
    "\n",
    "What data structure does a shelf value resemble?\n",
    "\n",
    "Answer:\n",
    "Shelf value resembles a dictionary data structure as values are stored in a key value pair."
   ]
  },
  {
   "cell_type": "code",
   "execution_count": null,
   "id": "b790b5c6",
   "metadata": {},
   "outputs": [],
   "source": []
  }
 ],
 "metadata": {
  "kernelspec": {
   "display_name": "Python 3 (ipykernel)",
   "language": "python",
   "name": "python3"
  },
  "language_info": {
   "codemirror_mode": {
    "name": "ipython",
    "version": 3
   },
   "file_extension": ".py",
   "mimetype": "text/x-python",
   "name": "python",
   "nbconvert_exporter": "python",
   "pygments_lexer": "ipython3",
   "version": "3.9.7"
  }
 },
 "nbformat": 4,
 "nbformat_minor": 5
}
