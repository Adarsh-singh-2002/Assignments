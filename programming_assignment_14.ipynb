{
 "cells": [
  {
   "cell_type": "markdown",
   "id": "ae19c8bb",
   "metadata": {},
   "source": [
    "#Question :01\n",
    "\n",
    "Define a class with a generator which can iterate the numbers, which are divisible by\n",
    "7, between a given range 0 and n.\n",
    "\n",
    "Answer:"
   ]
  },
  {
   "cell_type": "code",
   "execution_count": 3,
   "id": "d7bc4c38",
   "metadata": {},
   "outputs": [
    {
     "name": "stdout",
     "output_type": "stream",
     "text": [
      "Enter a value : 90\n",
      "7  \n",
      "14  \n",
      "21  \n",
      "28  \n",
      "35  \n",
      "42  \n",
      "49  \n",
      "56  \n",
      "63  \n",
      "70  \n",
      "77  \n",
      "84  \n"
     ]
    }
   ],
   "source": [
    "#code\n",
    "class gene():\n",
    "    def __init__(self,num):\n",
    "        self.num=num\n",
    "    def check(self):\n",
    "        for i in range(1,self.num):\n",
    "            if i%7==0:\n",
    "                yield i\n",
    "n=int(input(\"Enter a value : \"))\n",
    "x=gene(n)\n",
    "for i in x.check():\n",
    "    print(i,\" \")"
   ]
  },
  {
   "cell_type": "markdown",
   "id": "8209df3f",
   "metadata": {},
   "source": [
    "#Question :02\n",
    "\n",
    "Write a program to compute the frequency of the words from the input. The output\n",
    "should output after sorting the key alphanumerically.\n",
    "\n",
    "Suppose the following input is supplied to the program:\n",
    "    \n",
    "New to Python or choosing between Python 2 and Python 3? Read Python 2 or\n",
    "Python 3.\n",
    "\n",
    "Then, the output should be:\n",
    "    \n",
    "2:2\n",
    "    \n",
    "3.:1\n",
    "\n",
    "3?:1\n",
    "\n",
    "New:1\n",
    "    \n",
    "Python:5\n",
    "    \n",
    "Read:1\n",
    "    \n",
    "and:1\n",
    "    \n",
    "between:1\n",
    "    \n",
    "choosing:1\n",
    "    \n",
    "or:2\n",
    "    \n",
    "to:1\n",
    "\n",
    "Answer:"
   ]
  },
  {
   "cell_type": "code",
   "execution_count": 7,
   "id": "951fc046",
   "metadata": {},
   "outputs": [
    {
     "name": "stdout",
     "output_type": "stream",
     "text": [
      "Enter ta string of your choice : New to Python or choosing between Python 2 and Python 3? Read Python 2 or Python 3.\n",
      "2 :  2\n",
      "3. :  1\n",
      "3? :  1\n",
      "New :  1\n",
      "Python :  5\n",
      "Read :  1\n",
      "and :  1\n",
      "between :  1\n",
      "choosing :  1\n",
      "or :  2\n",
      "to :  1\n"
     ]
    }
   ],
   "source": [
    "#code\n",
    "val=input(\"Enter ta string of your choice : \")\n",
    "val=val.split()\n",
    "val.sort()\n",
    "dic={}\n",
    "for i in val:\n",
    "    x=0\n",
    "    x=val.count(i)\n",
    "    y={i:x}\n",
    "    dic.update(y)\n",
    "\n",
    "for i,j in dic.items():\n",
    "    print(i,\": \",j)\n",
    "    "
   ]
  },
  {
   "cell_type": "markdown",
   "id": "67c7d7e9",
   "metadata": {},
   "source": [
    "#Question :03\n",
    "\n",
    "Define a class Person and its two child classes: Male and Female. All classes have a\n",
    "method \"getGender\" which can print \"Male\" for Male class and \"Female\" for Female\n",
    "class.\n",
    "\n",
    "Answer:"
   ]
  },
  {
   "cell_type": "code",
   "execution_count": 23,
   "id": "fe2d09b5",
   "metadata": {},
   "outputs": [
    {
     "name": "stdout",
     "output_type": "stream",
     "text": [
      "Male or Female : Male\n",
      "Gender is : Male\n"
     ]
    }
   ],
   "source": [
    "#code\n",
    "class Person:\n",
    "    def inp(self):\n",
    "        self.gender=input(\"Male or Female : \")\n",
    "        \n",
    "    def get(self):\n",
    "        return self.gender\n",
    "    def getGender(self,x=\"Other\"):\n",
    "        print(x)\n",
    "class Male(Person):\n",
    "    def getGender(self):\n",
    "        print(\"Gender is : Male\")\n",
    "\n",
    "class Female(Person):\n",
    "    def getGender(self):\n",
    "        print(\"Gender is : Female\")\n",
    "x=Person()\n",
    "x.inp()\n",
    "store=x.get()\n",
    "if store.lower() == \"male\":\n",
    "    y=Male()\n",
    "    y.getGender()\n",
    "elif store.lower() == \"female\" :\n",
    "    z = Female()\n",
    "    z.getGender()\n",
    "else:\n",
    "    x.getGender()"
   ]
  },
  {
   "cell_type": "markdown",
   "id": "cca04b2d",
   "metadata": {},
   "source": [
    "#Question :04\n",
    "\n",
    "Please write a program to generate all sentences where subject is in [\"I\",\"You\"] and\n",
    "verb is in [\"Play\",\"Love\"] and the object is in [\"Hockey\",\"Football\"].\n",
    "\n",
    "Answer:"
   ]
  },
  {
   "cell_type": "code",
   "execution_count": null,
   "id": "a7655e0c",
   "metadata": {},
   "outputs": [],
   "source": [
    "#code\n",
    "val=input(\"Enter a sentence of  your choice : \")\n",
    "val=val.split()\n",
    "count=0\n",
    "if val[0].lower()==\"i\" or val[0].lower()==\"you\":\n",
    "    for i in range(1,len(val)):\n",
    "        if val[i]==\"Play\"or val[i]==\"Love\":\n",
    "            count+=1\n",
    "    if count>1 and val[len(val)-1].lower() ==\"hockey\" or val[len(val)-1].lower==\"football\":\n",
    "        "
   ]
  },
  {
   "cell_type": "code",
   "execution_count": 27,
   "id": "14eaf71d",
   "metadata": {},
   "outputs": [
    {
     "name": "stdout",
     "output_type": "stream",
     "text": [
      "I Play Hockey .\n",
      "\n",
      "\n",
      "I Play Football .\n",
      "\n",
      "\n",
      "I Love Hockey .\n",
      "\n",
      "\n",
      "I Love Football .\n",
      "\n",
      "\n",
      "You Play Hockey .\n",
      "\n",
      "\n",
      "You Play Football .\n",
      "\n",
      "\n",
      "You Love Hockey .\n",
      "\n",
      "\n",
      "You Love Football .\n",
      "\n",
      "\n"
     ]
    }
   ],
   "source": [
    "#code\n",
    "val1=[\"I\",\"You\"]\n",
    "val2=[\"Play\",\"Love\"]\n",
    "val3=[\"Hockey\",\"Football\"]\n",
    "for i in val1:\n",
    "    for j in val2:\n",
    "        for k in val3:\n",
    "            print(i,j,k,\".\")\n",
    "            print(\"\\n\")"
   ]
  },
  {
   "cell_type": "code",
   "execution_count": 29,
   "id": "4e48ee38",
   "metadata": {},
   "outputs": [
    {
     "name": "stdout",
     "output_type": "stream",
     "text": [
      "I Play Hockey\n",
      "I Play Football\n",
      "I Love Hockey\n",
      "I Love Football\n",
      "You Play Hockey\n",
      "You Play Football\n",
      "You Love Hockey\n",
      "You Love Football\n"
     ]
    }
   ],
   "source": [
    "#Alternate code\n",
    "subject=[\"I\", \"You\"]\n",
    "verb=[\"Play\", \"Love\"]\n",
    "object=[\"Hockey\",\"Football\"]\n",
    "\n",
    "\n",
    "sentence_coll = [(i+\" \"+ j + \" \" + k) for i in subject for j in verb for k in object]\n",
    "for sentence in sentence_coll:\n",
    "    print(sentence)"
   ]
  },
  {
   "cell_type": "markdown",
   "id": "7c929406",
   "metadata": {},
   "source": [
    "#Question :05\n",
    "\n",
    "Please write a program to compress and decompress the string \"hello world!hello\n",
    "world!hello world!hello world!\".\n",
    "\n",
    "Answer:"
   ]
  },
  {
   "cell_type": "code",
   "execution_count": 37,
   "id": "82bfba28",
   "metadata": {},
   "outputs": [
    {
     "name": "stdout",
     "output_type": "stream",
     "text": [
      "Enter a string of your choice : hello world!hello world!hello world!hello world!\n",
      "Compressed string is :  h4e4l12o8 4w4r4d4!4\n",
      "\n",
      "Original string/decompressed string is :  hello world!hello world!hello world!hello world!\n"
     ]
    }
   ],
   "source": [
    "#code\n",
    "val=input(\"Enter a string of your choice : \")\n",
    "N=\"\"\n",
    "N1=val\n",
    "for i in val:\n",
    "    if i not in N:\n",
    "        x=val.count(i)\n",
    "        N=N+i+str(x)\n",
    "    else:\n",
    "        continue\n",
    "print(\"Compressed string is : \",N)\n",
    "print(\"\\nOriginal string/decompressed string is : \",N1)"
   ]
  },
  {
   "cell_type": "code",
   "execution_count": 2,
   "id": "21ed9aaa",
   "metadata": {},
   "outputs": [
    {
     "name": "stdout",
     "output_type": "stream",
     "text": [
      "b'x\\x9c\\xcbH\\xcd\\xc9\\xc9W(\\xcf/\\xcaIQ\\xcc \\x82\\r\\x00\\xbd[\\x11\\xf5'\n",
      "b'hello world!hello world!hello world!hello world!'\n"
     ]
    }
   ],
   "source": [
    "#Alternate  code\n",
    "'''In Python 3 zlib.compress() accepts only DataType <bytes>'''\n",
    "import zlib\n",
    "s = 'hello world!hello world!hello world!hello world!'\n",
    "y = bytes(s, 'utf-8')\n",
    "x = zlib.compress(y)\n",
    "print(x)\n",
    "print(zlib.decompress(x))"
   ]
  },
  {
   "cell_type": "markdown",
   "id": "351f86ac",
   "metadata": {},
   "source": [
    "#Question :06\n",
    "\n",
    "Please write a binary search function which searches an item in a sorted list. The\n",
    "function should return the index of element to be searched in the list.\n",
    "\n",
    "Answer:\n",
    "    "
   ]
  },
  {
   "cell_type": "code",
   "execution_count": 10,
   "id": "a87c5a4e",
   "metadata": {},
   "outputs": [
    {
     "name": "stdout",
     "output_type": "stream",
     "text": [
      "What you need to find : 7\n",
      "Element is present at index  3 and place 4\n"
     ]
    }
   ],
   "source": [
    "#code\n",
    "def binarySearch(N, lst, hst, x):\n",
    " \n",
    "    if hst >= lst:\n",
    " \n",
    "        mid = lst + (hst - lst) // 2\n",
    "        if N[mid] == x:\n",
    "            return mid\n",
    "        elif N[mid] > x:\n",
    "            return binarySearch(N, lst, mid-1, x)\n",
    "        else:\n",
    "            return binarySearch(N, mid + 1, hst, x)\n",
    " \n",
    "    else:\n",
    "        return -1\n",
    " \n",
    "\n",
    "N = [2,3,5,7,11,25]\n",
    "x = int(input(\"What you need to find : \"))\n",
    "\n",
    "result = binarySearch(N, 0, len(N)-1, x)\n",
    " \n",
    "if result != -1:\n",
    "    print(\"Element is present at index \",result ,\"and place\",result+1)\n",
    "else:\n",
    "    print(\"Element is not present in array\")\n"
   ]
  },
  {
   "cell_type": "code",
   "execution_count": null,
   "id": "0cb2847e",
   "metadata": {},
   "outputs": [],
   "source": []
  }
 ],
 "metadata": {
  "kernelspec": {
   "display_name": "Python 3 (ipykernel)",
   "language": "python",
   "name": "python3"
  },
  "language_info": {
   "codemirror_mode": {
    "name": "ipython",
    "version": 3
   },
   "file_extension": ".py",
   "mimetype": "text/x-python",
   "name": "python",
   "nbconvert_exporter": "python",
   "pygments_lexer": "ipython3",
   "version": "3.9.7"
  }
 },
 "nbformat": 4,
 "nbformat_minor": 5
}
