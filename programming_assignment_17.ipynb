{
 "cells": [
  {
   "cell_type": "markdown",
   "id": "6dc73ceb",
   "metadata": {},
   "source": [
    "#Question :01\n",
    "\n",
    "Create a function that takes three arguments a, b, c and returns the sum of the\n",
    "numbers that are evenly divided by c from the range a, b inclusive.\n",
    "\n",
    "Examples\n",
    "\n",
    "evenly_divisible(1, 10, 20) ➞ 0\n",
    "\n",
    "No number between 1 and 10 can be evenly divided by 20.\n",
    "\n",
    "evenly_divisible(1, 10, 2) ➞ 30\n",
    "\n",
    "2 + 4 + 6 + 8 + 10 = 30\n",
    "\n",
    "evenly_divisible(1, 10, 3) ➞ 18\n",
    "\n",
    "3 + 6 + 9 = 18\n",
    "\n",
    "Answer:"
   ]
  },
  {
   "cell_type": "code",
   "execution_count": 9,
   "id": "32ca1e9d",
   "metadata": {},
   "outputs": [
    {
     "name": "stdout",
     "output_type": "stream",
     "text": [
      "Enter value of a : 1\n",
      "Enter value of b : 10\n",
      "Enter value of c : 2\n",
      "30\n"
     ]
    }
   ],
   "source": [
    "#code\n",
    "def check(a,b,c):\n",
    "    sum=0\n",
    "    if c<a or c<b:\n",
    "        for i in range(a,b+1):\n",
    "            if i%c==0:\n",
    "                sum+=i\n",
    "            else:\n",
    "                continue\n",
    "        print(sum)\n",
    "    else:\n",
    "        print(f\"No number between {a} and {b} can be evenly divided by {c}.\")\n",
    "a=int(input(\"Enter value of a : \"))\n",
    "b=int(input(\"Enter value of b : \"))\n",
    "c=int(input(\"Enter value of c : \"))\n",
    "check(a,b,c)"
   ]
  },
  {
   "cell_type": "markdown",
   "id": "bee57f9e",
   "metadata": {},
   "source": [
    "#Question :02\n",
    "\n",
    "Create a function that returns True if a given inequality expression is correct and\n",
    "False otherwise.\n",
    "\n",
    "Examples\n",
    "\n",
    "correct_signs(\"3 < 7 < 11\") ➞ True\n",
    "\n",
    "correct_signs(\"13 > 44 > 33 > 1\") ➞ False\n",
    "\n",
    "correct_signs(\"1 < 2 < 6 < 9 >3\") ➞ True\n",
    "\n",
    "Answer:"
   ]
  },
  {
   "cell_type": "code",
   "execution_count": 13,
   "id": "401c2650",
   "metadata": {},
   "outputs": [
    {
     "name": "stdout",
     "output_type": "stream",
     "text": [
      "Enter the inequality expression : 13 > 44 > 33 > 1\n",
      "False\n"
     ]
    }
   ],
   "source": [
    "#code\n",
    "def check(s):\n",
    "    print(eval(s))\n",
    "s=input(\"Enter the inequality expression : \")\n",
    "check(s)"
   ]
  },
  {
   "cell_type": "markdown",
   "id": "0cc45406",
   "metadata": {},
   "source": [
    "#Question :03\n",
    "\n",
    "Create a function that replaces all the vowels in a string with a specified character.\n",
    "\n",
    "Examples\n",
    "\n",
    "replace_vowels(\"the aardvark\", \"#\") ➞ \"th# ##rdv#rk\"\n",
    "\n",
    "replace_vowels(\"minnie mouse\", \"?\") ➞\"m?nn?? m??s?\"\n",
    "\n",
    "replace_vowels(\"shakespeare\",\"*\") ➞ \"sh*k*sp**r*\"\n",
    "\n",
    "Answer:"
   ]
  },
  {
   "cell_type": "code",
   "execution_count": 22,
   "id": "c655a6c0",
   "metadata": {},
   "outputs": [
    {
     "name": "stdout",
     "output_type": "stream",
     "text": [
      "Enter the string : shakespeare\n",
      "Enter the replacing value : *\n",
      "sh*k*sp**r*\n"
     ]
    }
   ],
   "source": [
    "#code\n",
    "def replace(s,c):\n",
    "    for I in s:\n",
    "        i=I.lower()\n",
    "        if i=='a' or i=='e' or i=='i' or i=='o' or i=='u':\n",
    "            s=s.replace(i,c)\n",
    "    print(s)\n",
    "\n",
    "st=input(\"Enter the string : \")\n",
    "v=input(\"Enter the replacing value : \")\n",
    "replace(st,v)"
   ]
  },
  {
   "cell_type": "markdown",
   "id": "c31f8d85",
   "metadata": {},
   "source": [
    "#Question :04\n",
    "\n",
    "Write a function that calculates the factorial of a number recursively.\n",
    "\n",
    "Examples\n",
    "\n",
    "factorial(5) ➞ 120\n",
    "\n",
    "factorial(3) ➞ 6\n",
    "\n",
    "factorial(1) ➞ 1\n",
    "\n",
    "factorial(0) ➞ 1\n",
    "\n",
    "Answer:"
   ]
  },
  {
   "cell_type": "code",
   "execution_count": 6,
   "id": "1b3f0f48",
   "metadata": {},
   "outputs": [
    {
     "name": "stdout",
     "output_type": "stream",
     "text": [
      "Enter a number : 5\n",
      "120\n"
     ]
    }
   ],
   "source": [
    "#code\n",
    "def fact(num):\n",
    "    if num==0:\n",
    "        return 1\n",
    "    else:\n",
    "        return num*fact(num-1)\n",
    "num=int(input(\"Enter a number : \"))\n",
    "print(fact(num))"
   ]
  },
  {
   "cell_type": "markdown",
   "id": "15331c0a",
   "metadata": {},
   "source": [
    "#Question :05\n",
    "\n",
    "Question 5\n",
    "Hamming distance is the number of characters that differ between two strings.\n",
    "\n",
    "To illustrate:\n",
    "    \n",
    "String1: \"abcbba\"\n",
    "    \n",
    "String2: \"abcbda\"\n",
    "    \n",
    "Hamming Distance: 1 - \"b\"; vs. \"d\" is the only difference.\n",
    "    \n",
    "Create a function that computes the hamming distance between two strings.\n",
    "\n",
    "Examples\n",
    "\n",
    "hamming_distance(\"abcde\",\"bcdef\") ➞ 5\n",
    "\n",
    "hamming_distance(\"abcde\",\"abcde\") ➞ 0\n",
    "\n",
    "hamming_distance(\"string\",\"strung\") ➞ 1"
   ]
  },
  {
   "cell_type": "code",
   "execution_count": 8,
   "id": "661983fa",
   "metadata": {},
   "outputs": [
    {
     "name": "stdout",
     "output_type": "stream",
     "text": [
      "Enter the string one : abcde\n",
      "Enter the string two : bcdef\n",
      "5\n"
     ]
    }
   ],
   "source": [
    "def hamming_distance(x,y):\n",
    "    count=0\n",
    "    for i in range(len(x)):\n",
    "        if x[i]!=y[i]:\n",
    "            count+=1\n",
    "        else:\n",
    "            continue\n",
    "    print(count)\n",
    "str1=input(\"Enter the string one : \")\n",
    "str2=input(\"Enter the string two : \")\n",
    "hamming_distance(str1,str2)"
   ]
  },
  {
   "cell_type": "code",
   "execution_count": null,
   "id": "abb266fc",
   "metadata": {},
   "outputs": [],
   "source": []
  }
 ],
 "metadata": {
  "kernelspec": {
   "display_name": "Python 3 (ipykernel)",
   "language": "python",
   "name": "python3"
  },
  "language_info": {
   "codemirror_mode": {
    "name": "ipython",
    "version": 3
   },
   "file_extension": ".py",
   "mimetype": "text/x-python",
   "name": "python",
   "nbconvert_exporter": "python",
   "pygments_lexer": "ipython3",
   "version": "3.9.7"
  }
 },
 "nbformat": 4,
 "nbformat_minor": 5
}
