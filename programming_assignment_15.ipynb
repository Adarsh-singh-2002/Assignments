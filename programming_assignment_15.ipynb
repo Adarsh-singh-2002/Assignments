{
 "cells": [
  {
   "cell_type": "markdown",
   "id": "515db6bc",
   "metadata": {},
   "source": [
    "#Question :01\n",
    "\n",
    "Please write a program using generator to print the numbers which can be divisible by 5 and\n",
    "7 between 0 and n in comma separated form while n is input by console.\n",
    "\n",
    "Example:\n",
    "    \n",
    "If the following n is given as input to the program:\n",
    "    \n",
    "100\n",
    "\n",
    "Then, the output of the program should be:\n",
    "    \n",
    "0,35,70\n",
    "\n",
    "Answer:"
   ]
  },
  {
   "cell_type": "code",
   "execution_count": 8,
   "id": "57107e5a",
   "metadata": {},
   "outputs": [
    {
     "name": "stdout",
     "output_type": "stream",
     "text": [
      "Enter the value of n100\n",
      "0,35,70\n"
     ]
    }
   ],
   "source": [
    "#code\n",
    "def check(n):\n",
    "    for i in range(n):\n",
    "        if i %5==0 and i%7==0:\n",
    "            yield i\n",
    "    \n",
    "num=int(input(\"Enter the value of n\"))\n",
    "N=[]\n",
    "for i in check(num):\n",
    "    N.append(str(i))\n",
    "print(','.join(N))"
   ]
  },
  {
   "cell_type": "markdown",
   "id": "50920433",
   "metadata": {},
   "source": [
    "#Question :02\n",
    "\n",
    "Please write a program using generator to print the even numbers between 0 and n in comma\n",
    "separated form while n is input by console.\n",
    "\n",
    "Example:\n",
    "    \n",
    "If the following n is given as input to the program:\n",
    "10\n",
    "\n",
    "Then, the output of the program should be:\n",
    "    \n",
    "0,2,4,6,8,10\n",
    "\n",
    "Answer:"
   ]
  },
  {
   "cell_type": "code",
   "execution_count": 11,
   "id": "d41083e2",
   "metadata": {},
   "outputs": [
    {
     "name": "stdout",
     "output_type": "stream",
     "text": [
      "Enter a value of N : 10\n",
      "0,2,4,6,8,10\n"
     ]
    }
   ],
   "source": [
    "#code\n",
    "def check(n):\n",
    "    for i in range(n+1):\n",
    "        if i%2==0:\n",
    "            yield i\n",
    "num=int(input(\"Enter a value of N : \"))\n",
    "N=[]\n",
    "for i in check(num):\n",
    "    N.append(str(i))\n",
    "print(','.join(N))"
   ]
  },
  {
   "cell_type": "markdown",
   "id": "f59f5b06",
   "metadata": {},
   "source": [
    "#Question :03\n",
    "\n",
    "The Fibonacci Sequence is computed based on the following formula:\n",
    "    \n",
    "f(n)=0 if n=0\n",
    "\n",
    "f(n)=1 if n=1\n",
    "\n",
    "f(n)=f(n-1)+f(n-2) if n>1\n",
    "\n",
    "Please write a program using list comprehension to print the Fibonacci Sequence in comma\n",
    "separated form with a given n input by console.\n",
    "\n",
    "Example:\n",
    "If the following n is given as input to the program:\n",
    "7\n",
    "\n",
    "Then, the output of the program should be:\n",
    "0,1,1,2,3,5,8,13"
   ]
  },
  {
   "cell_type": "code",
   "execution_count": 13,
   "id": "ca9c6860",
   "metadata": {},
   "outputs": [
    {
     "name": "stdout",
     "output_type": "stream",
     "text": [
      "Enter a value of number of terms : 12\n",
      "0,1,1,2,3,5,8,13,21,34,55,89\n"
     ]
    }
   ],
   "source": [
    "#code\n",
    "def fibo(n):\n",
    "    while(n>0):\n",
    "        if n==1:\n",
    "            return 0\n",
    "        elif n==2:\n",
    "            return 1\n",
    "        else:\n",
    "            return fibo(n-1)+fibo(n-2)\n",
    "\n",
    "num=int(input(\"Enter a value of number of terms : \"))\n",
    "N=[]\n",
    "values=0\n",
    "if num>=1:\n",
    "    for i in range(num+1):\n",
    "        values = fibo(i)\n",
    "        N.append(str(values))\n",
    "    for i in range(1,len(N)):\n",
    "        if i==len(N)-1:\n",
    "            print(N[i])\n",
    "        else:\n",
    "            print(N[i],end=\",\")\n",
    "        \n",
    "else:\n",
    "    print(\"Enter a valid number.\")"
   ]
  },
  {
   "cell_type": "markdown",
   "id": "1ac54268",
   "metadata": {},
   "source": [
    "#Question :04\n",
    "\n",
    "Assuming that we have some email addresses in the &quot;username@companyname.com&quot; format,\n",
    "please write program to print the user name of a given email address. Both user names and\n",
    "company names are composed of letters only.\n",
    "\n",
    "Example:\n",
    "    \n",
    "If the following email address is given as input to the program:\n",
    "    \n",
    "john@google.com\n",
    "\n",
    "Then, the output of the program should be:\n",
    "    \n",
    "john"
   ]
  },
  {
   "cell_type": "code",
   "execution_count": 18,
   "id": "2126da53",
   "metadata": {},
   "outputs": [
    {
     "name": "stdout",
     "output_type": "stream",
     "text": [
      "Enter a E-mail : adarsh@ineuron.ai\n",
      "Your mail id username is : \n",
      "adarsh"
     ]
    }
   ],
   "source": [
    "#code\n",
    "val=input(\"Enter a E-mail : \")\n",
    "if '@' in val:\n",
    "    print(\"Your mail id username is : \")\n",
    "    for i in val:\n",
    "        if i!='@':\n",
    "            print(i,end='')\n",
    "        else:\n",
    "            break\n",
    "else:\n",
    "    print(\"Invalid email id.\")"
   ]
  },
  {
   "cell_type": "markdown",
   "id": "c56e8b68",
   "metadata": {},
   "source": [
    "#Question :05\n",
    "\n",
    "Define a class named Shape and its subclass Square. The Square class has an init function\n",
    "which takes a length as argument. Both classes have a area function which can print the area\n",
    "of the shape where Shape's area is 0 by default."
   ]
  },
  {
   "cell_type": "code",
   "execution_count": 30,
   "id": "d399e6b8",
   "metadata": {},
   "outputs": [
    {
     "name": "stdout",
     "output_type": "stream",
     "text": [
      "Area of the sqaure is :  25\n"
     ]
    }
   ],
   "source": [
    "#code\n",
    "class Shape:\n",
    "    def area(a):\n",
    "        return 0\n",
    "class Square(Shape):\n",
    "    def __init__(self,length=0):\n",
    "        self.length=length\n",
    "    def area(self):\n",
    "        area=0\n",
    "        area=self.length*self.length\n",
    "        print(\"Area of the sqaure is : \",area)\n",
    "x=Square(5)\n",
    "x.area()"
   ]
  },
  {
   "cell_type": "code",
   "execution_count": null,
   "id": "303aa92d",
   "metadata": {},
   "outputs": [],
   "source": []
  }
 ],
 "metadata": {
  "kernelspec": {
   "display_name": "Python 3 (ipykernel)",
   "language": "python",
   "name": "python3"
  },
  "language_info": {
   "codemirror_mode": {
    "name": "ipython",
    "version": 3
   },
   "file_extension": ".py",
   "mimetype": "text/x-python",
   "name": "python",
   "nbconvert_exporter": "python",
   "pygments_lexer": "ipython3",
   "version": "3.9.7"
  }
 },
 "nbformat": 4,
 "nbformat_minor": 5
}
