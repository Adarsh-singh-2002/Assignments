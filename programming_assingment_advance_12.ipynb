{
 "cells": [
  {
   "cell_type": "markdown",
   "id": "e17ea056",
   "metadata": {},
   "source": [
    "#Question : 01\n",
    "\n",
    "For this challenge, forget how to add two numbers together. The best\n",
    "explanation on what to do for this function is this meme:\n",
    "    \n",
    "Examples\n",
    "\n",
    "meme_sum(26, 39) ➞ 515\n",
    "\n",
    "* 2+3 = 5, 6+9 = 15\n",
    "\n",
    "* 26 + 39 = 515\n",
    "\n",
    "meme_sum(122, 81) ➞ 1103\n",
    "\n",
    "* 1+0 = 1, 2+8 = 10, 2+1 = 3\n",
    "\n",
    "* 122 + 81 = 1103\n",
    "\n",
    "meme_sum(1222, 30277) ➞ 31499"
   ]
  },
  {
   "cell_type": "code",
   "execution_count": 15,
   "id": "07b59950",
   "metadata": {},
   "outputs": [],
   "source": [
    "#code\n",
    "def meme_sum(number_1,number_2):\n",
    "    num_1 = str(number_1)\n",
    "    num_2 = str(number_2)\n",
    "    Ans=\"\"\n",
    "    if len(num_1)>len(num_2):\n",
    "        difference = len(num_1)-len(num_2)\n",
    "        num_2=(\"0\"*difference)+num_2\n",
    "    elif len(num_2)>len(num_1):\n",
    "        difference = len(num_2)-len(num_1)\n",
    "        num_1=(\"0\"*difference)+num_1\n",
    "        \n",
    "    for i in range(len(num_1)):\n",
    "        Ans+= str(int(num_1[i])+int(num_2[i]))\n",
    "    return int(Ans)"
   ]
  },
  {
   "cell_type": "code",
   "execution_count": 16,
   "id": "d841cd7a",
   "metadata": {},
   "outputs": [
    {
     "data": {
      "text/plain": [
       "515"
      ]
     },
     "execution_count": 16,
     "metadata": {},
     "output_type": "execute_result"
    }
   ],
   "source": [
    "meme_sum(26, 39)"
   ]
  },
  {
   "cell_type": "code",
   "execution_count": 17,
   "id": "a8050ce0",
   "metadata": {},
   "outputs": [
    {
     "data": {
      "text/plain": [
       "1103"
      ]
     },
     "execution_count": 17,
     "metadata": {},
     "output_type": "execute_result"
    }
   ],
   "source": [
    "meme_sum(122, 81)"
   ]
  },
  {
   "cell_type": "code",
   "execution_count": 18,
   "id": "3996c72d",
   "metadata": {},
   "outputs": [
    {
     "data": {
      "text/plain": [
       "31499"
      ]
     },
     "execution_count": 18,
     "metadata": {},
     "output_type": "execute_result"
    }
   ],
   "source": [
    "meme_sum(1222, 30277)"
   ]
  },
  {
   "cell_type": "markdown",
   "id": "74e93be4",
   "metadata": {},
   "source": [
    "#Question : 02\n",
    "\n",
    "Given an integer, create a function that returns the next prime. If the\n",
    "number is prime, return the number itself.\n",
    "\n",
    "Examples\n",
    "\n",
    "next_prime(12) ➞ 13\n",
    "\n",
    "next_prime(24) ➞ 29\n",
    "\n",
    "next_prime(11) ➞ 11\n",
    "\n",
    "* 11 is a prime, so we return the number itself."
   ]
  },
  {
   "cell_type": "code",
   "execution_count": 19,
   "id": "7dc8a68d",
   "metadata": {},
   "outputs": [],
   "source": [
    "#code\n",
    "import sympy\n",
    "def next_prime(num):\n",
    "    i=1\n",
    "    if sympy.isprime(num):\n",
    "        return num\n",
    "    else:\n",
    "        while(num):\n",
    "            if sympy.isprime(num+i):\n",
    "                return num+i\n",
    "            else:\n",
    "                i+=1\n",
    "    return -1"
   ]
  },
  {
   "cell_type": "code",
   "execution_count": 20,
   "id": "ceb3cd17",
   "metadata": {},
   "outputs": [
    {
     "data": {
      "text/plain": [
       "13"
      ]
     },
     "execution_count": 20,
     "metadata": {},
     "output_type": "execute_result"
    }
   ],
   "source": [
    "next_prime(12)"
   ]
  },
  {
   "cell_type": "code",
   "execution_count": 21,
   "id": "1c99623f",
   "metadata": {},
   "outputs": [
    {
     "data": {
      "text/plain": [
       "29"
      ]
     },
     "execution_count": 21,
     "metadata": {},
     "output_type": "execute_result"
    }
   ],
   "source": [
    "next_prime(24)"
   ]
  },
  {
   "cell_type": "code",
   "execution_count": 22,
   "id": "b2b1e3c0",
   "metadata": {},
   "outputs": [
    {
     "data": {
      "text/plain": [
       "11"
      ]
     },
     "execution_count": 22,
     "metadata": {},
     "output_type": "execute_result"
    }
   ],
   "source": [
    "next_prime(11)"
   ]
  },
  {
   "cell_type": "markdown",
   "id": "2f64b321",
   "metadata": {},
   "source": [
    "#Question : 03\n",
    "\n",
    "If a person traveled up a hill for 18mins at 20mph and then traveled back\n",
    "down the same path at 60mph then their average speed traveled was 30mph.\n",
    "\n",
    "Write a function that returns the average speed traveled given an uphill time,\n",
    "uphill rate and a downhill rate. Uphill time is given in minutes. Return the rate\n",
    "as an integer (mph). No rounding is necessary.\n",
    "\n",
    "Examples\n",
    "\n",
    "ave_spd(18, 20, 60) ➞ 30\n",
    "\n",
    "ave_spd(30, 10, 30) ➞ 15\n",
    "\n",
    "ave_spd(30, 8, 24) ➞ 12"
   ]
  },
  {
   "cell_type": "code",
   "execution_count": 27,
   "id": "b9c46a47",
   "metadata": {},
   "outputs": [],
   "source": [
    "#code\n",
    "def ave_spd(minutes_travelled,up_speed,down_speed):\n",
    "    distance = minutes_travelled*up_speed\n",
    "    time = distance/down_speed\n",
    "    average = (2*distance)/(minutes_travelled+time)\n",
    "    return int(average)"
   ]
  },
  {
   "cell_type": "code",
   "execution_count": 28,
   "id": "6c071fdf",
   "metadata": {},
   "outputs": [
    {
     "data": {
      "text/plain": [
       "30"
      ]
     },
     "execution_count": 28,
     "metadata": {},
     "output_type": "execute_result"
    }
   ],
   "source": [
    "ave_spd(18, 20, 60)"
   ]
  },
  {
   "cell_type": "code",
   "execution_count": 29,
   "id": "044d47ff",
   "metadata": {},
   "outputs": [
    {
     "data": {
      "text/plain": [
       "15"
      ]
     },
     "execution_count": 29,
     "metadata": {},
     "output_type": "execute_result"
    }
   ],
   "source": [
    "ave_spd(30, 10, 30)"
   ]
  },
  {
   "cell_type": "code",
   "execution_count": 30,
   "id": "a4222e2a",
   "metadata": {},
   "outputs": [
    {
     "data": {
      "text/plain": [
       "12"
      ]
     },
     "execution_count": 30,
     "metadata": {},
     "output_type": "execute_result"
    }
   ],
   "source": [
    "ave_spd(30, 8, 24)"
   ]
  },
  {
   "cell_type": "markdown",
   "id": "d5c2b7f1",
   "metadata": {},
   "source": [
    "#Question : 04\n",
    "\n",
    "The Kempner Function, applied to a composite number, permits to find the\n",
    "smallest integer greater than zero whose factorial is exactly divided by the\n",
    "number.\n",
    "\n",
    "kempner(6) ➞ 3\n",
    "\n",
    "1! = 1 % 6 > 0\n",
    "\n",
    "2! = 2 % 6 > 0\n",
    "\n",
    "3! = 6 % 6 === 0\n",
    "\n",
    "kempner(10) ➞ 5\n",
    "\n",
    "1! = 1 % 10 > 0\n",
    "\n",
    "\n",
    "2! = 2 % 10 > 0\n",
    "\n",
    "3! = 6 % 10 > 0\n",
    "\n",
    "4! = 24 % 10 > 0\n",
    "\n",
    "5! = 120 % 10 === 0\n",
    "\n",
    "A Kempner Function applied to a prime will always return the prime itself.\n",
    "\n",
    "kempner(2) ➞ 2\n",
    "\n",
    "kempner(5) ➞ 5\n",
    "\n",
    "Given an integer n, implement a Kempner Function.\n",
    "\n",
    "Examples\n",
    "\n",
    "kempner(6) ➞ 3\n",
    "\n",
    "kempner(10) ➞ 5\n",
    "\n",
    "kempner(2) ➞ 2"
   ]
  },
  {
   "cell_type": "code",
   "execution_count": 3,
   "id": "4c7948c6",
   "metadata": {},
   "outputs": [],
   "source": [
    "def fact(number):\n",
    "    fact=1\n",
    "    for i in range(1,number+1):\n",
    "        fact = fact * i\n",
    "    return fact\n",
    "def kempner(num):\n",
    "    i=1\n",
    "    while(i):\n",
    "        if fact(i)%num == 0:\n",
    "            return i\n",
    "        else:\n",
    "            i+=1\n",
    "    return i\n"
   ]
  },
  {
   "cell_type": "code",
   "execution_count": 4,
   "id": "eac5bf28",
   "metadata": {},
   "outputs": [
    {
     "data": {
      "text/plain": [
       "3"
      ]
     },
     "execution_count": 4,
     "metadata": {},
     "output_type": "execute_result"
    }
   ],
   "source": [
    "kempner(6)"
   ]
  },
  {
   "cell_type": "code",
   "execution_count": 5,
   "id": "6b5be054",
   "metadata": {},
   "outputs": [
    {
     "data": {
      "text/plain": [
       "5"
      ]
     },
     "execution_count": 5,
     "metadata": {},
     "output_type": "execute_result"
    }
   ],
   "source": [
    "kempner(10)"
   ]
  },
  {
   "cell_type": "code",
   "execution_count": 6,
   "id": "9c9cd413",
   "metadata": {},
   "outputs": [
    {
     "data": {
      "text/plain": [
       "2"
      ]
     },
     "execution_count": 6,
     "metadata": {},
     "output_type": "execute_result"
    }
   ],
   "source": [
    "kempner(2)"
   ]
  },
  {
   "cell_type": "code",
   "execution_count": 7,
   "id": "ace024d6",
   "metadata": {},
   "outputs": [
    {
     "data": {
      "text/plain": [
       "5"
      ]
     },
     "execution_count": 7,
     "metadata": {},
     "output_type": "execute_result"
    }
   ],
   "source": [
    "kempner(5)"
   ]
  },
  {
   "cell_type": "markdown",
   "id": "fe3927ac",
   "metadata": {},
   "source": [
    "#Question : 05\n",
    "\n",
    "You work in a factory, and your job is to take items from a conveyor belt\n",
    "and pack them into boxes. Each box can hold a maximum of 10 kgs. Given a\n",
    "list containing the weight (in kg) of each item, how many boxes would you\n",
    "need to pack all of the items?\n",
    "\n",
    "Example\n",
    "\n",
    "boxes([2, 1, 2, 5, 4, 3, 6, 1, 1, 9, 3, 2]) ➞ 5\n",
    "\n",
    "* Box 1 = [2, 1, 2, 5] (10kg)\n",
    "\n",
    "* Box 2 = [4, 3] (7kg)\n",
    "\n",
    "* Box 3 = [6, 1, 1] (8kg)\n",
    "\n",
    "* Box 4 = [9] (9kg)\n",
    "\n",
    "* Box 5 = [3, 2] (5kg)"
   ]
  },
  {
   "cell_type": "code",
   "execution_count": 20,
   "id": "34b490a6",
   "metadata": {},
   "outputs": [],
   "source": [
    "#code\n",
    "\n",
    "def boxes(weights):\n",
    "    sum=0\n",
    "    count=0\n",
    "    elements = []\n",
    "    for i in weights:     \n",
    "        sum+=i\n",
    "        elements.append(i)\n",
    "        if sum > 10:\n",
    "            count+=1\n",
    "            last = elements[-1]\n",
    "            sum = sum-last\n",
    "            elements.pop()\n",
    "            print(f\"Box {count} = {elements} ({sum})kg\")\n",
    "            sum=last\n",
    "            elements = []\n",
    "            elements.append(last)\n",
    "    else:\n",
    "        print(f\"Box {count} = {elements} ({sum})kg\")\n",
    "            \n",
    "            "
   ]
  },
  {
   "cell_type": "code",
   "execution_count": 21,
   "id": "a0c1ae68",
   "metadata": {},
   "outputs": [
    {
     "name": "stdout",
     "output_type": "stream",
     "text": [
      "Box 1 = [2, 1, 2, 5] (10)kg\n",
      "Box 2 = [4, 3] (7)kg\n",
      "Box 3 = [6, 1, 1] (8)kg\n",
      "Box 4 = [9] (9)kg\n",
      "Box 4 = [3, 2] (5)kg\n"
     ]
    }
   ],
   "source": [
    "boxes([2, 1, 2, 5, 4, 3, 6, 1, 1, 9, 3, 2])"
   ]
  },
  {
   "cell_type": "code",
   "execution_count": null,
   "id": "062113bf",
   "metadata": {},
   "outputs": [],
   "source": []
  }
 ],
 "metadata": {
  "kernelspec": {
   "display_name": "Python 3 (ipykernel)",
   "language": "python",
   "name": "python3"
  },
  "language_info": {
   "codemirror_mode": {
    "name": "ipython",
    "version": 3
   },
   "file_extension": ".py",
   "mimetype": "text/x-python",
   "name": "python",
   "nbconvert_exporter": "python",
   "pygments_lexer": "ipython3",
   "version": "3.9.7"
  }
 },
 "nbformat": 4,
 "nbformat_minor": 5
}
