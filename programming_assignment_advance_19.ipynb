{
 "cells": [
  {
   "cell_type": "markdown",
   "id": "a4c822df",
   "metadata": {},
   "source": [
    "#Question : 01\n",
    "\n",
    "Create a checker board generator, which takes as inputs n and 2 elements\n",
    "to generate an n x n checkerboard with those two elements as alternating\n",
    "squares.\n",
    "\n",
    "Examples\n",
    "\n",
    "\n",
    "checker_board(2, 7, 6) ➞ [\n",
    "\n",
    "[7, 6],\n",
    "\n",
    "[6, 7]\n",
    "\n",
    "]\n",
    "\n",
    "\n",
    "checker_board(3, \"A\", \"B\") ➞ [\n",
    "\n",
    "[\"A\", \"B\", \"A\"],\n",
    "\n",
    "[\"B\", \"A\", \"B\"],\n",
    "\n",
    "[\"A\", \"B\", \"A\"]\n",
    "\n",
    "]\n",
    "\n",
    "\n",
    "checker_board(4, \"c\", \"d\") ➞ [\n",
    "\n",
    "[\"c\", \"d\", \"c\", \"d\"],\n",
    "\n",
    "[\"d\", \"c\", \"d\", \"c\"],\n",
    "\n",
    "[\"c\", \"d\", \"c\", \"d\"],\n",
    "\n",
    "[\"d\", \"c\", \"d\", \"c\"]\n",
    "\n",
    "]\n",
    "\n",
    "checker_board(4, \"c\", \"c\") ➞ \"invalid\""
   ]
  },
  {
   "cell_type": "code",
   "execution_count": 14,
   "id": "a290ccc8",
   "metadata": {},
   "outputs": [],
   "source": [
    "#code\n",
    "\n",
    "def checker_board(num,val1,val2):\n",
    "    if num<=1:\n",
    "        return \"Invalid\"\n",
    "    elif val1==val2:\n",
    "        return \"Invalid\"\n",
    "    else:\n",
    "        N=[]\n",
    "        for i in range(1,num+1):\n",
    "            col = []\n",
    "            for j in range(1,num+1):\n",
    "                if i%2==1:\n",
    "                    if j%2==1:\n",
    "                        col.append(val1)\n",
    "                    else:\n",
    "                        col.append(val2)\n",
    "                else:\n",
    "                    if j%2==0:\n",
    "                        col.append(val1)\n",
    "                    else:\n",
    "                        col.append(val2)\n",
    "            N.append(col)\n",
    "    return N                "
   ]
  },
  {
   "cell_type": "code",
   "execution_count": 15,
   "id": "63f6f2c6",
   "metadata": {},
   "outputs": [
    {
     "data": {
      "text/plain": [
       "[[7, 6], [6, 7]]"
      ]
     },
     "execution_count": 15,
     "metadata": {},
     "output_type": "execute_result"
    }
   ],
   "source": [
    "checker_board(2,7,6)"
   ]
  },
  {
   "cell_type": "code",
   "execution_count": 16,
   "id": "110a7397",
   "metadata": {},
   "outputs": [
    {
     "data": {
      "text/plain": [
       "[['A', 'B', 'A'], ['B', 'A', 'B'], ['A', 'B', 'A']]"
      ]
     },
     "execution_count": 16,
     "metadata": {},
     "output_type": "execute_result"
    }
   ],
   "source": [
    "checker_board(3,\"A\",\"B\")"
   ]
  },
  {
   "cell_type": "code",
   "execution_count": 17,
   "id": "4d18678d",
   "metadata": {},
   "outputs": [
    {
     "data": {
      "text/plain": [
       "[['c', 'd', 'c', 'd'],\n",
       " ['d', 'c', 'd', 'c'],\n",
       " ['c', 'd', 'c', 'd'],\n",
       " ['d', 'c', 'd', 'c']]"
      ]
     },
     "execution_count": 17,
     "metadata": {},
     "output_type": "execute_result"
    }
   ],
   "source": [
    "checker_board(4,'c','d')"
   ]
  },
  {
   "cell_type": "code",
   "execution_count": 18,
   "id": "8ffbd5e6",
   "metadata": {},
   "outputs": [
    {
     "data": {
      "text/plain": [
       "'Invalid'"
      ]
     },
     "execution_count": 18,
     "metadata": {},
     "output_type": "execute_result"
    }
   ],
   "source": [
    "checker_board(4,\"c\",\"c\")"
   ]
  },
  {
   "cell_type": "markdown",
   "id": "87431975",
   "metadata": {},
   "source": [
    "#Question : 02\n",
    "\n",
    "A string is an almost-palindrome if, by changing only one character, you\n",
    "can make it a palindrome. Create a function that returns True if a string is an\n",
    "almost-palindrome and False otherwise.\n",
    "\n",
    "Examples\n",
    "\n",
    "almost_palindrome(\"abcdcbg\") ➞ True\n",
    "\n",
    "* Transformed to \"abcdcba\" by changing \"g\" to \"a\".\n",
    "\n",
    "almost_palindrome(\"abccia\") ➞ True\n",
    "\n",
    "* Transformed to \"abccba\" by changing \"i\" to \"b\".\n",
    "\n",
    "almost_palindrome(\"abcdaaa\") ➞ False\n",
    "\n",
    "* Can't be transformed to a palindrome in exactly 1 turn.\n",
    "\n",
    "almost_palindrome(\"1234312\") ➞ False"
   ]
  },
  {
   "cell_type": "code",
   "execution_count": 21,
   "id": "c42e3ede",
   "metadata": {},
   "outputs": [],
   "source": [
    "#Answer\n",
    "\n",
    "def almost_palindrome(string):\n",
    "    str1 = string[::-1]\n",
    "    count = 0\n",
    "    for i in range(len(string)):\n",
    "        if str1[i]!=string[i]:\n",
    "            count+=1\n",
    "    if count>2:\n",
    "        return False\n",
    "    return True"
   ]
  },
  {
   "cell_type": "code",
   "execution_count": 22,
   "id": "f9a8405d",
   "metadata": {},
   "outputs": [
    {
     "data": {
      "text/plain": [
       "True"
      ]
     },
     "execution_count": 22,
     "metadata": {},
     "output_type": "execute_result"
    }
   ],
   "source": [
    "almost_palindrome(\"abcdcbg\")"
   ]
  },
  {
   "cell_type": "code",
   "execution_count": 23,
   "id": "099a99f4",
   "metadata": {},
   "outputs": [
    {
     "data": {
      "text/plain": [
       "True"
      ]
     },
     "execution_count": 23,
     "metadata": {},
     "output_type": "execute_result"
    }
   ],
   "source": [
    "almost_palindrome(\"abccia\")"
   ]
  },
  {
   "cell_type": "code",
   "execution_count": 24,
   "id": "3e750550",
   "metadata": {},
   "outputs": [
    {
     "data": {
      "text/plain": [
       "False"
      ]
     },
     "execution_count": 24,
     "metadata": {},
     "output_type": "execute_result"
    }
   ],
   "source": [
    "almost_palindrome(\"abcdaaa\")"
   ]
  },
  {
   "cell_type": "code",
   "execution_count": 25,
   "id": "e564b2ac",
   "metadata": {},
   "outputs": [
    {
     "data": {
      "text/plain": [
       "False"
      ]
     },
     "execution_count": 25,
     "metadata": {},
     "output_type": "execute_result"
    }
   ],
   "source": [
    "almost_palindrome(\"1234312\")"
   ]
  },
  {
   "cell_type": "markdown",
   "id": "a2b760ea",
   "metadata": {},
   "source": [
    "#Question : 03\n",
    "\n",
    "Create a function that finds how many prime numbers there are, up to the\n",
    "given integer.\n",
    "\n",
    "Examples\n",
    "\n",
    "prime_numbers(10) ➞ 4\n",
    "\n",
    "* 2, 3, 5 and 7\n",
    "\n",
    "prime_numbers(20) ➞ 8\n",
    "\n",
    "* 2, 3, 5, 7, 11, 13, 17 and 19\n",
    "\n",
    "prime_numbers(30) ➞ 10\n",
    "\n",
    "* 2, 3, 5, 7, 11, 13, 17, 19, 23 and 29"
   ]
  },
  {
   "cell_type": "code",
   "execution_count": 32,
   "id": "2103d41b",
   "metadata": {},
   "outputs": [],
   "source": [
    "#Answer:\n",
    "\n",
    "def prime_numbers(num):\n",
    "    count=0\n",
    "    for i in range(1,num+1):\n",
    "        for j in range(2,int(i//2)+1):\n",
    "            if i%j == 0:\n",
    "                break\n",
    "        else:\n",
    "            count+=1\n",
    "    return count-1        "
   ]
  },
  {
   "cell_type": "code",
   "execution_count": 33,
   "id": "a99ba263",
   "metadata": {},
   "outputs": [
    {
     "data": {
      "text/plain": [
       "4"
      ]
     },
     "execution_count": 33,
     "metadata": {},
     "output_type": "execute_result"
    }
   ],
   "source": [
    "prime_numbers(10) "
   ]
  },
  {
   "cell_type": "code",
   "execution_count": 34,
   "id": "9f904228",
   "metadata": {},
   "outputs": [
    {
     "data": {
      "text/plain": [
       "8"
      ]
     },
     "execution_count": 34,
     "metadata": {},
     "output_type": "execute_result"
    }
   ],
   "source": [
    "prime_numbers(20)"
   ]
  },
  {
   "cell_type": "code",
   "execution_count": 35,
   "id": "ac1de699",
   "metadata": {},
   "outputs": [
    {
     "data": {
      "text/plain": [
       "10"
      ]
     },
     "execution_count": 35,
     "metadata": {},
     "output_type": "execute_result"
    }
   ],
   "source": [
    "prime_numbers(30)"
   ]
  },
  {
   "cell_type": "markdown",
   "id": "0721f42b",
   "metadata": {},
   "source": [
    "#Question :04\n",
    "\n",
    "If today was Monday, in two days, it would be Wednesday.\n",
    "Create a function that takes in a list of days as input and the number of days\n",
    "to increment by. Return a list of days after n number of days has passed.\n",
    "\n",
    "Examples\n",
    "\n",
    "after_n_days([\"Thursday\", \"Monday\"], 4) ➞ [\"Monday\", \"Friday\"]\n",
    "\n",
    "after_n_days([\"Sunday\", \"Sunday\", \"Sunday\"], 1) ➞ [\"Monday\", \"Monday\",\n",
    "\"Monday\"]\n",
    "\n",
    "after_n_days([\"Monday\", \"Tuesday\", \"Friday\"], 1) ➞ [\"Tuesday\", \"Wednesday\",\n",
    "\"Saturday\"]"
   ]
  },
  {
   "cell_type": "code",
   "execution_count": 39,
   "id": "2604f49c",
   "metadata": {},
   "outputs": [],
   "source": [
    "#Answer:\n",
    "\n",
    "def after_n_days(li,num):\n",
    "    x = 0\n",
    "    Ans = []\n",
    "    check = [\"monday\",\"tuesday\",\"wednesday\",\"thursday\",\"friday\",\"saturday\",\"sunday\",\"monday\",\"tuesday\",\"wednesday\",\"thursday\",\"friday\",\"saturday\",\"sunday\"]\n",
    "    for i in li:\n",
    "        x = check.index(i.lower())\n",
    "        Ans.append(check[x+num])\n",
    "    return Ans"
   ]
  },
  {
   "cell_type": "code",
   "execution_count": 40,
   "id": "6b39097f",
   "metadata": {},
   "outputs": [
    {
     "data": {
      "text/plain": [
       "['monday', 'friday']"
      ]
     },
     "execution_count": 40,
     "metadata": {},
     "output_type": "execute_result"
    }
   ],
   "source": [
    "after_n_days([\"Thursday\", \"Monday\"], 4)"
   ]
  },
  {
   "cell_type": "code",
   "execution_count": 41,
   "id": "6bb4c293",
   "metadata": {},
   "outputs": [
    {
     "data": {
      "text/plain": [
       "['monday', 'monday', 'monday']"
      ]
     },
     "execution_count": 41,
     "metadata": {},
     "output_type": "execute_result"
    }
   ],
   "source": [
    "after_n_days([\"Sunday\", \"Sunday\", \"Sunday\"], 1)"
   ]
  },
  {
   "cell_type": "code",
   "execution_count": 42,
   "id": "c6f1b8ca",
   "metadata": {},
   "outputs": [
    {
     "data": {
      "text/plain": [
       "['tuesday', 'wednesday', 'saturday']"
      ]
     },
     "execution_count": 42,
     "metadata": {},
     "output_type": "execute_result"
    }
   ],
   "source": [
    "after_n_days([\"Monday\", \"Tuesday\", \"Friday\"], 1)"
   ]
  },
  {
   "cell_type": "markdown",
   "id": "f46ab7c1",
   "metadata": {},
   "source": [
    "#Question : 05\n",
    "\n",
    "You are in the process of creating a chat application and want to add an\n",
    "anonymous name feature. This anonymous name feature will create an alias\n",
    "that consists of two capitalized words beginning with the same letter as the\n",
    "users first name.\n",
    "\n",
    "Create a function that determines if the list of users is mapped to a list of\n",
    "anonymous names correctly.\n",
    "\n",
    "Examples\n",
    "\n",
    "is_correct_aliases([\"Adrian M.\", \"Harriet S.\", \"Mandy T.\"], [\"Amazing\n",
    "Artichoke\", \"Hopeful Hedgehog\", \"Marvelous Mouse\"]) ➞ True\n",
    "\n",
    "is_correct_aliases([\"Rachel F.\", \"Pam G.\", \"Fred Z.\", \"Nancy K.\"],\n",
    "[\"Reassuring Rat\", \"Peaceful Panda\", \"Fantastic Frog\", \"Notable Nickel\"]) ➞\n",
    "True\n",
    "\n",
    "is_correct_aliases([\"Beth T.\"], [\"Brandishing Mimosa\"]) ➞ False\n",
    "\n",
    "* Both words in \"Brandishing Mimosa\" should begin with a \"B\" - \"Brandishing\n",
    "Beaver\" would do the trick."
   ]
  },
  {
   "cell_type": "code",
   "execution_count": 43,
   "id": "5d5d4884",
   "metadata": {},
   "outputs": [],
   "source": [
    "#Answer:\n",
    "\n",
    "def is_correct_aliases(main,key):\n",
    "    Key = []\n",
    "    for j in key:\n",
    "        x = j.split()\n",
    "        Key.append(x)\n",
    "    for i in range(len(main)):\n",
    "        if main[i][0] == Key[i][0][0] and main[i][0] == Key[i][1][0]:\n",
    "            pass\n",
    "        else:\n",
    "            return False\n",
    "    return True"
   ]
  },
  {
   "cell_type": "code",
   "execution_count": 44,
   "id": "c7603c72",
   "metadata": {},
   "outputs": [
    {
     "data": {
      "text/plain": [
       "True"
      ]
     },
     "execution_count": 44,
     "metadata": {},
     "output_type": "execute_result"
    }
   ],
   "source": [
    "is_correct_aliases([\"Adrian M.\", \"Harriet S.\", \"Mandy T.\"], [\"Amazing Artichoke\", \"Hopeful Hedgehog\", \"Marvelous Mouse\"]) "
   ]
  },
  {
   "cell_type": "code",
   "execution_count": 45,
   "id": "d3e74c99",
   "metadata": {},
   "outputs": [
    {
     "data": {
      "text/plain": [
       "True"
      ]
     },
     "execution_count": 45,
     "metadata": {},
     "output_type": "execute_result"
    }
   ],
   "source": [
    "is_correct_aliases([\"Rachel F.\", \"Pam G.\", \"Fred Z.\", \"Nancy K.\"], [\"Reassuring Rat\", \"Peaceful Panda\", \"Fantastic Frog\", \"Notable Nickel\"])"
   ]
  },
  {
   "cell_type": "code",
   "execution_count": 46,
   "id": "ffad0cf0",
   "metadata": {},
   "outputs": [
    {
     "data": {
      "text/plain": [
       "False"
      ]
     },
     "execution_count": 46,
     "metadata": {},
     "output_type": "execute_result"
    }
   ],
   "source": [
    "is_correct_aliases([\"Beth T.\"], [\"Brandishing Mimosa\"]) "
   ]
  },
  {
   "cell_type": "code",
   "execution_count": null,
   "id": "5cda27a8",
   "metadata": {},
   "outputs": [],
   "source": []
  }
 ],
 "metadata": {
  "kernelspec": {
   "display_name": "Python 3 (ipykernel)",
   "language": "python",
   "name": "python3"
  },
  "language_info": {
   "codemirror_mode": {
    "name": "ipython",
    "version": 3
   },
   "file_extension": ".py",
   "mimetype": "text/x-python",
   "name": "python",
   "nbconvert_exporter": "python",
   "pygments_lexer": "ipython3",
   "version": "3.9.7"
  }
 },
 "nbformat": 4,
 "nbformat_minor": 5
}
