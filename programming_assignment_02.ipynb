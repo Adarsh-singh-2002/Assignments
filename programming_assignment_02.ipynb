{
 "cells": [
  {
   "cell_type": "markdown",
   "id": "d070a2fa",
   "metadata": {},
   "source": [
    "#Question :01\n",
    "\n",
    "Write a Python program to convert kilometers to miles?\n",
    "\n",
    "Answer:\n"
   ]
  },
  {
   "cell_type": "code",
   "execution_count": 5,
   "id": "a0b83b05",
   "metadata": {},
   "outputs": [
    {
     "name": "stdout",
     "output_type": "stream",
     "text": [
      "enter number of kilometers : 100\n",
      "100.0  into Number of miles is :  62.15\n"
     ]
    }
   ],
   "source": [
    "#code\n",
    "km=float(input(\"enter number of kilometers : \"))\n",
    "miles=km/1.609\n",
    "print(km,\" into Number of miles is : \",round(miles,2))"
   ]
  },
  {
   "cell_type": "markdown",
   "id": "03c91c17",
   "metadata": {},
   "source": [
    "#Question :02\n",
    "\n",
    "Write a Python program to convert Celsius to Fahrenheit?\n",
    "\n",
    "Answer:"
   ]
  },
  {
   "cell_type": "code",
   "execution_count": 7,
   "id": "4f7fb7ec",
   "metadata": {},
   "outputs": [
    {
     "name": "stdout",
     "output_type": "stream",
     "text": [
      "enter the degree in celsius10\n",
      "10.0  celsius into fahrenheit is :  50.0\n"
     ]
    }
   ],
   "source": [
    "#code\n",
    "C=float(input(\"enter the degree in celsius\"))\n",
    "F=C*(9/5)+32\n",
    "print(C,\" celsius into fahrenheit is : \",F)"
   ]
  },
  {
   "cell_type": "markdown",
   "id": "8d7d539d",
   "metadata": {},
   "source": [
    "#Question :03\n",
    "\n",
    "Write a Python program to display calendar?\n",
    "\n",
    "Answer:"
   ]
  },
  {
   "cell_type": "code",
   "execution_count": 10,
   "id": "f3cc6668",
   "metadata": {},
   "outputs": [
    {
     "name": "stdout",
     "output_type": "stream",
     "text": [
      "enter the year : 2000\n",
      "enter the month2\n",
      "   February 2000\n",
      "Mo Tu We Th Fr Sa Su\n",
      "    1  2  3  4  5  6\n",
      " 7  8  9 10 11 12 13\n",
      "14 15 16 17 18 19 20\n",
      "21 22 23 24 25 26 27\n",
      "28 29\n",
      "\n"
     ]
    }
   ],
   "source": [
    "#code\n",
    "import calendar\n",
    "year=int(input(\"enter the year : \"))\n",
    "month=int(input(\"enter the month : \"))\n",
    "print(calendar.month(year,month))"
   ]
  },
  {
   "cell_type": "markdown",
   "id": "9ffc3c6f",
   "metadata": {},
   "source": [
    "#Question :04\n",
    "\n",
    "Write a Python program to solve quadratic equation?\n",
    "\n",
    "Answer:\n"
   ]
  },
  {
   "cell_type": "code",
   "execution_count": 16,
   "id": "f1b3fae0",
   "metadata": {},
   "outputs": [
    {
     "name": "stdout",
     "output_type": "stream",
     "text": [
      "enter the coefficient of a 1\n",
      "enter the coefficient of b 5\n",
      "enter the coefficient of c 6\n",
      "Roots are :  -2.0  and  -3.0\n"
     ]
    }
   ],
   "source": [
    "#code:\n",
    "import math\n",
    "a,b,c=int(input(\"enter the coefficient of a \")),int(input(\"enter the coefficient of b \")),int(input(\"enter the coefficient of c \"))\n",
    "D=b**2-4*a*c\n",
    "if D<0:\n",
    "    print(\"Roots cannot be real.Hence, not possible\")\n",
    "else:\n",
    "    x1=(-b+math.sqrt(D))/(2*a)\n",
    "    x2=(-b-math.sqrt(D))/(2*a)\n",
    "    print(\"Roots are : \",round(x1,2),\" and \",round(x2,2))"
   ]
  },
  {
   "cell_type": "markdown",
   "id": "b7f64faa",
   "metadata": {},
   "source": [
    "#Question :05\n",
    "\n",
    "Write a Python program to swap two variables without temp variable?\n",
    "\n",
    "Answer:"
   ]
  },
  {
   "cell_type": "code",
   "execution_count": 18,
   "id": "5886aa50",
   "metadata": {},
   "outputs": [
    {
     "name": "stdout",
     "output_type": "stream",
     "text": [
      "enter first variable34\n",
      "enter second variable23\n",
      "before swapping : a =  34  b =  23\n",
      "After swapping : a =  23  b =  34\n"
     ]
    }
   ],
   "source": [
    "#code\n",
    "a=input(\"enter first variable\")\n",
    "b=input(\"enter second variable\")\n",
    "print(\"before swapping : a = \",a,\" b = \",b)\n",
    "a,b=b,a\n",
    "print(\"After swapping : a = \",a,\" b = \",b)\n"
   ]
  },
  {
   "cell_type": "code",
   "execution_count": null,
   "id": "b8539505",
   "metadata": {},
   "outputs": [],
   "source": []
  }
 ],
 "metadata": {
  "kernelspec": {
   "display_name": "Python 3 (ipykernel)",
   "language": "python",
   "name": "python3"
  },
  "language_info": {
   "codemirror_mode": {
    "name": "ipython",
    "version": 3
   },
   "file_extension": ".py",
   "mimetype": "text/x-python",
   "name": "python",
   "nbconvert_exporter": "python",
   "pygments_lexer": "ipython3",
   "version": "3.9.7"
  }
 },
 "nbformat": 4,
 "nbformat_minor": 5
}
