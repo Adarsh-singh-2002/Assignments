{
 "cells": [
  {
   "cell_type": "markdown",
   "id": "6db1cb89",
   "metadata": {},
   "source": [
    "#Question :01\n",
    "\n",
    "What are escape characters, and how do you use them?\n",
    "\n",
    "Answer:\n",
    "    When we want to insert certain illeagal characters inside a string then we use these escape characters.There are several escape characters, some of which are -\n",
    "    \n",
    "\\\\'\tSingle Quote\t\n",
    "\\\\\\\tBackslash\t\n",
    "\\n\tNew Line\t\n",
    "\\r\tCarriage Return\t\n",
    "\\t\tTab\t\n",
    "\\b\tBackspace\t\n",
    "\\f\tForm Feed\t\n",
    "\\ooo\tOctal value\t\n",
    "\\xhh\tHex value"
   ]
  },
  {
   "cell_type": "code",
   "execution_count": 1,
   "id": "ffeb7e2a",
   "metadata": {},
   "outputs": [
    {
     "ename": "SyntaxError",
     "evalue": "invalid syntax (Temp/ipykernel_7004/1362436324.py, line 2)",
     "output_type": "error",
     "traceback": [
      "\u001b[1;36m  File \u001b[1;32m\"C:\\Users\\ADARSH\\AppData\\Local\\Temp/ipykernel_7004/1362436324.py\"\u001b[1;36m, line \u001b[1;32m2\u001b[0m\n\u001b[1;33m    s = \"In MCU i like \"Iron man\" more than others.\"\u001b[0m\n\u001b[1;37m                        ^\u001b[0m\n\u001b[1;31mSyntaxError\u001b[0m\u001b[1;31m:\u001b[0m invalid syntax\n"
     ]
    }
   ],
   "source": [
    "#code\n",
    "s = \"In MCU i like \"Iron man\" more than others.\""
   ]
  },
  {
   "cell_type": "code",
   "execution_count": 3,
   "id": "fe7c7ded",
   "metadata": {},
   "outputs": [
    {
     "data": {
      "text/plain": [
       "'In MCU i like \"Iron man\" more than others.'"
      ]
     },
     "execution_count": 3,
     "metadata": {},
     "output_type": "execute_result"
    }
   ],
   "source": [
    "s=\"In MCU i like \\\"Iron man\\\" more than others.\"\n",
    "s"
   ]
  },
  {
   "cell_type": "markdown",
   "id": "03aa5434",
   "metadata": {},
   "source": [
    "#Question :02\n",
    "\n",
    "What do the escape characters n and t stand for?\n",
    "\n",
    "Answer:\n",
    "    Escape characters n is for attaining new line whereas escape character t stands for a tab space."
   ]
  },
  {
   "cell_type": "markdown",
   "id": "f34a645f",
   "metadata": {},
   "source": [
    "#Question :03\n",
    "\n",
    "What is the way to include backslash characters in a string?\n",
    "\n",
    "Answer:\n",
    "    To include a single backslash one has to include two back to back 2 slashes"
   ]
  },
  {
   "cell_type": "code",
   "execution_count": 8,
   "id": "d1c4be17",
   "metadata": {},
   "outputs": [
    {
     "name": "stdout",
     "output_type": "stream",
     "text": [
      "foo\\bar\n"
     ]
    }
   ],
   "source": [
    "#code\n",
    "s = 'foo\\\\bar'\n",
    "print(s)\n"
   ]
  },
  {
   "cell_type": "markdown",
   "id": "48d82123",
   "metadata": {},
   "source": [
    "#Question :04\n",
    "\n",
    "The string \"howl's moving castle\" is a correct value. Why isn't the single quote character in the\n",
    "word Howl's not escaped a problem?\n",
    "\n",
    "Answer:\n",
    "    Since, we have used double quotes to show the string. So it is not treating single quote as an error. As, single quotes inside double quotes and vice-versa is possible without error as it doesn't confuses the compiler."
   ]
  },
  {
   "cell_type": "markdown",
   "id": "cb6a7f07",
   "metadata": {},
   "source": [
    "#Question :05\n",
    "\n",
    "How do you write a string of newlines if you don't want to use the n character?\n",
    "\n",
    "Answer:\n",
    "        we can use end attribute for the creation on newlines."
   ]
  },
  {
   "cell_type": "code",
   "execution_count": 7,
   "id": "4030d2e1",
   "metadata": {},
   "outputs": [
    {
     "name": "stdout",
     "output_type": "stream",
     "text": [
      "first line is awesome\n",
      "second line too\n"
     ]
    }
   ],
   "source": [
    "#code\n",
    "print(\"first line is awesome\",end=\"\\n\")\n",
    "print(\"second line too\")"
   ]
  },
  {
   "cell_type": "markdown",
   "id": "ec3026e0",
   "metadata": {},
   "source": [
    "#Question :06\n",
    "\n",
    "What are the values of the given expressions?\n",
    "\n",
    "'Hello, world!'[1]\n",
    "\n",
    "'Hello, world!'[0:5]\n",
    "\n",
    "'Hello, world!'[:5]\n",
    "\n",
    "'Hello, world!'[3:]\n",
    "\n",
    "Answer:\n",
    "1. 'e'\n",
    "2. 'Hell'\n",
    "3. 'Hell'\n",
    "4. 'lo, world!'"
   ]
  },
  {
   "cell_type": "markdown",
   "id": "f103fd58",
   "metadata": {},
   "source": [
    "#Question :07\n",
    "\n",
    "What are the values of the following expressions?\n",
    "\n",
    "'Hello'.upper()\n",
    "\n",
    "'Hello'.upper().isupper()\n",
    "\n",
    "'Hello'.upper().lower()\n",
    "\n",
    "Answer:\n",
    "\n",
    "1.'HELLO'\n",
    "\n",
    "2.True\n",
    "\n",
    "3.'hello'"
   ]
  },
  {
   "cell_type": "markdown",
   "id": "b553c09d",
   "metadata": {},
   "source": [
    "#Question :08\n",
    "\n",
    "What are the values of the following expressions?\n",
    "1.  'Remember, remember, the fifth of July.'.split()\n",
    "2.   '-'.join('There can only one.'.split())\n",
    "\n",
    "Answer:\n",
    "    \n",
    "1. ['Remember,', 'remember,', 'the', 'fifth', 'of', 'July.']\n",
    "2. 'There-can-only-one.'"
   ]
  },
  {
   "cell_type": "markdown",
   "id": "9f048dff",
   "metadata": {},
   "source": [
    "#Question :09\n",
    "\n",
    "What are the methods for right-justifying, left-justifying, and centering a string?\n",
    "\n",
    "Answer:\n",
    "    \n",
    "The method for right-justifying, left-justifying, and centering a string is by using rjust(),ljust() and center() functions respctively."
   ]
  },
  {
   "cell_type": "code",
   "execution_count": 15,
   "id": "2f9d7468",
   "metadata": {},
   "outputs": [
    {
     "name": "stdout",
     "output_type": "stream",
     "text": [
      ":::::::::::::::::: Adarsh is very good at coding.  \n",
      "\n",
      " Adarsh is very good at coding. :::::::::::::::::: \n",
      "\n",
      "::::::::: Adarsh is very good at coding. :::::::::\n"
     ]
    }
   ],
   "source": [
    "#code\n",
    "s=\" Adarsh is very good at coding. \"\n",
    "#***for right justifying**\n",
    "a=s.rjust(50,':')\n",
    "print(a,\"\\n\")\n",
    "b=s.ljust(50,':')\n",
    "print(b,'\\n')\n",
    "c=s.center(50,':')\n",
    "print(c)"
   ]
  },
  {
   "cell_type": "markdown",
   "id": "db4e7d25",
   "metadata": {},
   "source": [
    "#Question :10\n",
    "\n",
    "What is the best way to remove whitespace characters from the start or end?\n",
    "\n",
    "Answer:\n",
    "    \n",
    "The best way to remove white spaces from the start or end is by using strip function.\n"
   ]
  },
  {
   "cell_type": "code",
   "execution_count": 18,
   "id": "369727dc",
   "metadata": {},
   "outputs": [
    {
     "name": "stdout",
     "output_type": "stream",
     "text": [
      "Coding is love        \n",
      "\n",
      "       Coding is love \n",
      "\n",
      "Coding is love\n"
     ]
    }
   ],
   "source": [
    "#code:\n",
    "s=\"       Coding is love       \"\n",
    "m=s.lstrip()  #left side white spaces is removed\n",
    "print(m,\"\\n\")\n",
    "n=s.rstrip()  #right side white spaces is removed\n",
    "print(n,\"\\n\")\n",
    "o=s.strip()  #both side white spaces is removed\n",
    "print(o)"
   ]
  },
  {
   "cell_type": "code",
   "execution_count": null,
   "id": "f4bf82a5",
   "metadata": {},
   "outputs": [],
   "source": []
  }
 ],
 "metadata": {
  "kernelspec": {
   "display_name": "Python 3 (ipykernel)",
   "language": "python",
   "name": "python3"
  },
  "language_info": {
   "codemirror_mode": {
    "name": "ipython",
    "version": 3
   },
   "file_extension": ".py",
   "mimetype": "text/x-python",
   "name": "python",
   "nbconvert_exporter": "python",
   "pygments_lexer": "ipython3",
   "version": "3.9.7"
  }
 },
 "nbformat": 4,
 "nbformat_minor": 5
}
