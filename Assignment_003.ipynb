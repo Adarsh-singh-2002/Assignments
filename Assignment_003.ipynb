{
 "cells": [
  {
   "cell_type": "markdown",
   "id": "c846987c",
   "metadata": {},
   "source": [
    "#Question : 01\n",
    "\n",
    "Answers:\n",
    "    Functions are advantageous in a program as a function adds modularity and code reusability.\n",
    "    which helps in decreasing the progam size as well as work load of the programmer.\n",
    "    "
   ]
  },
  {
   "cell_type": "markdown",
   "id": "cef7382e",
   "metadata": {},
   "source": [
    "#Question : 02\n",
    "\n",
    "Answer:\n",
    "    Although, when code is traversed while it is getting interpreted by the compiler.function is loaded, \n",
    "    But the code runs only when the function is called."
   ]
  },
  {
   "cell_type": "markdown",
   "id": "e687e6d3",
   "metadata": {},
   "source": [
    "#Question : 03\n",
    "\n",
    "Answer:\n",
    "        A statement starting with a def keyword, follwed by a function name, including parameters(in some cases) and ending with a colon,creates a function.\n",
    "        \n",
    "        Example:-  def Adarsh():"
   ]
  },
  {
   "cell_type": "markdown",
   "id": "b2899f8e",
   "metadata": {},
   "source": [
    "#Question : 04\n",
    "\n",
    "Answer:\n",
    "    A function is a collection of lines of code which performs a sepcific task.\n",
    "    whereas, a Function call is a statement which envokes the the fuction to start its execution.\n",
    "    \n",
    "    Example:-\n",
    "        \n",
    "        function:\n",
    "            \n",
    "            def Adarsh():\n",
    "                print(\"function is execututing\")\n",
    "                \n",
    "        function call:\n",
    "            \n",
    "            Adarsh()"
   ]
  },
  {
   "cell_type": "markdown",
   "id": "623888a6",
   "metadata": {},
   "source": [
    "#Question : 05\n",
    "\n",
    "Answer:\n",
    "    There is one global scope in python program. Here,The gloal scope refers to the creation of scoping which will accomodate all the lines of code, functions , variables inside of it.It is created when the program starts and gets terminated when the program ends.\n",
    "    whereas there can be multiple local scopes depending upon the program. A local scope is created for some particular lines of codes example - codes inside a function are in local scope. variables created inside a local scope gets destroyed after completion of the particular block of code."
   ]
  },
  {
   "cell_type": "markdown",
   "id": "ae800fbb",
   "metadata": {},
   "source": [
    "#Question : 06\n",
    "\n",
    "Answer:\n",
    "    When the function call returns the variables inside the local scope gets destroyed."
   ]
  },
  {
   "cell_type": "markdown",
   "id": "50df90a2",
   "metadata": {},
   "source": [
    "#Question : 07\n",
    "\n",
    "Answer:\n",
    "   The concept of return value is that, whenever a function or program is executed and if some executed result need to be passed to the calling part then we need to use the return statement to pass the paricular value. Yes, it is possible to have a return value in an expression as it will simply execute the expression and will pass the value of the expression forward.\n",
    "\n",
    "Example: \n",
    "def Adarsh():\n",
    "\n",
    "             a=6\n",
    "             b=20\n",
    "\n",
    "             return a+b\n"
   ]
  },
  {
   "cell_type": "markdown",
   "id": "fd708dd9",
   "metadata": {},
   "source": [
    "#Question : 08\n",
    "\n",
    "Answer:\n",
    "    The answer to what will be the the return value of a call of a function having no return statement is that it will return a none type.\n",
    "        "
   ]
  },
  {
   "cell_type": "markdown",
   "id": "99ad8a5a",
   "metadata": {},
   "source": [
    "#Question : 09\n",
    "\n",
    "Answer:\n",
    "    We can make a function variable refer to a global variable by using a keyword 'global' before the function variable.\n",
    "    \n",
    "    Example-\n",
    "        global_variable=60\n",
    "        def ff():\n",
    "            global global_variable\n",
    "            print(global_variable)"
   ]
  },
  {
   "cell_type": "markdown",
   "id": "43ae0d69",
   "metadata": {},
   "source": [
    "#Question : 10\n",
    "\n",
    "Answer:\n",
    "    The data type of None is NoneType"
   ]
  },
  {
   "cell_type": "markdown",
   "id": "be7097cd",
   "metadata": {},
   "source": [
    "#Question : 11\n",
    "\n",
    "Answer:\n",
    "    Since, we don't have any module named 'areallyourpetsnamederic' so it will simply return a error of 'module not found'.\n",
    "    whereas, if we have a module named areallyourpetsnamederic then it will import all the functionalitities and functions present inside the module."
   ]
  },
  {
   "cell_type": "markdown",
   "id": "7fbee42d",
   "metadata": {},
   "source": [
    "#Question : 12\n",
    "\n",
    "Answer:\n",
    "    if i will be having a spam module and i have imported it to my program , then to call a bacon() , i'll simply write spam.bacon()\n",
    "    \n",
    "    Example-\n",
    "        import spam\n",
    "        spam.bacon()"
   ]
  },
  {
   "cell_type": "markdown",
   "id": "2222ca31",
   "metadata": {},
   "source": [
    "#Question : 13\n",
    "\n",
    "Answer:\n",
    "    To save a program from crashing if it encounters an error one should use exception handling.    "
   ]
  },
  {
   "cell_type": "markdown",
   "id": "4792a490",
   "metadata": {},
   "source": [
    "#Question : 14\n",
    "\n",
    "Answer:\n",
    "    try and except blocks are used in exception handling to prevent program from crashing.\n",
    "    here, codes inside try block checks for any errors or exceptions and if any failure has occured then the program shifts control to the except block and the error is handled by the except block.But if there is no error in the code of the try block then the flow doesn't goes to the except block, and the except block is simply ignored."
   ]
  },
  {
   "cell_type": "code",
   "execution_count": null,
   "id": "57ba843c",
   "metadata": {},
   "outputs": [],
   "source": []
  }
 ],
 "metadata": {
  "kernelspec": {
   "display_name": "Python 3 (ipykernel)",
   "language": "python",
   "name": "python3"
  },
  "language_info": {
   "codemirror_mode": {
    "name": "ipython",
    "version": 3
   },
   "file_extension": ".py",
   "mimetype": "text/x-python",
   "name": "python",
   "nbconvert_exporter": "python",
   "pygments_lexer": "ipython3",
   "version": "3.9.7"
  }
 },
 "nbformat": 4,
 "nbformat_minor": 5
}
