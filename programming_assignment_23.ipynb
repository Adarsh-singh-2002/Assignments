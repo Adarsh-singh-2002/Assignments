{
 "cells": [
  {
   "cell_type": "markdown",
   "id": "94d52f78",
   "metadata": {},
   "source": [
    "#Question : 01\n",
    "\n",
    "Create a function that takes a number as an argument and returns True or False depending\n",
    "on whether the number is symmetrical or not. A number is symmetrical when it is the same as\n",
    "its reverse.\n",
    "\n",
    "Examples\n",
    "\n",
    "is_symmetrical(7227) ➞ True\n",
    "\n",
    "is_symmetrical(12567) ➞ False\n",
    "\n",
    "is_symmetrical(44444444) ➞ True\n",
    "\n",
    "is_symmetrical(9939) ➞ False\n",
    "\n",
    "is_symmetrical(1112111) ➞ True"
   ]
  },
  {
   "cell_type": "code",
   "execution_count": 1,
   "id": "25504c52",
   "metadata": {},
   "outputs": [
    {
     "name": "stdout",
     "output_type": "stream",
     "text": [
      "Enter the number of test to be done : 5\n",
      "Enter the string to be checked : 7227\n",
      "True\n",
      "Enter the string to be checked : 12567\n",
      "False\n",
      "Enter the string to be checked : 44444444\n",
      "True\n",
      "Enter the string to be checked : 9939\n",
      "False\n",
      "Enter the string to be checked : 1112111\n",
      "True\n"
     ]
    }
   ],
   "source": [
    "#code\n",
    "def value():\n",
    "    try:\n",
    "        num=int(input(\"Enter number of test cases : \"))\n",
    "    except Exception as e:\n",
    "        print(e)\n",
    "        return value()+0\n",
    "    return num\n",
    "def check():\n",
    "    s=input(\"Enter the string to be checked : \")\n",
    "    if s==s[::-1]:\n",
    "        return True\n",
    "    else:\n",
    "        return False\n",
    "num=int(input(\"Enter the number of test to be done : \"))\n",
    "for i in range(num):\n",
    "    x=check()\n",
    "    print(x)"
   ]
  },
  {
   "cell_type": "markdown",
   "id": "4ccbdda9",
   "metadata": {},
   "source": [
    "#Question : 02\n",
    "\n",
    "Given a string of numbers separated by a comma and space, return the product of the\n",
    "numbers.\n",
    "\n",
    "Examples\n",
    "\n",
    "multiply_nums(\"2, 3\") ➞ 6\n",
    "\n",
    "multiply_nums(\"1, 2, 3, 4\") ➞ 24\n",
    "\n",
    "multiply_nums(\"54, 75, 453, 0\") ➞ 0\n",
    "\n",
    "multiply_nums(\"10, -2\") ➞ -20"
   ]
  },
  {
   "cell_type": "code",
   "execution_count": 4,
   "id": "131ddb2f",
   "metadata": {},
   "outputs": [
    {
     "name": "stdout",
     "output_type": "stream",
     "text": [
      "Enter the number of test : 4\n",
      "Enter the string input : 2, 3\n",
      "6\n",
      "Enter the string input : 1, 2, 3, 4\n",
      "24\n",
      "Enter the string input : 54, 75, 453, 0\n",
      "0\n",
      "Enter the string input : 10, -2\n",
      "-20\n"
     ]
    }
   ],
   "source": [
    "#code\n",
    "def value():\n",
    "    try:\n",
    "        num=int(input(\"Enter the number of test : \"))\n",
    "    except Exception as e:\n",
    "        print(e)\n",
    "        return value()+0\n",
    "    return num\n",
    "def check():\n",
    "    n=input(\"Enter the string input : \")\n",
    "    N=n.split(\", \")\n",
    "    mul=1\n",
    "    for i in N:\n",
    "        mul=int(i)*mul\n",
    "    return mul\n",
    "num=value()\n",
    "for i in range(num):\n",
    "    x=check()\n",
    "    print(x)"
   ]
  },
  {
   "cell_type": "markdown",
   "id": "d5ed83d4",
   "metadata": {},
   "source": [
    "#Question : 03\n",
    "\n",
    "Create a function that squares every digit of a number.\n",
    "\n",
    "Examples\n",
    "\n",
    "square_digits(9119) ➞ 811181\n",
    "\n",
    "square_digits(2483) ➞ 416649\n",
    "\n",
    "square_digits(3212) ➞ 9414\n",
    "\n",
    "Notes\n",
    "\n",
    "The function receives an integer and must return an integer."
   ]
  },
  {
   "cell_type": "code",
   "execution_count": 5,
   "id": "3768cac3",
   "metadata": {},
   "outputs": [
    {
     "name": "stdout",
     "output_type": "stream",
     "text": [
      "Enter the number of test : 3\n",
      "Enter the number to be squared : 9119\n",
      "811181\n",
      "Enter the number to be squared : 2483\n",
      "416649\n",
      "Enter the number to be squared : 3212\n",
      "9414\n"
     ]
    }
   ],
   "source": [
    "#code\n",
    "def value():\n",
    "    try:\n",
    "        num=int(input(\"Enter the number of test : \"))\n",
    "    except Exception as e:\n",
    "        print(e)\n",
    "        return value()+0\n",
    "    return num\n",
    "def square():\n",
    "    n=int(input(\"Enter the number to be squared : \"))\n",
    "    N=str(n)\n",
    "    final=\"\"\n",
    "    for i in N:\n",
    "        s=int(i)**2\n",
    "        final=final+str(s)\n",
    "    return int(final)\n",
    "num=value()\n",
    "for i in range(num):\n",
    "    x=square()\n",
    "    print(x)"
   ]
  },
  {
   "cell_type": "markdown",
   "id": "52a9baee",
   "metadata": {},
   "source": [
    "#Question : 04\n",
    "\n",
    "Create a function that sorts a list and removes all duplicate items from it.\n",
    "\n",
    "Examples\n",
    "\n",
    "setify([1, 3, 3, 5, 5]) ➞ [1, 3, 5]\n",
    "\n",
    "setify([4, 4, 4, 4]) ➞ [4]\n",
    "\n",
    "setify([5, 7, 8, 9, 10, 15]) ➞ [5, 7, 8, 9, 10, 15]\n",
    "\n",
    "setify([3, 3, 3, 2, 1]) ➞ [1, 2, 3]"
   ]
  },
  {
   "cell_type": "code",
   "execution_count": 13,
   "id": "5f37b405",
   "metadata": {},
   "outputs": [
    {
     "name": "stdout",
     "output_type": "stream",
     "text": [
      "Enter the number of test : 4\n",
      "Enter the number of elements in the list : 5\n",
      "Enter the value of element 1 : 1\n",
      "Enter the value of element 2 : 3\n",
      "Enter the value of element 3 : 3\n",
      "Enter the value of element 4 : 5\n",
      "Enter the value of element 5 : 5\n",
      "['1', '3', '5']\n",
      "Enter the number of elements in the list : 4\n",
      "Enter the value of element 1 : 4\n",
      "Enter the value of element 2 : 4\n",
      "Enter the value of element 3 : 4\n",
      "Enter the value of element 4 : 4\n",
      "['4']\n",
      "Enter the number of elements in the list : 6\n",
      "Enter the value of element 1 : 5\n",
      "Enter the value of element 2 : 7\n",
      "Enter the value of element 3 : 8\n",
      "Enter the value of element 4 : 9\n",
      "Enter the value of element 5 : 10\n",
      "Enter the value of element 6 : 15\n",
      "['5', '7', '8', '9', '10', '15']\n",
      "Enter the number of elements in the list : 5\n",
      "Enter the value of element 1 : 3\n",
      "Enter the value of element 2 : 3\n",
      "Enter the value of element 3 : 3\n",
      "Enter the value of element 4 : 2\n",
      "Enter the value of element 5 : 1\n",
      "['3', '2', '1']\n"
     ]
    }
   ],
   "source": [
    "#code\n",
    "def value():\n",
    "    try:\n",
    "        num=int(input(\"Enter the number of test : \"))\n",
    "    except Exception as e:\n",
    "        print(e)\n",
    "        return value()+0\n",
    "    return num\n",
    "def check():\n",
    "    n=int(input(\"Enter the number of elements in the list : \"))\n",
    "    N=[]\n",
    "    k=[]\n",
    "    for i in range(n):\n",
    "        x=input(f\"Enter the value of element {i+1} : \")\n",
    "        k.append(x)\n",
    "    for i in k:\n",
    "        if i not in N:\n",
    "            N.append(i)\n",
    "        else:\n",
    "            continue\n",
    "    return N\n",
    "num=value()\n",
    "for i in range(num):\n",
    "    x=check()\n",
    "    print(x)"
   ]
  },
  {
   "cell_type": "markdown",
   "id": "4fa4db42",
   "metadata": {},
   "source": [
    "#Question : 05\n",
    "\n",
    "Create a function that returns the mean of all digits.\n",
    "\n",
    "Examples\n",
    "\n",
    "mean(42) ➞ 3\n",
    "\n",
    "mean(12345) ➞ 3\n",
    "\n",
    "mean(666) ➞ 6\n",
    "\n",
    "Notes\n",
    "\n",
    " The mean of all digits is the sum of digits / how many digits there are (e.g. mean of digits in\n",
    "512 is (5+1+2)/3(number of digits) = 8/3=2).\n",
    "\n",
    " The mean will always be an integer."
   ]
  },
  {
   "cell_type": "code",
   "execution_count": 15,
   "id": "02655a77",
   "metadata": {},
   "outputs": [
    {
     "name": "stdout",
     "output_type": "stream",
     "text": [
      "Enter the number of test : 3\n",
      "Enter the number : 42\n",
      "3\n",
      "Enter the number : 12345\n",
      "3\n",
      "Enter the number : 666\n",
      "6\n"
     ]
    }
   ],
   "source": [
    "#code\n",
    "def value():\n",
    "    try:\n",
    "        num=int(input(\"Enter the number of test : \"))\n",
    "    except Exception as e:\n",
    "        print(e)\n",
    "        return value()+0\n",
    "    return num\n",
    "def mean():\n",
    "    n=int(input(\"Enter the number : \"))\n",
    "    s=str(n)\n",
    "    sum=0\n",
    "    for i in s:\n",
    "        sum+=int(i)\n",
    "    return int(sum/len(s))\n",
    "num=value()\n",
    "for i in range(num):\n",
    "    k=mean()\n",
    "    print(k)"
   ]
  },
  {
   "cell_type": "code",
   "execution_count": null,
   "id": "b4959728",
   "metadata": {},
   "outputs": [],
   "source": []
  }
 ],
 "metadata": {
  "kernelspec": {
   "display_name": "Python 3 (ipykernel)",
   "language": "python",
   "name": "python3"
  },
  "language_info": {
   "codemirror_mode": {
    "name": "ipython",
    "version": 3
   },
   "file_extension": ".py",
   "mimetype": "text/x-python",
   "name": "python",
   "nbconvert_exporter": "python",
   "pygments_lexer": "ipython3",
   "version": "3.9.7"
  }
 },
 "nbformat": 4,
 "nbformat_minor": 5
}
