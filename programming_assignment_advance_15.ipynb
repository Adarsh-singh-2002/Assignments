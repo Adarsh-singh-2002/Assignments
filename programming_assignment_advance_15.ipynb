{
 "cells": [
  {
   "cell_type": "markdown",
   "id": "68d349f7",
   "metadata": {},
   "source": [
    "#Question : 01\n",
    "\n",
    "Write a function that returns True if a given name can generate an array of\n",
    "words.\n",
    "\n",
    "Examples\n",
    "\n",
    "anagram(\"Justin Bieber\", [\"injures\", \"ebb\", \"it\"]) ➞ True\n",
    "\n",
    "anagram(\"Natalie Portman\", [\"ornamental\", \"pita\"]) ➞ True\n",
    "\n",
    "anagram(\"Chris Pratt\", [\"chirps\", \"rat\"]) ➞ False\n",
    "\n",
    "* Not all letters are used\n",
    "\n",
    "anagram(\"Jeff Goldblum\", [\"jog\", \"meld\", \"bluffs\"]) ➞ False\n",
    "\n",
    "* \"s\" does not exist in the original name\n"
   ]
  },
  {
   "cell_type": "code",
   "execution_count": 19,
   "id": "e0839479",
   "metadata": {},
   "outputs": [],
   "source": [
    "#code\n",
    "def anagram(String,words):\n",
    "    String_letter = []\n",
    "    for letter in String.lower():\n",
    "        if letter != \" \":\n",
    "            String_letter.append(letter)\n",
    "    for i in words:\n",
    "        for j in i:\n",
    "            if j in String_letter:\n",
    "                String_letter.remove(j)\n",
    "            else:\n",
    "                return False\n",
    "    if len(String_letter) == 0:\n",
    "        return True\n",
    "    return False\n",
    "            \n",
    "            "
   ]
  },
  {
   "cell_type": "code",
   "execution_count": 20,
   "id": "5f312136",
   "metadata": {},
   "outputs": [
    {
     "data": {
      "text/plain": [
       "True"
      ]
     },
     "execution_count": 20,
     "metadata": {},
     "output_type": "execute_result"
    }
   ],
   "source": [
    "anagram(\"Justin Bieber\", [\"injures\", \"ebb\", \"it\"])"
   ]
  },
  {
   "cell_type": "code",
   "execution_count": 21,
   "id": "542da510",
   "metadata": {},
   "outputs": [
    {
     "data": {
      "text/plain": [
       "True"
      ]
     },
     "execution_count": 21,
     "metadata": {},
     "output_type": "execute_result"
    }
   ],
   "source": [
    "anagram(\"Natalie Portman\", [\"ornamental\", \"pita\"]) "
   ]
  },
  {
   "cell_type": "code",
   "execution_count": 22,
   "id": "7e9f3969",
   "metadata": {},
   "outputs": [
    {
     "data": {
      "text/plain": [
       "False"
      ]
     },
     "execution_count": 22,
     "metadata": {},
     "output_type": "execute_result"
    }
   ],
   "source": [
    "anagram(\"Chris Pratt\", [\"chirps\", \"rat\"])"
   ]
  },
  {
   "cell_type": "code",
   "execution_count": 23,
   "id": "e97161c0",
   "metadata": {},
   "outputs": [
    {
     "data": {
      "text/plain": [
       "False"
      ]
     },
     "execution_count": 23,
     "metadata": {},
     "output_type": "execute_result"
    }
   ],
   "source": [
    "anagram(\"Jeff Goldblum\", [\"jog\", \"meld\", \"bluffs\"])"
   ]
  },
  {
   "cell_type": "markdown",
   "id": "8a020f4e",
   "metadata": {},
   "source": [
    "#Question : 02\n",
    "\n",
    "Given an array of users, each defined by an object with the following\n",
    "properties: name, score, reputation create a function that sorts the array to\n",
    "form the correct leaderboard.\n",
    "\n",
    "The leaderboard takes into consideration the score of each user of course,\n",
    "but an emphasis is put on their reputation in the community, so to get the\n",
    "trueScore, you should add the reputation multiplied by 2 to the score.\n",
    "Once you know the trueScore of each user, sort the array according to it in\n",
    "descending order.\n",
    "\n",
    "Examples\n",
    "\n",
    "leaderboards([\n",
    "{ \"name\": \"a\", \"score\": 100, \"reputation\": 20 },\n",
    "{ \"name\": \"b\", \"score\": 90, \"reputation\": 40 },\n",
    "{ \"name\": \"c\", \"score\": 115, \"reputation\": 30 },\n",
    "]) \n",
    "\n",
    "➞\n",
    "\n",
    "[\n",
    "{ \"name\": \"c\", \"score\": 115, \"reputation\": 30 }, # trueScore = 175\n",
    "{ \"name\": \"b\", \"score\": 90, \"reputation\": 40 }, # trueScore = 170\n",
    "{ \"name\": \"a\", \"score\": 100, \"reputation\": 20 } # trueScore = 140\n",
    "]"
   ]
  },
  {
   "cell_type": "code",
   "execution_count": 47,
   "id": "3fe0b6b5",
   "metadata": {},
   "outputs": [],
   "source": [
    "def leaderboards(Values):\n",
    "    Ans = []\n",
    "    Final=[]\n",
    "    for i in Values:\n",
    "        trueScore = i[\"score\"] + (i[\"reputation\"]*2)\n",
    "        Ans.append(trueScore)\n",
    "        i[\"trueScore\"] = trueScore\n",
    "    Ans.sort(reverse=True)\n",
    "    for i in Ans:\n",
    "        for j in Values:\n",
    "            if i==j[\"trueScore\"]:\n",
    "                Final.append(j)\n",
    "    return Final\n",
    "    "
   ]
  },
  {
   "cell_type": "code",
   "execution_count": 48,
   "id": "7332767b",
   "metadata": {},
   "outputs": [
    {
     "data": {
      "text/plain": [
       "[{'name': 'c', 'score': 115, 'reputation': 30, 'trueScore': 175},\n",
       " {'name': 'b', 'score': 90, 'reputation': 40, 'trueScore': 170},\n",
       " {'name': 'a', 'score': 100, 'reputation': 20, 'trueScore': 140}]"
      ]
     },
     "execution_count": 48,
     "metadata": {},
     "output_type": "execute_result"
    }
   ],
   "source": [
    "leaderboards([ { \"name\": \"a\", \"score\": 100, \"reputation\": 20 }, { \"name\": \"b\", \"score\": 90, \"reputation\": 40 }, { \"name\": \"c\", \"score\": 115, \"reputation\": 30 }, ])"
   ]
  },
  {
   "cell_type": "markdown",
   "id": "1341f557",
   "metadata": {},
   "source": [
    "#Question : 03\n",
    "\n",
    "Create a function that, given a phrase and a number of letters guessed,\n",
    "returns a string with hyphens - for every letter of the phrase not guessed, and\n",
    "each letter guessed in place.\n",
    "\n",
    "Examples\n",
    "\n",
    "hangman(\"helicopter\", [\"o\", \"e\", \"s\"]) ➞ \"-e---o--e-\"\n",
    "\n",
    "hangman(\"tree\", [\"r\", \"t\", \"e\"]) ➞ \"tree\"\n",
    "\n",
    "hangman(\"Python rules\", [\"a\", \"n\", \"p\", \"r\", \"z\"]) ➞ \"P----n r----\"\n",
    "\n",
    "hangman(\"He\"s a very naughty boy!\", [\"e\", \"a\", \"y\"]) ➞ \"-e\"- a -e-y -a----y –y!\""
   ]
  },
  {
   "cell_type": "code",
   "execution_count": 56,
   "id": "a0f51769",
   "metadata": {},
   "outputs": [],
   "source": [
    "#code\n",
    "def hangman(string,letters):\n",
    "    string_letters = []\n",
    "    check=\"\"\n",
    "    for i in string.lower():\n",
    "        string_letters.append(i)\n",
    "    for i in string_letters:\n",
    "        if i in letters:\n",
    "            check+=i\n",
    "        else:\n",
    "            check+='-'\n",
    "    return check"
   ]
  },
  {
   "cell_type": "code",
   "execution_count": 57,
   "id": "0dc443a5",
   "metadata": {},
   "outputs": [
    {
     "data": {
      "text/plain": [
       "'-e---o--e-'"
      ]
     },
     "execution_count": 57,
     "metadata": {},
     "output_type": "execute_result"
    }
   ],
   "source": [
    "hangman(\"helicopter\", [\"o\", \"e\", \"s\"])"
   ]
  },
  {
   "cell_type": "code",
   "execution_count": 58,
   "id": "29f22fd2",
   "metadata": {},
   "outputs": [
    {
     "data": {
      "text/plain": [
       "'tree'"
      ]
     },
     "execution_count": 58,
     "metadata": {},
     "output_type": "execute_result"
    }
   ],
   "source": [
    "hangman(\"tree\", [\"r\", \"t\", \"e\"])"
   ]
  },
  {
   "cell_type": "code",
   "execution_count": 59,
   "id": "06b47a86",
   "metadata": {},
   "outputs": [
    {
     "data": {
      "text/plain": [
       "'p----n-r----'"
      ]
     },
     "execution_count": 59,
     "metadata": {},
     "output_type": "execute_result"
    }
   ],
   "source": [
    "hangman(\"Python rules\", [\"a\", \"n\", \"p\", \"r\", \"z\"]) "
   ]
  },
  {
   "cell_type": "code",
   "execution_count": 61,
   "id": "3cfea036",
   "metadata": {},
   "outputs": [
    {
     "data": {
      "text/plain": [
       "'-e---a--e-y--a----y---y-'"
      ]
     },
     "execution_count": 61,
     "metadata": {},
     "output_type": "execute_result"
    }
   ],
   "source": [
    "hangman(\"He's a very naughty boy!\", [\"e\", \"a\", \"y\"])"
   ]
  },
  {
   "cell_type": "markdown",
   "id": "62de6f1c",
   "metadata": {},
   "source": [
    "#Question : 04\n",
    "\n",
    "The Collatz sequence is as follows:\n",
    "\n",
    "- Start with some given integer n.\n",
    "\n",
    "- If it is even, the next number will be n divided by 2.\n",
    "\n",
    "- If it is odd, multiply it by 3 and add 1 to make the next number.\n",
    "\n",
    "- The sequence stops when it reaches 1.\n",
    "\n",
    "According to the Collatz conjecture, it will always reach 1. If that&#39;s true, you\n",
    "can construct a finite sequence following the aforementioned method for any\n",
    "given integer.\n",
    "\n",
    "Write a function that takes in an integer n and returns the highest integer in\n",
    "the corresponding Collatz sequence.\n",
    "\n",
    "Examples\n",
    "\n",
    "max_collatz(10) ➞ 16\n",
    "\n",
    "* Collatz sequence: 10, 5, 16, 8, 4, 2, 1\n",
    "\n",
    "max_collatz(32) ➞ 32\n",
    "\n",
    "* Collatz sequence: 32, 16, 8, 4, 2, 1\n",
    "\n",
    "max_collatz(85) ➞ 256\n",
    "\n",
    "* Collatz sequence: 85, 256, 128, 64, 32, 16, 8, 4, 2, 1"
   ]
  },
  {
   "cell_type": "code",
   "execution_count": 67,
   "id": "b38e3607",
   "metadata": {},
   "outputs": [],
   "source": [
    "def max_collatz(value):\n",
    "    while (value!=1):\n",
    "        print(int(value),end=\", \")\n",
    "        if value%2==0:\n",
    "            value=value/2\n",
    "        else:\n",
    "            value=value*3+1\n",
    "        if value == 1:\n",
    "            print(int(value))"
   ]
  },
  {
   "cell_type": "code",
   "execution_count": 68,
   "id": "5ecb2b32",
   "metadata": {},
   "outputs": [
    {
     "name": "stdout",
     "output_type": "stream",
     "text": [
      "10, 5, 16, 8, 4, 2, 1\n"
     ]
    }
   ],
   "source": [
    "max_collatz(10)"
   ]
  },
  {
   "cell_type": "code",
   "execution_count": 69,
   "id": "df1d2df7",
   "metadata": {},
   "outputs": [
    {
     "name": "stdout",
     "output_type": "stream",
     "text": [
      "32, 16, 8, 4, 2, 1\n"
     ]
    }
   ],
   "source": [
    "max_collatz(32)"
   ]
  },
  {
   "cell_type": "code",
   "execution_count": 70,
   "id": "ac940643",
   "metadata": {},
   "outputs": [
    {
     "name": "stdout",
     "output_type": "stream",
     "text": [
      "85, 256, 128, 64, 32, 16, 8, 4, 2, 1\n"
     ]
    }
   ],
   "source": [
    "max_collatz(85)"
   ]
  },
  {
   "cell_type": "markdown",
   "id": "fa76ce30",
   "metadata": {},
   "source": [
    "#Question : 05\n",
    "\n",
    "Write a function that sorts a list of integers by their digit length in\n",
    "descending order, then settles ties by sorting numbers with the same digit\n",
    "length in ascending order.\n",
    "\n",
    "Examples\n",
    "\n",
    "digit_sort([77, 23, 5, 7, 101])\n",
    "➞ [101, 23, 77, 5, 7]\n",
    "\n",
    "digit_sort([1, 5, 9, 2, 789, 563, 444])\n",
    "➞ [444, 563, 789, 1, 2, 5, 9]\n",
    "\n",
    "digit_sort([53219, 3772, 564, 32, 1])\n",
    "➞ [53219, 3772, 564, 32, 1]"
   ]
  },
  {
   "cell_type": "code",
   "execution_count": 73,
   "id": "b0e6cde4",
   "metadata": {},
   "outputs": [],
   "source": [
    "def digit_sort(li):\n",
    "    length = []\n",
    "    Ans = []\n",
    "    for i in li:\n",
    "        if len(str(i)) not in length:\n",
    "            length.append(len(str(i)))\n",
    "    length.sort(reverse=True)\n",
    "    for i in length:\n",
    "        check=[]\n",
    "        for j in li:\n",
    "            if len(str(j))==i:\n",
    "                check.append(j)\n",
    "        check.sort()\n",
    "        for k in check:\n",
    "            Ans.append(k)\n",
    "    return Ans"
   ]
  },
  {
   "cell_type": "code",
   "execution_count": 74,
   "id": "2ac668cb",
   "metadata": {},
   "outputs": [
    {
     "data": {
      "text/plain": [
       "[101, 23, 77, 5, 7]"
      ]
     },
     "execution_count": 74,
     "metadata": {},
     "output_type": "execute_result"
    }
   ],
   "source": [
    "digit_sort([77, 23, 5, 7, 101])"
   ]
  },
  {
   "cell_type": "code",
   "execution_count": 75,
   "id": "2ad47c98",
   "metadata": {},
   "outputs": [
    {
     "data": {
      "text/plain": [
       "[444, 563, 789, 1, 2, 5, 9]"
      ]
     },
     "execution_count": 75,
     "metadata": {},
     "output_type": "execute_result"
    }
   ],
   "source": [
    "digit_sort([1, 5, 9, 2, 789, 563, 444])"
   ]
  },
  {
   "cell_type": "code",
   "execution_count": 76,
   "id": "94de9426",
   "metadata": {},
   "outputs": [
    {
     "data": {
      "text/plain": [
       "[53219, 3772, 564, 32, 1]"
      ]
     },
     "execution_count": 76,
     "metadata": {},
     "output_type": "execute_result"
    }
   ],
   "source": [
    "digit_sort([53219, 3772, 564, 32, 1])"
   ]
  },
  {
   "cell_type": "code",
   "execution_count": null,
   "id": "bf6d86bc",
   "metadata": {},
   "outputs": [],
   "source": []
  }
 ],
 "metadata": {
  "kernelspec": {
   "display_name": "Python 3 (ipykernel)",
   "language": "python",
   "name": "python3"
  },
  "language_info": {
   "codemirror_mode": {
    "name": "ipython",
    "version": 3
   },
   "file_extension": ".py",
   "mimetype": "text/x-python",
   "name": "python",
   "nbconvert_exporter": "python",
   "pygments_lexer": "ipython3",
   "version": "3.9.7"
  }
 },
 "nbformat": 4,
 "nbformat_minor": 5
}
