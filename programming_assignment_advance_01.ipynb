{
 "cells": [
  {
   "cell_type": "markdown",
   "id": "b6f32058",
   "metadata": {},
   "source": [
    "#Question : 01\n",
    "\n",
    "Write a function that takes a list of lists and returns the value of all of the\n",
    "symbols in it, where each symbol adds or takes something from the total\n",
    "score. Symbol values:\n",
    "    \n",
    "#= 5\n",
    "\n",
    "O = 3\n",
    "\n",
    "X = 1\n",
    "\n",
    "! = -1\n",
    "\n",
    "!! = -3\n",
    "\n",
    "!!! = -5\n",
    "\n",
    "A list of lists containing 2 #s, a O, and a !!! would equal (0 + 5 + 5 + 3 - 5) 8.\n",
    "\n",
    "If the final score is negative, return 0 (e.g. 3 #s, 3 !!s, 2 !!!s and a X would be\n",
    "(0 + 5 + 5 + 5 - 3 - 3 - 3 - 5 - 5 + 1) -3, so return 0.\n",
    "\n",
    "Examples\n",
    "\n",
    "check_score([\n",
    "[\"#\", \"!\"],\n",
    "[\"!!\", \"X\"]\n",
    "]) ➞ 2\n",
    "\n",
    "check_score([\n",
    "[\"!!!\", \"O\", \"!\"],\n",
    "[\"X\", \"#\", \"!!!\"],\n",
    "[\"!!\", \"X\", \"O\"]\n",
    "]) ➞ 0"
   ]
  },
  {
   "cell_type": "code",
   "execution_count": 4,
   "id": "99e87ee3",
   "metadata": {},
   "outputs": [
    {
     "name": "stdout",
     "output_type": "stream",
     "text": [
      "Enter the number of test cases : 2\n",
      "Enter the number of values in List : 2\n",
      "Enter the number of  values in each element as list : 2\n",
      "Enter value of element 1 of 1 : #\n",
      "Enter value of element 2 of 1 : !\n",
      "Enter value of element 1 of 2 : !!\n",
      "Enter value of element 2 of 2 : X\n",
      "2\n",
      "Enter the number of values in List : !!!\n",
      "invalid literal for int() with base 10: '!!!'\n",
      "Enter the number of values in List : 3\n",
      "Enter the number of  values in each element as list : 3\n",
      "Enter value of element 1 of 1 : !!!\n",
      "Enter value of element 2 of 1 : O\n",
      "Enter value of element 3 of 1 : !\n",
      "Enter value of element 1 of 2 : X\n",
      "Enter value of element 2 of 2 : #\n",
      "Enter value of element 3 of 2 : !!!\n",
      "Enter value of element 1 of 3 : !!\n",
      "Enter value of element 2 of 3 : X\n",
      "Enter value of element 3 of 3 : O\n",
      "0\n"
     ]
    }
   ],
   "source": [
    "#code\n",
    "def value():\n",
    "    try :\n",
    "        num=int(input(\"Enter the number of values in List : \"))\n",
    "        n=int(input(\"Enter the number of  values in each element as list : \"))\n",
    "        N=[]\n",
    "        for i in range(num):\n",
    "            p=[]\n",
    "            for j in range(n):\n",
    "                x=input(f\"Enter value of element {j+1} of {i+1} : \")\n",
    "                p.append(x)\n",
    "            N.append(p)\n",
    "    except Exception as e:\n",
    "        print(e)\n",
    "        return value()+[]\n",
    "    return N\n",
    "def result(N):\n",
    "    try:\n",
    "        sum1=0\n",
    "        for i in N:\n",
    "            sum_semi=0\n",
    "            for j in i:\n",
    "                if j ==\"#\":\n",
    "                    sum_semi+=5\n",
    "                elif j ==\"O\":\n",
    "                    sum_semi+=3\n",
    "                elif j ==\"X\":\n",
    "                    sum_semi+=1\n",
    "                elif j ==\"!\":\n",
    "                    sum_semi+=-1\n",
    "                elif j ==\"!!\":\n",
    "                    sum_semi+=-3\n",
    "                elif j ==\"!!!\":\n",
    "                    sum_semi+=-5\n",
    "                else:\n",
    "                    continue\n",
    "            sum1+=sum_semi\n",
    "    except Exception as e:\n",
    "        print(e)\n",
    "        return result()+0\n",
    "    return sum1\n",
    "k=int(input(\"Enter the number of test cases : \"))\n",
    "for i in range(k):\n",
    "    num=value()\n",
    "    N=result(num)\n",
    "    if N>0:\n",
    "        print(N)\n",
    "    else:\n",
    "        print(\"0\")"
   ]
  },
  {
   "cell_type": "markdown",
   "id": "4dde0f3f",
   "metadata": {},
   "source": [
    "#Question : 02\n",
    "\n",
    "Create a function that takes a variable number of arguments, each\n",
    "argument representing the number of items in a group, and returns the\n",
    "number of permutations (combinations) of items that you could get by taking\n",
    "one item from each group.\n",
    "\n",
    "Examples\n",
    "\n",
    "combinations(2, 3) ➞ 6\n",
    "\n",
    "combinations(3, 7, 4) ➞ 84\n",
    "\n",
    "combinations(2, 3, 4, 5) ➞ 120\n"
   ]
  },
  {
   "cell_type": "code",
   "execution_count": 5,
   "id": "3a3d643a",
   "metadata": {},
   "outputs": [],
   "source": [
    "#code\n",
    "def combinations(*args):\n",
    "    prod=1\n",
    "    for i in args:\n",
    "        prod*=i\n",
    "    return prod"
   ]
  },
  {
   "cell_type": "code",
   "execution_count": 12,
   "id": "eecb92b7",
   "metadata": {},
   "outputs": [
    {
     "data": {
      "text/plain": [
       "6"
      ]
     },
     "execution_count": 12,
     "metadata": {},
     "output_type": "execute_result"
    }
   ],
   "source": [
    "combinations(2,3)"
   ]
  },
  {
   "cell_type": "code",
   "execution_count": 7,
   "id": "81e805b6",
   "metadata": {},
   "outputs": [
    {
     "data": {
      "text/plain": [
       "84"
      ]
     },
     "execution_count": 7,
     "metadata": {},
     "output_type": "execute_result"
    }
   ],
   "source": [
    "combinations(3, 7, 4)"
   ]
  },
  {
   "cell_type": "code",
   "execution_count": 8,
   "id": "4f0286c4",
   "metadata": {},
   "outputs": [
    {
     "data": {
      "text/plain": [
       "120"
      ]
     },
     "execution_count": 8,
     "metadata": {},
     "output_type": "execute_result"
    }
   ],
   "source": [
    "combinations(2, 3, 4, 5)"
   ]
  },
  {
   "cell_type": "markdown",
   "id": "a445d287",
   "metadata": {},
   "source": [
    "#Question : 03\n",
    "\n",
    "Create a function that takes a string as an argument and returns the Morse\n",
    "code equivalent.\n",
    "\n",
    "Examples\n",
    "\n",
    "encode_morse(\"EDABBIT CHALLENGE\") ➞ \". -.. .- -... -... .. - -.-. .... .- .-.. .-..\n",
    ". -. --. .\"\n",
    "\n",
    "encode_morse(\"HELP ME !\") ➞ \".... . .-.. .--. -- . -.-.--\"\n",
    "\n",
    "This dictionary can be used for coding:\n",
    "\n",
    "char_to_dots = {\n",
    "'A': '.-', 'B': '-...', 'C': '-.-.', 'D': '-..', 'E': '.', 'F': '..-.',\n",
    "'G': '--.', 'H': '....', 'I': '..', 'J': '.---', 'K': '-.-', 'L': '.-..',\n",
    "'M': '--', 'N': '-.', 'O': '---', 'P': '.--.', 'Q': '--.-', 'R': '.-.',\n",
    "'S': '...', 'T': '-', 'U': '..-', 'V': '...-', 'W': '.--', 'X': '-..-',\n",
    "'Y': '-.--', 'Z': '--..', ' ': ' ', '0': '-----',\n",
    "'1': '.----', '2': '..---', '3': '...--', '4': '....-', '5': '.....',\n",
    "'6': '-....', '7': '--...', '8': '---..', '9': '----.',\n",
    "'&amp;': '.-...', \"'\": '.----.', '@': '.--.-.', ')': '-.--.-', '(': '-.--.',\n",
    "':': '---...', ',': '--..--', '=': '-...-', '!': '-.-.--', '.': '.-.-.-',\n",
    "'-': '-....-', '+': '.-.-.', '\"': '.-..-.', '?': '..--..', '/': '-..-.'\n",
    "}"
   ]
  },
  {
   "cell_type": "code",
   "execution_count": 16,
   "id": "3e571ebb",
   "metadata": {},
   "outputs": [
    {
     "name": "stdout",
     "output_type": "stream",
     "text": [
      "Enter the number of morse codes to be entered : 2\n",
      "Enter your morse code : EDABBIT CHALLENGE\n",
      ".-...--...-.....- -.-......-.-...-...-.--..\n",
      "Enter your morse code : HELP ME!\n",
      "......-...--. --.-.-.--\n"
     ]
    }
   ],
   "source": [
    "#code\n",
    "def value():\n",
    "    try:\n",
    "        num=int(input(\"Enter the number of morse codes to be entered : \"))\n",
    "    except Exception as e:\n",
    "        print(e)\n",
    "        return value()+0\n",
    "    return num\n",
    "def morse(num):\n",
    "    char_to_dots = { 'A': '.-', 'B': '-...', 'C': '-.-.', 'D': '-..', 'E': '.', 'F': '..-.', 'G': '--.', 'H': '....', 'I': '..', 'J': '.---', 'K': '-.-', 'L': '.-..', 'M': '--', 'N': '-.', 'O': '---', 'P': '.--.', 'Q': '--.-', 'R': '.-.', 'S': '...', 'T': '-', 'U': '..-', 'V': '...-', 'W': '.--', 'X': '-..-', 'Y': '-.--', 'Z': '--..', ' ': ' ', '0': '-----', '1': '.----', '2': '..---', '3': '...--', '4': '....-', '5': '.....', '6': '-....', '7': '--...', '8': '---..', '9': '----.', '&': '.-...', \"'\": '.----.', '@': '.--.-.', ')': '-.--.-', '(': '-.--.', ':': '---...', ',': '--..--', '=': '-...-', '!': '-.-.--', '.': '.-.-.-', '-': '-....-', '+': '.-.-.', '\"': '.-..-.', '?': '..--..', '/': '-..-.' }\n",
    "    for i in range(num):\n",
    "        x=input(\"Enter your morse code : \")\n",
    "        p=\"\"\n",
    "        for i in x:\n",
    "            p+=char_to_dots[f'{i}']\n",
    "        print(p)\n",
    "num=value()\n",
    "morse(num)"
   ]
  },
  {
   "cell_type": "markdown",
   "id": "ae45eec8",
   "metadata": {},
   "source": [
    "#Question : 04\n",
    "\n",
    "Write a function that takes a number and returns True if it's a prime; False\n",
    "otherwise. The number can be 2^64-1 (2 to the power of 63, not XOR). With\n",
    "the standard technique it would be O(2^64-1), which is much too large for the\n",
    "10 second time limit.\n",
    "\n",
    "Examples\n",
    "\n",
    "prime(7) ➞ True\n",
    "\n",
    "prime(56963) ➞ True\n",
    "\n",
    "prime(5151512515524) ➞ False"
   ]
  },
  {
   "cell_type": "code",
   "execution_count": 20,
   "id": "84728c16",
   "metadata": {},
   "outputs": [
    {
     "name": "stdout",
     "output_type": "stream",
     "text": [
      "Enter the number of tests : 3\n",
      "Enter the number : 7\n",
      "True\n",
      "Enter the number : 56963\n",
      "True\n",
      "Enter the number : 5151512515524\n",
      "False\n"
     ]
    }
   ],
   "source": [
    "#code\n",
    "def prime(num):\n",
    "    if num==1:\n",
    "        return False\n",
    "    elif num==2:\n",
    "        return True\n",
    "    else:\n",
    "        for i in range(2,int((num/2))+1):\n",
    "            if num%i==0:\n",
    "                return False\n",
    "            else:\n",
    "                return True\n",
    "def value():\n",
    "    try :\n",
    "        num=int(input(\"Enter the number : \"))\n",
    "    except Exception as e:\n",
    "        print(e)\n",
    "        return value()+0\n",
    "    return num\n",
    "def test():\n",
    "    try :\n",
    "        n=int(input(\"Enter the number of tests : \"))\n",
    "    except Exception as e:\n",
    "        print(e)\n",
    "        return value()+0\n",
    "    return n\n",
    "n=test()\n",
    "for i in range(n):\n",
    "    x=value()\n",
    "    k=prime(x)\n",
    "    print(k)"
   ]
  },
  {
   "cell_type": "markdown",
   "id": "84f2e73d",
   "metadata": {},
   "source": [
    "#Question : 05\n",
    "\n",
    "Create a function that converts a word to a bitstring and then to a boolean\n",
    "list based on the following criteria:\n",
    "\n",
    "    1. Locate the position of the letter in the English alphabet (from 1 to 26).\n",
    "\n",
    "    2. Odd positions will be represented as 1 and 0 otherwise.\n",
    "\n",
    "    3. Convert the represented positions to boolean values, 1 for True and 0\n",
    "       for False.\n",
    "\n",
    "    4. Store the conversions into an array.\n",
    "\n",
    "Examples\n",
    "\n",
    "to_boolean_list(\"deep\") ➞ [False, True, True, False]\n",
    "\n",
    "*deep converts to 0110\n",
    "\n",
    "*d is the 4th alphabet - 0\n",
    "\n",
    "*e is the 5th alphabet - 1\n",
    "\n",
    "*e is the 5th alphabet - 1\n",
    "\n",
    "*p is the 16th alphabet - 0\n",
    "\n",
    "to_boolean_list(\"loves\") ➞ [False, True, False, True, True]\n",
    "\n",
    "to_boolean_list(\"tesh\") ➞ [False, True, True, False]"
   ]
  },
  {
   "cell_type": "code",
   "execution_count": 28,
   "id": "61b3f292",
   "metadata": {},
   "outputs": [
    {
     "name": "stdout",
     "output_type": "stream",
     "text": [
      "Enter the number of tests : 3\n",
      "Enter the string : deep\n",
      "[False, True, True, False]\n",
      "Enter the string : loves\n",
      "[False, True, False, True, True]\n",
      "Enter the string : tesh\n",
      "[False, True, True, False]\n"
     ]
    }
   ],
   "source": [
    "def convert():\n",
    "    k=input(\"Enter the string : \")\n",
    "    t=[]\n",
    "    final=[]\n",
    "    for i in k.lower():\n",
    "        c=ord(i)-96\n",
    "        if c%2==0:\n",
    "            t.append('0')\n",
    "        else:\n",
    "            t.append('1')\n",
    "    for i in t:\n",
    "        if i=='0':\n",
    "            final.append(False)\n",
    "        else:\n",
    "            final.append(True)\n",
    "    return final\n",
    "def values():\n",
    "    try:\n",
    "        num=int(input(\"Enter the number of tests : \"))\n",
    "    except Exception as e:\n",
    "        print(e)\n",
    "        return values()+0\n",
    "    return num\n",
    "num=values()\n",
    "for i in range(num):\n",
    "    p=convert()\n",
    "    print(p)"
   ]
  },
  {
   "cell_type": "code",
   "execution_count": null,
   "id": "c163291b",
   "metadata": {},
   "outputs": [],
   "source": []
  }
 ],
 "metadata": {
  "kernelspec": {
   "display_name": "Python 3 (ipykernel)",
   "language": "python",
   "name": "python3"
  },
  "language_info": {
   "codemirror_mode": {
    "name": "ipython",
    "version": 3
   },
   "file_extension": ".py",
   "mimetype": "text/x-python",
   "name": "python",
   "nbconvert_exporter": "python",
   "pygments_lexer": "ipython3",
   "version": "3.9.7"
  }
 },
 "nbformat": 4,
 "nbformat_minor": 5
}
