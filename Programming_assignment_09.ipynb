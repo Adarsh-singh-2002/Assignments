{
 "cells": [
  {
   "cell_type": "markdown",
   "id": "3cf6d6b1",
   "metadata": {},
   "source": [
    "#Question :01\n",
    "\n",
    "Write a Python program to check if the given number is a Disarium Number?\n",
    "\n",
    "Answer:"
   ]
  },
  {
   "cell_type": "code",
   "execution_count": 11,
   "id": "b3b121f6",
   "metadata": {},
   "outputs": [
    {
     "name": "stdout",
     "output_type": "stream",
     "text": [
      "Enter a number : 175\n",
      "175 is a Disarium number.\n"
     ]
    }
   ],
   "source": [
    "#code\n",
    "try:\n",
    "    num=int(input(\"Enter a number : \"))\n",
    "    num1=str(num)\n",
    "    num2=len(num1)\n",
    "    i=0\n",
    "    result=0\n",
    "    rem=0\n",
    "    k=num\n",
    "    while num!=0:\n",
    "        rem=num%10\n",
    "        result=result+rem**(num2-i)\n",
    "        num=int(num/10)\n",
    "        i=i+1\n",
    "    if k==result:\n",
    "        print(f\"{k} is a Disarium number.\")\n",
    "    else:\n",
    "        print(f\"{k} is not a Disarium number.\")\n",
    "except Exception as e:\n",
    "    print(\"ERROR : \",e)"
   ]
  },
  {
   "cell_type": "markdown",
   "id": "91e39c48",
   "metadata": {},
   "source": [
    "#Question :02\n",
    "\n",
    "Write a Python program to print all disarium numbers between 1 to 100?\n",
    "\n",
    "Answer:\n",
    "    "
   ]
  },
  {
   "cell_type": "code",
   "execution_count": 13,
   "id": "c4ac8cf6",
   "metadata": {},
   "outputs": [
    {
     "name": "stdout",
     "output_type": "stream",
     "text": [
      "enter the lower limit of range : 1\n",
      "enter the upper limit of range : 100\n",
      "1 is a Disarium number.\n",
      "2 is a Disarium number.\n",
      "3 is a Disarium number.\n",
      "4 is a Disarium number.\n",
      "5 is a Disarium number.\n",
      "6 is a Disarium number.\n",
      "7 is a Disarium number.\n",
      "8 is a Disarium number.\n",
      "9 is a Disarium number.\n",
      "89 is a Disarium number.\n"
     ]
    }
   ],
   "source": [
    "#code\n",
    "try:\n",
    "    a=int(input(\"enter the lower limit of range : \"))\n",
    "    b=int(input(\"enter the upper limit of range : \"))\n",
    "    if a<b:\n",
    "        for i in range(a,b):\n",
    "            num=i\n",
    "            num1=str(num)\n",
    "            num2=len(num1)\n",
    "            i=0\n",
    "            result=0\n",
    "            rem=0\n",
    "            k=num\n",
    "            while num!=0:\n",
    "                rem=num%10\n",
    "                result=result+rem**(num2-i)\n",
    "                num=int(num/10)\n",
    "                i=i+1\n",
    "            if k==result:\n",
    "                print(f\"{k} is a Disarium number.\")\n",
    "            else:\n",
    "                continue\n",
    "    else:\n",
    "        print(\"Choose a valid lower and upper limits.\")\n",
    "except Exception as e:\n",
    "    print(\"ERROR : \",e)"
   ]
  },
  {
   "cell_type": "markdown",
   "id": "99367e06",
   "metadata": {},
   "source": [
    "#Question :03\n",
    "\n",
    "Write a Python program to check if the given number is Happy Number?\n",
    "\n",
    "Answer:"
   ]
  },
  {
   "cell_type": "code",
   "execution_count": 24,
   "id": "d8576344",
   "metadata": {},
   "outputs": [
    {
     "name": "stdout",
     "output_type": "stream",
     "text": [
      "Enter the number : 130\n",
      "130 is a Happy Number :) \n"
     ]
    }
   ],
   "source": [
    "#code\n",
    "def check(num,count):\n",
    "    rem=0\n",
    "    result=0\n",
    "    while num!=0:\n",
    "        rem=num%10\n",
    "        result=rem**2+result\n",
    "        num=int(num/10)\n",
    "    if result==1:\n",
    "        return result\n",
    "    elif result>1 and count<200:\n",
    "        count=count+1\n",
    "        return check(result,count)\n",
    "    elif result==0:\n",
    "        return 4\n",
    "    return 5\n",
    "num=int(input(\"Enter the number : \"))\n",
    "count=0\n",
    "x=check(num,count)\n",
    "if x==True:\n",
    "    print(f\"{num} is a Happy Number :) \")\n",
    "else:\n",
    "    print(f\"{num} is not a Happy Number :) \")"
   ]
  },
  {
   "cell_type": "markdown",
   "id": "7a48476b",
   "metadata": {},
   "source": [
    "#Question :04\n",
    "\n",
    "Write a Python program to print all happy numbers between 1 and 100?\n",
    "\n",
    "Answer:\n",
    "    "
   ]
  },
  {
   "cell_type": "code",
   "execution_count": 26,
   "id": "b8a8ac44",
   "metadata": {},
   "outputs": [
    {
     "name": "stdout",
     "output_type": "stream",
     "text": [
      "1 is a Happy Number :) \n",
      "7 is a Happy Number :) \n",
      "10 is a Happy Number :) \n",
      "13 is a Happy Number :) \n",
      "19 is a Happy Number :) \n",
      "23 is a Happy Number :) \n",
      "28 is a Happy Number :) \n",
      "31 is a Happy Number :) \n",
      "32 is a Happy Number :) \n",
      "44 is a Happy Number :) \n",
      "49 is a Happy Number :) \n",
      "68 is a Happy Number :) \n",
      "70 is a Happy Number :) \n",
      "79 is a Happy Number :) \n",
      "82 is a Happy Number :) \n",
      "86 is a Happy Number :) \n",
      "91 is a Happy Number :) \n",
      "94 is a Happy Number :) \n",
      "97 is a Happy Number :) \n",
      "100 is a Happy Number :) \n"
     ]
    }
   ],
   "source": [
    "#code\n",
    "def check(num,count):\n",
    "    rem=0\n",
    "    result=0\n",
    "    while num!=0:\n",
    "        rem=num%10\n",
    "        result=rem**2+result\n",
    "        num=int(num/10)\n",
    "    if result==1:\n",
    "        return result\n",
    "    elif result>1 and count<200:\n",
    "        count=count+1\n",
    "        return check(result,count)\n",
    "    elif result==0:\n",
    "        return 0\n",
    "    return 0\n",
    "for i in range(1,101):\n",
    "    num=i\n",
    "    count=0\n",
    "    x=check(num,count)\n",
    "    if x==True:\n",
    "        print(f\"{num} is a Happy Number :) \")"
   ]
  },
  {
   "cell_type": "markdown",
   "id": "1ad529bb",
   "metadata": {},
   "source": [
    "#Question :05\n",
    "\n",
    "Write a Python program to determine whether the given number is a Harshad Number?\n",
    "\n",
    "Answer:"
   ]
  },
  {
   "cell_type": "code",
   "execution_count": 12,
   "id": "c0e7b36f",
   "metadata": {},
   "outputs": [
    {
     "name": "stdout",
     "output_type": "stream",
     "text": [
      "Enter the number : 153\n",
      "17\n"
     ]
    }
   ],
   "source": [
    "#code\n",
    "num=int(input(\"Enter the number : \"))\n",
    "number=num\n",
    "sum=0\n",
    "while num!=0:\n",
    "    rem=num%10\n",
    "    sum=sum+rem\n",
    "    num=int(num/10)\n",
    "har=int(number/sum)\n",
    "print(har)"
   ]
  },
  {
   "cell_type": "markdown",
   "id": "a764c625",
   "metadata": {},
   "source": [
    "#Question :06\n",
    "\n",
    "Write a Python program to print all pronic numbers between 1 and 100?\n",
    "\n",
    "Answer:\n",
    "    "
   ]
  },
  {
   "cell_type": "code",
   "execution_count": 15,
   "id": "1e34ca3e",
   "metadata": {},
   "outputs": [
    {
     "name": "stdout",
     "output_type": "stream",
     "text": [
      "Enter lower limit of the range : 1\n",
      "Enter upper limit of the range : 100\n",
      "2\n",
      "6\n",
      "12\n",
      "20\n",
      "30\n",
      "42\n",
      "56\n",
      "72\n",
      "90\n"
     ]
    }
   ],
   "source": [
    "#code\n",
    "a=int(input(\"Enter lower limit of the range : \"))\n",
    "b=int(input(\"Enter upper limit of the range : \"))\n",
    "for i in range(a,b):\n",
    "    x=i*(i+1)\n",
    "    if x>=1 and x<=100:\n",
    "        print(x)\n",
    "    else:\n",
    "        continue"
   ]
  },
  {
   "cell_type": "code",
   "execution_count": null,
   "id": "05bc7e2a",
   "metadata": {},
   "outputs": [],
   "source": []
  }
 ],
 "metadata": {
  "kernelspec": {
   "display_name": "Python 3 (ipykernel)",
   "language": "python",
   "name": "python3"
  },
  "language_info": {
   "codemirror_mode": {
    "name": "ipython",
    "version": 3
   },
   "file_extension": ".py",
   "mimetype": "text/x-python",
   "name": "python",
   "nbconvert_exporter": "python",
   "pygments_lexer": "ipython3",
   "version": "3.9.7"
  }
 },
 "nbformat": 4,
 "nbformat_minor": 5
}
