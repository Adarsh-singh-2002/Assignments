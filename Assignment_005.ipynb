{
 "cells": [
  {
   "cell_type": "markdown",
   "id": "11498b6e",
   "metadata": {},
   "source": [
    "#Question :01\n",
    "\n",
    "What does an empty dictionary's code look like?   \n",
    "\n",
    "Answer: \n",
    "empty dictionary look like."
   ]
  },
  {
   "cell_type": "code",
   "execution_count": 8,
   "id": "38410662",
   "metadata": {},
   "outputs": [],
   "source": [
    "#code\n",
    "dictionary={}"
   ]
  },
  {
   "cell_type": "markdown",
   "id": "d41604b2",
   "metadata": {},
   "source": [
    "#Question :02\n",
    "\n",
    "What is the value of a dictionary value with the key 'foo' and the value 42?\n",
    "\n",
    "Answer: \n",
    "    \n"
   ]
  },
  {
   "cell_type": "code",
   "execution_count": 9,
   "id": "b105df5f",
   "metadata": {},
   "outputs": [],
   "source": [
    "#code\n",
    "dic={'foo':42}"
   ]
  },
  {
   "cell_type": "markdown",
   "id": "ccc6c915",
   "metadata": {},
   "source": [
    "#Question :03\n",
    "\n",
    "What is the most significant distinction between a dictionary and a list?\n",
    "\n",
    "Answer:\n",
    "    The most significant distinction between a dictionary and list is that a list stores values as it is .whereas the dictionary stores value in a key value pair.In the list we can access values through indexing but in dictionary we access values through key as indexes."
   ]
  },
  {
   "cell_type": "markdown",
   "id": "331d2ce9",
   "metadata": {},
   "source": [
    "#Question :04\n",
    "\n",
    "What happens if you try to access spam['foo'] if spam is {'bar': 100}?\n",
    "\n",
    "Answer:\n",
    "    It will simply throw an key error. "
   ]
  },
  {
   "cell_type": "markdown",
   "id": "7432ae36",
   "metadata": {},
   "source": [
    "#Question :05\n",
    "\n",
    "If a dictionary is stored in spam, what is the difference between the expressions 'cat' in spam and\n",
    "'cat' in spam.keys()?\n",
    "\n",
    "Answer:\n",
    "    Logically and functionally there is no difference in both of the sentences as both will check for 'cat' as a key in the dictionary and will return a boolean value."
   ]
  },
  {
   "cell_type": "markdown",
   "id": "48633d5f",
   "metadata": {},
   "source": [
    "#Question :06\n",
    "\n",
    "If a dictionary is stored in spam, what is the difference between the expressions 'cat' in spam and\n",
    "'cat' in spam.values()?\n",
    "\n",
    "Answer:\n",
    "    The dfference between both the statements are the first statement will check for 'cat' in key's of spam dictionary ,but the second statement will check for 'cat' in the values,as we are asking it to go to the value part of spam (spam.values()) and then check for 'cat'. This will also return a boolean type."
   ]
  },
  {
   "cell_type": "markdown",
   "id": "d215cecd",
   "metadata": {},
   "source": [
    "#Question :07\n",
    "\n",
    "What is a shortcut for the following code? -\n",
    "if 'color' not in spam:\n",
    "spam['color'] = 'black'\n",
    "\n",
    "Answer:\n",
    "    We may use the setdefault function for it."
   ]
  },
  {
   "cell_type": "code",
   "execution_count": 14,
   "id": "8fe3ffae",
   "metadata": {},
   "outputs": [
    {
     "name": "stdout",
     "output_type": "stream",
     "text": [
      "{'kk': 55, 'color': 'black'}\n",
      "{'kk': 55, 'color': 'red'}\n"
     ]
    }
   ],
   "source": [
    "#code\n",
    "spam ={'kk':55}\n",
    "spam.setdefault('color','black') #adding key value pair as same key is absent.\n",
    "print(spam)\n",
    "spam={'kk':55,'color':'red'}\n",
    "spam.setdefault('color','black') #Not adding the key value pair as key is already present.\n",
    "print(spam)"
   ]
  },
  {
   "cell_type": "markdown",
   "id": "dcf28d27",
   "metadata": {},
   "source": [
    "#Question :08\n",
    "\n",
    "How do you \"pretty print\" dictionary values using which module and function?\n",
    "\n",
    "Answer:\n",
    "    \"pretty print\" is a term used for printing organised values in a decorative and more readable manner.\n",
    "    there are several approches to attain this the first one is just by printing values using loops without the indentations and punctuations. The other approach is by using import pprint and then writing codes and printing using pprint. Also, we can import json and then write codes."
   ]
  },
  {
   "cell_type": "code",
   "execution_count": 21,
   "id": "0753bc88",
   "metadata": {},
   "outputs": [
    {
     "name": "stdout",
     "output_type": "stream",
     "text": [
      "The dictionary is : {'key1': {'a': 5, 'b': 'good'}, 'key2': {'c': 3}}\n",
      "The Pretty Print dictionary is : \n",
      "key1\n",
      "a : 5\n",
      "b : good\n",
      "key2\n",
      "c : 3\n",
      "\n",
      "\n",
      "\n",
      "[{'Age': '20', 'Country': 'USA', 'Name': 'Adarsh'},\n",
      " {'Age': '20', 'Country': 'UK', 'Name': 'Aayush'},\n",
      " {'Age': '19', 'Country': 'poland', 'Name': 'Ashwini'},\n",
      " {'Age': '55', 'Country': 'sweden', 'Name': 'devuti'}]\n",
      "\n",
      "\n",
      "\n",
      "[\n",
      "    {\n",
      "        \"Name\": \"Adarsh\",\n",
      "        \"Age\": \"20\",\n",
      "        \"Country\": \"USA\"\n",
      "    },\n",
      "    {\n",
      "        \"Name\": \"Aayush\",\n",
      "        \"Age\": \"20\",\n",
      "        \"Country\": \"UK\"\n",
      "    },\n",
      "    {\n",
      "        \"Name\": \"Ashwini\",\n",
      "        \"Age\": \"19\",\n",
      "        \"Country\": \"poland\"\n",
      "    },\n",
      "    {\n",
      "        \"Name\": \"devuti\",\n",
      "        \"Age\": \"55\",\n",
      "        \"Country\": \"sweden\"\n",
      "    }\n",
      "]\n"
     ]
    }
   ],
   "source": [
    "#code\n",
    "#by using simple loops\n",
    "test = {'key1' : {'a' : 5, 'b' : 'good'}, 'key2' : {'c' : 3}}\n",
    "\n",
    "print(\"The dictionary is : \" +  str(test))\n",
    "\n",
    "print(\"The Pretty Print dictionary is : \")\n",
    "for j in test:\n",
    "    print (j)\n",
    "    for i in test[j]:\n",
    "        print (i, ':', test[j][i])\n",
    "print(\"\\n\\n\")\n",
    "\n",
    "#by using pprint\n",
    "import pprint\n",
    "\n",
    "li = [\n",
    "  {'Name': 'Adarsh', 'Age': '20', 'Country': 'USA'},\n",
    "  {'Name': 'Aayush', 'Age': '20', 'Country': 'UK'},\n",
    "  {'Name': 'Ashwini', 'Age': '19', 'Country': 'poland'},\n",
    "  {'Name': 'devuti', 'Age': '55', 'Country': 'sweden'}\n",
    "]\n",
    "\n",
    "pprint.pprint(li)\n",
    "print(\"\\n\\n\")\n",
    "\n",
    "#by using json\n",
    "import json\n",
    "li_1= [\n",
    " {'Name': 'Adarsh', 'Age': '20', 'Country': 'USA'},\n",
    "  {'Name': 'Aayush', 'Age': '20', 'Country': 'UK'},\n",
    "  {'Name': 'Ashwini', 'Age': '19', 'Country': 'poland'},\n",
    "  {'Name': 'devuti', 'Age': '55', 'Country': 'sweden'}\n",
    "]\n",
    "\n",
    "print(json.dumps(li_1, sort_keys=False, indent=4))"
   ]
  },
  {
   "cell_type": "code",
   "execution_count": null,
   "id": "f8b8caed",
   "metadata": {},
   "outputs": [],
   "source": []
  }
 ],
 "metadata": {
  "kernelspec": {
   "display_name": "Python 3 (ipykernel)",
   "language": "python",
   "name": "python3"
  },
  "language_info": {
   "codemirror_mode": {
    "name": "ipython",
    "version": 3
   },
   "file_extension": ".py",
   "mimetype": "text/x-python",
   "name": "python",
   "nbconvert_exporter": "python",
   "pygments_lexer": "ipython3",
   "version": "3.9.7"
  }
 },
 "nbformat": 4,
 "nbformat_minor": 5
}
