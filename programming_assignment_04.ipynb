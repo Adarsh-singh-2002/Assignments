{
 "cells": [
  {
   "cell_type": "markdown",
   "id": "c629023c",
   "metadata": {},
   "source": [
    "#Question :01\n",
    "\n",
    "Write a Python Program to Find the Factorial of a Number?\n",
    "\n",
    "Answer:\n",
    "    "
   ]
  },
  {
   "cell_type": "code",
   "execution_count": 11,
   "id": "69d9a2f2",
   "metadata": {},
   "outputs": [
    {
     "name": "stdout",
     "output_type": "stream",
     "text": [
      "enter a number of your choice.2\n",
      "2\n"
     ]
    }
   ],
   "source": [
    "#code\n",
    "num=int(input(\"enter a number of your choice.\"))\n",
    "fact=1\n",
    "for i in range(num,0,-1):\n",
    "    fact=fact*i\n",
    "print(fact)\n"
   ]
  },
  {
   "cell_type": "markdown",
   "id": "a7e69f26",
   "metadata": {},
   "source": [
    "#Question :02\n",
    "\n",
    "Write a Python Program to Display the multiplication Table?\n",
    "\n",
    "Answer:\n"
   ]
  },
  {
   "cell_type": "code",
   "execution_count": 13,
   "id": "7e84fea6",
   "metadata": {},
   "outputs": [
    {
     "name": "stdout",
     "output_type": "stream",
     "text": [
      "enter a number of your choice : 34\n",
      "34 * 1  =  34\n",
      "34 * 2  =  68\n",
      "34 * 3  =  102\n",
      "34 * 4  =  136\n",
      "34 * 5  =  170\n",
      "34 * 6  =  204\n",
      "34 * 7  =  238\n",
      "34 * 8  =  272\n",
      "34 * 9  =  306\n",
      "34 * 10  =  340\n"
     ]
    }
   ],
   "source": [
    "#code\n",
    "num=int(input(\"enter a number of your choice : \"))\n",
    "for i in range(1,11):\n",
    "    print(num,\"*\",i,\" = \",num*i)"
   ]
  },
  {
   "cell_type": "markdown",
   "id": "24219273",
   "metadata": {},
   "source": [
    "#Question :03\n",
    "\n",
    "Write a Python Program to Print the Fibonacci sequence?\n",
    "\n",
    "Answer:"
   ]
  },
  {
   "cell_type": "code",
   "execution_count": 38,
   "id": "f7b5bb4e",
   "metadata": {},
   "outputs": [
    {
     "name": "stdout",
     "output_type": "stream",
     "text": [
      "enter the number of terms you want in the fibonacci series : 10\n",
      "1\n",
      "1\n",
      "2\n",
      "3\n",
      "5\n",
      "8\n",
      "13\n",
      "21\n",
      "34\n",
      "55\n"
     ]
    }
   ],
   "source": [
    "#code\n",
    "num=int(input(\"enter the number of terms you want in the fibonacci series : \"))\n",
    "if (num==1):\n",
    "    print(\"1\")\n",
    "elif(num==2):\n",
    "    print(\"1\")\n",
    "    print(\"1\")\n",
    "elif (num>2):\n",
    "    sum=0\n",
    "    p=0\n",
    "    f=1\n",
    "    print(\"1\")\n",
    "    for i in range(num-1):\n",
    "        sum=p+f\n",
    "        print(sum)\n",
    "        p=f\n",
    "        f=sum\n",
    "       "
   ]
  },
  {
   "cell_type": "markdown",
   "id": "024f3b87",
   "metadata": {},
   "source": [
    "#Question :04\n",
    "\n",
    "Write a Python Program to Check Armstrong Number?\n",
    "\n",
    "Answer:"
   ]
  },
  {
   "cell_type": "code",
   "execution_count": 17,
   "id": "24f74a7d",
   "metadata": {},
   "outputs": [
    {
     "name": "stdout",
     "output_type": "stream",
     "text": [
      "enter the number of your choice : 371\n",
      "Armstrong number\n"
     ]
    }
   ],
   "source": [
    "#code\n",
    "num=int(input(\"enter the number of your choice : \"))\n",
    "rem=0\n",
    "x=0\n",
    "number=0\n",
    "number=num\n",
    "while(num!=0):\n",
    "    x=num%10\n",
    "    rem=rem+x**3\n",
    "    num=int(num/10)\n",
    "if rem==number:\n",
    "    print(\"Armstrong number\")\n",
    "else:\n",
    "    print(\"Not a armstrong number :\")"
   ]
  },
  {
   "cell_type": "markdown",
   "id": "02d34d62",
   "metadata": {},
   "source": [
    "#Question :05\n",
    "\n",
    "Write a Python Program to Find Armstrong Number in an Interval?\n",
    "\n",
    "Answer:\n",
    "    "
   ]
  },
  {
   "cell_type": "code",
   "execution_count": 28,
   "id": "33493670",
   "metadata": {},
   "outputs": [
    {
     "name": "stdout",
     "output_type": "stream",
     "text": [
      "enter lower limit of the interval : 1\n",
      "enter upper limit of the interval : 1000\n",
      "1\n",
      "153\n",
      "370\n",
      "371\n",
      "407\n"
     ]
    }
   ],
   "source": [
    "a=int(input(\"enter lower limit of the interval : \"))\n",
    "b=int(input(\"enter upper limit of the interval : \"))\n",
    "if a<b:\n",
    "    for i in range(a,b+1):\n",
    "        rem=0\n",
    "        x=0\n",
    "        number=0\n",
    "        number=i\n",
    "        while(i!=0):\n",
    "            x=i%10\n",
    "            rem=rem+x**3\n",
    "            i=int(i/10)\n",
    "        if rem==number:\n",
    "            print(number)\n",
    "else:\n",
    "    print(\"correct value should be entered. understand what is lower and what is upper  limit.\")"
   ]
  },
  {
   "cell_type": "markdown",
   "id": "b99ef349",
   "metadata": {},
   "source": [
    "#Question :06\n",
    "\n",
    "Write a Python Program to Find the Sum of Natural Numbers?\n",
    "\n",
    "Answer:"
   ]
  },
  {
   "cell_type": "code",
   "execution_count": 30,
   "id": "fad1fe54",
   "metadata": {},
   "outputs": [
    {
     "name": "stdout",
     "output_type": "stream",
     "text": [
      "enter the number of natural number's sum you want :100\n",
      "5050\n"
     ]
    }
   ],
   "source": [
    "#code\n",
    "num=int(input(\"enter the number of natural number's sum you want :\"))\n",
    "sum=0\n",
    "for i in range(1,num+1):\n",
    "    sum=sum+i\n",
    "print(sum)"
   ]
  }
 ],
 "metadata": {
  "kernelspec": {
   "display_name": "Python 3 (ipykernel)",
   "language": "python",
   "name": "python3"
  },
  "language_info": {
   "codemirror_mode": {
    "name": "ipython",
    "version": 3
   },
   "file_extension": ".py",
   "mimetype": "text/x-python",
   "name": "python",
   "nbconvert_exporter": "python",
   "pygments_lexer": "ipython3",
   "version": "3.9.7"
  }
 },
 "nbformat": 4,
 "nbformat_minor": 5
}
