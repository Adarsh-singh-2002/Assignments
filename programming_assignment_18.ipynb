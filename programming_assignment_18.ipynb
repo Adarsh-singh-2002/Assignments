{
 "cells": [
  {
   "cell_type": "markdown",
   "id": "e020eb3a",
   "metadata": {},
   "source": [
    "#Question :01\n",
    "\n",
    "Create a function that takes a list of non-negative integers and strings and return a new list\n",
    "without the strings.\n",
    "\n",
    "Examples\n",
    "\n",
    "filter_list([1, 2,\"a\", \"b\"]) ➞ [1, 2]\n",
    "\n",
    "filter_list([1, \"a\", \"b\", 0, 15]) ➞ [1, 0, 15]\n",
    "\n",
    "filter_list([1, 2, \"aasf\", \"1\", \"123\", 123]) ➞ [1, 2, 123]\n",
    "\n",
    "Answer:"
   ]
  },
  {
   "cell_type": "code",
   "execution_count": 16,
   "id": "c1edd45b",
   "metadata": {},
   "outputs": [
    {
     "name": "stdout",
     "output_type": "stream",
     "text": [
      "Enter the number of entries : er\n",
      "invalid literal for int() with base 10: 'er'\n",
      "Enter the number of entries : 5\n",
      "Value of k is :  5\n",
      "Enter the values : \n",
      "5\n",
      "1\n",
      "2\n",
      "a\n",
      "b\n",
      "5\n",
      "[1, 2, 5]\n"
     ]
    }
   ],
   "source": [
    "#code\n",
    "def insert():\n",
    "    try :\n",
    "        num=int(input(\"Enter the number of entries : \"))\n",
    "        return num\n",
    "    except Exception as e:\n",
    "        print(e)\n",
    "        return 0+insert()\n",
    "def val(num):\n",
    "    try :\n",
    "        N=[]\n",
    "        print(\"Enter the values : \")\n",
    "        print(num)\n",
    "        for i in range(num):\n",
    "            x=input()\n",
    "            if x.isdigit():\n",
    "                if int(x)>0:\n",
    "                    N.append(int(x))\n",
    "            else:\n",
    "                continue\n",
    "    except Exception as e:\n",
    "        print(e)\n",
    "        val(num)\n",
    "    else:\n",
    "        print(N)\n",
    "k=insert()\n",
    "print(\"Value of k is : \",k)\n",
    "val(k)"
   ]
  },
  {
   "cell_type": "markdown",
   "id": "b51fcf1a",
   "metadata": {},
   "source": [
    "#Question :02\n",
    "\n",
    "The \"Reverser\" takes a string as input and returns that string in reverse order, with the\n",
    "opposite case.\n",
    "\n",
    "Examples\n",
    "\n",
    "reverse(\"Hello World\") ➞ \"DLROw OLLEh\"\n",
    "\n",
    "reverse(\"ReVeRsE\") ➞\"eSrEvEr\"\n",
    "\n",
    "reverse(\"Radar\") ➞ \"RADAr\"\n",
    "\n",
    "Answer:"
   ]
  },
  {
   "cell_type": "code",
   "execution_count": 3,
   "id": "52363ac1",
   "metadata": {},
   "outputs": [
    {
     "name": "stdout",
     "output_type": "stream",
     "text": [
      "Enter the string : Hello World\n"
     ]
    },
    {
     "data": {
      "text/plain": [
       "'DLROw OLLEh'"
      ]
     },
     "execution_count": 3,
     "metadata": {},
     "output_type": "execute_result"
    }
   ],
   "source": [
    "#code\n",
    "val=input(\"Enter the string : \")\n",
    "val=val.swapcase()\n",
    "val[::-1]\n",
    "    "
   ]
  },
  {
   "cell_type": "markdown",
   "id": "ec7965ea",
   "metadata": {},
   "source": [
    "#Question 3\n",
    "\n",
    "You can assign variables from lists like this:\n",
    "    \n",
    "lst = [1, 2, 3, 4, 5, 6]\n",
    "\n",
    "first = lst[0]\n",
    "\n",
    "middle = lst[1:-1]\n",
    "\n",
    "last = lst[-1]\n",
    "\n",
    "print(first) ➞ outputs 1\n",
    "\n",
    "print(middle) ➞ outputs [2, 3, 4, 5]\n",
    "\n",
    "print(last) ➞ outputs 6\n",
    "\n",
    "With Python 3, you can assign variables from lists in a much more succinct way. Create\n",
    "variables first, middle and last from the given list using destructuring assignment\n",
    "(check the Resources tab for some examples), where:\n",
    "    \n",
    "first ➞ 1\n",
    "\n",
    "middle ➞ [2, 3, 4, 5]\n",
    "\n",
    "last ➞ 6\n",
    "\n",
    "Your task is to unpack the list writeyourcodehere into three variables, being first,\n",
    "middle, and last, with middle being everything in between the first and last element. Then\n",
    "print all three variables.\n",
    "\n",
    "Answer:"
   ]
  },
  {
   "cell_type": "code",
   "execution_count": 6,
   "id": "7ea1f2d3",
   "metadata": {},
   "outputs": [
    {
     "name": "stdout",
     "output_type": "stream",
     "text": [
      "Enter the number of terms : 5\n",
      "Enter the values of List : \n",
      "we\n",
      "55\n",
      "are\n",
      "55\n",
      "equal\n",
      "First :  we\n",
      "Middle :  ['55', 'are', '55']\n",
      "End :  equal\n"
     ]
    }
   ],
   "source": [
    "#code\n",
    "try:\n",
    "    num=int(input(\"Enter the number of terms : \"))\n",
    "except Exception as e:\n",
    "    print(e)\n",
    "    print(\"Try to re run the program Again.\")\n",
    "else:\n",
    "    print(\"Enter the values of List : \")\n",
    "    N=[]\n",
    "    for i in range(num):\n",
    "        x=input()\n",
    "        N.append(x)\n",
    "    print(\"First : \",N[0])\n",
    "    print(\"Middle : \",N[1:-1])\n",
    "    print(\"End : \",N[-1])"
   ]
  },
  {
   "cell_type": "markdown",
   "id": "7a26e30d",
   "metadata": {},
   "source": [
    "#Question :04\n",
    "\n",
    "Write a function that calculates the factorial of a number recursively.\n",
    "\n",
    "Examples\n",
    "\n",
    "factorial(5) ➞ 120\n",
    "\n",
    "factorial(3) ➞ 6\n",
    "\n",
    "factorial(1) ➞ 1\n",
    "\n",
    "factorial(0) ➞ 1\n",
    "\n",
    "Answer:"
   ]
  },
  {
   "cell_type": "code",
   "execution_count": 15,
   "id": "afa44912",
   "metadata": {},
   "outputs": [
    {
     "name": "stdout",
     "output_type": "stream",
     "text": [
      "5\n",
      "Factorial of 5 is :  120\n"
     ]
    }
   ],
   "source": [
    "#code\n",
    "def fact(num):\n",
    "    if num==0:\n",
    "        return num+1\n",
    "    else:\n",
    "        return num*fact(num-1)\n",
    "    \n",
    "try:\n",
    "    num=int(input())\n",
    "except Exception as e:\n",
    "    print(e)\n",
    "else:\n",
    "    print(f\"Factorial of {num} is : \",fact(num))\n",
    "    \n",
    "    "
   ]
  },
  {
   "cell_type": "markdown",
   "id": "7c5826f8",
   "metadata": {},
   "source": [
    "Question :05\n",
    "    \n",
    "Write a function that moves all elements of one type to the end of the list.\n",
    "\n",
    "Examples\n",
    "\n",
    "move_to_end([1, 3, 2, 4, 4, 1], 1) ➞ [3, 2, 4, 4, 1, 1]\n",
    "\n",
    "move_to_end([7, 8, 9, 1, 2, 3, 4], 9) ➞ [7, 8, 1, 2, 3, 4, 9]\n",
    "\n",
    "move_to_end([\"a\",\"a\",\"a\",\"b\"], \"a\") ➞ [\"b\", \"a\", \"a\", \"a\"]\n",
    "\n",
    "Answer:\n"
   ]
  },
  {
   "cell_type": "code",
   "execution_count": 6,
   "id": "8eaa3f56",
   "metadata": {},
   "outputs": [
    {
     "name": "stdout",
     "output_type": "stream",
     "text": [
      "Enter number of tests : 3\n",
      "Enter the number of values : 6\n",
      "Enter the values of the list : \n",
      "1\n",
      "3\n",
      "2\n",
      "4\n",
      "4\n",
      "1\n",
      "enter the value to be moved : \n",
      "1\n",
      "[3, 2, 4, 4]\n",
      "[1, 1]\n",
      "[3, 2, 4, 4, 1, 1]\n",
      "Enter the number of values : 7\n",
      "Enter the values of the list : \n",
      "7\n",
      "8\n",
      "9\n",
      "1\n",
      "2\n",
      "3\n",
      "4\n",
      "enter the value to be moved : \n",
      "9\n",
      "[7, 8, 1, 2, 3, 4]\n",
      "[9]\n",
      "[7, 8, 1, 2, 3, 4, 9]\n",
      "Enter the number of values : 4\n",
      "Enter the values of the list : \n",
      "a\n",
      "a\n",
      "a\n",
      "b\n",
      "enter the value to be moved : \n",
      "a\n",
      "['b']\n",
      "['a', 'a', 'a']\n",
      "['b', 'a', 'a', 'a']\n"
     ]
    }
   ],
   "source": [
    "#code\n",
    "def move_to_end(N,num):\n",
    "    k=[]\n",
    "    final=[]\n",
    "    for i in N:\n",
    "        if i==num:\n",
    "            if i.isdigit():\n",
    "                k.append(int(i))\n",
    "            else:\n",
    "                k.append(i)\n",
    "        else:\n",
    "            if i.isdigit():\n",
    "                final.append(int(i))\n",
    "            else:\n",
    "                final.append(i)\n",
    "    print(final)\n",
    "    print(k)\n",
    "    return final+k\n",
    "def num():\n",
    "    try:\n",
    "        num=int(input(\"Enter the number of values : \"))\n",
    "        return num\n",
    "    except Exception as e:\n",
    "        print(e)\n",
    "        return 0+num()\n",
    "def insert(num):\n",
    "    try:\n",
    "        print(\"Enter the values of the list : \")\n",
    "        n=[]\n",
    "        for i in range(num):\n",
    "            try:\n",
    "                x=input()\n",
    "                n.append(x)\n",
    "            except Exception as e:\n",
    "                print(e)\n",
    "                return insert(num)+0\n",
    "    except Exception as e:\n",
    "        print(e)\n",
    "        return 0\n",
    "    return n\n",
    "def select():\n",
    "    print(\"enter the value to be moved : \")\n",
    "    n=input()\n",
    "    return n\n",
    "def test():\n",
    "    try:\n",
    "        num=int(input(\"Enter number of tests : \"))\n",
    "        return num\n",
    "    except Exception as e:\n",
    "        print(e)\n",
    "        return test()+0\n",
    "value=test()\n",
    "for i in range(value):\n",
    "    k=num()\n",
    "    s=insert(k)\n",
    "    c=select()\n",
    "    p=move_to_end(s,c)\n",
    "    print(p)"
   ]
  }
 ],
 "metadata": {
  "kernelspec": {
   "display_name": "Python 3 (ipykernel)",
   "language": "python",
   "name": "python3"
  },
  "language_info": {
   "codemirror_mode": {
    "name": "ipython",
    "version": 3
   },
   "file_extension": ".py",
   "mimetype": "text/x-python",
   "name": "python",
   "nbconvert_exporter": "python",
   "pygments_lexer": "ipython3",
   "version": "3.9.7"
  }
 },
 "nbformat": 4,
 "nbformat_minor": 5
}
