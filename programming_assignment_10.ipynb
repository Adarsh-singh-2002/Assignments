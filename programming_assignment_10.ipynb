{
 "cells": [
  {
   "cell_type": "markdown",
   "id": "b2c206b9",
   "metadata": {},
   "source": [
    "#Question :01\n",
    "\n",
    "Write a Python program to find sum of elements in list?\n",
    "\n",
    "Answer:"
   ]
  },
  {
   "cell_type": "code",
   "execution_count": 6,
   "id": "ca21e0c9",
   "metadata": {},
   "outputs": [
    {
     "name": "stdout",
     "output_type": "stream",
     "text": [
      "Enter the number of entries : 5\n",
      "Enter value 1 : 23\n",
      "Enter value 2 : 25\n",
      "Enter value 3 : 55\n",
      "Enter value 4 : 12\n",
      "Enter value 5 : 05\n",
      "Sum of the elements in the list is :  120\n"
     ]
    }
   ],
   "source": [
    "#code\n",
    "try:\n",
    "    N=[]\n",
    "    num=int(input(\"Enter the number of entries : \"))\n",
    "    sum=0\n",
    "    if num>0:\n",
    "        for i in range(num):\n",
    "            x=int(input(f\"Enter value {i+1} : \"))\n",
    "            N.append(x)\n",
    "        for i in N:\n",
    "            sum+=i\n",
    "        print(\"Sum of the elements in the list is : \",sum)\n",
    "except Exception as e:\n",
    "    print(\"ERROR : \",e)"
   ]
  },
  {
   "cell_type": "markdown",
   "id": "0d750784",
   "metadata": {},
   "source": [
    "#Question :02\n",
    "\n",
    "Write a Python program to Multiply all numbers in the list?\n",
    "\n",
    "Answer:"
   ]
  },
  {
   "cell_type": "code",
   "execution_count": 7,
   "id": "427e748a",
   "metadata": {},
   "outputs": [
    {
     "name": "stdout",
     "output_type": "stream",
     "text": [
      "Enter the number of entries : 5\n",
      "Enter value 1 : 12\n",
      "Enter value 2 : 34\n",
      "Enter value 3 : 23\n",
      "Enter value 4 : 12\n",
      "Enter value 5 : 5\n",
      "Sum of the elements in the list is :  563040\n"
     ]
    }
   ],
   "source": [
    "#code\n",
    "try:\n",
    "    N=[]\n",
    "    num=int(input(\"Enter the number of entries : \"))\n",
    "    sum=1\n",
    "    if num>0:\n",
    "        for i in range(num):\n",
    "            x=int(input(f\"Enter value {i+1} : \"))\n",
    "            N.append(x)\n",
    "        for i in N:\n",
    "            sum*=i\n",
    "        print(\"Sum of the elements in the list is : \",sum)\n",
    "    else:\n",
    "        print(\"Enter entries greater than 0.\")\n",
    "except Exception as e:\n",
    "    print(\"ERROR : \",e)"
   ]
  },
  {
   "cell_type": "markdown",
   "id": "3656bf1a",
   "metadata": {},
   "source": [
    "#Question :03\n",
    "\n",
    "Write a Python program to find smallest number in a list?\n",
    "\n",
    "Answer:"
   ]
  },
  {
   "cell_type": "code",
   "execution_count": 17,
   "id": "cb7cfbca",
   "metadata": {},
   "outputs": [
    {
     "name": "stdout",
     "output_type": "stream",
     "text": [
      "Enter the number of entries : 5\n",
      "Enter value 1 : 12\n",
      "Enter value 2 : 45\n",
      "Enter value 3 : 55\n",
      "Enter value 4 : 67\n",
      "Enter value 5 : 23\n",
      "The Smallest value in the List is :  12\n"
     ]
    }
   ],
   "source": [
    "#code\n",
    "try:\n",
    "    N=[]\n",
    "    num=int(input(\"Enter the number of entries : \"))\n",
    "    sum=1\n",
    "    max=1000\n",
    "    if num>0:\n",
    "        for i in range(num):\n",
    "            x=int(input(f\"Enter value {i+1} : \"))\n",
    "            N.append(x)\n",
    "            if max>x:\n",
    "                max=x\n",
    "            else:\n",
    "                continue\n",
    "    print(\"The Smallest value in the List is : \",max)\n",
    "except Exception as e:\n",
    "    print(\"ERROR : \",e)"
   ]
  },
  {
   "cell_type": "markdown",
   "id": "b47ac9e3",
   "metadata": {},
   "source": [
    "#Question :04\n",
    "\n",
    "Write a Python program to find largest number in a list?\n",
    "\n",
    "Answer:\n",
    "    "
   ]
  },
  {
   "cell_type": "code",
   "execution_count": 18,
   "id": "e886bc3c",
   "metadata": {},
   "outputs": [
    {
     "name": "stdout",
     "output_type": "stream",
     "text": [
      "Enter the number of entries : 5\n",
      "Enter value 1 : 12\n",
      "Enter value 2 : 34\n",
      "Enter value 3 : 22\n",
      "Enter value 4 : 55\n",
      "Enter value 5 : 78\n",
      "The largest value in the List is :  78\n"
     ]
    }
   ],
   "source": [
    "#code\n",
    "try:\n",
    "    N=[]\n",
    "    num=int(input(\"Enter the number of entries : \"))\n",
    "    sum=1\n",
    "    max=-1000\n",
    "    if num>0:\n",
    "        for i in range(num):\n",
    "            x=int(input(f\"Enter value {i+1} : \"))\n",
    "            N.append(x)\n",
    "            if max<x:\n",
    "                max=x\n",
    "            else:\n",
    "                continue\n",
    "    print(\"The largest value in the List is : \",max)\n",
    "except Exception as e:\n",
    "    print(\"ERROR : \",e)"
   ]
  },
  {
   "cell_type": "markdown",
   "id": "8a35fe84",
   "metadata": {},
   "source": [
    "#Question :05\n",
    "\n",
    "Write a Python program to find second largest number in a list?\n",
    "\n",
    "Answer:\n",
    "    "
   ]
  },
  {
   "cell_type": "code",
   "execution_count": 19,
   "id": "79b38c36",
   "metadata": {},
   "outputs": [
    {
     "name": "stdout",
     "output_type": "stream",
     "text": [
      "Enter the number of entries : 5\n",
      "Enter value 1 : 2\n",
      "Enter value 2 : 3\n",
      "Enter value 3 : 1\n",
      "Enter value 4 : 4\n",
      "Enter value 5 : 5\n",
      "The maximum value is :  5\n",
      "The second maximum value is :  4\n"
     ]
    }
   ],
   "source": [
    "#code\n",
    "try:\n",
    "    N=[]\n",
    "    num=int(input(\"Enter the number of entries : \"))\n",
    "    sum=1\n",
    "    if num>0:\n",
    "        for i in range(num):\n",
    "            x=int(input(f\"Enter value {i+1} : \"))\n",
    "            N.append(x)\n",
    "    if N[0]>N[1]:\n",
    "        max=N[0]\n",
    "        smax=N[1]\n",
    "    else:\n",
    "        max=N[1]\n",
    "        smax=N[0]\n",
    "    for i in range(2,num):\n",
    "        if N[i]!=max and N[i]!=smax:\n",
    "            if N[i]>max:\n",
    "                smax=max\n",
    "                max=N[i]\n",
    "            elif N[i]>smax:\n",
    "                smax=N[i]\n",
    "            else:\n",
    "                continue\n",
    "        else:\n",
    "            continue\n",
    "    print(\"The maximum value is : \",max)\n",
    "    print(\"The second maximum value is : \",smax)\n",
    "except Exception as e:\n",
    "    print(e)"
   ]
  },
  {
   "cell_type": "markdown",
   "id": "cb625ad9",
   "metadata": {},
   "source": [
    "#Question :06\n",
    "\n",
    "Write a Python program to find N largest elements from a list?\n",
    "\n",
    "Answer:\n",
    "    "
   ]
  },
  {
   "cell_type": "code",
   "execution_count": 28,
   "id": "b837fa30",
   "metadata": {},
   "outputs": [
    {
     "name": "stdout",
     "output_type": "stream",
     "text": [
      "Enter the number of entries : 5\n",
      "Enter value 1 : 23\n",
      "Enter value 2 : 12\n",
      "Enter value 3 : 66\n",
      "Enter value 4 : 45\n",
      "Enter value 5 : 76\n",
      "Enter the largest number : 2\n",
      "66\n"
     ]
    }
   ],
   "source": [
    "#code\n",
    "try:\n",
    "    N=[]\n",
    "    num=int(input(\"Enter the number of entries : \"))\n",
    "    sum=1\n",
    "    if num>0:\n",
    "        for i in range(num):\n",
    "            x=int(input(f\"Enter value {i+1} : \"))\n",
    "            N.append(x)\n",
    "        N.sort()\n",
    "        lar=int(input(\"Enter the largest number : \"))\n",
    "        if lar>0 and lar <num:\n",
    "            print(N[num-lar])\n",
    "        else:\n",
    "            print(\"Enter a valid number.\")\n",
    "    else:\n",
    "        print(\"Enter a valid number of entries.\")\n",
    "except Exception as e:\n",
    "    print(\"ERROR : \",e)"
   ]
  },
  {
   "cell_type": "markdown",
   "id": "3552b1b6",
   "metadata": {},
   "source": [
    "#Question :07\n",
    "\n",
    "Write a Python program to print even numbers in a list?\n",
    "\n",
    "Answer:\n"
   ]
  },
  {
   "cell_type": "code",
   "execution_count": 32,
   "id": "21ad6c5f",
   "metadata": {},
   "outputs": [
    {
     "name": "stdout",
     "output_type": "stream",
     "text": [
      "Enter the number of entries : 5\n",
      "Enter value 1 : 2\n",
      "Enter value 2 : 3\n",
      "Enter value 3 : 4\n",
      "Enter value 4 : 56\n",
      "Enter value 5 : 5\n",
      "2  \n",
      "4  \n",
      "56  \n"
     ]
    }
   ],
   "source": [
    "#code\n",
    "try:\n",
    "    N=[]\n",
    "    num=int(input(\"Enter the number of entries : \"))\n",
    "    sum=1\n",
    "    if num>0:\n",
    "        for i in range(num):\n",
    "            x=int(input(f\"Enter value {i+1} : \"))\n",
    "            N.append(x)\n",
    "        for i in N:\n",
    "            if i%2==0:\n",
    "                print(i,\" \")\n",
    "            else:\n",
    "                continue\n",
    "            \n",
    "            \n",
    "    else:\n",
    "        print(\"Enter valid number of entries.\")\n",
    "except Exception as e:\n",
    "    print(\"ERROR : \",e)"
   ]
  },
  {
   "cell_type": "markdown",
   "id": "f72fa060",
   "metadata": {},
   "source": [
    "#Question :08\n",
    "\n",
    "Write a Python program to print odd numbers in a List?\n",
    "\n",
    "Answer:"
   ]
  },
  {
   "cell_type": "code",
   "execution_count": 33,
   "id": "8b62079e",
   "metadata": {},
   "outputs": [
    {
     "name": "stdout",
     "output_type": "stream",
     "text": [
      "Enter the number of entries : 3\n",
      "Enter value 1 : 1\n",
      "Enter value 2 : 23\n",
      "Enter value 3 : 44\n",
      "1  \n",
      "23  \n"
     ]
    }
   ],
   "source": [
    "#code\n",
    "try:\n",
    "    N=[]\n",
    "    num=int(input(\"Enter the number of entries : \"))\n",
    "    sum=1\n",
    "    if num>0:\n",
    "        for i in range(num):\n",
    "            x=int(input(f\"Enter value {i+1} : \"))\n",
    "            N.append(x)\n",
    "        for i in N:\n",
    "            if i%2!=0:\n",
    "                print(i,\" \")\n",
    "            else:\n",
    "                continue\n",
    "            \n",
    "            \n",
    "    else:\n",
    "        print(\"Enter valid number of entries.\")\n",
    "except Exception as e:\n",
    "    print(\"ERROR : \",e)"
   ]
  },
  {
   "cell_type": "markdown",
   "id": "efe4b5b2",
   "metadata": {},
   "source": [
    "#Question :09\n",
    "\n",
    "Write a Python program to Remove empty List from List?\n",
    "\n",
    "Answer:\n"
   ]
  },
  {
   "cell_type": "code",
   "execution_count": 45,
   "id": "6bb14fe9",
   "metadata": {},
   "outputs": [
    {
     "name": "stdout",
     "output_type": "stream",
     "text": [
      "[['ram', '15', '8'], ['laxman', 'sita'], ['krishna', 'akbar', '45'], ['', '']]\n"
     ]
    }
   ],
   "source": [
    "#code\n",
    "try:\n",
    "    def Remove(lists):\n",
    "        lists = [t for t in lists if t]\n",
    "        return lists\n",
    "  \n",
    "    lists=[[], ['ram','15','8'], [], ['laxman', 'sita'], \n",
    "          ['krishna', 'akbar', '45'], ['',''],[]]\n",
    "    \n",
    "    print(Remove(lists))\n",
    "except Exception as e:\n",
    "    print(e)"
   ]
  },
  {
   "cell_type": "markdown",
   "id": "078ea819",
   "metadata": {},
   "source": [
    "#Question :10\n",
    "\n",
    "Write a Python program to Cloning or Copying a list?\n",
    "\n",
    "Answer:"
   ]
  },
  {
   "cell_type": "code",
   "execution_count": 47,
   "id": "4b59706d",
   "metadata": {},
   "outputs": [
    {
     "name": "stdout",
     "output_type": "stream",
     "text": [
      "[['ram', '15', '8'], ['laxman', 'sita'], ['krishna', 'akbar', '45'], ['', '']]\n",
      "[['ram', '15', '8'], ['laxman', 'sita'], ['krishna', 'akbar', '45'], ['', '']]\n"
     ]
    }
   ],
   "source": [
    "#code\n",
    "lists=[['ram','15','8'], ['laxman', 'sita'], \n",
    "          ['krishna', 'akbar', '45'], ['','']]\n",
    "x=lists.copy()\n",
    "print(x)\n",
    "print(lists)"
   ]
  },
  {
   "cell_type": "markdown",
   "id": "6d50be7d",
   "metadata": {},
   "source": [
    "#Question :11\n",
    "\n",
    "Write a Python program to Count occurrences of an element in a list?\n",
    "\n",
    "Answer:\n",
    "    "
   ]
  },
  {
   "cell_type": "code",
   "execution_count": 50,
   "id": "0a74f657",
   "metadata": {},
   "outputs": [
    {
     "name": "stdout",
     "output_type": "stream",
     "text": [
      "Enter the number of entries : 5\n",
      "Enter value 1 : 23\n",
      "Enter value 2 : 23\n",
      "Enter value 3 : df\n",
      "Enter value 4 : ed\n",
      "Enter value 5 : 23\n",
      "Enter the element that need to be find : 23\n",
      "The number of times 23 is present in the list is :  3\n"
     ]
    }
   ],
   "source": [
    "try:\n",
    "    N=[]\n",
    "    num=int(input(\"Enter the number of entries : \"))\n",
    "    sum=1\n",
    "    if num>0:\n",
    "        for i in range(num):\n",
    "            x=input(f\"Enter value {i+1} : \")\n",
    "            N.append(x)\n",
    "    else:\n",
    "        print(\"Enter number of valid entries.\")\n",
    "    find=input(\"Enter the element that need to be find : \")\n",
    "    x=N.count(find)\n",
    "    print(f\"The number of times {find} is present in the list is : \",x)\n",
    "except Exception as e:\n",
    "    print(\"ERROR : \",e)"
   ]
  },
  {
   "cell_type": "code",
   "execution_count": null,
   "id": "12ae42fd",
   "metadata": {},
   "outputs": [],
   "source": []
  }
 ],
 "metadata": {
  "kernelspec": {
   "display_name": "Python 3 (ipykernel)",
   "language": "python",
   "name": "python3"
  },
  "language_info": {
   "codemirror_mode": {
    "name": "ipython",
    "version": 3
   },
   "file_extension": ".py",
   "mimetype": "text/x-python",
   "name": "python",
   "nbconvert_exporter": "python",
   "pygments_lexer": "ipython3",
   "version": "3.9.7"
  }
 },
 "nbformat": 4,
 "nbformat_minor": 5
}
