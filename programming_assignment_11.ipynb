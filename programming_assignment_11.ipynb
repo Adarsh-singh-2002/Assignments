{
 "cells": [
  {
   "cell_type": "markdown",
   "id": "f2fa9a54",
   "metadata": {},
   "source": [
    "#Question :01\n",
    "\n",
    "Write a Python program to find words which are greater than given length k?\n",
    "\n",
    "Answer:"
   ]
  },
  {
   "cell_type": "code",
   "execution_count": 4,
   "id": "12af73f7",
   "metadata": {},
   "outputs": [
    {
     "name": "stdout",
     "output_type": "stream",
     "text": [
      "Enter a string of your choiceadarsh is a very good coder.\n",
      "Enter the length of the words you want : 3\n",
      "words with length greater than 3 are :  adarsh\n",
      "words with length greater than 3 are :  very\n",
      "words with length greater than 3 are :  good\n",
      "words with length greater than 3 are :  coder.\n"
     ]
    }
   ],
   "source": [
    "#code\n",
    "s=input(\"Enter a string of your choice\")\n",
    "x=s.split()\n",
    "k=[]\n",
    "val=int(input(\"Enter the length of the words you want : \"))\n",
    "for i in x:\n",
    "    p=len(i)\n",
    "    if p>val:\n",
    "        k.append(i)\n",
    "for i in k:\n",
    "    print(f\"words with length greater than {val} are : \",i)\n"
   ]
  },
  {
   "cell_type": "markdown",
   "id": "0568baa1",
   "metadata": {},
   "source": [
    "#Question :02\n",
    "\n",
    "Write a Python program for removing i-th character from a string?\n",
    "\n",
    "Answer:\n",
    "    "
   ]
  },
  {
   "cell_type": "code",
   "execution_count": 61,
   "id": "414a8f54",
   "metadata": {},
   "outputs": [
    {
     "name": "stdout",
     "output_type": "stream",
     "text": [
      "Enter a string of your choice : Adarsh is good at coding.\n",
      "Enter the value of ith position : 3\n",
      "Adrsh is good at coding."
     ]
    }
   ],
   "source": [
    "#code\n",
    "s=input(\"Enter a string of your choice : \")\n",
    "n=int(input(\"Enter the value of ith position : \"))\n",
    "for i in range(len(s)):\n",
    "    if i == n-1:\n",
    "        continue\n",
    "    else:\n",
    "        print(s[i],end=\"\")"
   ]
  },
  {
   "cell_type": "markdown",
   "id": "302f8000",
   "metadata": {},
   "source": [
    "#Question :03\n",
    "\n",
    "Write a Python program to split and join a string?\n",
    "\n",
    "Answer:\n",
    "    "
   ]
  },
  {
   "cell_type": "code",
   "execution_count": 23,
   "id": "26ff1f37",
   "metadata": {},
   "outputs": [
    {
     "name": "stdout",
     "output_type": "stream",
     "text": [
      "Enter a string of your choice : Adarsh is a good coder.\n",
      "This is a splited string :  ['Adarsh', 'is', 'a', 'good', 'coder.']\n",
      "This is the joined string :  Adarsh is a good coder. \n"
     ]
    }
   ],
   "source": [
    "#code\n",
    "s=input(\"Enter a string of your choice : \")\n",
    "k=s.split()\n",
    "p=\"\"\n",
    "print(\"This is a splited string : \",k)\n",
    "for i in k:\n",
    "    p=p+i+\" \"\n",
    "print(\"This is the joined string : \",p)"
   ]
  },
  {
   "cell_type": "markdown",
   "id": "bc31aa7a",
   "metadata": {},
   "source": [
    "#Question :04\n",
    "\n",
    "Write a Python to check if a given string is binary string or not?\n",
    "\n",
    "Answer:"
   ]
  },
  {
   "cell_type": "code",
   "execution_count": 26,
   "id": "409dec8e",
   "metadata": {},
   "outputs": [
    {
     "name": "stdout",
     "output_type": "stream",
     "text": [
      "Enter a binary string : 1000010q210010101\n",
      "Your binary string is not a binary string\n"
     ]
    }
   ],
   "source": [
    "#code\n",
    "s=input(\"Enter a binary string : \")\n",
    "for i in s:\n",
    "    if i=='0' or i=='1':\n",
    "        continue\n",
    "    else:\n",
    "        print(\"Your binary string is not a binary string\")\n",
    "        break\n",
    "else:\n",
    "    print(\"your binary string is correctly a binary string\")"
   ]
  },
  {
   "cell_type": "markdown",
   "id": "97654d23",
   "metadata": {},
   "source": [
    "#Question :05\n",
    "\n",
    "Write a Python program to find uncommon words from two Strings?\n",
    "\n",
    "Answer:"
   ]
  },
  {
   "cell_type": "code",
   "execution_count": 34,
   "id": "d52ce238",
   "metadata": {},
   "outputs": [
    {
     "name": "stdout",
     "output_type": "stream",
     "text": [
      "Enter first string : Adarsh is a good coder\n",
      "Enter second string : Aayush is also a good coder\n",
      "This is a uncommon word in both the strings. Adarsh\n",
      "This is a uncommon word in both the strings. Aayush\n",
      "This is a uncommon word in both the strings. also\n"
     ]
    }
   ],
   "source": [
    "#code\n",
    "str1=input(\"Enter first string : \")\n",
    "str2=input(\"Enter second string : \")\n",
    "x=str1.split()\n",
    "y=str2.split()\n",
    "for i in x:\n",
    "    if i in y:\n",
    "        continue\n",
    "    else:\n",
    "        print(\"This is a uncommon word in both the strings.\",i)\n",
    "for i in y:\n",
    "    if i in x:\n",
    "        continue\n",
    "    else:\n",
    "        print(\"This is a uncommon word in both the strings.\",i)"
   ]
  },
  {
   "cell_type": "markdown",
   "id": "a70fd996",
   "metadata": {},
   "source": [
    "#Question :06\n",
    "\n",
    "Write a Python to find all duplicate characters in string?\n",
    "\n",
    "Answer:"
   ]
  },
  {
   "cell_type": "code",
   "execution_count": 52,
   "id": "53f03b6b",
   "metadata": {},
   "outputs": [
    {
     "name": "stdout",
     "output_type": "stream",
     "text": [
      "Enter a string of your choice : adarsh is a good coder\n",
      "a is repeated 3 times\n",
      "d is repeated 3 times\n",
      "r is repeated 2 times\n",
      "s is repeated 2 times\n",
      "o is repeated 3 times\n"
     ]
    }
   ],
   "source": [
    "#code\n",
    "strr=input(\"Enter a string of your choice : \")\n",
    "k=[]\n",
    "for i in strr:\n",
    "    I=i.lower()\n",
    "    x=strr.count(I)\n",
    "    if x>1 and I!=' ' and (I not in k):\n",
    "        print(f\"{i} is repeated {x} times\")\n",
    "        k.append(i)\n",
    "    else:\n",
    "        continue"
   ]
  },
  {
   "cell_type": "markdown",
   "id": "44c685e1",
   "metadata": {},
   "source": [
    "#Question :07\n",
    "\n",
    "Write a Python Program to check if a string contains any special character?\n",
    "\n",
    "Answer:\n",
    "    "
   ]
  },
  {
   "cell_type": "code",
   "execution_count": 56,
   "id": "039c0b4f",
   "metadata": {},
   "outputs": [
    {
     "name": "stdout",
     "output_type": "stream",
     "text": [
      "Enter a string of your choice.Ad@r$h is a . g&&d co%^r\n",
      "This is a special character in the string:  @\n",
      "This is a special character in the string:  $\n",
      "This is a special character in the string:  .\n",
      "This is a special character in the string:  &\n",
      "This is a special character in the string:  &\n",
      "This is a special character in the string:  %\n",
      "This is a special character in the string:  ^\n"
     ]
    }
   ],
   "source": [
    "#code\n",
    "strr=input(\"Enter a string of your choice.\")\n",
    "cc='''!@#$%^&*():;,.\"*/\\\"'''\n",
    "for i in strr:\n",
    "    if i in cc:\n",
    "        print(\"This is a special character in the string: \",i)"
   ]
  },
  {
   "cell_type": "code",
   "execution_count": null,
   "id": "01729981",
   "metadata": {},
   "outputs": [],
   "source": []
  }
 ],
 "metadata": {
  "kernelspec": {
   "display_name": "Python 3 (ipykernel)",
   "language": "python",
   "name": "python3"
  },
  "language_info": {
   "codemirror_mode": {
    "name": "ipython",
    "version": 3
   },
   "file_extension": ".py",
   "mimetype": "text/x-python",
   "name": "python",
   "nbconvert_exporter": "python",
   "pygments_lexer": "ipython3",
   "version": "3.9.7"
  }
 },
 "nbformat": 4,
 "nbformat_minor": 5
}
