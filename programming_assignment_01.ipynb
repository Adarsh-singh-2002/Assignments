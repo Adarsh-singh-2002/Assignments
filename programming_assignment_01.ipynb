{
 "cells": [
  {
   "cell_type": "markdown",
   "id": "8c50dd7d",
   "metadata": {},
   "source": [
    "#Question :01\n",
    "\n",
    "Write a Python program to print \"Hello Python\"?\n",
    "\n",
    "Answer:\n",
    "    "
   ]
  },
  {
   "cell_type": "code",
   "execution_count": 1,
   "id": "807f7b53",
   "metadata": {},
   "outputs": [
    {
     "name": "stdout",
     "output_type": "stream",
     "text": [
      "Hello Python\n"
     ]
    }
   ],
   "source": [
    "#code\n",
    "print(\"Hello Python\")"
   ]
  },
  {
   "cell_type": "markdown",
   "id": "06b0a084",
   "metadata": {},
   "source": [
    "#Question :02\n",
    "\n",
    "Write a Python program to do arithmetical operations addition and division.?\n",
    "\n",
    "Answer:\n",
    "    "
   ]
  },
  {
   "cell_type": "code",
   "execution_count": 3,
   "id": "58549f1d",
   "metadata": {},
   "outputs": [
    {
     "name": "stdout",
     "output_type": "stream",
     "text": [
      "enter the first value3\n",
      "enter the second value4\n",
      "7\n",
      "0.75\n"
     ]
    }
   ],
   "source": [
    "#code\n",
    "a=int(input(\"enter the first value\"))\n",
    "b=int(input(\"enter the second value\"))\n",
    "sum=a+b\n",
    "div=a/b\n",
    "print(sum)\n",
    "print(div)"
   ]
  },
  {
   "cell_type": "markdown",
   "id": "49372146",
   "metadata": {},
   "source": [
    "#Question :03\n",
    "\n",
    "Write a Python program to find the area of a triangle?\n",
    "\n",
    "Answer:\n",
    "    "
   ]
  },
  {
   "cell_type": "code",
   "execution_count": 4,
   "id": "1f59515d",
   "metadata": {},
   "outputs": [
    {
     "name": "stdout",
     "output_type": "stream",
     "text": [
      "enter the value of base45\n",
      "enter the value of height34\n",
      "765.0\n"
     ]
    }
   ],
   "source": [
    "#code \n",
    "B=int(input(\"enter the value of base\"))\n",
    "H=int(input(\"enter the value of height\"))\n",
    "area=0.5*B*H\n",
    "print(area)"
   ]
  },
  {
   "cell_type": "code",
   "execution_count": 6,
   "id": "3715ae99",
   "metadata": {},
   "outputs": [
    {
     "name": "stdout",
     "output_type": "stream",
     "text": [
      "enter the first side23\n",
      "enter the sencond side12\n",
      "enter the third side12\n",
      "39.42\n"
     ]
    }
   ],
   "source": [
    "import math\n",
    "x=int(input(\"enter the first side\"))\n",
    "y=int(input(\"enter the sencond side\"))\n",
    "z=int(input(\"enter the third side\"))\n",
    "s=(x+y+z)/2\n",
    "area=math.sqrt(s*(s-x)*(s-y)*(s-z))\n",
    "print(round(area,2))"
   ]
  },
  {
   "cell_type": "markdown",
   "id": "d1124c4f",
   "metadata": {},
   "source": [
    "#Question :04\n",
    "\n",
    "Write a Python program to swap two variables?\n",
    "\n",
    "Answer:"
   ]
  },
  {
   "cell_type": "code",
   "execution_count": 13,
   "id": "a7a2fb13",
   "metadata": {},
   "outputs": [
    {
     "name": "stdout",
     "output_type": "stream",
     "text": [
      "enter any value: adarsh\n",
      "enter another value: singh\n",
      "before swap --  a:  adarsh  b:  singh\n",
      "after swap --  a:  singh  b:  adarsh\n"
     ]
    }
   ],
   "source": [
    "#code\n",
    "a=input(\"enter any value: \")\n",
    "b=input(\"enter another value: \")\n",
    "temp=\"\"\n",
    "print(\"before swap -- \",\"a: \",a,\" b: \",b)\n",
    "temp=a\n",
    "a=b\n",
    "b=temp\n",
    "print(\"after swap -- \",\"a: \",a,\" b: \",b)"
   ]
  },
  {
   "cell_type": "markdown",
   "id": "66993c1b",
   "metadata": {},
   "source": [
    "#Question :05\n",
    "\n",
    "Write a Python program to generate a random number?\n",
    "\n",
    "Answer:"
   ]
  },
  {
   "cell_type": "code",
   "execution_count": 23,
   "id": "e86d0bd1",
   "metadata": {},
   "outputs": [
    {
     "name": "stdout",
     "output_type": "stream",
     "text": [
      "enter number of times you want a random number10\n",
      "266\n",
      "293\n",
      "530\n",
      "647\n",
      "995\n",
      "557\n",
      "633\n",
      "315\n",
      "53\n",
      "91\n"
     ]
    }
   ],
   "source": [
    "#code\n",
    "import random\n",
    "S=int(input(\"enter number of times you want a random number\"))\n",
    "for i in range(S):\n",
    "    x=random.random()\n",
    "    print(int(x*1000))"
   ]
  }
 ],
 "metadata": {
  "kernelspec": {
   "display_name": "Python 3 (ipykernel)",
   "language": "python",
   "name": "python3"
  },
  "language_info": {
   "codemirror_mode": {
    "name": "ipython",
    "version": 3
   },
   "file_extension": ".py",
   "mimetype": "text/x-python",
   "name": "python",
   "nbconvert_exporter": "python",
   "pygments_lexer": "ipython3",
   "version": "3.9.7"
  }
 },
 "nbformat": 4,
 "nbformat_minor": 5
}
