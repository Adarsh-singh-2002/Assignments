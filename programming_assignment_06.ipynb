{
 "cells": [
  {
   "cell_type": "markdown",
   "id": "6987e086",
   "metadata": {},
   "source": [
    "#Question :01\n",
    "\n",
    "Write a Python Program to Display Fibonacci Sequence Using Recursion?\n",
    "\n",
    "Answer:"
   ]
  },
  {
   "cell_type": "code",
   "execution_count": 4,
   "id": "478ac862",
   "metadata": {},
   "outputs": [
    {
     "name": "stdout",
     "output_type": "stream",
     "text": [
      "enter the number of terms you want in fibonacci sequence : 8\n",
      "0\n",
      "1\n",
      "1\n",
      "2\n",
      "3\n",
      "5\n",
      "8\n",
      "13\n"
     ]
    }
   ],
   "source": [
    "#code\n",
    "def fibo(num):\n",
    "    try:\n",
    "        if num<=1:\n",
    "            return num\n",
    "        else :\n",
    "            return fibo(num-1)+fibo(num-2)\n",
    "             \n",
    "            \n",
    "    except Exception as e:\n",
    "        print(\"Error is : \",e)\n",
    "\n",
    "num=int(input(\"enter the number of terms you want in fibonacci sequence : \"))\n",
    "for i in range(num):\n",
    "    print(fibo(i))"
   ]
  },
  {
   "cell_type": "markdown",
   "id": "3e1f727e",
   "metadata": {},
   "source": [
    "#Question:02\n",
    "\n",
    "Write a Python Program to Find Factorial of Number Using Recursion?\n",
    "\n",
    "Answer:"
   ]
  },
  {
   "cell_type": "code",
   "execution_count": 7,
   "id": "9a8bb425",
   "metadata": {},
   "outputs": [
    {
     "name": "stdout",
     "output_type": "stream",
     "text": [
      "enter a number : 5\n",
      "The factorial is :  120\n"
     ]
    }
   ],
   "source": [
    "#code\n",
    "def rec(num):\n",
    "    if num==1:\n",
    "        return 1\n",
    "    else:\n",
    "        return num*rec(num-1)\n",
    "try:\n",
    "    num=int(input(\"enter a number : \"))\n",
    "    print(\"The factorial is : \",rec(num))\n",
    "except Exception as e:\n",
    "    print(e)"
   ]
  },
  {
   "cell_type": "markdown",
   "id": "3d0e5407",
   "metadata": {},
   "source": [
    "#Question: 03\n",
    "\n",
    "Write a Python Program to calculate your Body Mass Index?\n",
    "\n",
    "Answer:\n"
   ]
  },
  {
   "cell_type": "code",
   "execution_count": 15,
   "id": "36b64cf5",
   "metadata": {},
   "outputs": [
    {
     "name": "stdout",
     "output_type": "stream",
     "text": [
      "Enter the height of the person in meters : 1.72\n",
      "Enter the weight of the person in kg's : 60\n",
      "You have a very impressing Body Mass Index of :  20.281233098972418\n"
     ]
    }
   ],
   "source": [
    "#code\n",
    "try:\n",
    "    height=float(input(\"Enter the height of the person in meters : \"))\n",
    "    weight=float(input(\"Enter the weight of the person in kg's : \"))\n",
    "    BMI=0\n",
    "except Exception as e:\n",
    "    print(e)\n",
    "try:\n",
    "    if height>5.0 or height<0.0:\n",
    "        print(\"Are you sure you have entered a right value because the values ressembles impossible.\")\n",
    "    else:\n",
    "        BMI=weight/(height**2)\n",
    "        if BMI>=18.5 and BMI<=24.9:\n",
    "            print(\"You have a very impressing Body Mass Index of : \",BMI)\n",
    "        elif BMI>=17.5 and BMI<18.5 or BMI>24.9 and BMI<=25.9:\n",
    "            print(\"You are just one step behind the perfect Body Mass Index \\n\")\n",
    "            print(\"Well,The persons body mass index is : \",BMI)\n",
    "        else:\n",
    "            if BMI <17.5:\n",
    "                print(\"The person is largly underweight \\n\")\n",
    "                print(\"The person should really work on his physic with the Body Mass Index of : \",BMI)\n",
    "            elif BMI>25.9:\n",
    "                print(\"The person is largly overweight \\n\")\n",
    "                print(\"The person should really work on his physic with the Body Mass Index of : \",BMI)\n",
    "except Exception as k:\n",
    "    print(k)"
   ]
  },
  {
   "cell_type": "markdown",
   "id": "f485c81e",
   "metadata": {},
   "source": [
    "#Question :04\n",
    "\n",
    "Write a Python Program to calculate the natural logarithm of any number?\n",
    "\n",
    "Answer:"
   ]
  },
  {
   "cell_type": "code",
   "execution_count": 18,
   "id": "54ac0a0e",
   "metadata": {},
   "outputs": [
    {
     "name": "stdout",
     "output_type": "stream",
     "text": [
      "Enter number : 2.23\n",
      "0.8020015854720274\n"
     ]
    }
   ],
   "source": [
    "#code\n",
    "import math\n",
    "num=float(input(\"Enter number : \"))\n",
    "l=math.log(num)\n",
    "print(l)"
   ]
  },
  {
   "cell_type": "markdown",
   "id": "5b4c4810",
   "metadata": {},
   "source": [
    "#Question : 05\n",
    "\n",
    "Write a Python Program for cube sum of first n natural numbers?\n",
    "\n",
    "Answer:\n",
    "    "
   ]
  },
  {
   "cell_type": "code",
   "execution_count": 21,
   "id": "907f359a",
   "metadata": {},
   "outputs": [
    {
     "name": "stdout",
     "output_type": "stream",
     "text": [
      "Enter the number : 6\n",
      "441\n"
     ]
    }
   ],
   "source": [
    "try:\n",
    "    num=int(input(\"Enter the number : \"))\n",
    "    cube=0\n",
    "    for i in range(1,num+1):\n",
    "        cube=i**3+cube\n",
    "    print(cube)\n",
    "except Exception as e:\n",
    "    print(e)"
   ]
  },
  {
   "cell_type": "code",
   "execution_count": null,
   "id": "2f9c7cd1",
   "metadata": {},
   "outputs": [],
   "source": []
  }
 ],
 "metadata": {
  "kernelspec": {
   "display_name": "Python 3 (ipykernel)",
   "language": "python",
   "name": "python3"
  },
  "language_info": {
   "codemirror_mode": {
    "name": "ipython",
    "version": 3
   },
   "file_extension": ".py",
   "mimetype": "text/x-python",
   "name": "python",
   "nbconvert_exporter": "python",
   "pygments_lexer": "ipython3",
   "version": "3.9.7"
  }
 },
 "nbformat": 4,
 "nbformat_minor": 5
}
