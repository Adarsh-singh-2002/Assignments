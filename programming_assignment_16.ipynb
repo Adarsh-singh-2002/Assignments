{
 "cells": [
  {
   "cell_type": "markdown",
   "id": "6f433886",
   "metadata": {},
   "source": [
    "#Question :01\n",
    "\n",
    "Question1. Write a function that stutters a word as if someone is struggling to read it. The\n",
    "first two letters are repeated twice with an ellipsis ... and space after each, and then the\n",
    "word is pronounced with a question mark ?.\n",
    "\n",
    "Examples\n",
    "\n",
    "stutter(\"incredible\") ➞ \"in... in... incredible?\"\n",
    "\n",
    "stutter(\"enthusiastic\") ➞ \"en... en... enthusiastic?\"\n",
    "\n",
    "stutter(\"outstanding\") ➞ \"ou... ou... outstanding?\"\n",
    "\n",
    "Hint :- Assume all input is in lower case and at least two characters long.\n",
    "\n",
    "Answer:"
   ]
  },
  {
   "cell_type": "code",
   "execution_count": 4,
   "id": "18204e9d",
   "metadata": {},
   "outputs": [
    {
     "name": "stdout",
     "output_type": "stream",
     "text": [
      "Enter a word : Adarsh \n",
      "Ad...Ad...Adarsh ?\n"
     ]
    }
   ],
   "source": [
    "#code\n",
    "def s(word):\n",
    "    N=[]\n",
    "    if len(word)>2:\n",
    "        print(word[0],word[1],\"...\",word[0],word[1],\"...\",word,\"?\",sep='')\n",
    "    elif len(word)==2:\n",
    "        print(word[0],\"...\",word[0],\"...\",word)\n",
    "word=input(\"Enter a word : \")\n",
    "s(word)"
   ]
  },
  {
   "cell_type": "markdown",
   "id": "0555617d",
   "metadata": {},
   "source": [
    "#Question :02\n",
    "\n",
    "Question 2.Create a function that takes an angle in radians and returns the corresponding\n",
    "angle in degrees rounded to one decimal place.\n",
    "\n",
    "Examples\n",
    "\n",
    "radians_to_degrees(1) ➞ 57.3\n",
    "\n",
    "radians_to_degrees(20) ➞ 1145.9\n",
    "\n",
    "radians_to_degrees(50) ➞ 2864.8\n",
    "\n",
    "Answer:"
   ]
  },
  {
   "cell_type": "code",
   "execution_count": 15,
   "id": "37dc176c",
   "metadata": {},
   "outputs": [
    {
     "name": "stdout",
     "output_type": "stream",
     "text": [
      "Enter a number : 20\n",
      "1145.9\n"
     ]
    }
   ],
   "source": [
    "#code\n",
    "def radians_to_degrees(num):\n",
    "    print(round(num/0.01745329,1))\n",
    "num=int(input(\"Enter a number : \"))\n",
    "radians_to_degrees(num)"
   ]
  },
  {
   "cell_type": "markdown",
   "id": "146b28bd",
   "metadata": {},
   "source": [
    "#Question :03\n",
    "\n",
    "Question 3. In this challenge, establish if a given integer num is a Curzon number. If 1 plus\n",
    "2 elevated to num is exactly divisible by 1 plus 2 multiplied by num, then num is a Curzon\n",
    "number.\n",
    "\n",
    "Given a non-negative integer num, implement a function that returns True if num is a Curzon\n",
    "number, or False otherwise.\n",
    "\n",
    "Examples:-\n",
    "\n",
    "is_curzon(5) ➞ True\n",
    "\n",
    "# 2 ** 5 + 1 = 33\n",
    "# 2 * 5 + 1 = 11\n",
    "# 33 is a multiple of 11\n",
    "is_curzon(10) ➞ False\n",
    "# 2 ** 10 + 1 = 1025\n",
    "# 2 * 10 + 1 = 21\n",
    "# 1025 is not a multiple of 21\n",
    "is_curzon(14) ➞ True\n",
    "# 2 ** 14 + 1 = 16385\n",
    "# 2 * 14 + 1 = 29\n",
    "# 16385 is a multiple of 29\n",
    "\n",
    "Answer:"
   ]
  },
  {
   "cell_type": "code",
   "execution_count": 19,
   "id": "e64d7282",
   "metadata": {},
   "outputs": [
    {
     "name": "stdout",
     "output_type": "stream",
     "text": [
      "Enter a number of your choice : 10\n",
      "False\n"
     ]
    }
   ],
   "source": [
    "#code\n",
    "def is_curzon(num):\n",
    "    x=2**num+1\n",
    "    y=2*num+1\n",
    "    if x%y==0:\n",
    "        print(\"True\")\n",
    "    else:\n",
    "        print(\"False\")\n",
    "num=int(input(\"Enter a number of your choice : \"))\n",
    "is_curzon(num)"
   ]
  },
  {
   "cell_type": "markdown",
   "id": "93b5b13f",
   "metadata": {},
   "source": [
    "Question 4.Given the side length x find the area of a hexagon.\n",
    "\n",
    "Examples\n",
    "area_of_hexagon(1) ➞ 2.6\n",
    "area_of_hexagon(2) ➞ 10.4\n",
    "area_of_hexagon(3) ➞ 23.4\n",
    "\n",
    "Answer:"
   ]
  },
  {
   "cell_type": "code",
   "execution_count": 38,
   "id": "f7dc22ab",
   "metadata": {},
   "outputs": [
    {
     "name": "stdout",
     "output_type": "stream",
     "text": [
      "Enter the side length : 3\n",
      "Area of the hexagon is :  23.4\n"
     ]
    }
   ],
   "source": [
    "#code\n",
    "import math\n",
    "side=int(input(\"Enter the side length : \"))\n",
    "Area=((3*math.sqrt(3))*(side**2))/2\n",
    "print(\"Area of the hexagon is : \",round(Area,1))"
   ]
  },
  {
   "cell_type": "markdown",
   "id": "4869d26a",
   "metadata": {},
   "source": [
    "Question 5. Create a function that returns a base-2 (binary) representation of a base-10\n",
    "(decimal) string number. To convert is simple: ((2) means base-2 and (10) means base-10)\n",
    "010101001(2) = 1 + 8 + 32 + 128.\n",
    "\n",
    "Going from right to left, the value of the most right bit is 1, now from that every bit to the left\n",
    "will be x2 the value, value of an 8 bit binary numbers are (256, 128, 64, 32, 16, 8, 4, 2, 1).\n",
    "\n",
    "Examples\n",
    "\n",
    "binary(1) ➞ \"1\"\n",
    "\n",
    " 1*1 = 1\n",
    " \n",
    "binary(5) ➞ \"101\"\n",
    "\n",
    " 1*1 + 1*4 = 5\n",
    " \n",
    "binary(10) ➞ \"1010\"\n",
    "\n",
    " 1*2 + 1*8 = 10\n",
    "\n",
    "Answer:"
   ]
  },
  {
   "cell_type": "code",
   "execution_count": 34,
   "id": "6cc6ea35",
   "metadata": {},
   "outputs": [
    {
     "name": "stdout",
     "output_type": "stream",
     "text": [
      "Enter number to be converted:  5\n",
      "101"
     ]
    }
   ],
   "source": [
    "#code\n",
    "def convert(num):\n",
    "    N=[]\n",
    "    while num!=0:\n",
    "        rem=num%2\n",
    "        N.append(rem)\n",
    "        num=int(num/2)\n",
    "    for i in N:\n",
    "        print(i,end='')\n",
    "num=int(input(\"Enter number to be converted:  \"))\n",
    "convert(num)"
   ]
  },
  {
   "cell_type": "code",
   "execution_count": 33,
   "id": "a58679be",
   "metadata": {},
   "outputs": [
    {
     "name": "stdout",
     "output_type": "stream",
     "text": [
      "Enter a number : 5\n",
      "101\n"
     ]
    }
   ],
   "source": [
    "#Alternate code\n",
    "num= int (input(\"Enter a number : \"))\n",
    "print(bin(num).replace(\"0b\",\"\"))"
   ]
  }
 ],
 "metadata": {
  "kernelspec": {
   "display_name": "Python 3 (ipykernel)",
   "language": "python",
   "name": "python3"
  },
  "language_info": {
   "codemirror_mode": {
    "name": "ipython",
    "version": 3
   },
   "file_extension": ".py",
   "mimetype": "text/x-python",
   "name": "python",
   "nbconvert_exporter": "python",
   "pygments_lexer": "ipython3",
   "version": "3.9.7"
  }
 },
 "nbformat": 4,
 "nbformat_minor": 5
}
