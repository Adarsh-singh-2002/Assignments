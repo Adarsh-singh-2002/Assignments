{
 "cells": [
  {
   "cell_type": "markdown",
   "id": "d8ebcf26",
   "metadata": {},
   "source": [
    "#Question :01\n",
    "\n",
    "Write a Python program to Extract Unique values dictionary values?\n",
    "\n",
    "Answer:"
   ]
  },
  {
   "cell_type": "code",
   "execution_count": 4,
   "id": "21344ca0",
   "metadata": {},
   "outputs": [
    {
     "name": "stdout",
     "output_type": "stream",
     "text": [
      "Enter the number of entries: 5\n",
      "Enter 1 key : 1\n",
      "Enter 1 value : adarsh\n",
      "Enter 2 key : 2\n",
      "Enter 2 value : ashwini\n",
      "Enter 3 key : 3\n",
      "Enter 3 value : adarsh\n",
      "Enter 4 key : 4\n",
      "Enter 4 value : adarsh\n",
      "Enter 5 key : 5\n",
      "Enter 5 value : deva\n",
      "adarsh ashwini deva "
     ]
    }
   ],
   "source": [
    "#code\n",
    "data=\"\"\n",
    "n=int(input(\"Enter the number of entries: \"))\n",
    "for i in range(n):\n",
    "    x=input(f\"Enter {i+1} key : \")\n",
    "    y=input(f\"Enter {i+1} value : \")\n",
    "    data=data+x+\":\"+y+\" \"\n",
    "    \n",
    "data=[i for i in data.split()]\n",
    "data={i.split(':')[0]:i.split(':')[1] for i in data}\n",
    "n=[]\n",
    "for i in data.values():\n",
    "    if i in n:\n",
    "        continue\n",
    "    else:\n",
    "        n.append(i)\n",
    "for i in n:\n",
    "    print(i,end=\" \")\n",
    "    #print(f\"value {j+1} : \",i,end=\" \")"
   ]
  },
  {
   "cell_type": "markdown",
   "id": "80a8ff21",
   "metadata": {},
   "source": [
    "#Question :02\n",
    "\n",
    "Write a Python program to find the sum of all items in a dictionary?\n",
    "\n",
    "Answer:"
   ]
  },
  {
   "cell_type": "code",
   "execution_count": 4,
   "id": "85c88931",
   "metadata": {},
   "outputs": [
    {
     "name": "stdout",
     "output_type": "stream",
     "text": [
      "Enter the number of entries: 5\n",
      "Enter 1 key : a\n",
      "Enter integer as value : 1 : 23\n",
      "Enter 2 key : b\n",
      "Enter integer as value : 2 : 342\n",
      "Enter 3 key : c\n",
      "Enter integer as value : 3 : 43\n",
      "Enter 4 key : d\n",
      "Enter integer as value : 4 : 55\n",
      "Enter 5 key : e\n",
      "Enter integer as value : 5 : 1\n",
      "The sum of the items is :  464\n"
     ]
    }
   ],
   "source": [
    "#code\n",
    "data=\"\"\n",
    "n=int(input(\"Enter the number of entries: \"))\n",
    "for i in range(n):\n",
    "    x=input(f\"Enter {i+1} key : \")\n",
    "    y=input(f\"Enter integer as value : {i+1} : \")\n",
    "    data=data+x+\":\"+y+\" \"\n",
    "    \n",
    "data=[i for i in data.split()]\n",
    "data={i.split(':')[0]:i.split(':')[1] for i in data}\n",
    "sum=0\n",
    "for i in data.values():\n",
    "    sum+=int(i)\n",
    "print(\"The sum of the items is : \",sum)"
   ]
  },
  {
   "cell_type": "markdown",
   "id": "297c0837",
   "metadata": {},
   "source": [
    "#Question :03\n",
    "\n",
    "Write a Python program to Merging two Dictionaries?\n",
    "\n",
    "Answer:"
   ]
  },
  {
   "cell_type": "code",
   "execution_count": 10,
   "id": "d13a8727",
   "metadata": {},
   "outputs": [
    {
     "name": "stdout",
     "output_type": "stream",
     "text": [
      "Enter the number of entries in first dictionary : 2\n",
      "Enter 1 key : 1\n",
      "Enter value : 1 : adarsh\n",
      "Enter 2 key : 2\n",
      "Enter value : 2 : ashwini\n",
      "Enter the number of entries in second dictionary : 2\n",
      "Enter 1 key : a\n",
      "Enter value : 1 : aman\n",
      "Enter 2 key : b\n",
      "Enter value : 2 : devashish\n",
      "{'1': 'adarsh', '2': 'ashwini', 'a': 'aman', 'b': 'devashish'}\n"
     ]
    }
   ],
   "source": [
    "#code\n",
    "data=\"\"\n",
    "n=int(input(\"Enter the number of entries in first dictionary : \"))\n",
    "for i in range(n):\n",
    "    x=input(f\"Enter {i+1} key : \")\n",
    "    y=input(f\"Enter value : {i+1} : \")\n",
    "    data=data+x+\":\"+y+\" \"\n",
    "    \n",
    "data=[i for i in data.split()]\n",
    "data={i.split(':')[0]:i.split(':')[1] for i in data}\n",
    "#######\n",
    "data1=\"\"\n",
    "n=int(input(\"Enter the number of entries in second dictionary : \"))\n",
    "for i in range(n):\n",
    "    x=input(f\"Enter {i+1} key : \")\n",
    "    y=input(f\"Enter value : {i+1} : \")\n",
    "    data1=data1+x+\":\"+y+\" \"\n",
    "    \n",
    "data1=[i for i in data1.split()]\n",
    "data1={i.split(':')[0]:i.split(':')[1] for i in data1}\n",
    "data.update(data1)\n",
    "print(data)\n",
    "#we can also use merge operator(|) and **kwargs ({**dict1,**dict2})"
   ]
  },
  {
   "cell_type": "markdown",
   "id": "54ae0d3b",
   "metadata": {},
   "source": [
    "#Question :04\n",
    "\n",
    "Write a Python program to convert key-values list to flat dictionary?\n",
    "\n",
    "Answer:\n",
    "    "
   ]
  },
  {
   "cell_type": "code",
   "execution_count": 16,
   "id": "0ea2a906",
   "metadata": {},
   "outputs": [
    {
     "name": "stdout",
     "output_type": "stream",
     "text": [
      "Flatten dictionary data is : \n",
      " {'adarsh': 'Aayush', 'kumar': 'mallick', 5: 6}\n"
     ]
    }
   ],
   "source": [
    "#code\n",
    "dict1={\n",
    "    'a':[\"adarsh\",\"kumar\",5],\n",
    "    'b':[\"Aayush\",\"mallick\",6]\n",
    "}\n",
    "k=dict(zip(dict1['a'],dict1['b']))\n",
    "print(\"Flatten dictionary data is : \\n\",k)"
   ]
  },
  {
   "cell_type": "markdown",
   "id": "41c6e75a",
   "metadata": {},
   "source": [
    "#Question :05\n",
    "\n",
    "Write a Python program to insertion at the beginning in OrderedDict?\n",
    "\n",
    "Answer:"
   ]
  },
  {
   "cell_type": "code",
   "execution_count": 21,
   "id": "fd6db222",
   "metadata": {},
   "outputs": [
    {
     "name": "stdout",
     "output_type": "stream",
     "text": [
      "1 adarsh\n",
      "2 ashwini\n",
      "3 Aayush\n"
     ]
    }
   ],
   "source": [
    "#code\n",
    "from collections import OrderedDict\n",
    "d=OrderedDict()\n",
    "d[\"1\"]=\"adarsh\"\n",
    "d[\"2\"]=\"ashwini\"\n",
    "d[\"3\"]=\"Aayush\"\n",
    "for key,values in d.items():\n",
    "    print(key,values)"
   ]
  },
  {
   "cell_type": "markdown",
   "id": "b0a31b83",
   "metadata": {},
   "source": [
    "#Question :06\n",
    "\n",
    "Write a Python program to check order of character in string using OrderedDict()?\n",
    "\n",
    "Answer:\n",
    "    "
   ]
  },
  {
   "cell_type": "code",
   "execution_count": 30,
   "id": "46e08a83",
   "metadata": {},
   "outputs": [
    {
     "name": "stdout",
     "output_type": "stream",
     "text": [
      "True\n"
     ]
    }
   ],
   "source": [
    "#code\n",
    "from collections import OrderedDict\n",
    "def check(s,p):\n",
    "    dict=OrderedDict.fromkeys(s)\n",
    "    #print(dict)\n",
    "    l=0\n",
    "    for key,value in dict.items():\n",
    "        if key==p[l]:\n",
    "            l=l+1\n",
    "        if l==len(p):\n",
    "            return True\n",
    "    return False\n",
    "strig=\"Adarsh is a good coder\"\n",
    "k=\"as\"\n",
    "print(check(strig,k))"
   ]
  },
  {
   "cell_type": "markdown",
   "id": "9700667e",
   "metadata": {},
   "source": [
    "#Question :07\n",
    "\n",
    "Write a Python program to sort Python Dictionaries by Key or Value?\n",
    "\n",
    "Answer:\n",
    "    "
   ]
  },
  {
   "cell_type": "code",
   "execution_count": 10,
   "id": "183f0db8",
   "metadata": {},
   "outputs": [
    {
     "name": "stdout",
     "output_type": "stream",
     "text": [
      "Enter the number of entries: 3\n",
      "Enter 1 key : 3\n",
      "Enter 1 value : 45\n",
      "Enter 2 key : 1\n",
      "Enter 2 value : 55\n",
      "Enter 3 key : 2\n",
      "Enter 3 value : 49\n",
      "Sorted key values :\n",
      "\n",
      "1\n",
      "2\n",
      "3\n",
      "Sorted value :\n",
      "\n",
      "45\n",
      "49\n",
      "55\n",
      "Sorted items : \n",
      "\n",
      "('1', '55')\n",
      "('2', '49')\n",
      "('3', '45')\n"
     ]
    }
   ],
   "source": [
    "#code\n",
    "data=\"\"\n",
    "n=int(input(\"Enter the number of entries: \"))\n",
    "for i in range(n):\n",
    "    x=input(f\"Enter {i+1} key : \")\n",
    "    y=input(f\"Enter {i+1} value : \")\n",
    "    data=data+x+\":\"+y+\" \"\n",
    "    \n",
    "data=[i for i in data.split()]\n",
    "data={i.split(':')[0]:i.split(':')[1] for i in data}\n",
    "print(\"Sorted key values :\\n\")\n",
    "for i in sorted(data.keys()):\n",
    "    print(i)\n",
    "print(\"Sorted value :\\n\")\n",
    "for j in sorted(data.values()):\n",
    "    print(j)\n",
    "print(\"Sorted items : \\n\")\n",
    "for k in sorted(data.items()):\n",
    "    print(k)"
   ]
  }
 ],
 "metadata": {
  "kernelspec": {
   "display_name": "Python 3 (ipykernel)",
   "language": "python",
   "name": "python3"
  },
  "language_info": {
   "codemirror_mode": {
    "name": "ipython",
    "version": 3
   },
   "file_extension": ".py",
   "mimetype": "text/x-python",
   "name": "python",
   "nbconvert_exporter": "python",
   "pygments_lexer": "ipython3",
   "version": "3.9.7"
  }
 },
 "nbformat": 4,
 "nbformat_minor": 5
}
