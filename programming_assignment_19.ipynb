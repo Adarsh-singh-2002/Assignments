{
 "cells": [
  {
   "cell_type": "markdown",
   "id": "3ec032df",
   "metadata": {},
   "source": [
    "#Question : 01\n",
    "\n",
    "Create a function that takes a string and returns a string in which each character is repeated\n",
    "once.\n",
    "\n",
    "Examples\n",
    "\n",
    "double_char(\"String\") ➞ \"SSttrriinngg\"\n",
    "\n",
    "double_char(\"Hello World!\") ➞ \"HHeelllloo WWoorrlldd!!\"\n",
    "\n",
    "double_char(\"1234!_ \") ➞ \"11223344!!__ \"\n"
   ]
  },
  {
   "cell_type": "code",
   "execution_count": 8,
   "id": "64091ea3",
   "metadata": {},
   "outputs": [
    {
     "name": "stdout",
     "output_type": "stream",
     "text": [
      "Enter the value of number of strings to be checked : 3\n",
      "Enter the value of the string : 1 String\n",
      "Enter the value of the string : 2 Hello World!\n",
      "Enter the value of the string : 3 1234!_ \n",
      "Modified values if the strings are: \n",
      "SSttrriinngg\n",
      "HHeelllloo  WWoorrlldd!!\n",
      "11223344!!__  \n"
     ]
    }
   ],
   "source": [
    "#code\n",
    "def value():\n",
    "    try:\n",
    "        num=int(input(\"Enter the value of number of strings to be checked : \"))\n",
    "    except Exception as e:\n",
    "        print(e)\n",
    "        return value()+0\n",
    "    return num\n",
    "def values(num):\n",
    "    N=[]\n",
    "    try:\n",
    "        for i in range(num):\n",
    "            x=input(\"Enter the value of the string : \"+str(i+1)+\" \")\n",
    "            N.append(x)\n",
    "    except Exception as e:\n",
    "        print(e)\n",
    "        \n",
    "    return N\n",
    "num=value()\n",
    "N=values(num)\n",
    "try:\n",
    "    final=[]\n",
    "    for i in N:\n",
    "        res=\"\"\n",
    "        for j in i:\n",
    "            res=res+j*2\n",
    "        final.append(res)\n",
    "    print(\"Modified values if the strings are: \")\n",
    "    for i in final:\n",
    "        print(i)\n",
    "except Exception as e:\n",
    "    print(e)\n",
    "    print(\"Execute the program again\")\n"
   ]
  },
  {
   "cell_type": "markdown",
   "id": "f3801386",
   "metadata": {},
   "source": [
    "#Question : 02\n",
    "\n",
    "Create a function that reverses a boolean value and returns the string &quot;boolean expected&quot;\n",
    "if another variable type is given.\n",
    "\n",
    "Examples\n",
    "\n",
    "reverse(True) ➞ False\n",
    "\n",
    "reverse(False) ➞ True\n",
    "\n",
    "reverse(0) ➞ \"boolean expected\"\n",
    "\n",
    "reverse(None) ➞ \"boolean expected\""
   ]
  },
  {
   "cell_type": "code",
   "execution_count": 16,
   "id": "97f74571",
   "metadata": {},
   "outputs": [
    {
     "name": "stdout",
     "output_type": "stream",
     "text": [
      "Enter the number of values needs to be checked : 4\n",
      "Enter the value of string  1  \n",
      "True\n",
      "Enter the value of string  2  \n",
      "False\n",
      "Enter the value of string  3  \n",
      "0\n",
      "Enter the value of string  4  \n",
      "None\n",
      "Modified values are : \n",
      "False\n",
      "True\n",
      "boolean expected\n",
      "boolean expected\n"
     ]
    }
   ],
   "source": [
    "#Code\n",
    "def value():\n",
    "    try:\n",
    "        num=int(input(\"Enter the number of values needs to be checked : \"))\n",
    "    except Exception as e:\n",
    "        print(e)\n",
    "        return value()+0\n",
    "    return num\n",
    "def values(num):\n",
    "    N=[]\n",
    "    for i in range(num):\n",
    "        print(\"Enter the value of string \",i+1,\" \")\n",
    "        x=input()\n",
    "        N.append(x)\n",
    "    return N\n",
    "num=value()\n",
    "x=values(num)\n",
    "def reverse(x):\n",
    "    print(\"Modified values are : \")\n",
    "    for i in x:\n",
    "        if i == \"True\" :\n",
    "            print(\"False\")\n",
    "        elif i==\"False\":\n",
    "            print(\"True\")\n",
    "        else:\n",
    "            print(\"boolean expected\")\n",
    "reverse(x)"
   ]
  },
  {
   "cell_type": "markdown",
   "id": "078e5fc5",
   "metadata": {},
   "source": [
    "#Question : 03\n",
    "\n",
    "Create a function that returns the thickness (in meters) of a piece of paper after folding it n\n",
    "number of times. The paper starts off with a thickness of 0.5mm.\n",
    "\n",
    "Examples\n",
    "\n",
    "num_layers(1) ➞ \"0.001m\"\n",
    "\n",
    "#Paper folded once is 1mm (equal to 0.001m)\n",
    "\n",
    "num_layers(4) ➞ \"0.008m\"\n",
    "\n",
    "#Paper folded 4 times is 8mm (equal to 0.008m)\n",
    "\n",
    "num_layers(21) ➞ \"1048.576m\"\n",
    "\n",
    "#Paper folded 21 times is 1048576mm (equal to 1048.576m)"
   ]
  },
  {
   "cell_type": "code",
   "execution_count": 23,
   "id": "382e1aa8",
   "metadata": {
    "scrolled": true
   },
   "outputs": [
    {
     "name": "stdout",
     "output_type": "stream",
     "text": [
      "Enter the number of times the value needs to be chceked : 3\n",
      "Enter the value of 1 : 1\n",
      "Enter the value of 2 : 4\n",
      "Enter the value of 3 : 21\n",
      "Thickness of the sheet folded :  1  times is :  0.001\n",
      "Thickness of the sheet folded :  4  times is :  0.008\n",
      "Thickness of the sheet folded :  21  times is :  1048.576\n"
     ]
    }
   ],
   "source": [
    "#code\n",
    "def value():\n",
    "    try:\n",
    "        num=int(input(\"Enter the number of times the value needs to be chceked : \"))\n",
    "    except Exception as e:\n",
    "        print(e)\n",
    "        return value()+0\n",
    "    return num\n",
    "def values(num):\n",
    "    N=[]\n",
    "    for i in range(num):\n",
    "        try:\n",
    "            x=int(input(\"Enter the value of \"+str(i+1)+\" : \"))\n",
    "            N.append(x)\n",
    "        except Exception as e:\n",
    "            print(e)\n",
    "            return values()+0\n",
    "    return N\n",
    "def find(x):\n",
    "    k=0\n",
    "    f=0.001\n",
    "    for i in range(x):\n",
    "        k=f+k\n",
    "        f=k\n",
    "    return k\n",
    "def thickness(N):\n",
    "    for i in N:\n",
    "        print(\"Thickness of the sheet folded : \",i,\" times is : \",find(i))\n",
    "    return 0\n",
    "x=value()\n",
    "N=values(x)\n",
    "k=thickness(N)\n",
    "    "
   ]
  },
  {
   "cell_type": "markdown",
   "id": "e26ca93f",
   "metadata": {},
   "source": [
    "#Question : 04\n",
    "\n",
    "Create a function that takes a single string as argument and returns an ordered list containing\n",
    "the indices of all capital letters in the string.\n",
    "\n",
    "Examples\n",
    "\n",
    "index_of_caps(\"eDaBiT\") ➞ [1, 3, 5]\n",
    "\n",
    "index_of_caps(\"eQuINoX\") ➞ [1, 3, 4, 6]\n",
    "\n",
    "index_of_caps(\"determine\") ➞ []\n",
    "\n",
    "index_of_caps(\"STRIKE\") ➞ [0, 1, 2, 3, 4, 5]\n",
    "\n",
    "index_of_caps(\"sUn\") ➞ [1]"
   ]
  },
  {
   "cell_type": "code",
   "execution_count": 27,
   "id": "08ecb04d",
   "metadata": {},
   "outputs": [
    {
     "name": "stdout",
     "output_type": "stream",
     "text": [
      "Enter the number of inputs : 5\n",
      "Enter the value of string 1 : eDaBiT\n",
      "Enter the value of string 2 : eQuINoX\n",
      "Enter the value of string 3 : determine\n",
      "Enter the value of string 4 : STRIKE\n",
      "Enter the value of string 5 : sUn\n",
      "The indices with capital letters are :  [1, 3, 5]\n",
      "The indices with capital letters are :  [1, 3, 4, 6]\n",
      "The indices with capital letters are :  []\n",
      "The indices with capital letters are :  [0, 1, 2, 3, 4, 5]\n",
      "The indices with capital letters are :  [1]\n"
     ]
    }
   ],
   "source": [
    "#code\n",
    "def value():\n",
    "    try:\n",
    "        num=int(input(\"Enter the number of inputs : \"))\n",
    "    except Exception as e:\n",
    "        print(e)\n",
    "        return value()+0\n",
    "    return num\n",
    "def values(num):\n",
    "    N=[]\n",
    "    for i in range(num):\n",
    "        x=input(\"Enter the value of string \"+str(i+1)+\" : \")\n",
    "        N.append(x)\n",
    "    return N\n",
    "def check(x):\n",
    "    k=[]\n",
    "    for i in range(len(x)):\n",
    "        if x[i].isupper():\n",
    "            k.append(i)\n",
    "        else:\n",
    "            continue\n",
    "    return k\n",
    "num=value()\n",
    "N=values(num)\n",
    "for i in N:\n",
    "    print(\"The indices with capital letters are : \",check(i))"
   ]
  },
  {
   "cell_type": "markdown",
   "id": "5228921c",
   "metadata": {},
   "source": [
    "#Question : 05\n",
    "\n",
    "Using list comprehensions, create a function that finds all even numbers from 1 to the given\n",
    "number.\n",
    "\n",
    "Examples\n",
    "\n",
    "find_even_nums(8) ➞ [2, 4, 6, 8]\n",
    "\n",
    "find_even_nums(4) ➞ [2, 4]\n",
    "\n",
    "find_even_nums(2) ➞ [2]"
   ]
  },
  {
   "cell_type": "code",
   "execution_count": 35,
   "id": "2b3ee8ae",
   "metadata": {},
   "outputs": [
    {
     "name": "stdout",
     "output_type": "stream",
     "text": [
      "Enter the value number of cases : 3\n",
      "Enter the value 1 : 8\n",
      "Enter the value 2 : 4\n",
      "Enter the value 3 : 2\n",
      "[2, 4, 6, 8]\n",
      "[2, 4]\n",
      "[2]\n"
     ]
    }
   ],
   "source": [
    "#code\n",
    "def value():\n",
    "    try:\n",
    "        num=int(input(\"Enter the value number of cases : \"))\n",
    "    except Exception as e:\n",
    "        print(e)\n",
    "        return value()+0\n",
    "    return num\n",
    "def values(num):\n",
    "    N=[]\n",
    "    for i in range(num):\n",
    "        try:\n",
    "            x=int(input(\"Enter the value \"+str(i+1)+\" : \"))\n",
    "            N.append(x)\n",
    "        except Exception as e:\n",
    "            print(e)\n",
    "            return values()+0\n",
    "    return N\n",
    "num=value()\n",
    "N=values(num)\n",
    "m=0\n",
    "for i in N:\n",
    "    k=[ i for i in range(1,i+1) if i%2==0 ]\n",
    "    print(k)"
   ]
  },
  {
   "cell_type": "code",
   "execution_count": null,
   "id": "aee00974",
   "metadata": {},
   "outputs": [],
   "source": []
  }
 ],
 "metadata": {
  "kernelspec": {
   "display_name": "Python 3 (ipykernel)",
   "language": "python",
   "name": "python3"
  },
  "language_info": {
   "codemirror_mode": {
    "name": "ipython",
    "version": 3
   },
   "file_extension": ".py",
   "mimetype": "text/x-python",
   "name": "python",
   "nbconvert_exporter": "python",
   "pygments_lexer": "ipython3",
   "version": "3.9.7"
  }
 },
 "nbformat": 4,
 "nbformat_minor": 5
}
