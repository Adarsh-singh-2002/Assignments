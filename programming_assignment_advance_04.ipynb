{
 "cells": [
  {
   "cell_type": "markdown",
   "id": "060070d5",
   "metadata": {},
   "source": [
    "#Question : 01\n",
    "\n",
    "In mathematics, the Fibonacci numbers, commonly denoted Fn, form a\n",
    "sequence, called the Fibonacci sequence, such that each number is the sum\n",
    "of the two preceding ones, starting from 0 and 1:\n",
    "\n",
    "The beginning of the sequence is this:\n",
    "    \n",
    "0, 1, 1, 2, 3, 5, 8, 13, 21, 34, 55, 89, 144, ...\n",
    "\n",
    "The function fastFib(num) returns the fibonacci number Fn, of the given num\n",
    "as an argument.\n",
    "\n",
    "Examples\n",
    "\n",
    "fib_fast(5) ➞ 5\n",
    "\n",
    "fib_fast(10) ➞ 55\n",
    "\n",
    "fib_fast(20) ➞ 6765\n",
    "\n",
    "fib_fast(50) ➞ 12586269025"
   ]
  },
  {
   "cell_type": "code",
   "execution_count": 3,
   "id": "cf055630",
   "metadata": {},
   "outputs": [],
   "source": [
    "#code\n",
    "def fibo(n):\n",
    "    if n==0:\n",
    "        return 0\n",
    "    elif n==1:\n",
    "        return 1\n",
    "    else:\n",
    "        return fibo(n-1)+fibo(n-2)\n"
   ]
  },
  {
   "cell_type": "code",
   "execution_count": 4,
   "id": "acf13099",
   "metadata": {},
   "outputs": [
    {
     "name": "stdout",
     "output_type": "stream",
     "text": [
      "2\n"
     ]
    }
   ],
   "source": [
    "print(fibo(3))"
   ]
  },
  {
   "cell_type": "code",
   "execution_count": 5,
   "id": "25eef115",
   "metadata": {},
   "outputs": [
    {
     "name": "stdout",
     "output_type": "stream",
     "text": [
      "5\n"
     ]
    }
   ],
   "source": [
    "print(fibo(5))"
   ]
  },
  {
   "cell_type": "code",
   "execution_count": 6,
   "id": "d01e317b",
   "metadata": {},
   "outputs": [
    {
     "name": "stdout",
     "output_type": "stream",
     "text": [
      "55\n"
     ]
    }
   ],
   "source": [
    "print(fibo(10))"
   ]
  },
  {
   "cell_type": "code",
   "execution_count": 7,
   "id": "6d27b305",
   "metadata": {},
   "outputs": [
    {
     "name": "stdout",
     "output_type": "stream",
     "text": [
      "6765\n"
     ]
    }
   ],
   "source": [
    "print(fibo(20))"
   ]
  },
  {
   "cell_type": "markdown",
   "id": "26e57111",
   "metadata": {},
   "source": [
    "#Question : 02\n",
    "\n",
    "Create a function that takes a strings characters as ASCII and returns each\n",
    "characters hexadecimal value as a string.\n",
    "\n",
    "Examples\n",
    "\n",
    "convert_to_hex(\"hello world\") ➞ \"68 65 6c 6c 6f 20 77 6f 72 6c 64\"\n",
    "\n",
    "convert_to_hex(\"Big Boi\") ➞ \"42 69 67 20 42 6f 69\"\n",
    "\n",
    "convert_to_hex(\"Marty Poppinson\") ➞ \"4d 61 72 74 79 20 50 6f 70 70 69 6e 73 6f 6e\""
   ]
  },
  {
   "cell_type": "code",
   "execution_count": 4,
   "id": "85b4eb66",
   "metadata": {},
   "outputs": [],
   "source": [
    "#code\n",
    "def convert_to_hex(strr):\n",
    "    if type(strr)!= str:\n",
    "        return False\n",
    "    else:\n",
    "        N=[]\n",
    "        for i in strr:\n",
    "            k=ord(i)\n",
    "            N.append(hex(k))\n",
    "    return N\n"
   ]
  },
  {
   "cell_type": "code",
   "execution_count": 5,
   "id": "f22e178d",
   "metadata": {},
   "outputs": [
    {
     "name": "stdout",
     "output_type": "stream",
     "text": [
      "['0x68', '0x65', '0x6c', '0x6c', '0x6f', '0x20', '0x77', '0x6f', '0x72', '0x6c', '0x64']\n"
     ]
    }
   ],
   "source": [
    "print(convert_to_hex(\"hello world\"))"
   ]
  },
  {
   "cell_type": "code",
   "execution_count": 6,
   "id": "5671fbfc",
   "metadata": {},
   "outputs": [
    {
     "name": "stdout",
     "output_type": "stream",
     "text": [
      "['0x42', '0x69', '0x67', '0x20', '0x42', '0x6f', '0x69']\n"
     ]
    }
   ],
   "source": [
    "print(convert_to_hex(\"Big Boi\"))"
   ]
  },
  {
   "cell_type": "markdown",
   "id": "7f06069f",
   "metadata": {},
   "source": [
    "#Question : 03\n",
    "\n",
    "Someone has attempted to censor my strings by replacing every vowel\n",
    "with a *, l*k* th*s. Luckily, I've been able to find the vowels that were\n",
    "removed.\n",
    "\n",
    "Given a censored string and a string of the censored vowels, return the\n",
    "original uncensored string.\n",
    "\n",
    "Example\n",
    "\n",
    "uncensor(\"Wh*r* d*d my v*w*ls g*?\", \"eeioeo\") ➞ \"Where did my vowels go?\"\n",
    "\n",
    "uncensor(\"abcd\", \"\") ➞ \"abcd\"\n",
    "\n",
    "uncensor(\"*PP*RC*S*\", \"UEAE\") ➞ \"UPPERCASE\""
   ]
  },
  {
   "cell_type": "code",
   "execution_count": 5,
   "id": "690167d2",
   "metadata": {},
   "outputs": [],
   "source": [
    "#code\n",
    "\n",
    "def uncensor(sentence,strr):\n",
    "    k=0\n",
    "    count=0\n",
    "    ans=\"\"\n",
    "    for i in sentence:\n",
    "        count\n",
    "        if i==\"*\":\n",
    "            ans+= strr[k]\n",
    "            k+=1\n",
    "        else:\n",
    "            ans+=i\n",
    "    return ans\n"
   ]
  },
  {
   "cell_type": "code",
   "execution_count": 6,
   "id": "344dc62e",
   "metadata": {},
   "outputs": [
    {
     "name": "stdout",
     "output_type": "stream",
     "text": [
      "Where did my vowels go?\n"
     ]
    }
   ],
   "source": [
    "print(uncensor(\"Wh*r* d*d my v*w*ls g*?\", \"eeioeo\"))"
   ]
  },
  {
   "cell_type": "code",
   "execution_count": 7,
   "id": "49fa8c75",
   "metadata": {},
   "outputs": [
    {
     "name": "stdout",
     "output_type": "stream",
     "text": [
      "abcd\n"
     ]
    }
   ],
   "source": [
    "print(uncensor(\"abcd\", \"\"))"
   ]
  },
  {
   "cell_type": "code",
   "execution_count": 8,
   "id": "9b0b85fe",
   "metadata": {},
   "outputs": [
    {
     "name": "stdout",
     "output_type": "stream",
     "text": [
      "UPPERCASE\n"
     ]
    }
   ],
   "source": [
    "print(uncensor(\"*PP*RC*S*\", \"UEAE\"))"
   ]
  },
  {
   "cell_type": "markdown",
   "id": "3c563db5",
   "metadata": {},
   "source": [
    "#Question :04\n",
    "\n",
    "Write a function that takes an IP address and returns the domain name\n",
    "using PTR DNS records.\n",
    "\n",
    "Example\n",
    "\n",
    "get_domain(\"8.8.8.8\") ➞ \"dns.google\"\n",
    "\n",
    "get_domain(\"8.8.4.4\") ➞ \"dns.google\""
   ]
  },
  {
   "cell_type": "code",
   "execution_count": 9,
   "id": "936e04f3",
   "metadata": {},
   "outputs": [
    {
     "name": "stdout",
     "output_type": "stream",
     "text": [
      "Requirement already satisfied: dnspython in c:\\users\\adarsh\\anaconda3\\lib\\site-packages (2.2.1)\n"
     ]
    }
   ],
   "source": [
    "#code\n",
    "!pip install dnspython"
   ]
  },
  {
   "cell_type": "code",
   "execution_count": 11,
   "id": "218f4ef0",
   "metadata": {},
   "outputs": [],
   "source": [
    "from dns import reversename\n",
    "from dns import resolver\n",
    "\n",
    "def get_domain(Ip):\n",
    "    address = reversename.from_address(Ip)\n",
    "    name = str(resolver.resolve(address, \"PTR\")[0])\n",
    "    return name\n"
   ]
  },
  {
   "cell_type": "code",
   "execution_count": 12,
   "id": "15314112",
   "metadata": {},
   "outputs": [
    {
     "data": {
      "text/plain": [
       "'dns.google.'"
      ]
     },
     "execution_count": 12,
     "metadata": {},
     "output_type": "execute_result"
    }
   ],
   "source": [
    "get_domain('8.8.8.8') "
   ]
  },
  {
   "cell_type": "code",
   "execution_count": 13,
   "id": "1748b44b",
   "metadata": {},
   "outputs": [
    {
     "data": {
      "text/plain": [
       "'dns.google.'"
      ]
     },
     "execution_count": 13,
     "metadata": {},
     "output_type": "execute_result"
    }
   ],
   "source": [
    "get_domain('8.8.4.4')"
   ]
  },
  {
   "cell_type": "markdown",
   "id": "d785ac27",
   "metadata": {},
   "source": [
    "#Question  : 05\n",
    "\n",
    "Create a function that takes an integer n and returns the factorial of\n",
    "factorials. See below examples for a better understanding:\n",
    "    \n",
    "Examples\n",
    "\n",
    "fact_of_fact(4) ➞ 288\n",
    "\n",
    "# 4! * 3! * 2! * 1! = 288\n",
    "\n",
    "fact_of_fact(5) ➞ 34560\n",
    "\n",
    "fact_of_fact(6) ➞ 24883200"
   ]
  },
  {
   "cell_type": "code",
   "execution_count": 22,
   "id": "46cbf1db",
   "metadata": {},
   "outputs": [],
   "source": [
    "#code \n",
    "def fact_of_fact(num):\n",
    "    ans=1\n",
    "    for i in range(num+1):\n",
    "        res=1\n",
    "        while(i>=1):\n",
    "            res*=i\n",
    "            i-=1\n",
    "        ans*=res\n",
    "    return ans\n"
   ]
  },
  {
   "cell_type": "code",
   "execution_count": 23,
   "id": "815b8946",
   "metadata": {},
   "outputs": [
    {
     "data": {
      "text/plain": [
       "34560"
      ]
     },
     "execution_count": 23,
     "metadata": {},
     "output_type": "execute_result"
    }
   ],
   "source": [
    "fact_of_fact(5)"
   ]
  },
  {
   "cell_type": "code",
   "execution_count": 24,
   "id": "35d1600c",
   "metadata": {},
   "outputs": [
    {
     "data": {
      "text/plain": [
       "288"
      ]
     },
     "execution_count": 24,
     "metadata": {},
     "output_type": "execute_result"
    }
   ],
   "source": [
    "fact_of_fact(4) "
   ]
  },
  {
   "cell_type": "code",
   "execution_count": 25,
   "id": "8018e69b",
   "metadata": {},
   "outputs": [
    {
     "data": {
      "text/plain": [
       "24883200"
      ]
     },
     "execution_count": 25,
     "metadata": {},
     "output_type": "execute_result"
    }
   ],
   "source": [
    "fact_of_fact(6)"
   ]
  },
  {
   "cell_type": "code",
   "execution_count": null,
   "id": "b3d07475",
   "metadata": {},
   "outputs": [],
   "source": []
  }
 ],
 "metadata": {
  "kernelspec": {
   "display_name": "Python 3 (ipykernel)",
   "language": "python",
   "name": "python3"
  },
  "language_info": {
   "codemirror_mode": {
    "name": "ipython",
    "version": 3
   },
   "file_extension": ".py",
   "mimetype": "text/x-python",
   "name": "python",
   "nbconvert_exporter": "python",
   "pygments_lexer": "ipython3",
   "version": "3.9.7"
  }
 },
 "nbformat": 4,
 "nbformat_minor": 5
}
