{
 "cells": [
  {
   "cell_type": "markdown",
   "id": "62f72bc9",
   "metadata": {},
   "source": [
    "#Question : 01\n",
    "\n",
    "Answer:-\n",
    " The two values of the boolean data type are True and False.\n",
    " we can write true and false as first letter's as capital and the rest as small;\n",
    " \"True\" and \"False\""
   ]
  },
  {
   "cell_type": "markdown",
   "id": "db16b946",
   "metadata": {},
   "source": [
    "#Question : 02\n",
    "\n",
    "Answer:-\n",
    "The three different types of boolean operators are :-\n",
    "1. and\n",
    "2. or\n",
    "3. not\n"
   ]
  },
  {
   "cell_type": "markdown",
   "id": "e00302e3",
   "metadata": {},
   "source": [
    "#Question : 03\n",
    "\n",
    "Answer:-\n",
    "1. And operator:\n",
    "  A  B  result\n",
    "  0  0  0\n",
    "  0  1  0\n",
    "  1  0  0\n",
    "  1  1  1\n",
    "  \n",
    "2. or operator:\n",
    "  A  B  result\n",
    "  0  0  0\n",
    "  0  1  1\n",
    "  1  0  1\n",
    "  1  1  1\n",
    "  \n",
    "3. not operator:\n",
    "  A  result\n",
    "  1  0\n",
    "  0  1\n"
   ]
  },
  {
   "cell_type": "markdown",
   "id": "b6f18605",
   "metadata": {},
   "source": [
    "#Question : 04\n",
    "\n",
    "Answer:-\n",
    "1. False\n",
    "2. False\n",
    "3. True\n",
    "4. False\n",
    "5. False\n",
    "6. True\n"
   ]
  },
  {
   "cell_type": "markdown",
   "id": "cbd02442",
   "metadata": {},
   "source": [
    "#Question : 05\n",
    "\n",
    "Answer:-\n",
    "The six comparison operators are :-\n",
    "1. Greater than (>) operator\n",
    "2. Less than (<) operator\n",
    "3. Equal to (==) operator\n",
    "4. Greater than or equals to (>=) operator\n",
    "5. Less than or equals to (<=) operator\n",
    "6. Not equals to (!=) operator \n"
   ]
  },
  {
   "cell_type": "markdown",
   "id": "c7fceab5",
   "metadata": {},
   "source": [
    "#Question : 06\n",
    "\n",
    "Answer:-\n",
    "The differetiation between equal to and assignment operator is that ,an equals to operator has two equal sign(\"=\"); whereas a assignment operator has only a single equal sign (\"=\").\n",
    "we would use assignment operator when we need to assign values to a variables or same operations , Example- A=5,it assigns the variables with the values.Whereas, we would use equals to while comparing two values are same or not , Example- 3==5,here it returns a boolean values."
   ]
  },
  {
   "cell_type": "markdown",
   "id": "c51b7acd",
   "metadata": {},
   "source": [
    "#Question : 07\n",
    "\n",
    "Answer:-\n",
    "#######first block###############\n",
    "spam = 0\n",
    "if spam == 10:\n",
    "print('eggs')\n",
    ".................................\n",
    "#########Second block############\n",
    "if spam > 5:\n",
    "print('bacon')\n",
    ".................................\n",
    "########third block##############\n",
    "else:\n",
    "print('ham')\n",
    "print('spam')\n",
    "print('spam')\n",
    "................................."
   ]
  },
  {
   "cell_type": "code",
   "execution_count": 8,
   "id": "2e0a9073",
   "metadata": {},
   "outputs": [
    {
     "name": "stdout",
     "output_type": "stream",
     "text": [
      "enter a value: 6+6j\n",
      "Greetings!\n"
     ]
    }
   ],
   "source": [
    "#Question : 08\n",
    "\n",
    "try:\n",
    "    spam = input(\"enter a value: \")\n",
    "    if spam == '1':\n",
    "        print(\"Hello\")\n",
    "    elif spam == '2':\n",
    "        print(\"Howdy\")\n",
    "    else:\n",
    "        print(\"Greetings!\")\n",
    "except:\n",
    "    print(\"Greetings!\")"
   ]
  },
  {
   "cell_type": "markdown",
   "id": "3aa25530",
   "metadata": {},
   "source": [
    "#Question : 09\n",
    "\n",
    "Answer:-\n",
    " if my program is struck in a endless loop i'll press 'Ctrl+C' , to break the loop.\n",
    " "
   ]
  },
  {
   "cell_type": "markdown",
   "id": "7ea0d8d9",
   "metadata": {},
   "source": [
    "#Question : 10\n",
    "\n",
    "Answer:-\n",
    " Break is used to stop iteration and get of the loop. Whereas, continue in used to skip the current step and iterate over the next iteration."
   ]
  },
  {
   "cell_type": "markdown",
   "id": "63bed1f2",
   "metadata": {},
   "source": [
    "#Question : 11\n",
    "In a for loop the difference between range(10),range(0,10)and range(0,10,1) is only the visible diffence,one has only the final iteration value ,next one has the least and final iteration values,and the third one has also the step count. Anyhow, functionality wise there is no difference between the three statements.All the three will behave the same."
   ]
  },
  {
   "cell_type": "code",
   "execution_count": 13,
   "id": "7ce0f4c7",
   "metadata": {},
   "outputs": [
    {
     "name": "stdout",
     "output_type": "stream",
     "text": [
      "enter the number10\n",
      "Using for loop: \n",
      "\n",
      "1  \n",
      "2  \n",
      "3  \n",
      "4  \n",
      "5  \n",
      "6  \n",
      "7  \n",
      "8  \n",
      "9  \n",
      "10  \n",
      "using while loop : \n",
      "\n",
      "1\n",
      "2\n",
      "3\n",
      "4\n",
      "5\n",
      "6\n",
      "7\n",
      "8\n",
      "9\n",
      "10\n"
     ]
    }
   ],
   "source": [
    "#Question : 12\n",
    "i=int(input(\"enter the number\"))\n",
    "k=1\n",
    "print(\"Using for loop: \\n\")\n",
    "for j in range(1,i+1):\n",
    "    print(j ,\" \")\n",
    "print(\"using while loop : \\n\")\n",
    "while k<i+1:\n",
    "    print(k)\n",
    "    k+=1"
   ]
  },
  {
   "cell_type": "markdown",
   "id": "1101fcb4",
   "metadata": {},
   "source": [
    "#question : 13\n",
    "if i have imported a module named spam. Then the function inside the module can be called as module_name.function_name().which in this case will be spam.bacon()"
   ]
  }
 ],
 "metadata": {
  "kernelspec": {
   "display_name": "Python 3 (ipykernel)",
   "language": "python",
   "name": "python3"
  },
  "language_info": {
   "codemirror_mode": {
    "name": "ipython",
    "version": 3
   },
   "file_extension": ".py",
   "mimetype": "text/x-python",
   "name": "python",
   "nbconvert_exporter": "python",
   "pygments_lexer": "ipython3",
   "version": "3.9.7"
  }
 },
 "nbformat": 4,
 "nbformat_minor": 5
}
