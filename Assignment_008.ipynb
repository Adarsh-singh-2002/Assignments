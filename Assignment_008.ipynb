{
 "cells": [
  {
   "cell_type": "markdown",
   "id": "d752220c",
   "metadata": {},
   "source": [
    "#Question :01\n",
    "\n",
    "Is the Python Standard Library included with PyInputPlus?\n",
    "\n",
    "Answer:\n",
    "No, pyInputPlus is not a part of python standard library."
   ]
  },
  {
   "cell_type": "markdown",
   "id": "80787888",
   "metadata": {},
   "source": [
    "#Question :02\n",
    "\n",
    "Why is PyInputPlus commonly imported with import pyinputplus as pypi?\n",
    "\n",
    "Answer:\n",
    "We import PyInputPlus commonly as 'import pyinputplus as pypi', because this is a standard technique also pypi is alias so this name can be changed according to our will but since it is a abbriviated form of pyinputplus and it's also easy to use so we commonly use this only."
   ]
  },
  {
   "cell_type": "markdown",
   "id": "f9361a9b",
   "metadata": {},
   "source": [
    "#Question :03\n",
    "\n",
    "How do you distinguish between inputInt() and inputFloat()?\n",
    "\n",
    "Answer:\n",
    "inputInt() is used for a accepting integer values and returning integer values.\n",
    "whereas,inputFloat() is used to accept integer as well as float inputs and return float values.\n",
    "Both has additional parameters ‘min’, ‘max’, ‘greaterThan’ and ‘lessThan’  for bounds."
   ]
  },
  {
   "cell_type": "markdown",
   "id": "487a5ded",
   "metadata": {},
   "source": [
    "#Question :04\n",
    "\n",
    "Using PyInputPlus, how do you ensure that the user enters a whole number between 0 and 99?\n",
    "\n",
    "Answer:"
   ]
  },
  {
   "cell_type": "code",
   "execution_count": 1,
   "id": "c670b031",
   "metadata": {},
   "outputs": [
    {
     "name": "stdout",
     "output_type": "stream",
     "text": [
      "enter a number of your choice: 344\n",
      "Number must be at maximum 99.\n",
      "enter a number of your choice: 43\n",
      "43\n"
     ]
    }
   ],
   "source": [
    "import pyinputplus as pypi\n",
    "num = pypi.inputNum(\"enter a number of your choice: \",min=0,max=99)\n",
    "print(num)"
   ]
  },
  {
   "cell_type": "markdown",
   "id": "5db3b68e",
   "metadata": {},
   "source": [
    "#Question :05\n",
    "\n",
    "What is transferred to the keyword arguments allowRegexes and blockRegexes?\n",
    "\n",
    "Answer:\n",
    "allowregexes and blockregexes is mainly used for regular expressions operations.The allowRegexes and blockRegexes keyword arguments take a list of regular expression strings to determine what the PyInputPlus function will accept or reject as valid input. For example, enter the following code into the interactive shell so that inputNum() will accept Roman numerals in addition to the usual numbers."
   ]
  },
  {
   "cell_type": "code",
   "execution_count": 8,
   "id": "180d015b",
   "metadata": {},
   "outputs": [
    {
     "name": "stdout",
     "output_type": "stream",
     "text": [
      "23\n",
      "23\n"
     ]
    }
   ],
   "source": [
    "#code\n",
    "import pyinputplus as pyip\n",
    "response = pyip.inputNum(allowRegexes=[r'(I|V|X|L|C|D|M)+', r'zero'])\n",
    "print(response)"
   ]
  },
  {
   "cell_type": "code",
   "execution_count": 10,
   "id": "70c299d8",
   "metadata": {},
   "outputs": [
    {
     "name": "stdout",
     "output_type": "stream",
     "text": [
      "42\n",
      "This response is invalid.\n",
      "33\n"
     ]
    }
   ],
   "source": [
    "import pyinputplus as pyip\n",
    "response = pyip.inputNum(blockRegexes=[r'[02468]$'])"
   ]
  },
  {
   "cell_type": "markdown",
   "id": "8b7cefeb",
   "metadata": {},
   "source": [
    "#Question :06\n",
    "\n",
    "If a blank input is entered three times, what does inputStr(limit=3) do?\n",
    "\n",
    "Answer:\n",
    "if the total number of times we can input the value is exhausted then we will get an error"
   ]
  },
  {
   "cell_type": "code",
   "execution_count": 16,
   "id": "f5eb7e37",
   "metadata": {},
   "outputs": [
    {
     "name": "stdout",
     "output_type": "stream",
     "text": [
      "\n",
      "Blank values are not allowed.\n",
      "\n",
      "Blank values are not allowed.\n",
      "\n",
      "Blank values are not allowed.\n"
     ]
    },
    {
     "ename": "RetryLimitException",
     "evalue": "",
     "output_type": "error",
     "traceback": [
      "\u001b[1;31m---------------------------------------------------------------------------\u001b[0m",
      "\u001b[1;31mValidationException\u001b[0m                       Traceback (most recent call last)",
      "\u001b[1;32m~\\anaconda3\\lib\\site-packages\\pyinputplus\\__init__.py\u001b[0m in \u001b[0;36m_genericInput\u001b[1;34m(prompt, default, timeout, limit, applyFunc, validationFunc, postValidateApplyFunc, passwordMask)\u001b[0m\n\u001b[0;32m    166\u001b[0m         \u001b[1;32mtry\u001b[0m\u001b[1;33m:\u001b[0m\u001b[1;33m\u001b[0m\u001b[1;33m\u001b[0m\u001b[0m\n\u001b[1;32m--> 167\u001b[1;33m             possibleNewUserInput = validationFunc(\n\u001b[0m\u001b[0;32m    168\u001b[0m                 \u001b[0muserInput\u001b[0m\u001b[1;33m\u001b[0m\u001b[1;33m\u001b[0m\u001b[0m\n",
      "\u001b[1;32m~\\anaconda3\\lib\\site-packages\\pyinputplus\\__init__.py\u001b[0m in \u001b[0;36m<lambda>\u001b[1;34m(value)\u001b[0m\n\u001b[0;32m    242\u001b[0m \u001b[1;33m\u001b[0m\u001b[0m\n\u001b[1;32m--> 243\u001b[1;33m     validationFunc = lambda value: pysv._prevalidationCheck(\n\u001b[0m\u001b[0;32m    244\u001b[0m         \u001b[0mvalue\u001b[0m\u001b[1;33m,\u001b[0m \u001b[0mblank\u001b[0m\u001b[1;33m=\u001b[0m\u001b[0mblank\u001b[0m\u001b[1;33m,\u001b[0m \u001b[0mstrip\u001b[0m\u001b[1;33m=\u001b[0m\u001b[0mstrip\u001b[0m\u001b[1;33m,\u001b[0m \u001b[0mallowRegexes\u001b[0m\u001b[1;33m=\u001b[0m\u001b[0mallowRegexes\u001b[0m\u001b[1;33m,\u001b[0m \u001b[0mblockRegexes\u001b[0m\u001b[1;33m=\u001b[0m\u001b[0mblockRegexes\u001b[0m\u001b[1;33m,\u001b[0m \u001b[0mexcMsg\u001b[0m\u001b[1;33m=\u001b[0m\u001b[1;32mNone\u001b[0m\u001b[1;33m,\u001b[0m\u001b[1;33m\u001b[0m\u001b[1;33m\u001b[0m\u001b[0m\n",
      "\u001b[1;32m~\\anaconda3\\lib\\site-packages\\pysimplevalidate\\__init__.py\u001b[0m in \u001b[0;36m_prevalidationCheck\u001b[1;34m(value, blank, strip, allowRegexes, blockRegexes, excMsg)\u001b[0m\n\u001b[0;32m    249\u001b[0m         \u001b[1;31m# value is blank but blanks aren't allowed.\u001b[0m\u001b[1;33m\u001b[0m\u001b[1;33m\u001b[0m\u001b[0m\n\u001b[1;32m--> 250\u001b[1;33m         \u001b[0m_raiseValidationException\u001b[0m\u001b[1;33m(\u001b[0m\u001b[0m_\u001b[0m\u001b[1;33m(\u001b[0m\u001b[1;34m\"Blank values are not allowed.\"\u001b[0m\u001b[1;33m)\u001b[0m\u001b[1;33m,\u001b[0m \u001b[0mexcMsg\u001b[0m\u001b[1;33m)\u001b[0m\u001b[1;33m\u001b[0m\u001b[1;33m\u001b[0m\u001b[0m\n\u001b[0m\u001b[0;32m    251\u001b[0m     \u001b[1;32melif\u001b[0m \u001b[0mblank\u001b[0m \u001b[1;32mand\u001b[0m \u001b[0mvalue\u001b[0m \u001b[1;33m==\u001b[0m \u001b[1;34m\"\"\u001b[0m\u001b[1;33m:\u001b[0m\u001b[1;33m\u001b[0m\u001b[1;33m\u001b[0m\u001b[0m\n",
      "\u001b[1;32m~\\anaconda3\\lib\\site-packages\\pysimplevalidate\\__init__.py\u001b[0m in \u001b[0;36m_raiseValidationException\u001b[1;34m(standardExcMsg, customExcMsg)\u001b[0m\n\u001b[0;32m    221\u001b[0m     \u001b[1;32mif\u001b[0m \u001b[0mcustomExcMsg\u001b[0m \u001b[1;32mis\u001b[0m \u001b[1;32mNone\u001b[0m\u001b[1;33m:\u001b[0m\u001b[1;33m\u001b[0m\u001b[1;33m\u001b[0m\u001b[0m\n\u001b[1;32m--> 222\u001b[1;33m         \u001b[1;32mraise\u001b[0m \u001b[0mValidationException\u001b[0m\u001b[1;33m(\u001b[0m\u001b[0mstr\u001b[0m\u001b[1;33m(\u001b[0m\u001b[0mstandardExcMsg\u001b[0m\u001b[1;33m)\u001b[0m\u001b[1;33m)\u001b[0m\u001b[1;33m\u001b[0m\u001b[1;33m\u001b[0m\u001b[0m\n\u001b[0m\u001b[0;32m    223\u001b[0m     \u001b[1;32melse\u001b[0m\u001b[1;33m:\u001b[0m\u001b[1;33m\u001b[0m\u001b[1;33m\u001b[0m\u001b[0m\n",
      "\u001b[1;31mValidationException\u001b[0m: Blank values are not allowed.",
      "\nDuring handling of the above exception, another exception occurred:\n",
      "\u001b[1;31mRetryLimitException\u001b[0m                       Traceback (most recent call last)",
      "\u001b[1;32m~\\AppData\\Local\\Temp/ipykernel_12204/1312459893.py\u001b[0m in \u001b[0;36m<module>\u001b[1;34m\u001b[0m\n\u001b[0;32m      1\u001b[0m \u001b[1;32mimport\u001b[0m \u001b[0mpyinputplus\u001b[0m \u001b[1;32mas\u001b[0m \u001b[0mpyip\u001b[0m\u001b[1;33m\u001b[0m\u001b[1;33m\u001b[0m\u001b[0m\n\u001b[1;32m----> 2\u001b[1;33m \u001b[0mx\u001b[0m\u001b[1;33m=\u001b[0m\u001b[0mpypi\u001b[0m\u001b[1;33m.\u001b[0m\u001b[0minputStr\u001b[0m\u001b[1;33m(\u001b[0m\u001b[0mlimit\u001b[0m\u001b[1;33m=\u001b[0m\u001b[1;36m3\u001b[0m\u001b[1;33m)\u001b[0m\u001b[1;33m\u001b[0m\u001b[1;33m\u001b[0m\u001b[0m\n\u001b[0m\u001b[0;32m      3\u001b[0m \u001b[0mprint\u001b[0m\u001b[1;33m(\u001b[0m\u001b[0mx\u001b[0m\u001b[1;33m)\u001b[0m\u001b[1;33m\u001b[0m\u001b[1;33m\u001b[0m\u001b[0m\n",
      "\u001b[1;32m~\\anaconda3\\lib\\site-packages\\pyinputplus\\__init__.py\u001b[0m in \u001b[0;36minputStr\u001b[1;34m(prompt, default, blank, timeout, limit, strip, allowRegexes, blockRegexes, applyFunc, postValidateApplyFunc)\u001b[0m\n\u001b[0;32m    245\u001b[0m     )[1]\n\u001b[0;32m    246\u001b[0m \u001b[1;33m\u001b[0m\u001b[0m\n\u001b[1;32m--> 247\u001b[1;33m     return _genericInput(\n\u001b[0m\u001b[0;32m    248\u001b[0m         \u001b[0mprompt\u001b[0m\u001b[1;33m=\u001b[0m\u001b[0mprompt\u001b[0m\u001b[1;33m,\u001b[0m\u001b[1;33m\u001b[0m\u001b[1;33m\u001b[0m\u001b[0m\n\u001b[0;32m    249\u001b[0m         \u001b[0mdefault\u001b[0m\u001b[1;33m=\u001b[0m\u001b[0mdefault\u001b[0m\u001b[1;33m,\u001b[0m\u001b[1;33m\u001b[0m\u001b[1;33m\u001b[0m\u001b[0m\n",
      "\u001b[1;32m~\\anaconda3\\lib\\site-packages\\pyinputplus\\__init__.py\u001b[0m in \u001b[0;36m_genericInput\u001b[1;34m(prompt, default, timeout, limit, applyFunc, validationFunc, postValidateApplyFunc, passwordMask)\u001b[0m\n\u001b[0;32m    186\u001b[0m                 \u001b[1;32melse\u001b[0m\u001b[1;33m:\u001b[0m\u001b[1;33m\u001b[0m\u001b[1;33m\u001b[0m\u001b[0m\n\u001b[0;32m    187\u001b[0m                     \u001b[1;31m# If there is no default, then raise the timeout/limit exception.\u001b[0m\u001b[1;33m\u001b[0m\u001b[1;33m\u001b[0m\u001b[0m\n\u001b[1;32m--> 188\u001b[1;33m                     \u001b[1;32mraise\u001b[0m \u001b[0mlimitOrTimeoutException\u001b[0m\u001b[1;33m\u001b[0m\u001b[1;33m\u001b[0m\u001b[0m\n\u001b[0m\u001b[0;32m    189\u001b[0m             \u001b[1;32melse\u001b[0m\u001b[1;33m:\u001b[0m\u001b[1;33m\u001b[0m\u001b[1;33m\u001b[0m\u001b[0m\n\u001b[0;32m    190\u001b[0m                 \u001b[1;31m# If there was no timeout/limit exceeded, let the user enter input again.\u001b[0m\u001b[1;33m\u001b[0m\u001b[1;33m\u001b[0m\u001b[0m\n",
      "\u001b[1;31mRetryLimitException\u001b[0m: "
     ]
    }
   ],
   "source": [
    "import pyinputplus as pyip\n",
    "x=pypi.inputStr(limit=3)\n",
    "print(x)"
   ]
  },
  {
   "cell_type": "markdown",
   "id": "98978bef",
   "metadata": {},
   "source": [
    "#Question :07\n",
    "\n",
    "If blank input is entered three times, what does inputStr(limit=3, default='hello') do?\n",
    "\n",
    "Answer:\n",
    "it will simply return the default statement which is hello in this case.The failure of entering string three times won't lead to a error in this case."
   ]
  },
  {
   "cell_type": "code",
   "execution_count": 19,
   "id": "ebf5df5d",
   "metadata": {},
   "outputs": [
    {
     "name": "stdout",
     "output_type": "stream",
     "text": [
      "\n",
      "Blank values are not allowed.\n",
      "\n",
      "Blank values are not allowed.\n",
      "\n",
      "Blank values are not allowed.\n",
      "hello\n"
     ]
    }
   ],
   "source": [
    "#code\n",
    "import pyinputplus as pyip\n",
    "x=pypi.inputStr(limit=3, default='hello') \n",
    "print(x)"
   ]
  }
 ],
 "metadata": {
  "kernelspec": {
   "display_name": "Python 3 (ipykernel)",
   "language": "python",
   "name": "python3"
  },
  "language_info": {
   "codemirror_mode": {
    "name": "ipython",
    "version": 3
   },
   "file_extension": ".py",
   "mimetype": "text/x-python",
   "name": "python",
   "nbconvert_exporter": "python",
   "pygments_lexer": "ipython3",
   "version": "3.9.7"
  }
 },
 "nbformat": 4,
 "nbformat_minor": 5
}
