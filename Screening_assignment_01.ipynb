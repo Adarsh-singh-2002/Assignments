{
 "cells": [
  {
   "cell_type": "markdown",
   "id": "0410e967",
   "metadata": {},
   "source": [
    "#Question : 01"
   ]
  },
  {
   "cell_type": "code",
   "execution_count": null,
   "id": "b5828d27",
   "metadata": {},
   "outputs": [],
   "source": [
    "f=open(\"example.txt\",'w+')"
   ]
  },
  {
   "cell_type": "code",
   "execution_count": 2,
   "id": "61089984",
   "metadata": {},
   "outputs": [
    {
     "data": {
      "text/plain": [
       "27"
      ]
     },
     "execution_count": 2,
     "metadata": {},
     "output_type": "execute_result"
    }
   ],
   "source": [
    "f.write(\"This is placement assignment\")"
   ]
  },
  {
   "cell_type": "code",
   "execution_count": 5,
   "id": "bbe9973f",
   "metadata": {},
   "outputs": [],
   "source": [
    "f.close()"
   ]
  },
  {
   "cell_type": "code",
   "execution_count": 6,
   "id": "e78b69e4",
   "metadata": {},
   "outputs": [],
   "source": [
    "f=open(\"example.txt\",'r')"
   ]
  },
  {
   "cell_type": "code",
   "execution_count": 7,
   "id": "2cb4e990",
   "metadata": {},
   "outputs": [],
   "source": [
    "line=f.readline()"
   ]
  },
  {
   "cell_type": "code",
   "execution_count": 8,
   "id": "55694bc9",
   "metadata": {},
   "outputs": [
    {
     "data": {
      "text/plain": [
       "'This is placement ssignment'"
      ]
     },
     "execution_count": 8,
     "metadata": {},
     "output_type": "execute_result"
    }
   ],
   "source": [
    "line"
   ]
  },
  {
   "cell_type": "code",
   "execution_count": 11,
   "id": "2b0f2e02",
   "metadata": {},
   "outputs": [],
   "source": [
    "line=line.replace(\"placement\",\"screening\")"
   ]
  },
  {
   "cell_type": "code",
   "execution_count": 12,
   "id": "ca99a7b4",
   "metadata": {},
   "outputs": [
    {
     "data": {
      "text/plain": [
       "'This is screening ssignment'"
      ]
     },
     "execution_count": 12,
     "metadata": {},
     "output_type": "execute_result"
    }
   ],
   "source": [
    "line"
   ]
  },
  {
   "cell_type": "markdown",
   "id": "f3ed751f",
   "metadata": {},
   "source": [
    "#Question : 02"
   ]
  },
  {
   "cell_type": "code",
   "execution_count": 20,
   "id": "3a35185a",
   "metadata": {},
   "outputs": [
    {
     "name": "stdout",
     "output_type": "stream",
     "text": [
      "Assignment completed.\n",
      "Working fine.\n",
      "Assignment completed.\n",
      "Adarsh is selected for the job.\n"
     ]
    }
   ],
   "source": [
    "from abc import ABC , abstractmethod\n",
    "\n",
    "class ineuron(ABC):                          #Abstract class\n",
    "    @abstractmethod                          #decorator\n",
    "    def run(self):\n",
    "        pass\n",
    "class assignment(ineuron):\n",
    "    def process(self):\n",
    "        print(\"Assignment completed.\")\n",
    "    def run(self):\n",
    "        pass\n",
    "class jobs(ineuron):\n",
    "    def working(self):\n",
    "        print(\"Working fine.\")\n",
    "    def run(self):\n",
    "        pass\n",
    "class Adarsh(assignment):           #Multiple inheritance\n",
    "    def selected(self):\n",
    "        print(\"Adarsh is selected for the job.\")\n",
    "    def run(self):\n",
    "        pass\n",
    "#obj1=ineuron()\n",
    "#obj1.run()\n",
    "obj2=assignment()\n",
    "obj2.process()\n",
    "obj3=jobs()\n",
    "obj3.working()\n",
    "obj4=Adarsh()\n",
    "obj4.process()\n",
    "obj4.selected()"
   ]
  },
  {
   "cell_type": "code",
   "execution_count": null,
   "id": "5640d0c3",
   "metadata": {},
   "outputs": [],
   "source": []
  }
 ],
 "metadata": {
  "kernelspec": {
   "display_name": "Python 3 (ipykernel)",
   "language": "python",
   "name": "python3"
  },
  "language_info": {
   "codemirror_mode": {
    "name": "ipython",
    "version": 3
   },
   "file_extension": ".py",
   "mimetype": "text/x-python",
   "name": "python",
   "nbconvert_exporter": "python",
   "pygments_lexer": "ipython3",
   "version": "3.9.7"
  }
 },
 "nbformat": 4,
 "nbformat_minor": 5
}
