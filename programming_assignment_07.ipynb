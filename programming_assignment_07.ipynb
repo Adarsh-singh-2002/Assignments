{
 "cells": [
  {
   "cell_type": "markdown",
   "id": "37ef965b",
   "metadata": {},
   "source": [
    "#Question :01\n",
    "\n",
    "Write a Python Program to find sum of array?\n",
    "\n",
    "Answer:"
   ]
  },
  {
   "cell_type": "code",
   "execution_count": 9,
   "id": "ca5ddaf3",
   "metadata": {},
   "outputs": [
    {
     "name": "stdout",
     "output_type": "stream",
     "text": [
      "enter the number of entries in the array : 3\n",
      "enter entry of 1 place90\n",
      "enter entry of 2 place89\n",
      "enter entry of 3 place78\n",
      "sum of the values in the array is :  257\n"
     ]
    }
   ],
   "source": [
    "#code\n",
    "try:\n",
    "    N=[]\n",
    "    num =int(input(\"enter the number of entries in the array : \"))\n",
    "    for i in range(num):\n",
    "        x=int(input(f\"enter entry of {i+1} place : \"))\n",
    "        N.append(x)\n",
    "except Exception as e:\n",
    "    print(\"ERROR: \",e)\n",
    "try:\n",
    "    sum=0\n",
    "    for k in N:\n",
    "        sum+=k\n",
    "    print(\"sum of the values in the array is : \",sum)\n",
    "except Exception as k:\n",
    "    print(k)"
   ]
  },
  {
   "cell_type": "markdown",
   "id": "29f26bdb",
   "metadata": {},
   "source": [
    "#Question :02\n",
    "\n",
    "Write a Python Program to find largest element in an array?\n",
    "\n",
    "Answer:\n",
    "    "
   ]
  },
  {
   "cell_type": "code",
   "execution_count": 16,
   "id": "cfe4f937",
   "metadata": {},
   "outputs": [
    {
     "name": "stdout",
     "output_type": "stream",
     "text": [
      "enter the number of entries in the array : 5\n",
      "enter entry of 1 place : 23\n",
      "enter entry of 2 place : 12\n",
      "enter entry of 3 place : 02\n",
      "enter entry of 4 place : 45\n",
      "enter entry of 5 place : 55\n",
      "Largest value in the given array is :  55\n"
     ]
    }
   ],
   "source": [
    "#code\n",
    "try:\n",
    "    N=[]\n",
    "    largest=-100\n",
    "    num =int(input(\"enter the number of entries in the array : \"))\n",
    "    if num>0:\n",
    "        for i in range(num):\n",
    "            x=int(input(f\"enter entry of {i+1} place : \"))\n",
    "            N.append(x)\n",
    "            if x>largest:\n",
    "                largest=x\n",
    "    else:\n",
    "        print(\"negative values cannot be entered :) \")\n",
    "except Exception as e:\n",
    "    print(\"ERROR: \",e)\n",
    "print(\"Largest value in the given array is : \", largest)"
   ]
  },
  {
   "cell_type": "markdown",
   "id": "eeb93d5c",
   "metadata": {},
   "source": [
    "#Question :03\n",
    "\n",
    "Write a Python Program for array rotation?\n",
    "\n",
    "Answer:"
   ]
  },
  {
   "cell_type": "code",
   "execution_count": 10,
   "id": "29ea62d9",
   "metadata": {},
   "outputs": [
    {
     "name": "stdout",
     "output_type": "stream",
     "text": [
      "enter the number of entries in the array : 5\n",
      "enter entry of 1 place : 1\n",
      "enter entry of 2 place : 2\n",
      "enter entry of 3 place : 3\n",
      "enter entry of 4 place : 4\n",
      "enter entry of 5 place : 5\n",
      "Enter 'L' for left rotation or Enter 'R' for right rotation : l\n",
      "Enter the number of rotations : 3\n",
      "4\n",
      "5\n",
      "1\n",
      "2\n",
      "3\n"
     ]
    }
   ],
   "source": [
    "#code\n",
    "try:\n",
    "    def Choice():\n",
    "        choice=input(\"Enter 'L' for left rotation or Enter 'R' for right rotation : \")\n",
    "        k=choice.lower()\n",
    "        if k != 'l' and k != 'r':\n",
    "            print(\"Invalid choice :( \")\n",
    "            Choice()\n",
    "        return k\n",
    "    def n():\n",
    "            n1=int(input(\"Enter the number of rotations : \"))\n",
    "            return n1\n",
    "except Exception as e:\n",
    "    print(\"ERROR : \",e)\n",
    "try:\n",
    "    N=[]\n",
    "    num =int(input(\"enter the number of entries in the array : \"))\n",
    "    if num>0:\n",
    "        for i in range(num):\n",
    "            x=int(input(f\"enter entry of {i+1} place : \"))\n",
    "            N.append(x)\n",
    "    else:\n",
    "        print(\"negative values cannot be entered :) \")\n",
    "except Exception as e:\n",
    "    print(\"ERROR: \",e)\n",
    "try:\n",
    "    choice=Choice()\n",
    "    n=n()\n",
    "    K=[]\n",
    "    for i in N:\n",
    "        K.append(i)\n",
    "    if choice=='l':\n",
    "        for i in range(num-n):\n",
    "            N[i]=N[i+n]\n",
    "        for j in range(n):\n",
    "            N[num-n+j]=K[j]\n",
    "    if choice=='r':\n",
    "        for i in range(num-n):\n",
    "            N[i+n]=N[i]\n",
    "        for j in range(n):\n",
    "            N[j]=K[num-n+j]\n",
    "    for i in N:\n",
    "        print(i)\n",
    "except:\n",
    "    pass"
   ]
  },
  {
   "cell_type": "markdown",
   "id": "90f7aa9b",
   "metadata": {},
   "source": [
    "#Question :04\n",
    "\n",
    "Write a Python Program to Split the array and add the first part to the end?\n",
    "\n",
    "Answer:"
   ]
  },
  {
   "cell_type": "code",
   "execution_count": 28,
   "id": "a40073d2",
   "metadata": {},
   "outputs": [
    {
     "name": "stdout",
     "output_type": "stream",
     "text": [
      "enter the number of entries in the array : 5\n",
      "enter entry of 1 place : 1\n",
      "enter entry of 2 place : 2\n",
      "enter entry of 3 place : 3\n",
      "enter entry of 4 place : 4\n",
      "enter entry of 5 place : 5\n",
      "Enter from where you want to split the array : 3\n",
      "[1, 2, 3, 4, 5]\n",
      "[1, 2, 3, 4, 5]\n",
      "[1, 2, 3, 4, 5]\n",
      "[4, 5, 1, 2, 3]\n"
     ]
    }
   ],
   "source": [
    "#code\n",
    "try:\n",
    "    N=[]\n",
    "    num =int(input(\"enter the number of entries in the array : \"))\n",
    "    if num>0:\n",
    "        for i in range(num):\n",
    "            x=int(input(f\"enter entry of {i+1} place : \"))\n",
    "            N.append(x)\n",
    "    else:\n",
    "        print(\"negative values cannot be entered :) \")\n",
    "except Exception as e:\n",
    "    print(\"ERROR: \",e)\n",
    "try:\n",
    "    spl=[]\n",
    "    sp=int(input(\"Enter from where you want to split the array : \"))\n",
    "    for i in range(sp):\n",
    "        print(N)        spl.append(N[i])\n",
    "    for i in range(sp):\n",
    "        x=0\n",
    "        N.pop(x)\n",
    "    for i in range(sp):\n",
    "        N.append(spl[i])\n",
    "    print(N)\n",
    "except Exception as e:\n",
    "    print(e)"
   ]
  },
  {
   "cell_type": "markdown",
   "id": "a23ee38c",
   "metadata": {},
   "source": [
    "#Question :05\n",
    "\n",
    "Write a Python Program to check if given array is Monotonic?\n",
    "\n",
    "Answer:\n",
    "    "
   ]
  },
  {
   "cell_type": "code",
   "execution_count": 13,
   "id": "d1111fb8",
   "metadata": {},
   "outputs": [
    {
     "name": "stdout",
     "output_type": "stream",
     "text": [
      "enter the number of entries in the array : 5\n",
      "enter entry of 1 place : 21\n",
      "enter entry of 2 place : 1\n",
      "enter entry of 3 place : 4\n",
      "enter entry of 4 place : 78\n",
      "enter entry of 5 place : 3\n",
      "The array is non monotonic\n"
     ]
    }
   ],
   "source": [
    "#code\n",
    "def check():\n",
    "    k=0\n",
    "    N.reverse()\n",
    "    for i in range(num):\n",
    "        if N[i]>=K[i]:\n",
    "            continue \n",
    "        else:\n",
    "            k+=1\n",
    "            return k\n",
    "            \n",
    "    else:\n",
    "        print(\"The array is monotonic\")\n",
    "try:\n",
    "    N=[]\n",
    "    K=[]\n",
    "    num =int(input(\"enter the number of entries in the array : \"))\n",
    "    if num>0:\n",
    "        for i in range(num):\n",
    "            x=int(input(f\"enter entry of {i+1} place : \"))\n",
    "            N.append(x)\n",
    "            K.append(x)\n",
    "    else:\n",
    "        print(\"negative values cannot be entered :) \")\n",
    "except Exception as e:\n",
    "    print(\"ERROR: \",e)\n",
    "try:\n",
    "    k=0\n",
    "    N.sort()\n",
    "    for i in range(num):\n",
    "        if N[i]<=K[i]:\n",
    "            continue\n",
    "        else:\n",
    "            k+=1\n",
    "            break\n",
    "    else:\n",
    "        print(\"The array is monotonic\")\n",
    "    if k>=1:\n",
    "        kk=check()\n",
    "        if kk>=1:\n",
    "            print(\"The array is non monotonic\")\n",
    "except Exception as e:\n",
    "    print(e)        "
   ]
  },
  {
   "cell_type": "code",
   "execution_count": null,
   "id": "7f7fd20f",
   "metadata": {},
   "outputs": [],
   "source": []
  }
 ],
 "metadata": {
  "kernelspec": {
   "display_name": "Python 3 (ipykernel)",
   "language": "python",
   "name": "python3"
  },
  "language_info": {
   "codemirror_mode": {
    "name": "ipython",
    "version": 3
   },
   "file_extension": ".py",
   "mimetype": "text/x-python",
   "name": "python",
   "nbconvert_exporter": "python",
   "pygments_lexer": "ipython3",
   "version": "3.9.7"
  }
 },
 "nbformat": 4,
 "nbformat_minor": 5
}
