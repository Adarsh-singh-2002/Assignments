{
 "cells": [
  {
   "cell_type": "markdown",
   "id": "efc61cca",
   "metadata": {},
   "source": [
    "#Question : 01\n",
    "\n",
    "Create a function to perform basic arithmetic operations that includes\n",
    "addition, subtraction, multiplication and division on a string number (e.g. \"12 +\n",
    "24\" or \"23 - 21\" or \"12 // 12\" or \"12 * 21\").\n",
    "\n",
    "Here, we have 1 followed by a space, operator followed by another space\n",
    "and 2. For the challenge, we are going to have only two numbers between 1\n",
    "valid operator. The return value should be a number.\n",
    "                                                                       \n",
    "eval() is not allowed. In case of division, whenever the second number equals\n",
    "\"0\" return -1.\n",
    "                                                                       \n",
    "For example:\n",
    "                                                                       \n",
    "\"15 // 0\" ➞ -1\n",
    "                                                                       \n",
    "Examples\n",
    "                                                                       \n",
    "arithmetic_operation(\"12 + 12\") ➞ 24 // 12 + 12 = 24\n",
    "                                                                       \n",
    "arithmetic_operation(\"12 - 12\") ➞ 24 // 12 - 12 = 0\n",
    "                                                                       \n",
    "arithmetic_operation(\"12 * 12\") ➞ 144 // 12 * 12 = 144\n",
    "                                                                       \n",
    "arithmetic_operation(\"12 // 0\") ➞ -1 // 12 / 0 = -1"
   ]
  },
  {
   "cell_type": "code",
   "execution_count": 18,
   "id": "5284dcaa",
   "metadata": {},
   "outputs": [
    {
     "name": "stdout",
     "output_type": "stream",
     "text": [
      "Enter the string expresssion : 12 + 23\n",
      "Summation value is : 35\n"
     ]
    }
   ],
   "source": [
    "#code\n",
    "def arithmetic():\n",
    "    try:\n",
    "        s=input(\"Enter the string expresssion : \")\n",
    "        if len(s.split())==3:\n",
    "            k=s.split()\n",
    "            for i in range(1,len(k)+1):\n",
    "                if i%2!=0:\n",
    "                    if k[i-1].isdigit():\n",
    "                        continue\n",
    "                    else:\n",
    "                        raise Exception(\".....ENTER A VALID STRING AS SUGGESTED.....\")\n",
    "    except Exception as e:\n",
    "        print(e)\n",
    "    try:\n",
    "        a=int(k[0])\n",
    "        b=int(k[2])\n",
    "        if k[1]==\"+\":\n",
    "            print(\"Summation value is : \",end=\"\")\n",
    "            print(a+b)\n",
    "        elif k[1]==\"-\":\n",
    "            print(\"Subtraction value is : \",end=\"\")\n",
    "            print(a-b)\n",
    "        elif k[1]==\"*\":\n",
    "            print(\"Multiplication value is : \",end=\"\")\n",
    "            print(a*b)\n",
    "        elif k[1]==\"//\":\n",
    "            print(\"Division value is : \",end=\"\")\n",
    "            print(a/b)\n",
    "        else:\n",
    "            print(\"Use any valid operation.\")\n",
    "    except Exception as e:\n",
    "        print(e)\n",
    "\n",
    "arithmetic()"
   ]
  },
  {
   "cell_type": "markdown",
   "id": "b5aface1",
   "metadata": {},
   "source": [
    "#Question : 02\n",
    "\n",
    "Write a function that takes the coordinates of three points in the form of a\n",
    "2d array and returns the perimeter of the triangle. The given points are the\n",
    "vertices of a triangle on a two-dimensional plane.\n",
    "\n",
    "Examples\n",
    "\n",
    "perimeter( [ [15, 7], [5, 22], [11, 1] ] ) ➞ 47.08\n",
    "\n",
    "perimeter( [ [0, 0], [0, 1], [1, 0] ] ) ➞ 3.42\n",
    "\n",
    "perimeter( [ [-10, -10], [10, 10 ], [-10, 10] ] ) ➞ 68.28"
   ]
  },
  {
   "cell_type": "code",
   "execution_count": 28,
   "id": "347d236c",
   "metadata": {},
   "outputs": [
    {
     "name": "stdout",
     "output_type": "stream",
     "text": [
      "Enter the 1 number : 15\n",
      "Enter the 2 number : 7\n",
      "Enter the 1 number : 5\n",
      "Enter the 2 number : 22\n",
      "Enter the 1 number : 11\n",
      "Enter the 2 number : 1\n",
      "47.08\n"
     ]
    }
   ],
   "source": [
    "#code\n",
    "from math import sqrt\n",
    "def value():\n",
    "    try:\n",
    "        N=[]\n",
    "        for i in range(3):\n",
    "            n=[]\n",
    "            for i in range(2):\n",
    "                num=input(f\"Enter the {i+1} number : \")\n",
    "                if num.isdigit():\n",
    "                    n.append(int(num))\n",
    "                else:\n",
    "                    raise numer(\"Enter numbers\")\n",
    "            N.append(n)\n",
    "    except numer as e:\n",
    "        print(e)\n",
    "    return N\n",
    "def perimeter(triangle):\n",
    "    a=sqrt((abs(triangle[1][1]-triangle[0][1])**2)+(abs(triangle[1][0]-triangle[0][0])**2))\n",
    "    b=sqrt((abs(triangle[2][1]-triangle[1][1])**2)+(abs(triangle[2][0]-triangle[1][0])**2))\n",
    "    c=sqrt((abs(triangle[2][1]-triangle[0][1])**2)+(abs(triangle[2][0]-triangle[0][0])**2))\n",
    "    print(round(a+b+c,2))\n",
    "            \n",
    "x=value()\n",
    "perimeter(x)"
   ]
  },
  {
   "cell_type": "markdown",
   "id": "b1ed0c35",
   "metadata": {},
   "source": [
    "#Question : 03\n",
    "\n",
    "A city skyline can be represented as a 2-D list with 1s representing\n",
    "buildings. In the example below, the height of the tallest building is 4 (second-\n",
    "most right column).\n",
    "\n",
    "[[0, 0, 0, 0, 0, 0],\n",
    " \n",
    "[0, 0, 0, 0, 1, 0],\n",
    " \n",
    "[0, 0, 1, 0, 1, 0],\n",
    " \n",
    "[0, 1, 1, 1, 1, 0],\n",
    "\n",
    "[1, 1, 1, 1, 1, 1]]\n",
    "\n",
    "Create a function that takes a skyline (2-D list of 0&#39;s and 1&#39;s) and returns the\n",
    "height of the tallest skyscraper.\n",
    "                                        \n",
    "Examples\n",
    "                                        \n",
    "tallest_skyscraper([\n",
    "    \n",
    "[0, 0, 0, 0],\n",
    "\n",
    "[0, 1, 0, 0],\n",
    "\n",
    "[0, 1, 1, 0],\n",
    "\n",
    "[1, 1, 1, 1]\n",
    "\n",
    "]) ➞ 3\n",
    "\n",
    "tallest_skyscraper([\n",
    "\n",
    "[0, 1, 0, 0],\n",
    "\n",
    "[0, 1, 0, 0],\n",
    "\n",
    "[0, 1, 1, 0],\n",
    "\n",
    "[1, 1, 1, 1]\n",
    "\n",
    "]) ➞ 4\n",
    "\n",
    "tallest_skyscraper([\n",
    "\n",
    "[0, 0, 0, 0],\n",
    "\n",
    "[0, 0, 0, 0],\n",
    "\n",
    "[1, 1, 1, 0],\n",
    "\n",
    "[1, 1, 1, 1]\n",
    "\n",
    "]) ➞ 2"
   ]
  },
  {
   "cell_type": "code",
   "execution_count": 2,
   "id": "174b29aa",
   "metadata": {},
   "outputs": [],
   "source": [
    "#code\n",
    "def tallest_skyscraper(height):\n",
    "    check=len(height)\n",
    "    i=0\n",
    "    while(i!=check):\n",
    "        if 1 in height[i]:\n",
    "            return check-i\n",
    "        else:\n",
    "            i+=1"
   ]
  },
  {
   "cell_type": "code",
   "execution_count": 4,
   "id": "b09f3c3a",
   "metadata": {},
   "outputs": [
    {
     "data": {
      "text/plain": [
       "3"
      ]
     },
     "execution_count": 4,
     "metadata": {},
     "output_type": "execute_result"
    }
   ],
   "source": [
    "tallest_skyscraper([[0, 0, 0, 0],\n",
    "[0, 1, 0, 0],\n",
    "[0, 1, 1, 0],\n",
    "[1, 1, 1, 1]])"
   ]
  },
  {
   "cell_type": "code",
   "execution_count": 5,
   "id": "7a52f991",
   "metadata": {},
   "outputs": [
    {
     "data": {
      "text/plain": [
       "4"
      ]
     },
     "execution_count": 5,
     "metadata": {},
     "output_type": "execute_result"
    }
   ],
   "source": [
    "tallest_skyscraper([[0, 1, 0, 0],\n",
    "[0, 1, 0, 0],\n",
    "[0, 1, 1, 0],\n",
    "[1, 1, 1, 1]])"
   ]
  },
  {
   "cell_type": "code",
   "execution_count": 6,
   "id": "2db72a5b",
   "metadata": {},
   "outputs": [
    {
     "data": {
      "text/plain": [
       "2"
      ]
     },
     "execution_count": 6,
     "metadata": {},
     "output_type": "execute_result"
    }
   ],
   "source": [
    "tallest_skyscraper([[0, 0, 0, 0],\n",
    "[0, 0, 0, 0],\n",
    "[1, 1, 1, 0],\n",
    "[1, 1, 1, 1]])"
   ]
  },
  {
   "cell_type": "raw",
   "id": "6b05e3f2",
   "metadata": {},
   "source": [
    "# Question : 04\n",
    "\n",
    "A financial institution provides professional services to banks and claims\n",
    "charges from the customers based on the number of man-days provided.\n",
    "Internally, it has set a scheme to motivate and reward staff to meet and\n",
    "exceed targeted billable utilization and revenues by paying a bonus for each\n",
    "day claimed from customers in excess of a threshold target.\n",
    "\n",
    "This quarterly scheme is calculated with a threshold target of 32 days per\n",
    "quarter, and the incentive payment for each billable day in excess of such\n",
    "threshold target is shown as follows:\n",
    "    \n",
    "Days                  Bonus\n",
    "\n",
    "0 to 32 days          Zero\n",
    "\n",
    "33 to 40 days         SGD$325 per billable day\n",
    "\n",
    "41 to 48 days         SGD$550 per billable day\n",
    "\n",
    "Greater than 48 days  SGD$600 per billable day\n",
    "\n",
    "Please note that incentive payment is calculated progressively. As an\n",
    "example, if an employee reached total billable days of 45 in a quarter, his/her\n",
    "incentive payment is computed as follows:\n",
    "    \n",
    "32*0 + 8*325 + 5*550 = 5350\n",
    "\n",
    "Write a function to read the billable days of an employee and return the bonus\n",
    "he/she has obtained in that quarter.\n",
    "\n",
    "Examples\n",
    "\n",
    "bonus(15) ➞ 0\n",
    "\n",
    "bonus(37) ➞ 1625\n",
    "\n",
    "bonus(50) ➞ 8200"
   ]
  },
  {
   "cell_type": "code",
   "execution_count": 24,
   "id": "3f0b4f33",
   "metadata": {},
   "outputs": [],
   "source": [
    "#code\n",
    "def bonus(days):\n",
    "    money=0\n",
    "    if days>0: \n",
    "        for i in range(1,days+1):\n",
    "            if (i>=0 and i<=32):\n",
    "                continue\n",
    "            if(i>=33 and i<=40):\n",
    "                money+=1*325\n",
    "            elif(i>=41 and i<=48):\n",
    "                money+=1*550\n",
    "            else:\n",
    "                money+=1*600\n",
    "    return money\n",
    "\n",
    "            "
   ]
  },
  {
   "cell_type": "code",
   "execution_count": 25,
   "id": "872de100",
   "metadata": {},
   "outputs": [
    {
     "data": {
      "text/plain": [
       "0"
      ]
     },
     "execution_count": 25,
     "metadata": {},
     "output_type": "execute_result"
    }
   ],
   "source": [
    "bonus(15)"
   ]
  },
  {
   "cell_type": "code",
   "execution_count": 26,
   "id": "061dcbb8",
   "metadata": {},
   "outputs": [
    {
     "data": {
      "text/plain": [
       "1625"
      ]
     },
     "execution_count": 26,
     "metadata": {},
     "output_type": "execute_result"
    }
   ],
   "source": [
    "bonus(37)"
   ]
  },
  {
   "cell_type": "markdown",
   "id": "eff533a0",
   "metadata": {},
   "source": [
    "#Question : 05\n",
    "\n",
    "A number is said to be Disarium if the sum of its digits raised to their\n",
    "respective positions is the number itself.\n",
    "\n",
    "Create a function that determines whether a number is a Disarium or not.\n",
    "\n",
    "Examples\n",
    "\n",
    "is_disarium(75) ➞ False\n",
    "\n",
    "# 7^1 + 5^2 = 7 + 25 = 32\n",
    "\n",
    "is_disarium(135) ➞ True\n",
    "\n",
    "# 1^1 + 3^2 + 5^3 = 1 + 9 + 125 = 135\n",
    "\n",
    "is_disarium(544) ➞ False\n",
    "\n",
    "is_disarium(518) ➞ True\n",
    "\n",
    "is_disarium(466) ➞ False\n",
    "\n",
    "is_disarium(8) ➞ True"
   ]
  },
  {
   "cell_type": "code",
   "execution_count": 38,
   "id": "8d96f07a",
   "metadata": {},
   "outputs": [],
   "source": [
    "#code\n",
    "def is_disarium(value):\n",
    "    val=str(value)\n",
    "    ans=0\n",
    "    for i in range(len(val)):\n",
    "        ans+=int(val[i])**(i+1)\n",
    "    if ans==value:\n",
    "        return True\n",
    "    else:\n",
    "        return False"
   ]
  },
  {
   "cell_type": "code",
   "execution_count": 39,
   "id": "5e1dc6cf",
   "metadata": {},
   "outputs": [
    {
     "data": {
      "text/plain": [
       "False"
      ]
     },
     "execution_count": 39,
     "metadata": {},
     "output_type": "execute_result"
    }
   ],
   "source": [
    "is_disarium(544)"
   ]
  },
  {
   "cell_type": "code",
   "execution_count": 40,
   "id": "b87e8d84",
   "metadata": {},
   "outputs": [
    {
     "data": {
      "text/plain": [
       "True"
      ]
     },
     "execution_count": 40,
     "metadata": {},
     "output_type": "execute_result"
    }
   ],
   "source": [
    "is_disarium(518)"
   ]
  },
  {
   "cell_type": "code",
   "execution_count": 41,
   "id": "58315273",
   "metadata": {},
   "outputs": [
    {
     "data": {
      "text/plain": [
       "False"
      ]
     },
     "execution_count": 41,
     "metadata": {},
     "output_type": "execute_result"
    }
   ],
   "source": [
    "is_disarium(466)"
   ]
  },
  {
   "cell_type": "code",
   "execution_count": 42,
   "id": "71d810d0",
   "metadata": {},
   "outputs": [
    {
     "data": {
      "text/plain": [
       "True"
      ]
     },
     "execution_count": 42,
     "metadata": {},
     "output_type": "execute_result"
    }
   ],
   "source": [
    "is_disarium(8)"
   ]
  }
 ],
 "metadata": {
  "kernelspec": {
   "display_name": "Python 3 (ipykernel)",
   "language": "python",
   "name": "python3"
  },
  "language_info": {
   "codemirror_mode": {
    "name": "ipython",
    "version": 3
   },
   "file_extension": ".py",
   "mimetype": "text/x-python",
   "name": "python",
   "nbconvert_exporter": "python",
   "pygments_lexer": "ipython3",
   "version": "3.9.7"
  }
 },
 "nbformat": 4,
 "nbformat_minor": 5
}
