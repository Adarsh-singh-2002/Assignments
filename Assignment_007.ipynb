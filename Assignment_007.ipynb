{
 "cells": [
  {
   "cell_type": "markdown",
   "id": "25bd0ad5",
   "metadata": {},
   "source": [
    "#Question :01\n",
    "\n",
    "What is the name of the feature responsible for generating Regex objects?\n",
    "\n",
    "Answer:\n",
    "The feature responsible for generating regEx objects are non other than re.compile() function."
   ]
  },
  {
   "cell_type": "code",
   "execution_count": 1,
   "id": "71390685",
   "metadata": {},
   "outputs": [
    {
     "data": {
      "text/plain": [
       "re.Pattern"
      ]
     },
     "execution_count": 1,
     "metadata": {},
     "output_type": "execute_result"
    }
   ],
   "source": [
    "#code\n",
    "import re\n",
    "x=re.compile(\"adarsh\")\n",
    "type(x)"
   ]
  },
  {
   "cell_type": "markdown",
   "id": "3d8bbb39",
   "metadata": {},
   "source": [
    "#Question :02\n",
    "\n",
    "Why do raw strings often appear in Regex objects?\n",
    "\n",
    "Answer:\n",
    "The reason for raw strings often appearing in the  regex object is beacause of the fact that we don't want escape sequence characters to actually escape and to have a hold to that we oftenly use raw strings."
   ]
  },
  {
   "cell_type": "markdown",
   "id": "0ce7b4b5",
   "metadata": {},
   "source": [
    "#Question :03\n",
    "\n",
    "What is the return value of the search() method?\n",
    "\n",
    "Answer:\n",
    "    search() method returns 'Ture' if found and if not found then returns None.Also if the string or the regex is found it also returns the indexes where the value is found."
   ]
  },
  {
   "cell_type": "code",
   "execution_count": 5,
   "id": "ec5a44d3",
   "metadata": {},
   "outputs": [
    {
     "name": "stdout",
     "output_type": "stream",
     "text": [
      "None\n",
      "<re.Match object; span=(30, 36), match='Adarsh'>\n"
     ]
    }
   ],
   "source": [
    "#code\n",
    "import re \n",
    "x=\" aadrsh is as good as you are Adarsh\"\n",
    "y=re.search(\"Arsh\",x)\n",
    "print(y)\n",
    "z=re.search(\"Adarsh\",x)\n",
    "print(z)"
   ]
  },
  {
   "cell_type": "markdown",
   "id": "a3e82e3f",
   "metadata": {},
   "source": [
    "#Question :04\n",
    "\n",
    "From a Match item, how do you get the actual strings that match the pattern?\n",
    "\n",
    "Answer:\n",
    "    from a match item i will simply compare the value that need to be searched.\n",
    "    "
   ]
  },
  {
   "cell_type": "code",
   "execution_count": 3,
   "id": "5da9b581",
   "metadata": {},
   "outputs": [
    {
     "name": "stdout",
     "output_type": "stream",
     "text": [
      "<re.Match object; span=(10, 14), match='good'>\n"
     ]
    }
   ],
   "source": [
    "#code\n",
    "import re\n",
    "string=\"Adarsh is good at coding\"\n",
    "match=re.compile(r'good')\n",
    "s=match.finditer(string)\n",
    "for i in s:\n",
    "    print(i)"
   ]
  },
  {
   "cell_type": "markdown",
   "id": "d516bb57",
   "metadata": {},
   "source": [
    "#Question :05\n",
    "\n",
    "In the regex which created from the r'(\\d\\d\\d)-(\\d\\d\\d-\\d\\d\\d\\d)', what does group zero cover?\n",
    "Group 2? Group 1?\n",
    "\n",
    "Answer:\n",
    "    \n",
    "first set of digits: This group also contains a combination of 3 digits.\n",
    "\n",
    "second set of digits: This group conatains a combination of 3 digits.\n",
    "\n",
    "Third set  of digits: This group contains a combination of 4 digits.\n",
    "    \n",
    "here, group(0) will cover all the digits in the arrangment.\n",
    "\n",
    "group(1) will cover all the digits in the first set of parenthesis.\n",
    "\n",
    "group(2) will cover all the digits in the second set of parenthesis.\n"
   ]
  },
  {
   "cell_type": "code",
   "execution_count": 11,
   "id": "a58cdbc0",
   "metadata": {},
   "outputs": [
    {
     "name": "stdout",
     "output_type": "stream",
     "text": [
      "group 0 :  555-992-9691\n",
      "group 1 :  555\n",
      "group 2 :  992-9691\n"
     ]
    }
   ],
   "source": [
    "#code:\n",
    "import re\n",
    "string=\"Adarsh's number is 555-992-9691\"\n",
    "match=re.compile(r'(\\d\\d\\d)-(\\d\\d\\d-\\d\\d\\d\\d)')\n",
    "matchs=match.search(string)\n",
    "x=matchs.group(0)\n",
    "print(\"group 0 : \",x)\n",
    "y=matchs.group(1)\n",
    "print(\"group 1 : \",y)\n",
    "z=matchs.group(2)\n",
    "print(\"group 2 : \",z)"
   ]
  },
  {
   "cell_type": "markdown",
   "id": "7063ebd4",
   "metadata": {},
   "source": [
    "#Question :06\n",
    "\n",
    "In standard expression syntax, parentheses and intervals have distinct meanings. How can you tell\n",
    "a regex that you want it to fit real parentheses and periods?\n",
    "\n",
    "Answer:\n",
    "To escape parentheses and periods one can use a backslash before the parethesis and interval.\n",
    "example: '\\\\)' , '\\\\('  etc."
   ]
  },
  {
   "cell_type": "markdown",
   "id": "3948ef7a",
   "metadata": {},
   "source": [
    "#Question :07\n",
    "\n",
    "The findall() method returns a string list or a list of string tuples. What causes it to return one of\n",
    "the two options?\n",
    "\n",
    "Answer:\n",
    "If the regex has groups then it will return tuples and if the reg has no groups list will be returned."
   ]
  },
  {
   "cell_type": "markdown",
   "id": "d155c7dd",
   "metadata": {},
   "source": [
    "#Question :08\n",
    "\n",
    "In standard expressions, what does the | character mean?\n",
    "\n",
    "Answer:\n",
    "| character checks for a either or statement.This is called a pipe.This works as it checks for the value in the left hand side and if found returns that or if not found then checks for the right hand side value.."
   ]
  },
  {
   "cell_type": "code",
   "execution_count": 24,
   "id": "e8e4139d",
   "metadata": {},
   "outputs": [
    {
     "name": "stdout",
     "output_type": "stream",
     "text": [
      "<re.Match object; span=(0, 6), match='Adarsh'>\n",
      "<re.Match object; span=(30, 33), match='day'>\n",
      "None\n"
     ]
    }
   ],
   "source": [
    "#code\n",
    "import re\n",
    "x=\"Adarsh needs to practice code day and night.\"\n",
    "match1=re.compile(\"Adarsh|day\")\n",
    "y=match1.search(x)\n",
    "print(y)\n",
    "match2=re.compile(\"Aadi|day\")\n",
    "z=match2.search(x)\n",
    "print(z)\n",
    "match3=re.compile(\"Aadi|noon\")\n",
    "k=match3.search(x)\n",
    "print(k)"
   ]
  },
  {
   "cell_type": "markdown",
   "id": "f18bc7cb",
   "metadata": {},
   "source": [
    "#Question :09\n",
    "\n",
    "In regular expressions, what does the ? character stand for?\n",
    "\n",
    "Answer:\n",
    "in regular expression character ? stands for  0 or 1 condition or a optional character condition.\n",
    "if someone want to give a output with or without a specific part of string this character is used."
   ]
  },
  {
   "cell_type": "code",
   "execution_count": 29,
   "id": "edcdcafb",
   "metadata": {},
   "outputs": [
    {
     "name": "stdout",
     "output_type": "stream",
     "text": [
      "<re.Match object; span=(0, 16), match='Adarshkumarsingh'>\n",
      "<re.Match object; span=(0, 11), match='Adarshsingh'>\n"
     ]
    }
   ],
   "source": [
    "#code\n",
    "import re\n",
    "x=\"Adarshkumarsingh needs to practice code day and night.\"\n",
    "match1=re.compile(\"Adarsh(kumar)?singh\")\n",
    "y=match1.search(x)\n",
    "print(y)\n",
    "k=\"Adarshsingh needs to practice code day and night.\"\n",
    "z=match1.search(k)\n",
    "print(z)"
   ]
  },
  {
   "cell_type": "markdown",
   "id": "88fd7701",
   "metadata": {},
   "source": [
    "#Question :10\n",
    "\n",
    "In regular expressions, what is the difference between the + and * characters?\n",
    "\n",
    "Answer:\n",
    "In regex the difference between the + and * operator is that + operator chacks for one or more occurences where as the * operator checks for zero or more occurences.\n"
   ]
  },
  {
   "cell_type": "code",
   "execution_count": 8,
   "id": "5a17bd88",
   "metadata": {},
   "outputs": [
    {
     "name": "stdout",
     "output_type": "stream",
     "text": [
      "<re.Match object; span=(0, 16), match='Adarshkumarsingh'>\n",
      "None\n",
      "<re.Match object; span=(0, 6), match='Adarsh'>\n"
     ]
    }
   ],
   "source": [
    "#code\n",
    "import re\n",
    "x=\"Adarshkumarsingh needs to practice code day and night.\"\n",
    "match1=re.compile(\"Adarsh\\w+\") #used +\n",
    "y=match1.search(x)\n",
    "print(y)\n",
    "y=\"Adarsh needs to practice code day and night.\"\n",
    "match2=re.compile(\"Adarsh\\w+\") #used +\n",
    "z=match2.search(y)\n",
    "print(z)\n",
    "match3=re.compile(\"Adarsh\\w*\") #used *\n",
    "k=match3.search(y)\n",
    "print(k)"
   ]
  },
  {
   "cell_type": "markdown",
   "id": "d4317bb6",
   "metadata": {},
   "source": [
    "#Question :11\n",
    "\n",
    "What is the difference between {4} and {4,5} in regular expression?\n",
    "\n",
    "Answer:\n",
    "Here, {4} checks for exactly 4 instances whereas.{4,5} checks for instances with or  within 4 and 5.\n"
   ]
  },
  {
   "cell_type": "markdown",
   "id": "9efd4e10",
   "metadata": {},
   "source": [
    "#Question :12\n",
    "\n",
    "What do you mean by the \\d, \\w, and \\s shorthand character classes signify in regular\n",
    "expressions?\n",
    "\n",
    "Answer:\n",
    "\n",
    "\\d matches for any decimal digits. Same as of  set [0-9]\n",
    "\n",
    "\\w matches for any alphanumeric character. same as of set [a-zA-Z0-9_]\n",
    "\n",
    "\\s matches for any whitespace characters; (space \" \" ; tab \"\\t\" ; newline \"\\n\")\n"
   ]
  },
  {
   "cell_type": "markdown",
   "id": "9cab76c1",
   "metadata": {},
   "source": [
    "#Question :13\n",
    "\n",
    "What do means by \\D, \\W, and \\S shorthand character classes signify in regular expressions?\n",
    "\n",
    "Answer:\n",
    "\n",
    "\\D matches for any non digit characters.\n",
    "\n",
    "\\W matches for any non alphanumric characters.\n",
    "\n",
    "\\S matches for any non whitespace character.\n"
   ]
  },
  {
   "cell_type": "markdown",
   "id": "b7d38b92",
   "metadata": {},
   "source": [
    "#Question :14\n",
    "\n",
    "What is the difference between .*? and .*\n",
    "\n",
    "Answer:\n",
    "\n",
    ".* has a greedy behaviour it will try to match as many characters as possible .\n",
    "\n",
    ".*? has a non greedy behaviour  it will try to match only what is needed."
   ]
  },
  {
   "cell_type": "code",
   "execution_count": 27,
   "id": "99976ab7",
   "metadata": {},
   "outputs": [
    {
     "data": {
      "text/plain": [
       "'<just because i asked you for <dinner>'"
      ]
     },
     "execution_count": 27,
     "metadata": {},
     "output_type": "execute_result"
    }
   ],
   "source": [
    "#code\n",
    "A=\"<just because i asked you for <dinner> doesn't means you are allowed to come anytime.\"\n",
    "x = re.compile(r'<.*>')\n",
    "mo = x.search(A)\n",
    "mo.group()"
   ]
  },
  {
   "cell_type": "code",
   "execution_count": 19,
   "id": "e49461c4",
   "metadata": {},
   "outputs": [
    {
     "data": {
      "text/plain": [
       "\"<dinner> doesn't means you are allowed to come anytime.>\""
      ]
     },
     "execution_count": 19,
     "metadata": {},
     "output_type": "execute_result"
    }
   ],
   "source": [
    "A=\"just because i asked you for <dinner> doesn't means you are allowed to come anytime.>\"\n",
    "x = re.compile(r'<.*>')\n",
    "mo = x.search(A)\n",
    "mo.group()"
   ]
  },
  {
   "cell_type": "code",
   "execution_count": 23,
   "id": "16d3adfa",
   "metadata": {},
   "outputs": [
    {
     "data": {
      "text/plain": [
       "'<dinner>'"
      ]
     },
     "execution_count": 23,
     "metadata": {},
     "output_type": "execute_result"
    }
   ],
   "source": [
    "A=\"just because i asked you for <dinner> doesn't means you are allowed to come anytime.>\"\n",
    "x = re.compile(r'<.*?>')\n",
    "mo = x.search(A)\n",
    "mo.group()"
   ]
  },
  {
   "cell_type": "code",
   "execution_count": 25,
   "id": "487d4b94",
   "metadata": {},
   "outputs": [
    {
     "data": {
      "text/plain": [
       "'<dinner>'"
      ]
     },
     "execution_count": 25,
     "metadata": {},
     "output_type": "execute_result"
    }
   ],
   "source": [
    "A=\"just because i asked you for <dinner> doesn't means you are allowed to come anytime.\"\n",
    "x = re.compile(r'<.*>')\n",
    "mo = x.search(A)\n",
    "mo.group()"
   ]
  },
  {
   "cell_type": "code",
   "execution_count": 26,
   "id": "88c385e4",
   "metadata": {},
   "outputs": [
    {
     "data": {
      "text/plain": [
       "'<just because i asked you for <dinner>'"
      ]
     },
     "execution_count": 26,
     "metadata": {},
     "output_type": "execute_result"
    }
   ],
   "source": [
    "A=\"<just because i asked you for <dinner> doesn't means you are allowed to come anytime.\"\n",
    "x = re.compile(r'<.*>')\n",
    "mo = x.search(A)\n",
    "mo.group()"
   ]
  },
  {
   "cell_type": "markdown",
   "id": "9d521295",
   "metadata": {},
   "source": [
    "#Question :15\n",
    "\n",
    "What is the syntax for matching both numbers and lowercase letters with a character class?\n",
    "\n",
    "Answer:\n",
    "One can use either of these [a-z0-9] or [0-9a-z]\n"
   ]
  },
  {
   "cell_type": "code",
   "execution_count": 31,
   "id": "8519a0ba",
   "metadata": {},
   "outputs": [
    {
     "data": {
      "text/plain": [
       "'5'"
      ]
     },
     "execution_count": 31,
     "metadata": {},
     "output_type": "execute_result"
    }
   ],
   "source": [
    "#code:\n",
    "import re\n",
    "S=\"55555 is a lucky number\"\n",
    "x=re.compile(r'[a-z0-9]')\n",
    "match = x.search(S)\n",
    "match.group()"
   ]
  },
  {
   "cell_type": "markdown",
   "id": "d24690f1",
   "metadata": {},
   "source": [
    "#Question :16\n",
    "\n",
    "What is the procedure for making a normal expression in regax case insensitive?\n",
    "\n",
    "Answer:\n",
    "By passing re.I or re.IGNORECASE as second argument in re.compile one can make a simple regex case insensitive.\n"
   ]
  },
  {
   "cell_type": "code",
   "execution_count": 33,
   "id": "2bb2ba3f",
   "metadata": {},
   "outputs": [
    {
     "data": {
      "text/plain": [
       "'handynummer'"
      ]
     },
     "execution_count": 33,
     "metadata": {},
     "output_type": "execute_result"
    }
   ],
   "source": [
    "#code\n",
    "import re\n",
    "S=\"Wie ist deine handynummer\"\n",
    "x=re.compile(r'HandyNummer',re.IGNORECASE)\n",
    "match = x.search(S)\n",
    "match.group()"
   ]
  },
  {
   "cell_type": "markdown",
   "id": "49cef44f",
   "metadata": {},
   "source": [
    "#Question :17\n",
    "\n",
    "What does the . character normally match? What does it match if re.DOTALL is passed as 2nd\n",
    "argument in re.compile()?\n",
    "\n",
    "Answer:\n",
    "\n",
    ". character matches for any character other than newline character.\n",
    "\n",
    "If re.DOTALL is passed as 2nd argument in re.compile(), than it will also match the newline character."
   ]
  },
  {
   "cell_type": "code",
   "execution_count": null,
   "id": "b15d836f",
   "metadata": {},
   "outputs": [],
   "source": [
    "#Question :18\n",
    "\n",
    "If numReg = re.compile(r'\\d+'), what will numRegex.sub('X', '11 drummers, 10 pipers, five rings, 4\n",
    "hen') return?\n",
    "                       \n",
    "Answer:\n",
    "This will return 'X drummers, X pipers, five rings, X hen'"
   ]
  },
  {
   "cell_type": "code",
   "execution_count": 37,
   "id": "91944d85",
   "metadata": {},
   "outputs": [
    {
     "data": {
      "text/plain": [
       "'X drummers, X pipers, five rings, X hen'"
      ]
     },
     "execution_count": 37,
     "metadata": {},
     "output_type": "execute_result"
    }
   ],
   "source": [
    "import re\n",
    "numReg = re.compile(r'\\d+')\n",
    "numReg.sub('X', '11 drummers, 10 pipers, five rings, 4 hen') "
   ]
  },
  {
   "cell_type": "markdown",
   "id": "e005b01e",
   "metadata": {},
   "source": [
    "#Question :19\n",
    "\n",
    "What does passing re.VERBOSE as the 2nd argument to re.compile() allow to do?\n",
    "\n",
    "Answer:\n",
    "This re.VERBOSE argument allows us to add whitespace and comments to the string passed in re.compile()"
   ]
  },
  {
   "cell_type": "markdown",
   "id": "8eb98c97",
   "metadata": {},
   "source": [
    "#Question :20\n",
    "\n",
    "How would you write a regex that match a number with comma for every three digits? It must\n",
    "match the given following:\n",
    "\n",
    "'42'\n",
    "\n",
    "'1,234'\n",
    "\n",
    "'6,368,745'\n",
    "\n",
    "\n",
    "but not the following:\n",
    "\n",
    "'12,34,567' (which has only two digits between the commas)\n",
    "\n",
    "'1234' (which lacks commas)"
   ]
  },
  {
   "cell_type": "markdown",
   "id": "329aec3f",
   "metadata": {},
   "source": [
    "Answer:"
   ]
  },
  {
   "cell_type": "code",
   "execution_count": 43,
   "id": "c40b286f",
   "metadata": {},
   "outputs": [
    {
     "data": {
      "text/plain": [
       "'42'"
      ]
     },
     "execution_count": 43,
     "metadata": {},
     "output_type": "execute_result"
    }
   ],
   "source": [
    "#code\n",
    "import re\n",
    "s= '42'\n",
    "x=re.compile(r'\\d{1,3}(,\\d{1,3})*$')\n",
    "y=x.search(s)\n",
    "y.group()"
   ]
  },
  {
   "cell_type": "code",
   "execution_count": 2,
   "id": "29f5414c",
   "metadata": {},
   "outputs": [
    {
     "data": {
      "text/plain": [
       "'1,234'"
      ]
     },
     "execution_count": 2,
     "metadata": {},
     "output_type": "execute_result"
    }
   ],
   "source": [
    "import re\n",
    "s= '1,234'\n",
    "x=re.compile(r'\\d{1,3}(,\\d{3})*$')\n",
    "y=x.search(s)\n",
    "y.group()"
   ]
  },
  {
   "cell_type": "code",
   "execution_count": 3,
   "id": "03ac293f",
   "metadata": {},
   "outputs": [
    {
     "data": {
      "text/plain": [
       "'6,368,745'"
      ]
     },
     "execution_count": 3,
     "metadata": {},
     "output_type": "execute_result"
    }
   ],
   "source": [
    "import re\n",
    "s= '6,368,745'\n",
    "x=re.compile(r'\\d{1,3}(,\\d{3})*$')\n",
    "y=x.search(s)\n",
    "y.group()"
   ]
  },
  {
   "cell_type": "code",
   "execution_count": 5,
   "id": "2af76d8f",
   "metadata": {},
   "outputs": [
    {
     "name": "stdout",
     "output_type": "stream",
     "text": [
      "None\n"
     ]
    }
   ],
   "source": [
    "import re\n",
    "s= '12,34,567'\n",
    "x=re.compile(r'^\\d{1,3}(,\\d{3})*$')\n",
    "y=x.search(s)\n",
    "print(y)"
   ]
  },
  {
   "cell_type": "code",
   "execution_count": 6,
   "id": "f58d8539",
   "metadata": {},
   "outputs": [
    {
     "name": "stdout",
     "output_type": "stream",
     "text": [
      "None\n"
     ]
    }
   ],
   "source": [
    "import re\n",
    "s= '1234'\n",
    "x=re.compile(r'^\\d{1,3}(,\\d{3})*$')\n",
    "y=x.search(s)\n",
    "print(y)"
   ]
  },
  {
   "cell_type": "markdown",
   "id": "a22b3c30",
   "metadata": {},
   "source": [
    "#Question :21\n",
    "\n",
    "How would you write a regex that matches the full name of someone whose last name is\n",
    "Watanabe? You can assume that the first name that comes before it will always be one word that\n",
    "begins with a capital letter. The regex must match the following:\n",
    "    \n",
    "'Haruto Watanabe'\n",
    "\n",
    "'Alice Watanabe'\n",
    "\n",
    "'RoboCop Watanabe'\n",
    "\n",
    "but not the following:\n",
    "    \n",
    "'haruto Watanabe'(where the first name is not capitalized)\n",
    "\n",
    "'Mr. Watanabe' (where the preceding word has a nonletter character)\n",
    "\n",
    "'Watanabe' (which has no first name)\n",
    "\n",
    "'Haruto watanabe' (where Watanabe is not capitalized)"
   ]
  },
  {
   "cell_type": "markdown",
   "id": "f40fa861",
   "metadata": {},
   "source": [
    "Answer:"
   ]
  },
  {
   "cell_type": "code",
   "execution_count": 27,
   "id": "aa3ae6be",
   "metadata": {},
   "outputs": [
    {
     "name": "stdout",
     "output_type": "stream",
     "text": [
      "Haruto Watanabe\n",
      "Alice Watanabe\n",
      "RoboCop Watanabe\n",
      "None\n",
      "None\n",
      "None\n",
      "None\n"
     ]
    }
   ],
   "source": [
    "#code\n",
    "import re\n",
    "a='Haruto Watanabe'\n",
    "b='Alice Watanabe'\n",
    "c='RoboCop Watanabe'\n",
    "d='haruto Watanabe'\n",
    "e='Watanabe'\n",
    "f='Haruto watanabe'\n",
    "g='Mr. Watanabe'\n",
    "x=re.compile(r'\\b[A-Z][a-zA-Z]*\\sWatanabe')\n",
    "i=x.search(a)\n",
    "print(i.group())\n",
    "j=x.search(b)\n",
    "print(j.group())\n",
    "k=x.search(c)\n",
    "print(k.group())\n",
    "l=x.search(d)\n",
    "print(l)\n",
    "m=x.search(e)\n",
    "print(m)\n",
    "n=x.search(f)\n",
    "print(n)\n",
    "o=x.search(g)\n",
    "print(o)"
   ]
  },
  {
   "cell_type": "markdown",
   "id": "24d831a3",
   "metadata": {},
   "source": [
    "#Question :22\n",
    "\n",
    "How would you write a regex that matches a sentence where the first word is either Alice, Bob,\n",
    "or Carol; the second word is either eats, pets, or throws; the third word is apples, cats, or baseballs;\n",
    "and the sentence ends with a period? This regex should be case-insensitive. It must match the\n",
    "following:\n",
    "    \n",
    "Alice eats apples.\n",
    "\n",
    "Bob pets cats.\n",
    "\n",
    "Carol throws baseballs.\n",
    "\n",
    "Alice throws Apples.\n",
    "\n",
    "BOB EATS CATS.\n",
    "\n",
    "but not the following:\n",
    "\n",
    "RoboCop eats apples.\n",
    "\n",
    "ALICE THROWS FOOTBALLS.\n",
    "\n",
    "Carol eats 7 cats.\n",
    "\n",
    "Answer:"
   ]
  },
  {
   "cell_type": "code",
   "execution_count": 44,
   "id": "ef888afd",
   "metadata": {},
   "outputs": [
    {
     "name": "stdout",
     "output_type": "stream",
     "text": [
      "Alice eats apples.\n",
      "Bob pets cats.\n",
      "Carol throws baseballs.\n",
      "Alice throws Apples.\n",
      "None\n",
      "None\n",
      "None\n"
     ]
    }
   ],
   "source": [
    "import re\n",
    "a= 'Alice eats apples.'\n",
    "b='Bob pets cats.'\n",
    "c='Carol throws baseballs.'\n",
    "d='Alice throws Apples.'\n",
    "e='RoboCop eats apples.'\n",
    "f='ALICE THROWS FOOTBALLS.'\n",
    "g='Carol eats 7 cats.'\n",
    "x=re.compile(r'(Alice|Bob|Carol)\\s(eats|pets|throws)\\s(apples|cats|baseballs)\\.',re.I)\n",
    "k=x.search(a)\n",
    "print(k.group())\n",
    "l=x.search(b)\n",
    "print(l.group())\n",
    "m=x.search(c)\n",
    "print(m.group())\n",
    "n=x.search(d)\n",
    "print(n.group())\n",
    "o=x.search(e)\n",
    "print(o)\n",
    "p=x.search(f)\n",
    "print(p)\n",
    "q=x.search(g)\n",
    "print(q)\n"
   ]
  }
 ],
 "metadata": {
  "kernelspec": {
   "display_name": "Python 3 (ipykernel)",
   "language": "python",
   "name": "python3"
  },
  "language_info": {
   "codemirror_mode": {
    "name": "ipython",
    "version": 3
   },
   "file_extension": ".py",
   "mimetype": "text/x-python",
   "name": "python",
   "nbconvert_exporter": "python",
   "pygments_lexer": "ipython3",
   "version": "3.9.7"
  }
 },
 "nbformat": 4,
 "nbformat_minor": 5
}
