{
 "cells": [
  {
   "cell_type": "markdown",
   "id": "59a45d89",
   "metadata": {},
   "source": [
    "#Question : 01\n",
    "\n",
    "YouTube offers different playback speed options for users. This allows\n",
    "users to increase or decrease the speed of the video content. Given the\n",
    "actual duration and playback speed of the video, calculate the playback\n",
    "duration of the video.\n",
    "\n",
    "Examples\n",
    "\n",
    "playback_duration(\"00:30:00\", 2) ➞ \"00:15:00\"\n",
    "\n",
    "playback_duration(\"01:20:00\", 1.5) ➞ \"00:53:20\"\n",
    "\n",
    "playback_duration(\"51:20:09\", 0.5) ➞ \"102:40:18\""
   ]
  },
  {
   "cell_type": "code",
   "execution_count": 12,
   "id": "c2271293",
   "metadata": {},
   "outputs": [],
   "source": [
    "#code\n",
    "def playback_duration(time_frame,speed):\n",
    "    time=time_frame.split(\":\")\n",
    "    final=0\n",
    "    hours = int(time[0])*60*60\n",
    "    minutes = int(time[1])*60\n",
    "    seconds = int(time[2])\n",
    "    Sec=hours+minutes+seconds\n",
    "    final = Sec/speed\n",
    "    \n",
    "    Hours = int(final // 3600)\n",
    "    Minutes = int((final % 3600) // 60)\n",
    "    Seconds = int((final % 3600) % 60)\n",
    "    \n",
    "    return f\"{Hours}:{Minutes}:{Seconds}\""
   ]
  },
  {
   "cell_type": "code",
   "execution_count": 13,
   "id": "aa282448",
   "metadata": {},
   "outputs": [
    {
     "data": {
      "text/plain": [
       "'0:15:0'"
      ]
     },
     "execution_count": 13,
     "metadata": {},
     "output_type": "execute_result"
    }
   ],
   "source": [
    "playback_duration(\"00:30:00\", 2)"
   ]
  },
  {
   "cell_type": "code",
   "execution_count": 14,
   "id": "6d2a13f5",
   "metadata": {},
   "outputs": [
    {
     "data": {
      "text/plain": [
       "'0:53:20'"
      ]
     },
     "execution_count": 14,
     "metadata": {},
     "output_type": "execute_result"
    }
   ],
   "source": [
    "playback_duration(\"01:20:00\", 1.5)"
   ]
  },
  {
   "cell_type": "code",
   "execution_count": 15,
   "id": "404dcc43",
   "metadata": {},
   "outputs": [
    {
     "data": {
      "text/plain": [
       "'102:40:18'"
      ]
     },
     "execution_count": 15,
     "metadata": {},
     "output_type": "execute_result"
    }
   ],
   "source": [
    "playback_duration(\"51:20:09\", 0.5)"
   ]
  },
  {
   "cell_type": "markdown",
   "id": "5d2abe00",
   "metadata": {},
   "source": [
    "#Question : 02\n",
    "\n",
    "We needs your help to construct a building which will be a pile of n cubes.\n",
    "The cube at the bottom will have a volume of n^3, the cube above will have\n",
    "volume of (n-1)^3 and so on until the top which will have a volume of 1^3.\n",
    "\n",
    "Given the total volume m of the building, can you find the number of cubes n\n",
    "required for the building?\n",
    "\n",
    "In other words, you have to return an integer n such that:\n",
    "\n",
    "n^3 + (n-1)^3 + ... + 1^3 == m\n",
    "\n",
    "Return None if there is no such number.\n",
    "\n",
    "Examples\n",
    "\n",
    "pile_of_cubes(1071225) ➞ 45\n",
    "\n",
    "pile_of_cubes(4183059834009) ➞ 2022\n",
    "\n",
    "pile_of_cubes(16) ➞ None"
   ]
  },
  {
   "cell_type": "code",
   "execution_count": 40,
   "id": "e1f4287b",
   "metadata": {},
   "outputs": [],
   "source": [
    "#code\n",
    "def pile_of_cubes(volume):\n",
    "    sum=0\n",
    "    n=1\n",
    "    while(sum!=volume):\n",
    "        if sum>volume:\n",
    "            break\n",
    "        sum+=n**3\n",
    "        n+=1\n",
    "    if(sum==volume):\n",
    "        print(n-1)\n",
    "    else:\n",
    "        print(\"None\")"
   ]
  },
  {
   "cell_type": "code",
   "execution_count": 41,
   "id": "b9c24ace",
   "metadata": {},
   "outputs": [
    {
     "name": "stdout",
     "output_type": "stream",
     "text": [
      "2022\n"
     ]
    }
   ],
   "source": [
    "pile_of_cubes(4183059834009)"
   ]
  },
  {
   "cell_type": "code",
   "execution_count": 42,
   "id": "732d9004",
   "metadata": {},
   "outputs": [
    {
     "name": "stdout",
     "output_type": "stream",
     "text": [
      "45\n"
     ]
    }
   ],
   "source": [
    "pile_of_cubes(1071225)"
   ]
  },
  {
   "cell_type": "code",
   "execution_count": 43,
   "id": "d38c432f",
   "metadata": {},
   "outputs": [
    {
     "name": "stdout",
     "output_type": "stream",
     "text": [
      "None\n"
     ]
    }
   ],
   "source": [
    "pile_of_cubes(16)"
   ]
  },
  {
   "cell_type": "markdown",
   "id": "04bd589e",
   "metadata": {},
   "source": [
    "#Question : 03\n",
    "\n",
    "A fulcrum of a list is an integer such that all elements to the left of it and all\n",
    "elements to the right of it sum to the same value. Write a function that finds\n",
    "the fulcrum of a list.\n",
    "\n",
    "To illustrate:\n",
    "\n",
    "find_fulcrum([3, 1, 5, 2, 4, 6, -1]) ➞ 2\n",
    "\n",
    "// Since [3, 1, 5] and [4, 6, -1] both sum to 9\n",
    "\n",
    "Examples\n",
    "\n",
    "find_fulcrum([1, 2, 4, 9, 10, -10, -9, 3]) ➞ 4\n",
    "\n",
    "find_fulcrum([9, 1, 9]) ➞ 1\n",
    "\n",
    "find_fulcrum([7, -1, 0, -1, 1, 1, 2, 3]) ➞ 0\n",
    "\n",
    "find_fulcrum([8, 8, 8, 8]) ➞ -1"
   ]
  },
  {
   "cell_type": "code",
   "execution_count": 72,
   "id": "614e32ab",
   "metadata": {},
   "outputs": [],
   "source": [
    "#code\n",
    "def find_fulcrum(values):\n",
    "    for i in range(len(values)):\n",
    "        left_sum=0\n",
    "        right_sum = 0\n",
    "        for j in range(i):\n",
    "            left_sum+=values[j]\n",
    "            #print(\"l_side: \",values[j])\n",
    "        for k in range(i+1,len(values)):\n",
    "            right_sum+=values[k]\n",
    "            #print(\"r_side: \",values[k])\n",
    "        #print(\"left_sum\",left_sum,\"right_sum\",right_sum )\n",
    "        if left_sum == right_sum:\n",
    "            return values[i]\n",
    "    return -1"
   ]
  },
  {
   "cell_type": "code",
   "execution_count": 73,
   "id": "33c55f6e",
   "metadata": {},
   "outputs": [
    {
     "data": {
      "text/plain": [
       "4"
      ]
     },
     "execution_count": 73,
     "metadata": {},
     "output_type": "execute_result"
    }
   ],
   "source": [
    "find_fulcrum([1, 2, 4, 9, 10, -10, -9, 3])"
   ]
  },
  {
   "cell_type": "code",
   "execution_count": 74,
   "id": "3dcadb74",
   "metadata": {},
   "outputs": [
    {
     "data": {
      "text/plain": [
       "1"
      ]
     },
     "execution_count": 74,
     "metadata": {},
     "output_type": "execute_result"
    }
   ],
   "source": [
    "find_fulcrum([9, 1, 9])"
   ]
  },
  {
   "cell_type": "code",
   "execution_count": 75,
   "id": "19ae734f",
   "metadata": {},
   "outputs": [
    {
     "data": {
      "text/plain": [
       "0"
      ]
     },
     "execution_count": 75,
     "metadata": {},
     "output_type": "execute_result"
    }
   ],
   "source": [
    "find_fulcrum([7, -1, 0, -1, 1, 1, 2, 3])"
   ]
  },
  {
   "cell_type": "code",
   "execution_count": 76,
   "id": "c8dcc498",
   "metadata": {},
   "outputs": [
    {
     "data": {
      "text/plain": [
       "-1"
      ]
     },
     "execution_count": 76,
     "metadata": {},
     "output_type": "execute_result"
    }
   ],
   "source": [
    "find_fulcrum([8, 8, 8, 8])"
   ]
  },
  {
   "cell_type": "markdown",
   "id": "7b5e268b",
   "metadata": {},
   "source": [
    "#Question : 04\n",
    "\n",
    "Given a list of integers representing the color of each sock, determine how\n",
    "many pairs of socks with matching colors there are. For example, there are 7\n",
    "socks with colors [1, 2, 1, 2, 1, 3, 2]. There is one pair of color 1 and one of\n",
    "color 2. There are three odd socks left, one of each color. The number of\n",
    "pairs is 2.\n",
    "\n",
    "Create a function that returns an integer representing the number of matching\n",
    "pairs of socks that are available.\n",
    "\n",
    "Examples\n",
    "\n",
    "sock_merchant([10, 20, 20, 10, 10, 30, 50, 10, 20]) ➞ 3\n",
    "\n",
    "sock_merchant([50, 20, 30, 90, 30, 20, 50, 20, 90]) ➞ 4\n",
    "\n",
    "sock_merchant([]) ➞ 0"
   ]
  },
  {
   "cell_type": "code",
   "execution_count": 77,
   "id": "30ff965e",
   "metadata": {},
   "outputs": [],
   "source": [
    "#code\n",
    "\n",
    "def sock_merchant(values):\n",
    "    N=[]\n",
    "    pairs=0\n",
    "    for i in values:\n",
    "        if i not in N:\n",
    "            N.append(i)\n",
    "        elif i in N:\n",
    "            pairs+=1\n",
    "            N.remove(i)\n",
    "    return pairs"
   ]
  },
  {
   "cell_type": "code",
   "execution_count": 78,
   "id": "cfaed34e",
   "metadata": {},
   "outputs": [
    {
     "data": {
      "text/plain": [
       "3"
      ]
     },
     "execution_count": 78,
     "metadata": {},
     "output_type": "execute_result"
    }
   ],
   "source": [
    "sock_merchant([10, 20, 20, 10, 10, 30, 50, 10, 20])"
   ]
  },
  {
   "cell_type": "code",
   "execution_count": 79,
   "id": "d2d1af83",
   "metadata": {},
   "outputs": [
    {
     "data": {
      "text/plain": [
       "4"
      ]
     },
     "execution_count": 79,
     "metadata": {},
     "output_type": "execute_result"
    }
   ],
   "source": [
    "sock_merchant([50, 20, 30, 90, 30, 20, 50, 20, 90])"
   ]
  },
  {
   "cell_type": "code",
   "execution_count": 80,
   "id": "1f9950a1",
   "metadata": {},
   "outputs": [
    {
     "data": {
      "text/plain": [
       "0"
      ]
     },
     "execution_count": 80,
     "metadata": {},
     "output_type": "execute_result"
    }
   ],
   "source": [
    "sock_merchant([])"
   ]
  },
  {
   "cell_type": "markdown",
   "id": "e23607d4",
   "metadata": {},
   "source": [
    "#Question : 05\n",
    "\n",
    "Create a function that takes a string containing integers as well as other\n",
    "characters and return the sum of the negative integers only.\n",
    "Examples\n",
    "negative_sum(\"-12 13%14&amp;-11\") ➞ -23\n",
    "# -12 + -11 = -23\n",
    "negative_sum(\"22 13%14&amp;-11-22 13 12\") ➞ -33\n",
    "# -11 + -22 = -33"
   ]
  },
  {
   "cell_type": "code",
   "execution_count": 87,
   "id": "4cdd5216",
   "metadata": {},
   "outputs": [],
   "source": [
    "import re\n",
    "\n",
    "def negative_sum(s):\n",
    "    result = [int(d) for d in re.findall(r'-\\d+', s)]\n",
    "    print('Negative numbers in string is/are - ',result)\n",
    "    return 'sum is ',sum(result)"
   ]
  },
  {
   "cell_type": "code",
   "execution_count": 88,
   "id": "0aed2578",
   "metadata": {},
   "outputs": [
    {
     "name": "stdout",
     "output_type": "stream",
     "text": [
      "Negative numbers in string is/are -  [-12, -11]\n"
     ]
    },
    {
     "data": {
      "text/plain": [
       "('sum is ', -23)"
      ]
     },
     "execution_count": 88,
     "metadata": {},
     "output_type": "execute_result"
    }
   ],
   "source": [
    "negative_sum(\"-12 13%14&-11\")"
   ]
  },
  {
   "cell_type": "code",
   "execution_count": 89,
   "id": "cb593aae",
   "metadata": {},
   "outputs": [
    {
     "name": "stdout",
     "output_type": "stream",
     "text": [
      "Negative numbers in string is/are -  [-11, -22]\n"
     ]
    },
    {
     "data": {
      "text/plain": [
       "('sum is ', -33)"
      ]
     },
     "execution_count": 89,
     "metadata": {},
     "output_type": "execute_result"
    }
   ],
   "source": [
    "negative_sum('22 13%14&amp;-11-22 13 12')"
   ]
  },
  {
   "cell_type": "code",
   "execution_count": null,
   "id": "dacaca61",
   "metadata": {},
   "outputs": [],
   "source": []
  }
 ],
 "metadata": {
  "kernelspec": {
   "display_name": "Python 3 (ipykernel)",
   "language": "python",
   "name": "python3"
  },
  "language_info": {
   "codemirror_mode": {
    "name": "ipython",
    "version": 3
   },
   "file_extension": ".py",
   "mimetype": "text/x-python",
   "name": "python",
   "nbconvert_exporter": "python",
   "pygments_lexer": "ipython3",
   "version": "3.9.7"
  }
 },
 "nbformat": 4,
 "nbformat_minor": 5
}
