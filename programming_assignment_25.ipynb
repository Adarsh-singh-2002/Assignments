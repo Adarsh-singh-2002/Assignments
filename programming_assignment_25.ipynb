{
 "cells": [
  {
   "cell_type": "markdown",
   "id": "db631a24",
   "metadata": {},
   "source": [
    "#Question : 01\n",
    "\n",
    "Create a function that takes three integer arguments (a, b, c) and returns the amount of\n",
    "integers which are of equal value.\n",
    "\n",
    "Examples\n",
    "\n",
    "equal(3, 4, 3) ➞ 2\n",
    "\n",
    "equal(1, 1, 1) ➞ 3\n",
    "\n",
    "equal(3, 4, 1) ➞ 0\n",
    "\n",
    "Notes\n",
    "\n",
    "Your function must return 0, 2 or 3."
   ]
  },
  {
   "cell_type": "code",
   "execution_count": 2,
   "id": "e3b8e4f8",
   "metadata": {},
   "outputs": [
    {
     "name": "stdout",
     "output_type": "stream",
     "text": [
      "Enter the number of test cases: 3\n",
      "Enter value of element 1 : 3\n",
      "Enter value of element 2 : 4\n",
      "Enter value of element 3 : 3\n",
      "2\n",
      "Enter value of element 1 : 1\n",
      "Enter value of element 2 : 1\n",
      "Enter value of element 3 : 1\n",
      "3\n",
      "Enter value of element 1 : 3\n",
      "Enter value of element 2 : 4\n",
      "Enter value of element 3 : 1\n",
      "0\n"
     ]
    }
   ],
   "source": [
    "#code\n",
    "def value():\n",
    "    try:\n",
    "        num=int(input(\"Enter the number of test cases: \"))\n",
    "    except Exception as e:\n",
    "        print(e)\n",
    "        return value()+0\n",
    "    return num\n",
    "def check():\n",
    "    N=[]\n",
    "    values=[]\n",
    "    for i in range(3):\n",
    "        x=int(input(f\"Enter value of element {i+1} : \"))\n",
    "        N.append(x)\n",
    "    for i in N:\n",
    "        k=N.count(i)\n",
    "        values.append(k)\n",
    "    values.sort()\n",
    "    if values[len(values)-1]==3:\n",
    "        return 3\n",
    "    elif values[len(values)-1]==2:\n",
    "        return 2\n",
    "    else:\n",
    "        return 0\n",
    "num=value()\n",
    "for i in range(num):\n",
    "    x=check()\n",
    "    print(x)"
   ]
  },
  {
   "cell_type": "markdown",
   "id": "8e359c8a",
   "metadata": {},
   "source": [
    "#Question : 02\n",
    "\n",
    "Write a function that converts a dictionary into a list of keys-values tuples.\n",
    "\n",
    "Examples\n",
    "\n",
    "dict_to_list({\n",
    "\n",
    "    \"D\": 1,\n",
    "\n",
    "    \"B\": 2,\n",
    "\n",
    "    \"C\": 3\n",
    "\n",
    "}) ➞ [(\"B\", 2), (\"C\", 3), (\"D\", 1)]\n",
    "\n",
    "dict_to_list({\n",
    "\n",
    "    \"likes\": 2,\n",
    "\n",
    "    \"dislikes\": 3,\n",
    "\n",
    "    \"followers\": 10\n",
    "\n",
    "}) ➞ [(\"dislikes\", 3), (\"followers\", 10), (\"likes\", 2)]\n",
    "\n",
    "Notes\n",
    "\n",
    "Return the elements in the list in alphabetical order."
   ]
  },
  {
   "cell_type": "code",
   "execution_count": 9,
   "id": "7da3408d",
   "metadata": {},
   "outputs": [
    {
     "name": "stdout",
     "output_type": "stream",
     "text": [
      "[('B', 2), ('C', 3), ('D', 1)]\n"
     ]
    }
   ],
   "source": [
    "#code\n",
    "from collections import OrderedDict\n",
    "k=OrderedDict\n",
    "k={\"D\": 1,\"B\": 2,\"C\": 3}\n",
    "def check(k):\n",
    "    keys=[]\n",
    "    values=[]\n",
    "    for i in k.keys():\n",
    "        keys.append(i)\n",
    "    keys.sort()\n",
    "    for i in keys:\n",
    "        values.append(k[i])\n",
    "    p=list(tuple(zip(keys,values)))\n",
    "    print(p)\n",
    "check(k)"
   ]
  },
  {
   "cell_type": "markdown",
   "id": "a2a9fc68",
   "metadata": {},
   "source": [
    "#Question : 03\n",
    "\n",
    "Write a function that creates a dictionary with each (key, value) pair being the (lower case,\n",
    "upper case) versions of a letter, respectively.\n",
    "\n",
    "Examples\n",
    "\n",
    "mapping([\"p\", \"s\"]) ➞ { \"p\": \"P\", \"s\": \"S\" }\n",
    "\n",
    "mapping([\"a\", \"b\", \"c\"]) ➞ { \"a\": \"A\", \"b\": \"B\", \"c\": \"C\" }\n",
    "\n",
    "mapping([\"a\", \"v\", \"y\", \"z\"]) ➞ { \"a\": \"A\", \"v\": \"V\", \"y\": \"Y\", \"z\": \"Z\" }\n",
    "\n",
    "Notes\n",
    "\n",
    "All of the letters in the input list will always be lowercase."
   ]
  },
  {
   "cell_type": "code",
   "execution_count": 12,
   "id": "04c8d187",
   "metadata": {},
   "outputs": [
    {
     "name": "stdout",
     "output_type": "stream",
     "text": [
      "Enter number of values : 3\n",
      "Enter value of string 1 : a\n",
      "Enter value of string 2 : b\n",
      "Enter value of string 3 : c\n",
      "{'a': 'A', 'b': 'B', 'c': 'C'}\n"
     ]
    }
   ],
   "source": [
    "#code\n",
    "\n",
    "def mapping(n):\n",
    "    k=[]\n",
    "    for i in n:\n",
    "        k.append(i.upper())\n",
    "    final=dict(zip(n,k))\n",
    "    return final\n",
    "def inputs():\n",
    "    N=[]\n",
    "    num=int(input(\"Enter number of values : \"))\n",
    "    for i in range(num):\n",
    "        x=input(f\"Enter value of string {i+1} : \")\n",
    "        N.append(x)\n",
    "    return N\n",
    "N=inputs()\n",
    "c=mapping(N)\n",
    "print(c)\n",
    "        "
   ]
  },
  {
   "cell_type": "markdown",
   "id": "c36bb599",
   "metadata": {},
   "source": [
    "#Question : 04\n",
    "\n",
    "Write a function, that replaces all vowels in a string with a specified vowel.\n",
    "\n",
    "Examples\n",
    "\n",
    "vow_replace(\"apples and bananas\", \"u\") ➞ \"upplus und bununus\"\n",
    "\n",
    "vow_replace(\"cheese casserole\", \"o\") ➞ \"chooso cossorolo\"\n",
    "\n",
    "vow_replace(\"stuffed jalapeno poppers\", \"e\") ➞ \"steffed jelepene peppers\"\n",
    "\n",
    "Notes\n",
    "\n",
    "All words will be lowercase. Y is not considered a vowel."
   ]
  },
  {
   "cell_type": "code",
   "execution_count": 14,
   "id": "8f25187e",
   "metadata": {},
   "outputs": [
    {
     "name": "stdout",
     "output_type": "stream",
     "text": [
      "Enter the number of test : 3\n",
      "Enter the value of string : apples and bananas\n",
      "enter the desired vowel : u\n",
      "upplus und bununus\n",
      "Enter the value of string : cheese casserole\n",
      "enter the desired vowel : o\n",
      "chooso cossorolo\n",
      "Enter the value of string : stuffed jalapeno poppers\n",
      "enter the desired vowel : e\n",
      "steffed jelepene peppers\n"
     ]
    }
   ],
   "source": [
    "#code\n",
    "def values():\n",
    "    n=input(\"Enter the value of string : \")\n",
    "    d=input(\"enter the desired vowel : \")\n",
    "    return n,d\n",
    "def doit(N,d):\n",
    "    s=['a','e','i','o','u']\n",
    "    for i in N:\n",
    "        if i.lower() in s:\n",
    "            N=N.replace(i,d)\n",
    "    return N\n",
    "num=int(input(\"Enter the number of test : \"))\n",
    "for i in range(num):\n",
    "    n,d=values()\n",
    "    k=doit(n,d)\n",
    "    print(k)"
   ]
  },
  {
   "cell_type": "markdown",
   "id": "120c953f",
   "metadata": {},
   "source": [
    "#Question : 05\n",
    "\n",
    "Create a function that takes a string as input and capitalizes a letter if its ASCII code is even\n",
    "and returns its lower case version if its ASCII code is odd.\n",
    "\n",
    "Examples\n",
    "\n",
    "ascii_capitalize(\"to be or not to be!\") ➞ \"To Be oR NoT To Be!\"\n",
    "\n",
    "ascii_capitalize(\"THE LITTLE MERMAID\") ➞ \"THe LiTTLe meRmaiD\"\n",
    "\n",
    "ascii_capitalize(\"Oh what a beautiful morning.\") ➞ \"oH wHaT a BeauTiFuL moRNiNg.\""
   ]
  },
  {
   "cell_type": "code",
   "execution_count": 15,
   "id": "f75683f2",
   "metadata": {},
   "outputs": [
    {
     "name": "stdout",
     "output_type": "stream",
     "text": [
      "enter the number of string to be modifed : 3\n",
      "Enter the desired string of your choice : to be or not to be!\n",
      "To Be oR NoT To Be!\n",
      "Enter the desired string of your choice : THE LITTLE MERMAID\n",
      "THe LiTTLe meRmaiD\n",
      "Enter the desired string of your choice : Oh what a beautiful morning.\n",
      "oH wHaT a BeauTiFuL moRNiNg.\n"
     ]
    }
   ],
   "source": [
    "#code\n",
    "\n",
    "def value():\n",
    "    try:\n",
    "        num=int(input(\"enter the number of string to be modifed : \"))\n",
    "    except Exception as e:\n",
    "        print(e)\n",
    "        return value()+0\n",
    "    return num\n",
    "def doit():\n",
    "    st=input(\"Enter the desired string of your choice : \")\n",
    "    for i in st:\n",
    "        if ord(i)%2==0:\n",
    "            st=st.replace(i,i.upper())\n",
    "        else:\n",
    "            st=st.replace(i,i.lower())\n",
    "    return st\n",
    "num=value()\n",
    "for i in range(num):\n",
    "    p=doit()\n",
    "    print(p)"
   ]
  },
  {
   "cell_type": "code",
   "execution_count": null,
   "id": "3b87bf37",
   "metadata": {},
   "outputs": [],
   "source": []
  }
 ],
 "metadata": {
  "kernelspec": {
   "display_name": "Python 3 (ipykernel)",
   "language": "python",
   "name": "python3"
  },
  "language_info": {
   "codemirror_mode": {
    "name": "ipython",
    "version": 3
   },
   "file_extension": ".py",
   "mimetype": "text/x-python",
   "name": "python",
   "nbconvert_exporter": "python",
   "pygments_lexer": "ipython3",
   "version": "3.9.7"
  }
 },
 "nbformat": 4,
 "nbformat_minor": 5
}
