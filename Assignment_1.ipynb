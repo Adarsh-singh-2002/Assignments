{
 "cells": [
  {
   "cell_type": "raw",
   "id": "6afff232",
   "metadata": {},
   "source": [
    "#Question : 01\n",
    "1. In the below elements which of them are values or an expression? eg:- values can be integer or string and expressions will be mathematical operators.\n",
    "* \n",
    "'hello'\n",
    "-87.8\n",
    "- \t\n",
    "/ \n",
    "+\t\n",
    "6\n",
    "\n",
    "Answer:- \n",
    "'*' is expression\n",
    "'hello' is a value\n",
    "'-87.8' is a value\n",
    "'-' is a expression\n",
    "'/' is a expression\n",
    "'+' is a expression\n",
    "'6' is a value\n",
    "\n"
   ]
  },
  {
   "cell_type": "raw",
   "id": "ce09fb5c",
   "metadata": {},
   "source": [
    "#Question : 02\n",
    "2. What is the difference between string and variable?\n",
    "\n",
    "Answer:-\n",
    "The difference between string and variables is :\n",
    "\n",
    "String:-\n",
    " 1.String is said to be a data type which can hold values of type string.\n",
    " 2.String are denoted in a double or single inverted commas and sometimes triple inverted commas.\n",
    " 3.String has the factor of autoindexing. So, we can access each characters using square brackets.\n",
    " 4.we can simply write anything inside quotes and it will be treated as string.\n",
    "\n",
    "Variables:-\n",
    " 1.Variables are entities that store values.\n",
    " 2.It may be of different data types.\n",
    " 3.The assignment of variables are possible alongwith the values.The values are the one's which tells the data type of a variable.\n",
    " 4.While declaring variable we should follow the nomenclature.like- Use of alpha numeric values; name should start with alphabet.\n",
    " \n",
    " "
   ]
  },
  {
   "cell_type": "raw",
   "id": "4e46d945",
   "metadata": {},
   "source": [
    "#Question : 03\n",
    "3. Describe three different data types\n",
    "\n",
    "Answer:-\n",
    "In python there are several data types some of which are:-\n",
    " 1. int - int is a data type which stores values that are integers.\n",
    " 2. string - string is a data type which stores values as array of bytes.Even though there is no data type as of array but accessing elements through indexing is possible\n",
    " 3.list - list is a data type which stores values in form of list. It is denoted with square brackets.Accessing through indexing is also possible in this data type.\n"
   ]
  },
  {
   "cell_type": "raw",
   "id": "afd255bb",
   "metadata": {},
   "source": [
    "#Question : 04\n",
    "4. What is an expression made up of? What do all expressions do?\n",
    "\n",
    "Answer:-\n",
    "Expressions are piece of code that signifies a task and can be evaluated to a value.\n",
    " Expressions just simplifies to a value as output or for further execution."
   ]
  },
  {
   "cell_type": "raw",
   "id": "82f5ddf1",
   "metadata": {},
   "source": [
    "#Question : 05\n",
    "5. This assignment statements, like spam = 10. What is the difference between an expression and a statement?\n",
    "\n",
    "Answer:-\n",
    "Expression:-\n",
    " expression usually refers to a piece of code that can be evaluated to a value, and is composed of variables, operators, function calls, and literals.\n",
    " \n",
    "Statements:-\n",
    " statement refers to a piece of code that executes a specific instruction or tells the computer to complete a task.  A statement can take the form of assignments, control statements, import statements, loop statements, jump statements, or method calls."
   ]
  },
  {
   "cell_type": "raw",
   "id": "91fd262d",
   "metadata": {},
   "source": [
    "#Question : 06\n",
    "6. After running the following code, what does the variable bacon contain?\n",
    "bacon = 22\n",
    "bacon + 1\n",
    "\n",
    "Answer:-\n",
    "At the end Bacon will contain 22."
   ]
  },
  {
   "cell_type": "raw",
   "id": "8ac6dac1",
   "metadata": {},
   "source": [
    "#Question : 07\n",
    "7. What should the values of the following two terms be?\n",
    "'spam' + 'spamspam'\n",
    "'spam' * 3\n",
    "\n",
    "Answer:-\n",
    "Values of statements are :-\n",
    "\n",
    "spamspamspam\n",
    "\n",
    "spamspamspam"
   ]
  },
  {
   "cell_type": "raw",
   "id": "84838584",
   "metadata": {},
   "source": [
    "#Question : 08\n",
    "8. Why is eggs a valid variable name while 100 is invalid?\n",
    "\n",
    "Answer:-\n",
    "eggs is a valid variable name whereas 100 is not a valid variable name because according to the nomenclature of variable name , a variable name cannot be a constant value or it shouldn't start with a integer, whereas it may be only alphabet or alphanumeric."
   ]
  },
  {
   "cell_type": "raw",
   "id": "197921ca",
   "metadata": {},
   "source": [
    "#Question : 09\n",
    "9. What three functions can be used to get the integer, floating-point number, or string version of a value?\n",
    "\n",
    "Answer:-\n",
    "The three functions to get integers, floating point numbers or string versions of values are :-\n",
    " 1. int()\n",
    " 2. float()\n",
    " 3. str()\n"
   ]
  },
  {
   "cell_type": "raw",
   "id": "caa16a76",
   "metadata": {},
   "source": [
    "#question : 10\n",
    "10. Why does this expression cause an error? How can you fix it?\n",
    "'I have eaten ' + 99 + ' burritos.'\n",
    "\n",
    "Answer:-\n",
    "This expression causes error because we are trying to concatinate two different data type elements,which is string and integer."
   ]
  }
 ],
 "metadata": {
  "kernelspec": {
   "display_name": "Python 3 (ipykernel)",
   "language": "python",
   "name": "python3"
  },
  "language_info": {
   "codemirror_mode": {
    "name": "ipython",
    "version": 3
   },
   "file_extension": ".py",
   "mimetype": "text/x-python",
   "name": "python",
   "nbconvert_exporter": "python",
   "pygments_lexer": "ipython3",
   "version": "3.9.7"
  }
 },
 "nbformat": 4,
 "nbformat_minor": 5
}
