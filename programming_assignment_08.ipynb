{
 "cells": [
  {
   "cell_type": "markdown",
   "id": "b84105aa",
   "metadata": {},
   "source": [
    "#Question :01\n",
    "\n",
    "Write a Python Program to Add Two Matrices?\n",
    "\n",
    "Answer:"
   ]
  },
  {
   "cell_type": "code",
   "execution_count": 36,
   "id": "0a57d384",
   "metadata": {},
   "outputs": [
    {
     "name": "stdout",
     "output_type": "stream",
     "text": [
      "[[8, 10, 12], [8, 10, 12], [8, 10, 12]]\n"
     ]
    }
   ],
   "source": [
    "matrix1=[[1,2,3],\n",
    "         [4,5,6],\n",
    "         [7,8,9]]\n",
    "matrix2=[[7,8,9],\n",
    "         [4,5,6],\n",
    "         [1,2,3]]\n",
    "matrix3=[[0,0,0],\n",
    "         [0,0,0],\n",
    "         [0,0,0]]\n",
    "mal=len(matrix1)\n",
    "for i in range(mal):\n",
    "    for j in range(mal):\n",
    "        matrix3[i][j]=matrix1[i][j]+matrix2[i][j]\n",
    "print(matrix3)"
   ]
  },
  {
   "cell_type": "markdown",
   "id": "ee3341bc",
   "metadata": {},
   "source": [
    "#Question :02\n",
    "\n",
    "Write a Python Program to Multiply Two Matrices?\n",
    "\n",
    "Answer:"
   ]
  },
  {
   "cell_type": "code",
   "execution_count": 37,
   "id": "c6aa2718",
   "metadata": {},
   "outputs": [
    {
     "name": "stdout",
     "output_type": "stream",
     "text": [
      "[[7, 16, 27], [16, 25, 36], [7, 16, 27]]\n"
     ]
    }
   ],
   "source": [
    "#code\n",
    "matrix1=[[1,2,3],\n",
    "         [4,5,6],\n",
    "         [7,8,9]]\n",
    "matrix2=[[7,8,9],\n",
    "         [4,5,6],\n",
    "         [1,2,3]]\n",
    "matrix3=[[0,0,0],\n",
    "         [0,0,0],\n",
    "         [0,0,0]]\n",
    "mal=len(matrix1)\n",
    "for i in range(mal):\n",
    "    for j in range(mal):\n",
    "        matrix3[i][j]=matrix1[i][j]*matrix2[i][j]\n",
    "print(matrix3)"
   ]
  },
  {
   "cell_type": "markdown",
   "id": "e5ac41c0",
   "metadata": {},
   "source": [
    "#Question :03\n",
    "\n",
    "Write a Python Program to Transpose a Matrix?\n",
    "\n",
    "Answer:\n",
    "    "
   ]
  },
  {
   "cell_type": "code",
   "execution_count": 38,
   "id": "640775b6",
   "metadata": {},
   "outputs": [
    {
     "name": "stdout",
     "output_type": "stream",
     "text": [
      "[[1, 4, 7], [2, 5, 8], [3, 6, 9]]\n"
     ]
    }
   ],
   "source": [
    "#code\n",
    "matrix1=[[1,2,3],\n",
    "         [4,5,6],\n",
    "         [7,8,9]]\n",
    "matrix2=[[0,0,0],\n",
    "         [0,0,0],\n",
    "         [0,0,0]]\n",
    "mal=len(matrix1)\n",
    "for i in range(mal):\n",
    "    for j in range(mal):\n",
    "        matrix2[i][j]=matrix1[j][i]\n",
    "print(matrix2)"
   ]
  },
  {
   "cell_type": "markdown",
   "id": "524fc54a",
   "metadata": {},
   "source": [
    "#Question :04\n",
    "\n",
    "Write a Python Program to Sort Words in Alphabetic Order?\n",
    "\n",
    "Answer:"
   ]
  },
  {
   "cell_type": "code",
   "execution_count": 39,
   "id": "6fda4553",
   "metadata": {},
   "outputs": [
    {
     "name": "stdout",
     "output_type": "stream",
     "text": [
      "enter the sentence you want sort : A after going to chennai he came back accordingly\n",
      "['A', 'accordingly', 'after', 'back', 'came', 'chennai', 'going', 'he', 'to']\n"
     ]
    }
   ],
   "source": [
    "#code\n",
    "word=input(\"enter the sentence you want sort : \")\n",
    "k=word.split()\n",
    "l=len(k)\n",
    "temp=\" \"\n",
    "for i in range(l):\n",
    "    for j in range(l):\n",
    "        if k[i]>=k[j]:\n",
    "            temp=k[j]\n",
    "            k[j]=k[i]\n",
    "            k[i]=temp\n",
    "k.reverse()\n",
    "print(k)"
   ]
  },
  {
   "cell_type": "markdown",
   "id": "af83c600",
   "metadata": {},
   "source": [
    "#Question :05\n",
    "\n",
    "Write a Python Program to Remove Punctuation From a String?\n",
    "\n",
    "Answer"
   ]
  },
  {
   "cell_type": "code",
   "execution_count": 40,
   "id": "1b6f7a27",
   "metadata": {},
   "outputs": [
    {
     "name": "stdout",
     "output_type": "stream",
     "text": [
      "enter the sentence you want sort : punctuations,/ aren't responsible. for correction.;\n",
      "punctuations aren't responsible for correction\n"
     ]
    }
   ],
   "source": [
    "#code\n",
    "word=input(\"enter the sentence you want sort : \")\n",
    "k='''!@#$%^&*()_,./;:\"\"*/`~'''\n",
    "for i in word:\n",
    "    if i in k:\n",
    "        word=word.replace(i,\"\")\n",
    "print(word)"
   ]
  },
  {
   "cell_type": "code",
   "execution_count": null,
   "id": "196018df",
   "metadata": {},
   "outputs": [],
   "source": []
  }
 ],
 "metadata": {
  "kernelspec": {
   "display_name": "Python 3 (ipykernel)",
   "language": "python",
   "name": "python3"
  },
  "language_info": {
   "codemirror_mode": {
    "name": "ipython",
    "version": 3
   },
   "file_extension": ".py",
   "mimetype": "text/x-python",
   "name": "python",
   "nbconvert_exporter": "python",
   "pygments_lexer": "ipython3",
   "version": "3.9.7"
  }
 },
 "nbformat": 4,
 "nbformat_minor": 5
}
