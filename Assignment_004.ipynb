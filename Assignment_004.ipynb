{
 "cells": [
  {
   "cell_type": "markdown",
   "id": "1935991c",
   "metadata": {},
   "source": [
    "#Question :01\n",
    "\n",
    "Answer:\n",
    "    '[]' this is nothing but just a empty list. A list a kind of data type that stores values in index manner with values separated by a comma and enclosed inside a square bracket."
   ]
  },
  {
   "cell_type": "markdown",
   "id": "52b5ddb2",
   "metadata": {},
   "source": [
    "#Question :02\n",
    "\n",
    "Answer:\n",
    "    Assuming A= [2, 4, 6, 8, 10] are in spam, we can assign 'hello' at the 3^rd value by indexing as..\n",
    "    \n",
    "    "
   ]
  },
  {
   "cell_type": "code",
   "execution_count": 1,
   "id": "e43975b3",
   "metadata": {},
   "outputs": [
    {
     "name": "stdout",
     "output_type": "stream",
     "text": [
      "[2, 4, 'Adarsh', 8, 10]\n"
     ]
    }
   ],
   "source": [
    "A=[2,4,6,8,10]\n",
    "A[2]='hello'\n",
    "print(A)"
   ]
  },
  {
   "cell_type": "markdown",
   "id": "13894f46",
   "metadata": {},
   "source": [
    "#Question :03\n",
    "\n",
    "Answer:\n",
    "    The value that we will get from the expression spam[int(int('3'* 2) / 11)] is 'd'.As, the expression will evaluate to 3, and at the index of 3 in spam we have 'd'."
   ]
  },
  {
   "cell_type": "markdown",
   "id": "9e6e71b8",
   "metadata": {},
   "source": [
    "#Question :04\n",
    "\n",
    "Answer:\n",
    "    Value of spam[-1] is 'd' .As, the negative indexing start from the last element of the collection of values.\n",
    "\n"
   ]
  },
  {
   "cell_type": "markdown",
   "id": "4fe696a5",
   "metadata": {},
   "source": [
    "#Question :05\n",
    "\n",
    "Answer:\n",
    "    Value of spam[:2] is ['a','b']. As, it will return the values present at index 0 and 1."
   ]
  },
  {
   "cell_type": "markdown",
   "id": "d9c5e1ab",
   "metadata": {},
   "source": [
    "#Question :06\n",
    "\n",
    "Answer:\n",
    "    The value of bacon.index('cat') is 1 .As, the expression is checking for the presence of cat in the collection of values in the list."
   ]
  },
  {
   "cell_type": "code",
   "execution_count": 7,
   "id": "60918dc3",
   "metadata": {},
   "outputs": [
    {
     "data": {
      "text/plain": [
       "[3.14, 'cat', 11, 'cat', True, 99]"
      ]
     },
     "execution_count": 7,
     "metadata": {},
     "output_type": "execute_result"
    }
   ],
   "source": [
    "bacon=[3.14,'cat',11,'cat',True]\n",
    "bacon.append(99)\n",
    "bacon"
   ]
  },
  {
   "cell_type": "markdown",
   "id": "7deed494",
   "metadata": {},
   "source": [
    "#Question :07\n",
    "\n",
    "Answer: \n",
    "    The statement of bacon.append(99) will increment the bacon size by 1 and it will add 99 to the last index."
   ]
  },
  {
   "cell_type": "markdown",
   "id": "7b4dde4f",
   "metadata": {},
   "source": [
    "#Question :08\n",
    "\n",
    "Answer:\n",
    "    The statement bacon.remove('cat') will remove 'cat' from wherever it is present inside the list.\n",
    "    "
   ]
  },
  {
   "cell_type": "markdown",
   "id": "a4210aa3",
   "metadata": {},
   "source": [
    "#Question :09\n",
    "\n",
    "Answer:\n",
    "    For list concatenation we use the '+' operator, this is use for merging two or more list's. whereas, for list replication we use '*' operator and this just replicates the list."
   ]
  },
  {
   "cell_type": "markdown",
   "id": "f5cded6f",
   "metadata": {},
   "source": [
    "#Question :10\n",
    "\n",
    "Answer:\n",
    "    The difference between list methods append() and insert() is that, append() is used for adding items at the end of the list.Whereas, using insert we can add the values at any desired position.\n",
    "    \n",
    "    Example- \n",
    "        l1=[1,2,3,4]\n",
    "        l1.append(5)\n",
    "        l1.insert(2,9)\n",
    "     output:\n",
    "     [1, 2, 9, 3, 4, 5]"
   ]
  },
  {
   "cell_type": "code",
   "execution_count": 12,
   "id": "affc53fd",
   "metadata": {},
   "outputs": [
    {
     "name": "stdout",
     "output_type": "stream",
     "text": [
      "[1, 2, 3, 4, 5]\n",
      "[1, 2, 9, 3, 4, 5]\n"
     ]
    }
   ],
   "source": [
    "#code\n",
    "l1=[1,2,3,4]\n",
    "l1.append(5)\n",
    "print(l1)\n",
    "l1.insert(2,9)\n",
    "print(l1)"
   ]
  },
  {
   "cell_type": "markdown",
   "id": "041e7bd5",
   "metadata": {},
   "source": [
    "#Question :11\n",
    "\n",
    "Answer:\n",
    "    The two methods of removing items from a list are using remove(value_to_be_removed) function and pop().\n",
    "    Here, if we use remove() function we need to include the value to be removed, but if we use pop() function then if we don't mention the index from where the value needs to be poped out then the value will be removed from the last and if you mention the index then the value will be poped out of the particular index."
   ]
  },
  {
   "cell_type": "code",
   "execution_count": 13,
   "id": "0c5953aa",
   "metadata": {},
   "outputs": [
    {
     "name": "stdout",
     "output_type": "stream",
     "text": [
      "[1, 2, 3, 4, 23, 6]\n",
      "[1, 2, 3, 4, 23]\n",
      "[2, 3, 4, 23]\n"
     ]
    }
   ],
   "source": [
    "#code\n",
    "l1=[1,2,3,4,31,23,6]\n",
    "l1.remove(31)\n",
    "print(l1)\n",
    "l1.pop()\n",
    "print(l1)\n",
    "l1.pop(0)\n",
    "print(l1)"
   ]
  },
  {
   "cell_type": "markdown",
   "id": "c45ede2c",
   "metadata": {},
   "source": [
    "#Question :12\n",
    "\n",
    "Answer:\n",
    "\n",
    "    list values and string values are identical because of -\n",
    "      1.They both support concatenation using '+' operator.\n",
    "      2.They both can be accessed with indexing, both have auto indexing.\n",
    "      3.They both support replication using '*' operator."
   ]
  },
  {
   "cell_type": "markdown",
   "id": "ad1ba29d",
   "metadata": {},
   "source": [
    "#Question :13\n",
    "\n",
    "Answer:\n",
    "    \n",
    "    There are several differences between tuples and lists-\n",
    "    1.Tuples are immutable whereas list can be mutable.\n",
    "    2.tuples values are placed inside parenthesis'()' whereas list are      placed inside square brackets'[]'.\n",
    "    3.Both are different data types."
   ]
  },
  {
   "cell_type": "markdown",
   "id": "54352f8a",
   "metadata": {},
   "source": [
    "#Question:14\n",
    "\n",
    "Answer:\n",
    "    We will simply write 45 inside parenthesis."
   ]
  },
  {
   "cell_type": "code",
   "execution_count": 23,
   "id": "dbcbff46",
   "metadata": {},
   "outputs": [
    {
     "name": "stdout",
     "output_type": "stream",
     "text": [
      "<class 'tuple'>\n"
     ]
    },
    {
     "data": {
      "text/plain": [
       "(45,)"
      ]
     },
     "execution_count": 23,
     "metadata": {},
     "output_type": "execute_result"
    }
   ],
   "source": [
    "#code\n",
    "t=(45,)\n",
    "print(type(t))\n",
    "t"
   ]
  },
  {
   "cell_type": "markdown",
   "id": "d849db74",
   "metadata": {},
   "source": [
    "#Question :15"
   ]
  },
  {
   "cell_type": "code",
   "execution_count": 26,
   "id": "4b022e27",
   "metadata": {},
   "outputs": [
    {
     "name": "stdout",
     "output_type": "stream",
     "text": [
      "(2, 34, 5)\n",
      "[2, 34, 5]\n"
     ]
    }
   ],
   "source": [
    "#code for 15\n",
    "\n",
    "#For list to tuple \n",
    "l=[2,34,5] \n",
    "l1=tuple(l)  #used type casting\n",
    "print(l1)\n",
    "#for tuple to list\n",
    "l2=list(l1)  #used type casting\n",
    "print(l2)"
   ]
  },
  {
   "cell_type": "markdown",
   "id": "f60eb541",
   "metadata": {},
   "source": [
    "#Question :16\n",
    "\n",
    "Answer:\n",
    "    They contain references to the list values.    "
   ]
  },
  {
   "cell_type": "markdown",
   "id": "f39e09da",
   "metadata": {},
   "source": [
    "#Question :17\n",
    "\n",
    "Answer:\n",
    "    copy.copy() is used for doing a shallow copy operation.\n",
    "    copy.deepcopy() is used for doing a deep copy operation.This duplicates the values and then used it."
   ]
  },
  {
   "cell_type": "code",
   "execution_count": null,
   "id": "e1c703f2",
   "metadata": {},
   "outputs": [],
   "source": []
  }
 ],
 "metadata": {
  "kernelspec": {
   "display_name": "Python 3 (ipykernel)",
   "language": "python",
   "name": "python3"
  },
  "language_info": {
   "codemirror_mode": {
    "name": "ipython",
    "version": 3
   },
   "file_extension": ".py",
   "mimetype": "text/x-python",
   "name": "python",
   "nbconvert_exporter": "python",
   "pygments_lexer": "ipython3",
   "version": "3.9.7"
  }
 },
 "nbformat": 4,
 "nbformat_minor": 5
}
