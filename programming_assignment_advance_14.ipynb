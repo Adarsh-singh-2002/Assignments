{
 "cells": [
  {
   "cell_type": "markdown",
   "id": "6deb2e8e",
   "metadata": {},
   "source": [
    "#Question : 01\n",
    "\n",
    "Given a list of numbers, create a function that removes 25% from every\n",
    "number in the list except the smallest number, and adds the total amount\n",
    "removed to the smallest number.\n",
    "\n",
    "Examples\n",
    "\n",
    "show_the_love([4, 1, 4]) ➞ [3, 3, 3]\n",
    "\n",
    "show_the_love([16, 10, 8]) ➞ [12, 7.5, 14.5]\n",
    "\n",
    "show_the_love([2, 100]) ➞ [27, 75]"
   ]
  },
  {
   "cell_type": "code",
   "execution_count": 5,
   "id": "22b13f48",
   "metadata": {},
   "outputs": [],
   "source": [
    "def show_the_love(values):\n",
    "    minimum = min(values)\n",
    "    sum=0\n",
    "    for i in range(len(values)):\n",
    "        remove = 0\n",
    "        if values[i] != minimum:\n",
    "            remove = values[i]*0.25\n",
    "            values[i] = values[i] - remove\n",
    "            sum+=remove\n",
    "    else:\n",
    "        x = values.index(minimum)\n",
    "        values[x] = values[x]+sum\n",
    "    return values"
   ]
  },
  {
   "cell_type": "code",
   "execution_count": 6,
   "id": "be63963d",
   "metadata": {},
   "outputs": [
    {
     "data": {
      "text/plain": [
       "[3.0, 3.0, 3.0]"
      ]
     },
     "execution_count": 6,
     "metadata": {},
     "output_type": "execute_result"
    }
   ],
   "source": [
    "show_the_love([4, 1, 4])"
   ]
  },
  {
   "cell_type": "code",
   "execution_count": 7,
   "id": "3c822ae5",
   "metadata": {},
   "outputs": [
    {
     "data": {
      "text/plain": [
       "[12.0, 7.5, 14.5]"
      ]
     },
     "execution_count": 7,
     "metadata": {},
     "output_type": "execute_result"
    }
   ],
   "source": [
    "show_the_love([16, 10, 8])"
   ]
  },
  {
   "cell_type": "code",
   "execution_count": 8,
   "id": "0c91e5df",
   "metadata": {},
   "outputs": [
    {
     "data": {
      "text/plain": [
       "[27.0, 75.0]"
      ]
     },
     "execution_count": 8,
     "metadata": {},
     "output_type": "execute_result"
    }
   ],
   "source": [
    "show_the_love([2, 100])"
   ]
  },
  {
   "cell_type": "markdown",
   "id": "d765a09b",
   "metadata": {},
   "source": [
    "#Question : 02\n",
    "\n",
    "Create a function that takes in two words as input and returns a list of three\n",
    "elements, in the following order:\n",
    "\n",
    "1.Shared letters between two words.\n",
    "\n",
    "2.Letters unique to word 1.\n",
    "\n",
    "3.Letters unique to word 2.\n",
    "\n",
    "Each element should have unique letters, and have each letter be\n",
    "alphabetically sorted.\n",
    "\n",
    "Examples\n",
    "\n",
    "letters(\"sharp\", \"soap\") ➞ [\"aps\", \"hr\", \"o\"]\n",
    "\n",
    "letters(\"board\", \"bored\") ➞ [\"bdor\", \"a\", \"e\"]\n",
    "\n",
    "letters(\"happiness\", \"envelope\") ➞ [\"enp\", \"ahis\", \"lov\"]\n",
    "\n",
    "letters(\"kerfuffle\", \"fluffy\") ➞ [\"flu\", \"ekr\", \"y\"]\n",
    "\n",
    "* Even with multiple matching letters (e.g. 3 f&#39;s), there should\n",
    "* only exist a single \"f\" in your first element.\n",
    "\n",
    "letters(\"match\", \"ham\") ➞ [\"ahm\", \"ct\", \"\"]\n",
    "\n",
    "* \"ham\" does not contain any letters that are not found already\n",
    "* in \"match\"."
   ]
  },
  {
   "cell_type": "code",
   "execution_count": 46,
   "id": "e09f376e",
   "metadata": {},
   "outputs": [],
   "source": [
    "def letters(word_1,word_2):\n",
    "    shared = []\n",
    "    unique_to_1 = []\n",
    "    unique_to_2 = []\n",
    "    Ans = \"\"\n",
    "    Ans1 = \"\"\n",
    "    Ans2 = \"\"\n",
    "    for i in word_1:\n",
    "        if i in word_2 and i not in shared:\n",
    "            shared.append(i)\n",
    "        elif i not in word_2 and i not in unique_to_1:\n",
    "            unique_to_1.append(i)\n",
    "    for i in word_2:\n",
    "        if i not in word_1 and i not in unique_to_2:\n",
    "            unique_to_2.append(i)\n",
    "    for i in shared :\n",
    "        Ans += i + \" \"\n",
    "    for j in unique_to_1:\n",
    "        Ans1 += j + \" \"\n",
    "    for k in unique_to_2:\n",
    "        Ans2 +=k + \" \"\n",
    "    return [Ans,Ans1,Ans2]"
   ]
  },
  {
   "cell_type": "code",
   "execution_count": 47,
   "id": "b4beda42",
   "metadata": {},
   "outputs": [
    {
     "data": {
      "text/plain": [
       "['s a p ', 'h r ', 'o ']"
      ]
     },
     "execution_count": 47,
     "metadata": {},
     "output_type": "execute_result"
    }
   ],
   "source": [
    "letters(\"sharp\", \"soap\")"
   ]
  },
  {
   "cell_type": "code",
   "execution_count": 48,
   "id": "46f7cff5",
   "metadata": {},
   "outputs": [
    {
     "data": {
      "text/plain": [
       "['b o r d ', 'a ', 'e ']"
      ]
     },
     "execution_count": 48,
     "metadata": {},
     "output_type": "execute_result"
    }
   ],
   "source": [
    "letters(\"board\", \"bored\")"
   ]
  },
  {
   "cell_type": "code",
   "execution_count": 49,
   "id": "b13c0d42",
   "metadata": {},
   "outputs": [
    {
     "data": {
      "text/plain": [
       "['p n e ', 'h a i s ', 'v l o ']"
      ]
     },
     "execution_count": 49,
     "metadata": {},
     "output_type": "execute_result"
    }
   ],
   "source": [
    "letters(\"happiness\", \"envelope\")"
   ]
  },
  {
   "cell_type": "markdown",
   "id": "971a2eb2",
   "metadata": {},
   "source": [
    "#Question : 03\n",
    "\n",
    "Write a function that pairs the first number in an array with the last, the\n",
    "second number with the second to last, etc.\n",
    "\n",
    "Examples\n",
    "\n",
    "pairs([1, 2, 3, 4, 5, 6, 7]) ➞ [[1, 7], [2, 6], [3, 5], [4, 4]]\n",
    "\n",
    "pairs([1, 2, 3, 4, 5, 6]) ➞ [[1, 6], [2, 5], [3, 4]]\n",
    "\n",
    "pairs([5, 9, 8, 1, 2]) ➞ [[5, 2], [9, 1], [8, 8]]\n",
    "\n",
    "pairs([]) ➞ []"
   ]
  },
  {
   "cell_type": "code",
   "execution_count": 55,
   "id": "12e1b2ae",
   "metadata": {},
   "outputs": [],
   "source": [
    "def pairs(values):\n",
    "    Ans = []\n",
    "    if len(values)%2==0:\n",
    "        for i in range(len(values)//2):\n",
    "            pair = []\n",
    "            pair.append(values[i])\n",
    "            pair.append(values[-1-i])\n",
    "            Ans.append(pair)\n",
    "    else:\n",
    "        for i in range((len(values)//2)+1):\n",
    "            pair = []\n",
    "            if i==len(values)//2:\n",
    "                pair.append(values[i])\n",
    "                pair.append(values[i])\n",
    "                Ans.append(pair)\n",
    "                break\n",
    "            else:\n",
    "                pair.append(values[i])\n",
    "                pair.append(values[-1-i])\n",
    "                Ans.append(pair)\n",
    "    return Ans"
   ]
  },
  {
   "cell_type": "code",
   "execution_count": 56,
   "id": "50b1a2a0",
   "metadata": {},
   "outputs": [
    {
     "data": {
      "text/plain": [
       "[[1, 7], [2, 6], [3, 5], [4, 4]]"
      ]
     },
     "execution_count": 56,
     "metadata": {},
     "output_type": "execute_result"
    }
   ],
   "source": [
    "pairs([1, 2, 3, 4, 5, 6, 7])"
   ]
  },
  {
   "cell_type": "code",
   "execution_count": 57,
   "id": "e1401edd",
   "metadata": {},
   "outputs": [
    {
     "data": {
      "text/plain": [
       "[[1, 6], [2, 5], [3, 4]]"
      ]
     },
     "execution_count": 57,
     "metadata": {},
     "output_type": "execute_result"
    }
   ],
   "source": [
    "pairs([1, 2, 3, 4, 5, 6])"
   ]
  },
  {
   "cell_type": "code",
   "execution_count": 58,
   "id": "cc1d1aed",
   "metadata": {},
   "outputs": [
    {
     "data": {
      "text/plain": [
       "[[5, 2], [9, 1], [8, 8]]"
      ]
     },
     "execution_count": 58,
     "metadata": {},
     "output_type": "execute_result"
    }
   ],
   "source": [
    "pairs([5, 9, 8, 1, 2])"
   ]
  },
  {
   "cell_type": "code",
   "execution_count": 59,
   "id": "adfb0511",
   "metadata": {},
   "outputs": [
    {
     "data": {
      "text/plain": [
       "[]"
      ]
     },
     "execution_count": 59,
     "metadata": {},
     "output_type": "execute_result"
    }
   ],
   "source": [
    "pairs([])"
   ]
  },
  {
   "cell_type": "markdown",
   "id": "190010f4",
   "metadata": {},
   "source": [
    "#Question : 04\n",
    "\n",
    "Write a function that adds two numbers. The catch, however, is that the\n",
    "numbers will be strings.\n",
    "\n",
    "Examples\n",
    "\n",
    "add_str_nums(\"4\", \"5\") ➞ \"9\"\n",
    "\n",
    "add_str_nums(\"abcdefg\", \"3\") ➞ \"-1\"\n",
    "\n",
    "add_str_nums(\"1\", \"\") ➞ \"1\"\n",
    "\n",
    "add_str_nums(\"1874682736267235927359283579235789257\",\n",
    "\"32652983572985729\") ➞ \"1874682736267235927391936562808774986\""
   ]
  },
  {
   "cell_type": "code",
   "execution_count": 29,
   "id": "e30cf712",
   "metadata": {},
   "outputs": [],
   "source": [
    "#code\n",
    "def add_str_nums(val1,val2):\n",
    "    if val1.isnumeric() and val2.isnumeric():\n",
    "        Ans = int(val1) + int(val2)\n",
    "    elif val1.isnumeric()==True and val2.isnumeric()==False :\n",
    "        Ans = int(val1)\n",
    "    elif val1.isnumeric()==False and val2.isnumeric()==True :\n",
    "        Ans = int(val2)\n",
    "    else:\n",
    "        return -1\n",
    "    return Ans\n",
    "        "
   ]
  },
  {
   "cell_type": "code",
   "execution_count": 30,
   "id": "3d769014",
   "metadata": {},
   "outputs": [
    {
     "data": {
      "text/plain": [
       "9"
      ]
     },
     "execution_count": 30,
     "metadata": {},
     "output_type": "execute_result"
    }
   ],
   "source": [
    "add_str_nums(\"4\", \"5\")"
   ]
  },
  {
   "cell_type": "code",
   "execution_count": 31,
   "id": "35d4adbb",
   "metadata": {},
   "outputs": [
    {
     "data": {
      "text/plain": [
       "3"
      ]
     },
     "execution_count": 31,
     "metadata": {},
     "output_type": "execute_result"
    }
   ],
   "source": [
    "add_str_nums(\"abcdefg\", \"3\")"
   ]
  },
  {
   "cell_type": "code",
   "execution_count": 32,
   "id": "d3fd57ec",
   "metadata": {},
   "outputs": [
    {
     "data": {
      "text/plain": [
       "1"
      ]
     },
     "execution_count": 32,
     "metadata": {},
     "output_type": "execute_result"
    }
   ],
   "source": [
    "add_str_nums(\"1\", \"\")"
   ]
  },
  {
   "cell_type": "code",
   "execution_count": 34,
   "id": "accc2cc6",
   "metadata": {},
   "outputs": [
    {
     "data": {
      "text/plain": [
       "1874682736267235927391936562808774986"
      ]
     },
     "execution_count": 34,
     "metadata": {},
     "output_type": "execute_result"
    }
   ],
   "source": [
    "add_str_nums(\"1874682736267235927359283579235789257\",\"32652983572985729\")"
   ]
  },
  {
   "cell_type": "markdown",
   "id": "d1b2d871",
   "metadata": {},
   "source": [
    "#Question : 05\n",
    "\n",
    "lPaeesh le pemu mnxit ehess rtnisg! Oh, sorry, that was supposed to say:\n",
    "Please help me unmix these strings!\n",
    "\n",
    "Somehow my strings have all become mixed up; every pair of characters has\n",
    "been swapped. Help me undo this so I can understand my strings again.\n",
    "\n",
    "Examples\n",
    "\n",
    "unmix(\"123456\") ➞ \"214365\"\n",
    "\n",
    "unmix(\"hTsii s aimex dpus rtni.g\") ➞ \"This is a mixed up string.\"\n",
    "\n",
    "unmix(\"badce\") ➞ \"abcde\""
   ]
  },
  {
   "cell_type": "code",
   "execution_count": 111,
   "id": "55306d55",
   "metadata": {},
   "outputs": [],
   "source": [
    "def unmix(data):\n",
    "    Ans = []\n",
    "    flag = 0\n",
    "    Final=\"\"\n",
    "    for i in data:\n",
    "        Ans.append(i)\n",
    "    if len(data)%2!=0:\n",
    "        flag = 1\n",
    "        Ans.append(data[-1])\n",
    "    for i in range(len(Ans)):\n",
    "        if i%2!=0:\n",
    "            Ans[i],Ans[i-1]=Ans[i-1],Ans[i]\n",
    "    if flag==1:\n",
    "        Ans.pop()\n",
    "    for i in Ans:\n",
    "        Final+=i\n",
    "    \n",
    "    return Final"
   ]
  },
  {
   "cell_type": "code",
   "execution_count": 112,
   "id": "8658d01c",
   "metadata": {},
   "outputs": [
    {
     "data": {
      "text/plain": [
       "'214365'"
      ]
     },
     "execution_count": 112,
     "metadata": {},
     "output_type": "execute_result"
    }
   ],
   "source": [
    "unmix(\"123456\")"
   ]
  },
  {
   "cell_type": "code",
   "execution_count": 116,
   "id": "dddab268",
   "metadata": {},
   "outputs": [
    {
     "data": {
      "text/plain": [
       "'This is a   mixed up string.'"
      ]
     },
     "execution_count": 116,
     "metadata": {},
     "output_type": "execute_result"
    }
   ],
   "source": [
    "unmix(\"hTsii  s a  imex dpus rtni.g\")"
   ]
  },
  {
   "cell_type": "code",
   "execution_count": 114,
   "id": "ab643c5e",
   "metadata": {},
   "outputs": [
    {
     "data": {
      "text/plain": [
       "'abcde'"
      ]
     },
     "execution_count": 114,
     "metadata": {},
     "output_type": "execute_result"
    }
   ],
   "source": [
    "unmix(\"badce\")"
   ]
  },
  {
   "cell_type": "code",
   "execution_count": null,
   "id": "678e982e",
   "metadata": {},
   "outputs": [],
   "source": []
  }
 ],
 "metadata": {
  "kernelspec": {
   "display_name": "Python 3 (ipykernel)",
   "language": "python",
   "name": "python3"
  },
  "language_info": {
   "codemirror_mode": {
    "name": "ipython",
    "version": 3
   },
   "file_extension": ".py",
   "mimetype": "text/x-python",
   "name": "python",
   "nbconvert_exporter": "python",
   "pygments_lexer": "ipython3",
   "version": "3.9.7"
  }
 },
 "nbformat": 4,
 "nbformat_minor": 5
}
