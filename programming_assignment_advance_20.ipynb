{
 "cells": [
  {
   "cell_type": "markdown",
   "id": "5a07b3c2",
   "metadata": {},
   "source": [
    "#Question : 01\n",
    "\n",
    "Create a function based on the input and output. Look at the examples,\n",
    "there is a pattern.\n",
    "\n",
    "Examples\n",
    "\n",
    "secret(\"p.one.two.three\") ➞ \"&lt;p class=&#39;one two three&#39;&gt;&lt;/p&gt;\"\n",
    "\n",
    "secret(\"p.one\") ➞ \"&lt;p class=&#39;one&#39;&gt;&lt;/p&gt;\"\n",
    "\n",
    "secret(\"p.four.five\") ➞ \"&lt;p class=&#39;four five&#39;&gt;&lt;/p&gt;\""
   ]
  },
  {
   "cell_type": "code",
   "execution_count": 21,
   "id": "cd0d3c58",
   "metadata": {},
   "outputs": [],
   "source": [
    "#Code\n",
    "\n",
    "def secret(value):\n",
    "    value = value.replace('.',' ')\n",
    "    values = value.split()\n",
    "    use = \"\"\n",
    "    for i in values[1:]:\n",
    "        use+=i+\" \"\n",
    "    use = use[:-1]\n",
    "    return f\"<{values[0]} class='{use}'></{values[0]}>\""
   ]
  },
  {
   "cell_type": "code",
   "execution_count": 22,
   "id": "764d4f87",
   "metadata": {},
   "outputs": [
    {
     "data": {
      "text/plain": [
       "\"<p class='one two three'></p>\""
      ]
     },
     "execution_count": 22,
     "metadata": {},
     "output_type": "execute_result"
    }
   ],
   "source": [
    "secret(\"p.one.two.three\")"
   ]
  },
  {
   "cell_type": "code",
   "execution_count": 23,
   "id": "4adfec7a",
   "metadata": {},
   "outputs": [
    {
     "data": {
      "text/plain": [
       "\"<p class='one'></p>\""
      ]
     },
     "execution_count": 23,
     "metadata": {},
     "output_type": "execute_result"
    }
   ],
   "source": [
    "secret(\"p.one\")"
   ]
  },
  {
   "cell_type": "code",
   "execution_count": 24,
   "id": "f0d6667a",
   "metadata": {},
   "outputs": [
    {
     "data": {
      "text/plain": [
       "\"<p class='four five'></p>\""
      ]
     },
     "execution_count": 24,
     "metadata": {},
     "output_type": "execute_result"
    }
   ],
   "source": [
    "secret(\"p.four.five\") "
   ]
  },
  {
   "cell_type": "markdown",
   "id": "baa07317",
   "metadata": {},
   "source": [
    "#Question : 02\n",
    "\n",
    "Create a function which counts how many lone 1s appear in a given\n",
    "number. Lone means the number doesn't appear twice or more in a row.\n",
    "\n",
    "Examples\n",
    "\n",
    "count_lone_ones(101) ➞ 2\n",
    "\n",
    "count_lone_ones(1191) ➞ 1\n",
    "\n",
    "count_lone_ones(1111) ➞ 0\n",
    "\n",
    "count_lone_ones(462) ➞ 0"
   ]
  },
  {
   "cell_type": "code",
   "execution_count": 36,
   "id": "a03b7eac",
   "metadata": {},
   "outputs": [],
   "source": [
    "#code\n",
    "\n",
    "def count_lone_ones(num):\n",
    "    num = str(num)\n",
    "    count = 0\n",
    "    for i in range(len(num)-1):\n",
    "        if i < 1:\n",
    "            if num[i] != num[i+1] and num[i] == '1':\n",
    "                count+=1\n",
    "        else:\n",
    "            if num[i] != num[i+1] and num[i-1] != num[i]  and num[i] == '1':\n",
    "                count+=1\n",
    "            \n",
    "    if num[-1]!=num[-2] and num[-1]=='1':\n",
    "        count+=1\n",
    "    return count"
   ]
  },
  {
   "cell_type": "code",
   "execution_count": 37,
   "id": "c6ac6e7d",
   "metadata": {},
   "outputs": [
    {
     "data": {
      "text/plain": [
       "2"
      ]
     },
     "execution_count": 37,
     "metadata": {},
     "output_type": "execute_result"
    }
   ],
   "source": [
    "count_lone_ones(101)"
   ]
  },
  {
   "cell_type": "code",
   "execution_count": 38,
   "id": "bf4a26fa",
   "metadata": {},
   "outputs": [
    {
     "data": {
      "text/plain": [
       "1"
      ]
     },
     "execution_count": 38,
     "metadata": {},
     "output_type": "execute_result"
    }
   ],
   "source": [
    "count_lone_ones(1191)"
   ]
  },
  {
   "cell_type": "code",
   "execution_count": 39,
   "id": "6f9afa0f",
   "metadata": {},
   "outputs": [
    {
     "data": {
      "text/plain": [
       "0"
      ]
     },
     "execution_count": 39,
     "metadata": {},
     "output_type": "execute_result"
    }
   ],
   "source": [
    "count_lone_ones(1111)"
   ]
  },
  {
   "cell_type": "code",
   "execution_count": 40,
   "id": "3532fd0f",
   "metadata": {},
   "outputs": [
    {
     "data": {
      "text/plain": [
       "0"
      ]
     },
     "execution_count": 40,
     "metadata": {},
     "output_type": "execute_result"
    }
   ],
   "source": [
    "count_lone_ones(462)"
   ]
  },
  {
   "cell_type": "markdown",
   "id": "cf5a047a",
   "metadata": {},
   "source": [
    "#Question : 03\n",
    "\n",
    "Write a method that accepts two integer parameters rows and cols. The\n",
    "output is a 2d array of numbers displayed in column-major order, meaning the\n",
    "numbers shown increase sequentially down each column and wrap to the top\n",
    "of the next column to the right once the bottom of the current column is\n",
    "reached.\n",
    "\n",
    "Examples\n",
    "\n",
    "printGrid(3, 6) ➞ [\n",
    "[1, 4, 7, 10, 13, 16],\n",
    "[2, 5, 8, 11, 14, 17],\n",
    "[3, 6, 9, 12, 15, 18]\n",
    "]\n",
    "\n",
    "printGrid(5, 3) ➞ [\n",
    "[1, 6, 11],\n",
    "[2, 7, 12],\n",
    "[3, 8, 13],\n",
    "[4, 9, 14],\n",
    "[5, 10, 15]\n",
    "]\n",
    "\n",
    "printGrid(4, 1) ➞ [\n",
    "[1],\n",
    "[2],\n",
    "[3],\n",
    "[4]\n",
    "]"
   ]
  },
  {
   "cell_type": "code",
   "execution_count": 48,
   "id": "12e4b882",
   "metadata": {},
   "outputs": [],
   "source": [
    "#Code\n",
    "\n",
    "def printGrid(in_one,in_two):\n",
    "    output = [] \n",
    "    for ele_1 in range(in_one):\n",
    "        temp = []\n",
    "        for ele_2 in range(in_two):\n",
    "            temp.append(ele_1+(in_one*ele_2)+1)\n",
    "        output.append(temp) \n",
    "    print(f'printGrid{in_one,in_two} ➞ {output}')"
   ]
  },
  {
   "cell_type": "code",
   "execution_count": 49,
   "id": "cbdfbfa6",
   "metadata": {},
   "outputs": [
    {
     "name": "stdout",
     "output_type": "stream",
     "text": [
      "printGrid(3, 6) ➞ [[1, 4, 7, 10, 13, 16], [2, 5, 8, 11, 14, 17], [3, 6, 9, 12, 15, 18]]\n"
     ]
    }
   ],
   "source": [
    "printGrid(3, 6) "
   ]
  },
  {
   "cell_type": "code",
   "execution_count": 50,
   "id": "04d76eb4",
   "metadata": {},
   "outputs": [
    {
     "name": "stdout",
     "output_type": "stream",
     "text": [
      "printGrid(5, 3) ➞ [[1, 6, 11], [2, 7, 12], [3, 8, 13], [4, 9, 14], [5, 10, 15]]\n"
     ]
    }
   ],
   "source": [
    "printGrid(5, 3) "
   ]
  },
  {
   "cell_type": "code",
   "execution_count": 51,
   "id": "52799821",
   "metadata": {},
   "outputs": [
    {
     "name": "stdout",
     "output_type": "stream",
     "text": [
      "printGrid(4, 1) ➞ [[1], [2], [3], [4]]\n"
     ]
    }
   ],
   "source": [
    "printGrid(4, 1)"
   ]
  },
  {
   "cell_type": "markdown",
   "id": "639d5275",
   "metadata": {},
   "source": [
    "#Question : 04\n",
    "\n",
    "Given a list of integers, return the smallest positive integer not present in\n",
    "the list.\n",
    "\n",
    "Here is a representative example. Consider the list:\n",
    "\n",
    "[-2, 6, 4, 5, 7, -1, 7, 1, 3, 6, 6, -2, 9, 10, 2, 2]\n",
    "\n",
    "After reordering, the list becomes:\n",
    "\n",
    "[-2, -2, -1, 1, 2, 2, 3, 4, 5, 6, 6, 6, 7, 7, 9, 10]\n",
    "\n",
    "from which we see that the smallest missing positive integer is 8.\n",
    "\n",
    "Examples\n",
    "\n",
    "min_miss_pos([-2, 6, 4, 5, 7, -1, 1, 3, 6, -2, 9, 10, 2, 2]) ➞ 8\n",
    "\n",
    "* After sorting, list becomes [-2, -2, -1, 1, 2, 2, 3, 4, 5, 6, 6, 7, 9, 10]\n",
    "\n",
    "* So the smallest missing positive integer is 8\n",
    "\n",
    "min_miss_pos([5, 9, -2, 0, 1, 3, 9, 3, 8, 9]) ➞ 2\n",
    "\n",
    "* After sorting, list becomes [-2, 0, 1, 3, 3, 5, 8, 9, 9, 9]\n",
    "\n",
    "* So the smallest missing positive integer is 2\n",
    "\n",
    "min_miss_pos([0, 4, 4, -1, 9, 4, 5, 2, 10, 7, 6, 3, 10, 9]) ➞ 1\n",
    "\n",
    "* After sorting, list becomes [-1, 0, 2, 3, 4, 4, 4, 5, 6, 7, 9, 9, 10, 10]\n",
    "\n",
    "* So the smallest missing positive integer is 1"
   ]
  },
  {
   "cell_type": "code",
   "execution_count": 52,
   "id": "31454df2",
   "metadata": {},
   "outputs": [],
   "source": [
    "#Code\n",
    "\n",
    "def min_miss_pos(in_list):\n",
    "    in_list_clone = in_list.copy() \n",
    "    in_list = sorted(in_list)\n",
    "    output = -1\n",
    "    for ele in range(1,max(in_list)+1):\n",
    "        if ele not in in_list:\n",
    "            output = ele\n",
    "            break\n",
    "    print(f'min_miss_pos({in_list_clone}) ➞ {in_list} ➞ {output}')"
   ]
  },
  {
   "cell_type": "code",
   "execution_count": 53,
   "id": "12c38212",
   "metadata": {},
   "outputs": [
    {
     "name": "stdout",
     "output_type": "stream",
     "text": [
      "min_miss_pos([-2, 6, 4, 5, 7, -1, 1, 3, 6, -2, 9, 10, 2, 2]) ➞ [-2, -2, -1, 1, 2, 2, 3, 4, 5, 6, 6, 7, 9, 10] ➞ 8\n"
     ]
    }
   ],
   "source": [
    "min_miss_pos([-2, 6, 4, 5, 7, -1, 1, 3, 6, -2, 9, 10, 2, 2]) "
   ]
  },
  {
   "cell_type": "code",
   "execution_count": 55,
   "id": "2304dd1a",
   "metadata": {},
   "outputs": [
    {
     "name": "stdout",
     "output_type": "stream",
     "text": [
      "min_miss_pos([5, 9, -2, 0, 1, 3, 9, 3, 8, 9]) ➞ [-2, 0, 1, 3, 3, 5, 8, 9, 9, 9] ➞ 2\n"
     ]
    }
   ],
   "source": [
    "min_miss_pos([5, 9, -2, 0, 1, 3, 9, 3, 8, 9])"
   ]
  },
  {
   "cell_type": "code",
   "execution_count": 56,
   "id": "0d00f690",
   "metadata": {},
   "outputs": [
    {
     "name": "stdout",
     "output_type": "stream",
     "text": [
      "min_miss_pos([0, 4, 4, -1, 9, 4, 5, 2, 10, 7, 6, 3, 10, 9]) ➞ [-1, 0, 2, 3, 4, 4, 4, 5, 6, 7, 9, 9, 10, 10] ➞ 1\n"
     ]
    }
   ],
   "source": [
    "min_miss_pos([0, 4, 4, -1, 9, 4, 5, 2, 10, 7, 6, 3, 10, 9])"
   ]
  },
  {
   "cell_type": "markdown",
   "id": "e1dd8001",
   "metadata": {},
   "source": [
    "#Question : 05\n",
    "\n",
    "Google is launching a network of autonomous pizza delivery drones and\n",
    "wants you to create a flexible rewards system (Pizza Points™) that can be\n",
    "tweaked in the future. The rules are simple: if a customer has made at least N\n",
    "orders of at least Y price, they get a FREE pizza!\n",
    "Create a function that takes a dictionary of customers, a minimum number of\n",
    "orders and a minimum order price. Return a list of customers that are eligible\n",
    "for a free pizza.\n",
    "\n",
    "Examples\n",
    "\n",
    "customers = {\n",
    "\"Batman\": [22, 30, 11, 17, 15, 52, 27, 12],\n",
    "\"Spider-Man\": [5, 17, 30, 33, 40, 22, 26, 10, 11, 45]\n",
    "}\n",
    "\n",
    "pizza_points(customers, 5, 20) ➞ [\"Spider-Man\"]\n",
    "\n",
    "pizza_points(customers, 3, 10) ➞ [\"Batman\", \"Spider-Man\"]\n",
    "\n",
    "pizza_points(customers, 5, 100) ➞ []"
   ]
  },
  {
   "cell_type": "code",
   "execution_count": 57,
   "id": "d222b203",
   "metadata": {},
   "outputs": [],
   "source": [
    "#code\n",
    "\n",
    "def pizza_points(in_dict,min_order,min_price):\n",
    "    output = []\n",
    "    for customer in in_dict.keys():\n",
    "        if len([order_price for order_price in in_dict[customer] if order_price > min_price]) > min_order:\n",
    "            output.append(customer)\n",
    "    print(f'pizza_points{\"customers\",min_order,min_price} ➞ {output}')"
   ]
  },
  {
   "cell_type": "code",
   "execution_count": 59,
   "id": "31e0a492",
   "metadata": {},
   "outputs": [],
   "source": [
    "customers = { \"Batman\": [22, 30, 11, 17, 15, 52, 27, 12], \"Spider-Man\": [5, 17, 30, 33, 40, 22, 26, 10, 11, 45] }"
   ]
  },
  {
   "cell_type": "code",
   "execution_count": 60,
   "id": "5e728452",
   "metadata": {},
   "outputs": [
    {
     "name": "stdout",
     "output_type": "stream",
     "text": [
      "pizza_points('customers', 5, 20) ➞ ['Spider-Man']\n"
     ]
    }
   ],
   "source": [
    "pizza_points(customers, 5, 20)"
   ]
  },
  {
   "cell_type": "code",
   "execution_count": 61,
   "id": "d0d5e2c9",
   "metadata": {},
   "outputs": [
    {
     "name": "stdout",
     "output_type": "stream",
     "text": [
      "pizza_points('customers', 3, 10) ➞ ['Batman', 'Spider-Man']\n"
     ]
    }
   ],
   "source": [
    "pizza_points(customers, 3, 10)"
   ]
  },
  {
   "cell_type": "code",
   "execution_count": 62,
   "id": "2f0c629c",
   "metadata": {},
   "outputs": [
    {
     "name": "stdout",
     "output_type": "stream",
     "text": [
      "pizza_points('customers', 5, 100) ➞ []\n"
     ]
    }
   ],
   "source": [
    "pizza_points(customers, 5, 100)"
   ]
  },
  {
   "cell_type": "code",
   "execution_count": null,
   "id": "1adf78b2",
   "metadata": {},
   "outputs": [],
   "source": []
  }
 ],
 "metadata": {
  "kernelspec": {
   "display_name": "Python 3 (ipykernel)",
   "language": "python",
   "name": "python3"
  },
  "language_info": {
   "codemirror_mode": {
    "name": "ipython",
    "version": 3
   },
   "file_extension": ".py",
   "mimetype": "text/x-python",
   "name": "python",
   "nbconvert_exporter": "python",
   "pygments_lexer": "ipython3",
   "version": "3.9.7"
  }
 },
 "nbformat": 4,
 "nbformat_minor": 5
}
